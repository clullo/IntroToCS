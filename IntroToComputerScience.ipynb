{
 "cells": [
  {
   "cell_type": "markdown",
   "metadata": {},
   "source": [
    "## Chapter 1\n",
    "\n",
    "#### Our first functions"
   ]
  },
  {
   "cell_type": "code",
   "execution_count": 1,
   "metadata": {},
   "outputs": [],
   "source": [
    "def hello():\n",
    "    print(\"Hello\")\n",
    "    print(\"Computers are fun!\")"
   ]
  },
  {
   "cell_type": "code",
   "execution_count": 2,
   "metadata": {},
   "outputs": [
    {
     "name": "stdout",
     "output_type": "stream",
     "text": [
      "Hello\n",
      "Computers are fun!\n"
     ]
    }
   ],
   "source": [
    "hello()"
   ]
  },
  {
   "cell_type": "code",
   "execution_count": 3,
   "metadata": {},
   "outputs": [],
   "source": [
    "def greet(person):\n",
    "    print(\"Hello\", person)\n",
    "    print(\"How are you?\")"
   ]
  },
  {
   "cell_type": "code",
   "execution_count": 4,
   "metadata": {},
   "outputs": [
    {
     "name": "stdout",
     "output_type": "stream",
     "text": [
      "Hello Cario\n",
      "How are you?\n"
     ]
    }
   ],
   "source": [
    "greet(\"Cario\")"
   ]
  },
  {
   "cell_type": "code",
   "execution_count": 5,
   "metadata": {},
   "outputs": [
    {
     "name": "stdout",
     "output_type": "stream",
     "text": [
      "This program illustrates a chaotic function\n",
      "Enter a number between 0 and 1: 1\n",
      "0.0\n",
      "0.0\n",
      "0.0\n",
      "0.0\n",
      "0.0\n",
      "0.0\n",
      "0.0\n",
      "0.0\n",
      "0.0\n",
      "0.0\n"
     ]
    }
   ],
   "source": [
    "# File: chaos.py\n",
    "# A simple program illustrating chaotic behavior.\n",
    "\n",
    "def main():\n",
    "    print(\"This program illustrates a chaotic function\")\n",
    "    x = eval(input(\"Enter a number between 0 and 1: \"))\n",
    "    for i in range(10):\n",
    "        x = 3.9 * x * (1 - x)\n",
    "        print(x)\n",
    "\n",
    "main()"
   ]
  },
  {
   "cell_type": "code",
   "execution_count": 6,
   "metadata": {},
   "outputs": [
    {
     "name": "stdout",
     "output_type": "stream",
     "text": [
      "This program illustrates a chaotic function\n",
      "Enter a number between 0 and 1: 1\n",
      "0.0\n",
      "0.0\n",
      "0.0\n",
      "0.0\n",
      "0.0\n",
      "0.0\n",
      "0.0\n",
      "0.0\n",
      "0.0\n",
      "0.0\n"
     ]
    }
   ],
   "source": [
    "import chaos"
   ]
  },
  {
   "cell_type": "code",
   "execution_count": 7,
   "metadata": {},
   "outputs": [
    {
     "name": "stdout",
     "output_type": "stream",
     "text": [
      "This program illustrates a chaotic function\n",
      "Enter a number between 0 and 1: 1\n",
      "0.0\n",
      "0.0\n",
      "0.0\n",
      "0.0\n",
      "0.0\n",
      "0.0\n",
      "0.0\n",
      "0.0\n",
      "0.0\n",
      "0.0\n"
     ]
    }
   ],
   "source": [
    "chaos.main()"
   ]
  },
  {
   "cell_type": "code",
   "execution_count": 8,
   "metadata": {},
   "outputs": [
    {
     "name": "stdout",
     "output_type": "stream",
     "text": [
      "How many numbers should I print? 2\n",
      "This program illustrates a chaotic function\n",
      "Enter a number between 0 and 1: 1\n",
      "0.0\n",
      "0.0\n"
     ]
    }
   ],
   "source": [
    "# File: chaos2.py\n",
    "# A simple program illustrating chaotic behavior.\n",
    "n = eval(input(\"How many numbers should I print? \")) \n",
    "def main():\n",
    "    print(\"This program illustrates a chaotic function\")\n",
    "    x = eval(input(\"Enter a number between 0 and 1: \"))\n",
    "    for i in range(n):\n",
    "        x = 3.9 * x * (1 - x)\n",
    "        print(x)\n",
    "\n",
    "main()"
   ]
  },
  {
   "cell_type": "markdown",
   "metadata": {},
   "source": [
    "#### Chapter 2\n",
    "\n",
    "## Writing Simple Programs\n",
    "\n",
    "1. Analyze the Problem\n",
    "2. Determine Specifications\n",
    "3. Create a Design\n",
    "4. Implement the Design\n",
    "5. Test/Debug the Program\n",
    "6. Maintain the Program\n",
    "\n",
    "#### 2.2 Example Program: Temperature Converter"
   ]
  },
  {
   "cell_type": "code",
   "execution_count": 9,
   "metadata": {},
   "outputs": [
    {
     "name": "stdout",
     "output_type": "stream",
     "text": [
      "What is the Celsius temperature?123\n",
      "The temperature is 253.4 degrees Fahrenheit.\n"
     ]
    }
   ],
   "source": [
    "# convert.py\n",
    "# A program to convert Celsius temps to Fahrenheit\n",
    "\n",
    "def main():\n",
    "    celsius = eval(input(\"What is the Celsius temperature?\"))\n",
    "    fahrenheit = 9/5 * celsius + 32\n",
    "    print(\"The temperature is\", fahrenheit, \"degrees Fahrenheit.\")\n",
    "    \n",
    "main()    "
   ]
  },
  {
   "cell_type": "markdown",
   "metadata": {},
   "source": [
    "#### 2.5.2 Assigning Input"
   ]
  },
  {
   "cell_type": "code",
   "execution_count": 10,
   "metadata": {},
   "outputs": [
    {
     "name": "stdout",
     "output_type": "stream",
     "text": [
      "Enter your name: Mac\n"
     ]
    }
   ],
   "source": [
    "name = input(\"Enter your name: \")"
   ]
  },
  {
   "cell_type": "code",
   "execution_count": 11,
   "metadata": {},
   "outputs": [
    {
     "name": "stdout",
     "output_type": "stream",
     "text": [
      "Please enter a number between 0 and 1: 1\n"
     ]
    }
   ],
   "source": [
    "x = eval(input(\"Please enter a number between 0 and 1: \"))"
   ]
  },
  {
   "cell_type": "code",
   "execution_count": 12,
   "metadata": {},
   "outputs": [
    {
     "name": "stdout",
     "output_type": "stream",
     "text": [
      "Enter an expression: 2+2\n"
     ]
    }
   ],
   "source": [
    "ans = eval(input(\"Enter an expression: \"))"
   ]
  },
  {
   "cell_type": "code",
   "execution_count": 13,
   "metadata": {},
   "outputs": [
    {
     "name": "stdout",
     "output_type": "stream",
     "text": [
      "4\n"
     ]
    }
   ],
   "source": [
    "print(ans)"
   ]
  },
  {
   "cell_type": "markdown",
   "metadata": {},
   "source": [
    "#### 2.5.3 Simultaneous Assignment"
   ]
  },
  {
   "cell_type": "code",
   "execution_count": 14,
   "metadata": {},
   "outputs": [],
   "source": [
    "x = 10\n",
    "y = 3"
   ]
  },
  {
   "cell_type": "code",
   "execution_count": 15,
   "metadata": {},
   "outputs": [],
   "source": [
    "add, subtract = x + y, x - y"
   ]
  },
  {
   "cell_type": "code",
   "execution_count": 16,
   "metadata": {},
   "outputs": [
    {
     "name": "stdout",
     "output_type": "stream",
     "text": [
      "13 7\n"
     ]
    }
   ],
   "source": [
    "print(add, subtract)"
   ]
  },
  {
   "cell_type": "markdown",
   "metadata": {},
   "source": [
    "Example: why simultaneous assignment is useful"
   ]
  },
  {
   "cell_type": "code",
   "execution_count": 17,
   "metadata": {},
   "outputs": [
    {
     "name": "stdout",
     "output_type": "stream",
     "text": [
      "4 4\n",
      "4 4\n"
     ]
    }
   ],
   "source": [
    "# variable x, y\n",
    "# initial values 2, 4\n",
    "x = 2\n",
    "y = 4\n",
    "x = y\n",
    "print(x, y) # now 4, 4\n",
    "y = x\n",
    "print(x, y) # final 4, 4"
   ]
  },
  {
   "cell_type": "markdown",
   "metadata": {},
   "source": [
    "The first statement clobbers the original value of x by assign it to the value of y. In the second step, we just end up with two copies of the original y value.\n",
    "\n",
    "One way to make the swap work is to introuce an additional variable that temporarily remembers the original value of x."
   ]
  },
  {
   "cell_type": "code",
   "execution_count": 18,
   "metadata": {},
   "outputs": [],
   "source": [
    "temp = x\n",
    "x = y\n",
    "y = temp"
   ]
  },
  {
   "cell_type": "markdown",
   "metadata": {},
   "source": [
    "Let's walk-through this sequence to see how this works."
   ]
  },
  {
   "cell_type": "code",
   "execution_count": 19,
   "metadata": {},
   "outputs": [
    {
     "name": "stdout",
     "output_type": "stream",
     "text": [
      "2 4 2\n",
      "4 4 2\n",
      "4 2 2\n"
     ]
    }
   ],
   "source": [
    "# variables x y temp\n",
    "# initial values 2, 4, no value value yet\n",
    "x = 2\n",
    "y = 4\n",
    "temp = x\n",
    "print(x, y, temp) # 2, 4, 2\n",
    "x = y\n",
    "print(x, y, temp) # 4, 4, 2\n",
    "y = temp\n",
    "print(x, y, temp)"
   ]
  },
  {
   "cell_type": "markdown",
   "metadata": {},
   "source": [
    "Here is a simple way to do this in Python"
   ]
  },
  {
   "cell_type": "code",
   "execution_count": 20,
   "metadata": {},
   "outputs": [
    {
     "name": "stdout",
     "output_type": "stream",
     "text": [
      "2 4\n",
      "4 2\n"
     ]
    }
   ],
   "source": [
    "x = 2\n",
    "y = 4\n",
    "print(x, y)\n",
    "x, y = y, x\n",
    "print(x, y)"
   ]
  },
  {
   "cell_type": "markdown",
   "metadata": {},
   "source": [
    "#### A demo of simultaneous assignment"
   ]
  },
  {
   "cell_type": "code",
   "execution_count": 21,
   "metadata": {},
   "outputs": [
    {
     "name": "stdout",
     "output_type": "stream",
     "text": [
      "This program computes the average of two exam scores.\n",
      "Enter two scores separated by a comma: 2,3\n",
      "The average of the scores is: 2.5\n"
     ]
    }
   ],
   "source": [
    "# avg2.py\n",
    "#   A simple program to average two exam scores  \n",
    "#   Illustrates use of multiple input\n",
    "\n",
    "def main():\n",
    "    print(\"This program computes the average of two exam scores.\")\n",
    "\n",
    "    score1, score2 = eval(input(\"Enter two scores separated by a comma: \"))\n",
    "    average = (score1 + score2) / 2\n",
    "\n",
    "    print(\"The average of the scores is:\", average)\n",
    "\n",
    "main()"
   ]
  },
  {
   "cell_type": "markdown",
   "metadata": {},
   "source": [
    "#### 2.6 Definite Loops"
   ]
  },
  {
   "cell_type": "code",
   "execution_count": 22,
   "metadata": {},
   "outputs": [
    {
     "name": "stdout",
     "output_type": "stream",
     "text": [
      "-46.8\n",
      "-8724.455999999998\n",
      "-296886942.1125503\n",
      "-3.437532411059282e+17\n",
      "-4.608485340062386e+35\n",
      "-8.282873480532271e+71\n",
      "-2.6756337306856863e+144\n",
      "-2.7920161857053715e+289\n",
      "-inf\n",
      "-inf\n"
     ]
    }
   ],
   "source": [
    "for i in range(10):\n",
    "    x = 3.9 * x * (1 - x)\n",
    "    print(x)"
   ]
  },
  {
   "cell_type": "code",
   "execution_count": 23,
   "metadata": {},
   "outputs": [
    {
     "name": "stdout",
     "output_type": "stream",
     "text": [
      "0\n",
      "1\n",
      "2\n",
      "3\n"
     ]
    }
   ],
   "source": [
    "for i in [0, 1, 2, 3]:\n",
    "    print(i)"
   ]
  },
  {
   "cell_type": "code",
   "execution_count": 24,
   "metadata": {},
   "outputs": [
    {
     "name": "stdout",
     "output_type": "stream",
     "text": [
      "1\n",
      "9\n",
      "25\n",
      "49\n",
      "81\n"
     ]
    }
   ],
   "source": [
    "for odd in [1, 3, 5, 7, 9]:\n",
    "    print(odd * odd)"
   ]
  },
  {
   "cell_type": "code",
   "execution_count": 25,
   "metadata": {},
   "outputs": [
    {
     "data": {
      "text/plain": [
       "[0, 1, 2, 3, 4, 5, 6, 7, 8, 9]"
      ]
     },
     "execution_count": 25,
     "metadata": {},
     "output_type": "execute_result"
    }
   ],
   "source": [
    "list(range(10))"
   ]
  },
  {
   "cell_type": "markdown",
   "metadata": {},
   "source": [
    "#### 2.7 Example Program: Future Value "
   ]
  },
  {
   "cell_type": "code",
   "execution_count": 26,
   "metadata": {},
   "outputs": [
    {
     "name": "stdout",
     "output_type": "stream",
     "text": [
      "This program calculates the future value\n",
      "of a 10-year investment.\n",
      "Enter the initial principal: 123\n",
      "Enter the annual interest rate: .3\n",
      "The value in 10 years is: 1695.6594497427002\n"
     ]
    }
   ],
   "source": [
    "# futval.py\n",
    "#    A program to compute the value of an investment\n",
    "#    carried 10 years into the future\n",
    "\n",
    "def main():\n",
    "    print(\"This program calculates the future value\")\n",
    "    print(\"of a 10-year investment.\")\n",
    "\n",
    "    principal = eval(input(\"Enter the initial principal: \"))\n",
    "    apr = eval(input(\"Enter the annual interest rate: \"))\n",
    "\n",
    "    for i in range(10):\n",
    "        principal = principal * (1 + apr)\n",
    "\n",
    "    print(\"The value in 10 years is:\", principal)\n",
    "\n",
    "main()"
   ]
  },
  {
   "cell_type": "markdown",
   "metadata": {},
   "source": [
    "### Chapter 3\n",
    "\n",
    "## Computing with Numbers\n",
    "\n",
    "#### 3.1 Numeric Data Types\n",
    "\n",
    "Here is an example of a change counter program"
   ]
  },
  {
   "cell_type": "code",
   "execution_count": 27,
   "metadata": {},
   "outputs": [
    {
     "name": "stdout",
     "output_type": "stream",
     "text": [
      "Change Counter\n",
      "\n",
      "Please enter the count of each coin type.\n",
      "Quarters: 12\n",
      "Dimes: 13\n",
      "Nickels: 14\n",
      "Pennies: 15\n",
      "\n",
      "The total value of your change is 5.15\n"
     ]
    }
   ],
   "source": [
    "# change.py\n",
    "# A program to calculate the value of some change in dollars\n",
    "\n",
    "def main():\n",
    "    print(\"Change Counter\")\n",
    "    print()\n",
    "    print(\"Please enter the count of each coin type.\")\n",
    "    quarters = eval(input(\"Quarters: \"))\n",
    "    dimes = eval(input(\"Dimes: \"))\n",
    "    nickels = eval(input(\"Nickels: \"))\n",
    "    pennies = eval(input(\"Pennies: \"))\n",
    "    total = quarters * .25 + dimes * .10 + nickels * .05 + pennies * .01\n",
    "    print()\n",
    "    print(\"The total value of your change is\", total)\n",
    "\n",
    "main()"
   ]
  },
  {
   "cell_type": "markdown",
   "metadata": {},
   "source": [
    "Types"
   ]
  },
  {
   "cell_type": "code",
   "execution_count": 28,
   "metadata": {},
   "outputs": [
    {
     "name": "stdout",
     "output_type": "stream",
     "text": [
      "<class 'int'>\n",
      "<class 'float'>\n",
      "<class 'float'>\n",
      "<class 'int'>\n",
      "<class 'float'>\n"
     ]
    }
   ],
   "source": [
    "print(type(3))\n",
    "print(type(3.14))\n",
    "print(type(3.0))\n",
    "myInt = -32\n",
    "print(type(myInt))\n",
    "myFloat = 32.0\n",
    "print(type(myFloat))"
   ]
  },
  {
   "cell_type": "code",
   "execution_count": 29,
   "metadata": {},
   "outputs": [
    {
     "name": "stdout",
     "output_type": "stream",
     "text": [
      "7\n",
      "7.0\n",
      "12\n",
      "12.0\n",
      "64\n",
      "64.0\n",
      "64.0\n",
      "5\n",
      "3.5\n",
      "3.3333333333333335\n",
      "3.3333333333333335\n",
      "2.0\n",
      "3\n",
      "3.0\n",
      "1\n",
      "1.0\n"
     ]
    }
   ],
   "source": [
    "print(3 + 4)\n",
    "print(3.0 + 4.0)\n",
    "print(3 * 4)\n",
    "print(3.0 * 4.0)\n",
    "print(4 ** 3)\n",
    "print(4.0 ** 3)\n",
    "print(4.0 ** 3.0)\n",
    "print(abs(5))\n",
    "print(abs(-3.5))\n",
    "print(10 / 3)\n",
    "print(10.0 / 3.0)\n",
    "print(10 / 5)\n",
    "print(10 // 3)\n",
    "print(10.0 // 3.0)\n",
    "print(10 % 3)\n",
    "print(10.0 % 3.0)"
   ]
  },
  {
   "cell_type": "markdown",
   "metadata": {},
   "source": [
    "#### 3.2 Using the Math Library\n",
    "\n",
    "Let's write a program that can find the solutions to a quadratic equation."
   ]
  },
  {
   "cell_type": "code",
   "execution_count": 30,
   "metadata": {},
   "outputs": [
    {
     "name": "stdout",
     "output_type": "stream",
     "text": [
      "This program finds the real solutions to a quadratic\n",
      "\n",
      "Please enter the coefficients (a, b, c): 4,-4,0\n",
      "\n",
      "The solutions are: 1.0 0.0\n"
     ]
    }
   ],
   "source": [
    "# quadratic.py\n",
    "#    A program that computes the real roots of a quadratic equation.\n",
    "#    Illustrates use of the math library.\n",
    "#    Note: this program crashes if the equation has no real roots.\n",
    "\n",
    "import math  # Makes the math library available.\n",
    "\n",
    "def main():\n",
    "    print(\"This program finds the real solutions to a quadratic\")\n",
    "    print()\n",
    "\n",
    "    a, b, c = eval(input(\"Please enter the coefficients (a, b, c): \"))\n",
    "\n",
    "    discRoot = math.sqrt(b * b - 4 * a * c)\n",
    "    root1 = (-b + discRoot) / (2 * a)\n",
    "    root2 = (-b - discRoot) / (2 * a)\n",
    "\n",
    "    print()\n",
    "    print(\"The solutions are:\", root1, root2 )\n",
    "\n",
    "main()"
   ]
  },
  {
   "cell_type": "markdown",
   "metadata": {},
   "source": [
    "#### 3.3 Accumulating Results: Factorial"
   ]
  },
  {
   "cell_type": "markdown",
   "metadata": {},
   "source": [
    "We'll use a common algorithmic pattern called an accumulator and a loop structure. \n",
    "\n",
    "E.g. to find the factorial of 6, we need a loop that works like this:"
   ]
  },
  {
   "cell_type": "code",
   "execution_count": 31,
   "metadata": {},
   "outputs": [
    {
     "name": "stdout",
     "output_type": "stream",
     "text": [
      "720\n"
     ]
    }
   ],
   "source": [
    "fact = 1\n",
    "for factor in [6,5,4,3,2,1]:\n",
    "    fact = fact * factor\n",
    "print(fact)"
   ]
  },
  {
   "cell_type": "raw",
   "metadata": {},
   "source": [
    "Here is another way to achieve the same result"
   ]
  },
  {
   "cell_type": "code",
   "execution_count": 32,
   "metadata": {},
   "outputs": [
    {
     "name": "stdout",
     "output_type": "stream",
     "text": [
      "720\n"
     ]
    }
   ],
   "source": [
    "fact = 1\n",
    "for factor in [2,3,4,5,6]:\n",
    "    fact = fact * factor\n",
    "print(fact)"
   ]
  },
  {
   "cell_type": "markdown",
   "metadata": {},
   "source": [
    "But what we really want is a program that can compute the factorial of any given input n. \n",
    "\n",
    "We need some way to generate an appropriate sequence of factors from the value of n.\n",
    "\n",
    "Luckily, this is easy to do using the Python range function."
   ]
  },
  {
   "cell_type": "code",
   "execution_count": 33,
   "metadata": {},
   "outputs": [
    {
     "data": {
      "text/plain": [
       "[0, 1, 2, 3, 4, 5, 6, 7, 8, 9]"
      ]
     },
     "execution_count": 33,
     "metadata": {},
     "output_type": "execute_result"
    }
   ],
   "source": [
    "list(range(10))"
   ]
  },
  {
   "cell_type": "code",
   "execution_count": 34,
   "metadata": {},
   "outputs": [
    {
     "data": {
      "text/plain": [
       "[5, 6, 7, 8, 9]"
      ]
     },
     "execution_count": 34,
     "metadata": {},
     "output_type": "execute_result"
    }
   ],
   "source": [
    "list(range(5,10))"
   ]
  },
  {
   "cell_type": "code",
   "execution_count": 35,
   "metadata": {},
   "outputs": [
    {
     "data": {
      "text/plain": [
       "[5, 8]"
      ]
     },
     "execution_count": 35,
     "metadata": {},
     "output_type": "execute_result"
    }
   ],
   "source": [
    "list(range(5, 10, 3))"
   ]
  },
  {
   "cell_type": "markdown",
   "metadata": {},
   "source": [
    "#### 3.4 Limitations of Computer Arithmetic\n",
    "\n",
    "Computer memory is composed of electrical \"switches\", each of which can be in one of two possible states, basically on or off. Each switch represents a binary digit or bit of information. One bit can encode two possibilities, usually represented with 0(for off) and 1(for on). A sequence of bits can be used to represent more possibilities.\n",
    "\n",
    "Two bits can represent four things\n",
    "\n",
    "Three bits can represent eight things\n",
    "\n",
    "Each extra bit doubles the number of distinct patterns.\n",
    "\n",
    "In general, n bits can represent 2^n different values."
   ]
  },
  {
   "cell_type": "markdown",
   "metadata": {},
   "source": [
    "#### 3.5 Type Conversions and Rounding\n",
    "\n",
    "##### Explicit Type Conversion"
   ]
  },
  {
   "cell_type": "code",
   "execution_count": 36,
   "metadata": {},
   "outputs": [
    {
     "data": {
      "text/plain": [
       "4"
      ]
     },
     "execution_count": 36,
     "metadata": {},
     "output_type": "execute_result"
    }
   ],
   "source": [
    "int(4.5)"
   ]
  },
  {
   "cell_type": "code",
   "execution_count": 37,
   "metadata": {},
   "outputs": [
    {
     "data": {
      "text/plain": [
       "3"
      ]
     },
     "execution_count": 37,
     "metadata": {},
     "output_type": "execute_result"
    }
   ],
   "source": [
    "int(3.9)"
   ]
  },
  {
   "cell_type": "code",
   "execution_count": 38,
   "metadata": {},
   "outputs": [
    {
     "data": {
      "text/plain": [
       "4.0"
      ]
     },
     "execution_count": 38,
     "metadata": {},
     "output_type": "execute_result"
    }
   ],
   "source": [
    "float(4)"
   ]
  },
  {
   "cell_type": "code",
   "execution_count": 39,
   "metadata": {},
   "outputs": [
    {
     "data": {
      "text/plain": [
       "4.5"
      ]
     },
     "execution_count": 39,
     "metadata": {},
     "output_type": "execute_result"
    }
   ],
   "source": [
    "float(4.5)"
   ]
  },
  {
   "cell_type": "code",
   "execution_count": 40,
   "metadata": {},
   "outputs": [
    {
     "data": {
      "text/plain": [
       "3.0"
      ]
     },
     "execution_count": 40,
     "metadata": {},
     "output_type": "execute_result"
    }
   ],
   "source": [
    "float(int(3.3))"
   ]
  },
  {
   "cell_type": "code",
   "execution_count": 41,
   "metadata": {},
   "outputs": [
    {
     "data": {
      "text/plain": [
       "3"
      ]
     },
     "execution_count": 41,
     "metadata": {},
     "output_type": "execute_result"
    }
   ],
   "source": [
    "int(float(3.3))"
   ]
  },
  {
   "cell_type": "code",
   "execution_count": 42,
   "metadata": {},
   "outputs": [
    {
     "data": {
      "text/plain": [
       "3"
      ]
     },
     "execution_count": 42,
     "metadata": {},
     "output_type": "execute_result"
    }
   ],
   "source": [
    "int(float(3))"
   ]
  },
  {
   "cell_type": "markdown",
   "metadata": {},
   "source": [
    "A more general way of rounding off numbers is to use the built-in round function which rounds a number to the nearest whole value."
   ]
  },
  {
   "cell_type": "code",
   "execution_count": 43,
   "metadata": {},
   "outputs": [
    {
     "data": {
      "text/plain": [
       "3"
      ]
     },
     "execution_count": 43,
     "metadata": {},
     "output_type": "execute_result"
    }
   ],
   "source": [
    "round(3.14)"
   ]
  },
  {
   "cell_type": "code",
   "execution_count": 44,
   "metadata": {},
   "outputs": [
    {
     "data": {
      "text/plain": [
       "4"
      ]
     },
     "execution_count": 44,
     "metadata": {},
     "output_type": "execute_result"
    }
   ],
   "source": [
    "round(3.5)"
   ]
  },
  {
   "cell_type": "markdown",
   "metadata": {},
   "source": [
    "Note that calling round like this results in an int value. So a simple call to round is an alternative way of converting a float to an int.\n",
    "\n",
    "If you want to round a float to another float value, you can supply a second parameter that specifies the number of digits you want after the decimal point. \n",
    "\n",
    "Here's an example using pi from the math library."
   ]
  },
  {
   "cell_type": "code",
   "execution_count": 45,
   "metadata": {},
   "outputs": [],
   "source": [
    "import math"
   ]
  },
  {
   "cell_type": "code",
   "execution_count": 46,
   "metadata": {},
   "outputs": [
    {
     "data": {
      "text/plain": [
       "3.141592653589793"
      ]
     },
     "execution_count": 46,
     "metadata": {},
     "output_type": "execute_result"
    }
   ],
   "source": [
    "math.pi"
   ]
  },
  {
   "cell_type": "code",
   "execution_count": 47,
   "metadata": {},
   "outputs": [
    {
     "data": {
      "text/plain": [
       "3.14"
      ]
     },
     "execution_count": 47,
     "metadata": {},
     "output_type": "execute_result"
    }
   ],
   "source": [
    "round(math.pi, 2)"
   ]
  },
  {
   "cell_type": "code",
   "execution_count": 48,
   "metadata": {},
   "outputs": [
    {
     "data": {
      "text/plain": [
       "3.142"
      ]
     },
     "execution_count": 48,
     "metadata": {},
     "output_type": "execute_result"
    }
   ],
   "source": [
    "round(math.pi, 3)"
   ]
  },
  {
   "cell_type": "code",
   "execution_count": 49,
   "metadata": {},
   "outputs": [
    {
     "name": "stdout",
     "output_type": "stream",
     "text": [
      "3.14\n"
     ]
    }
   ],
   "source": [
    "print(round(math.pi, 2))"
   ]
  },
  {
   "cell_type": "code",
   "execution_count": 50,
   "metadata": {},
   "outputs": [
    {
     "name": "stdout",
     "output_type": "stream",
     "text": [
      "3.142\n"
     ]
    }
   ],
   "source": [
    "print(round(math.pi, 3))"
   ]
  },
  {
   "cell_type": "markdown",
   "metadata": {},
   "source": [
    "### Chapter 4\n",
    "\n",
    "## Objects and Graphics\n",
    "\n",
    "#### 4.3 Simple Graphics Programming\n",
    "\n",
    "Will need a copy of graphics.py in the same folder as our graphics program(s) or it can be stored in a system directory where other Python libraries are stored so that it can be used from any folder on the system."
   ]
  },
  {
   "cell_type": "code",
   "execution_count": 51,
   "metadata": {},
   "outputs": [],
   "source": [
    "import graphics"
   ]
  },
  {
   "cell_type": "code",
   "execution_count": 52,
   "metadata": {},
   "outputs": [],
   "source": [
    "#win = graphics.GraphWin()"
   ]
  },
  {
   "cell_type": "markdown",
   "metadata": {},
   "source": [
    "##### Closing a window"
   ]
  },
  {
   "cell_type": "code",
   "execution_count": 53,
   "metadata": {},
   "outputs": [],
   "source": [
    "#win.close()"
   ]
  },
  {
   "cell_type": "code",
   "execution_count": 54,
   "metadata": {},
   "outputs": [],
   "source": [
    "from graphics import *"
   ]
  },
  {
   "cell_type": "code",
   "execution_count": 55,
   "metadata": {},
   "outputs": [],
   "source": [
    "win = GraphWin()"
   ]
  },
  {
   "cell_type": "code",
   "execution_count": 56,
   "metadata": {},
   "outputs": [],
   "source": [
    "win.close()"
   ]
  },
  {
   "cell_type": "markdown",
   "metadata": {},
   "source": [
    "Here is a sample interaction with Python illustrating the use of Points:"
   ]
  },
  {
   "cell_type": "code",
   "execution_count": 57,
   "metadata": {},
   "outputs": [
    {
     "data": {
      "text/plain": [
       "50"
      ]
     },
     "execution_count": 57,
     "metadata": {},
     "output_type": "execute_result"
    }
   ],
   "source": [
    "p = Point(50,60)\n",
    "p.getX()"
   ]
  },
  {
   "cell_type": "code",
   "execution_count": 58,
   "metadata": {},
   "outputs": [
    {
     "data": {
      "text/plain": [
       "60"
      ]
     },
     "execution_count": 58,
     "metadata": {},
     "output_type": "execute_result"
    }
   ],
   "source": [
    "p.getY()"
   ]
  },
  {
   "cell_type": "code",
   "execution_count": 59,
   "metadata": {},
   "outputs": [],
   "source": [
    "win = GraphWin()"
   ]
  },
  {
   "cell_type": "code",
   "execution_count": 60,
   "metadata": {},
   "outputs": [],
   "source": [
    "p.draw(win)"
   ]
  },
  {
   "cell_type": "code",
   "execution_count": 61,
   "metadata": {},
   "outputs": [],
   "source": [
    "p2 = Point(140,100)"
   ]
  },
  {
   "cell_type": "code",
   "execution_count": 62,
   "metadata": {},
   "outputs": [],
   "source": [
    "p2.draw(win)"
   ]
  },
  {
   "cell_type": "code",
   "execution_count": 63,
   "metadata": {},
   "outputs": [],
   "source": [
    "win.close()"
   ]
  },
  {
   "cell_type": "markdown",
   "metadata": {},
   "source": [
    "The following is a sample interaction to draw various shapes into a GraphWin:"
   ]
  },
  {
   "cell_type": "code",
   "execution_count": 64,
   "metadata": {},
   "outputs": [],
   "source": [
    "#### Open a graphics "
   ]
  },
  {
   "cell_type": "code",
   "execution_count": 65,
   "metadata": {},
   "outputs": [],
   "source": [
    "win = GraphWin('Shapes')"
   ]
  },
  {
   "cell_type": "code",
   "execution_count": 66,
   "metadata": {},
   "outputs": [],
   "source": [
    "#### Draw a red circle centered at point (100,100) with\n",
    "#### radius 30"
   ]
  },
  {
   "cell_type": "code",
   "execution_count": 67,
   "metadata": {},
   "outputs": [],
   "source": [
    "center = Point(100,100)"
   ]
  },
  {
   "cell_type": "code",
   "execution_count": 68,
   "metadata": {},
   "outputs": [],
   "source": [
    "circ = Circle(center, 30)"
   ]
  },
  {
   "cell_type": "code",
   "execution_count": 69,
   "metadata": {},
   "outputs": [],
   "source": [
    "circ.setFill('red')"
   ]
  },
  {
   "cell_type": "code",
   "execution_count": 70,
   "metadata": {},
   "outputs": [],
   "source": [
    "circ.draw(win)"
   ]
  },
  {
   "cell_type": "code",
   "execution_count": 71,
   "metadata": {},
   "outputs": [],
   "source": [
    "#### Put a textual label in the center of the circle"
   ]
  },
  {
   "cell_type": "code",
   "execution_count": 72,
   "metadata": {},
   "outputs": [],
   "source": [
    "label = Text(center, \"Red Circle\")"
   ]
  },
  {
   "cell_type": "code",
   "execution_count": 73,
   "metadata": {},
   "outputs": [],
   "source": [
    "label.draw(win)"
   ]
  },
  {
   "cell_type": "code",
   "execution_count": 74,
   "metadata": {},
   "outputs": [],
   "source": [
    "#### Draw a square using a Rectangle object"
   ]
  },
  {
   "cell_type": "code",
   "execution_count": 75,
   "metadata": {},
   "outputs": [],
   "source": [
    "rect = Rectangle(Point(30,30), Point(70,70))"
   ]
  },
  {
   "cell_type": "code",
   "execution_count": 76,
   "metadata": {},
   "outputs": [],
   "source": [
    "rect.draw(win)"
   ]
  },
  {
   "cell_type": "code",
   "execution_count": 77,
   "metadata": {},
   "outputs": [],
   "source": [
    "#### Draw a line segment using a Line object"
   ]
  },
  {
   "cell_type": "code",
   "execution_count": 78,
   "metadata": {},
   "outputs": [],
   "source": [
    "line = Line(Point(20,30), Point(180, 165))"
   ]
  },
  {
   "cell_type": "code",
   "execution_count": 79,
   "metadata": {},
   "outputs": [],
   "source": [
    "line.draw(win)"
   ]
  },
  {
   "cell_type": "code",
   "execution_count": 80,
   "metadata": {},
   "outputs": [],
   "source": [
    "#### Draw an oval using the Oval object"
   ]
  },
  {
   "cell_type": "code",
   "execution_count": 81,
   "metadata": {},
   "outputs": [],
   "source": [
    "oval = Oval(Point(20,150), Point(180,199))"
   ]
  },
  {
   "cell_type": "code",
   "execution_count": 82,
   "metadata": {},
   "outputs": [],
   "source": [
    "oval.draw(win)"
   ]
  },
  {
   "cell_type": "code",
   "execution_count": 83,
   "metadata": {},
   "outputs": [],
   "source": [
    "win.close()"
   ]
  },
  {
   "cell_type": "markdown",
   "metadata": {},
   "source": [
    "### 4.4 Using Graphical Objects\n",
    "\n",
    "#### A correct way to create two circles"
   ]
  },
  {
   "cell_type": "code",
   "execution_count": 84,
   "metadata": {},
   "outputs": [],
   "source": [
    "win = GraphWin('Shapes2')"
   ]
  },
  {
   "cell_type": "code",
   "execution_count": 85,
   "metadata": {},
   "outputs": [],
   "source": [
    "circ.setFill('blue')"
   ]
  },
  {
   "cell_type": "code",
   "execution_count": 86,
   "metadata": {},
   "outputs": [],
   "source": [
    "leftEye = Circle(Point(10, 10), 3)"
   ]
  },
  {
   "cell_type": "code",
   "execution_count": 87,
   "metadata": {},
   "outputs": [],
   "source": [
    "rightEye = leftEye.clone() # right eye is an exact copy of the left"
   ]
  },
  {
   "cell_type": "code",
   "execution_count": 88,
   "metadata": {},
   "outputs": [],
   "source": [
    "rightEye.move(20,0)"
   ]
  },
  {
   "cell_type": "code",
   "execution_count": 89,
   "metadata": {},
   "outputs": [],
   "source": [
    "circ.draw(win)"
   ]
  },
  {
   "cell_type": "code",
   "execution_count": 90,
   "metadata": {},
   "outputs": [],
   "source": [
    "win.close()"
   ]
  },
  {
   "cell_type": "code",
   "execution_count": 91,
   "metadata": {},
   "outputs": [],
   "source": [
    "### The Code above doesn't work well"
   ]
  },
  {
   "cell_type": "code",
   "execution_count": 92,
   "metadata": {},
   "outputs": [],
   "source": [
    "# click.py\n",
    "#from graphics import *\n",
    "\n",
    "#def main():\n",
    "#    win = GraphWin(\"Click Me!\")\n",
    "#    for i in range(10):\n",
    "#        p = win.getMouse()\n",
    "#        print(\"You clicked at:\", p.getX(), p.getY())\n",
    "\n",
    "\n",
    "#main()"
   ]
  },
  {
   "cell_type": "code",
   "execution_count": 93,
   "metadata": {},
   "outputs": [],
   "source": [
    "#win.close()"
   ]
  },
  {
   "cell_type": "code",
   "execution_count": 94,
   "metadata": {},
   "outputs": [],
   "source": [
    "# convert_gui.pyw\n",
    "# Program to convert Celsius to Fahrenheit using a simple\n",
    "#   graphical interface.\n",
    "\n",
    "from graphics import *\n",
    "\n",
    "def main():\n",
    "    win = GraphWin(\"Celsius Converter\", 400, 300)\n",
    "    win.setCoords(0.0, 0.0, 3.0, 4.0)\n",
    "    \n",
    "    # Draw the interface\n",
    "    Text(Point(1,3), \"   Celsius Temperature:\").draw(win)\n",
    "    Text(Point(1,1), \"Fahrenheit Temperature:\").draw(win)\n",
    "    input = Entry(Point(2,3), 5)\n",
    "    input.setText(\"0.0\")\n",
    "    input.draw(win)\n",
    "    output = Text(Point(2,1),\"\")\n",
    "    output.draw(win)\n",
    "    button = Text(Point(1.5,2.0),\"Convert It\")\n",
    "    button.draw(win)\n",
    "    Rectangle(Point(1,1.5), Point(2,2.5)).draw(win)\n",
    "\n",
    "    # wait for a mouse click\n",
    "    win.getMouse()\n",
    "\n",
    "    # convert input\n",
    "    celsius = eval(input.getText())\n",
    "    fahrenheit = 9.0/5.0 * celsius + 32\n",
    "\n",
    "    # display output and change button\n",
    "    output.setText(fahrenheit)\n",
    "    button.setText(\"Quit\")\n",
    "\n",
    "    # wait for click and then quit\n",
    "    win.getMouse()\n",
    "    win.close()\n",
    "    \n",
    "main()"
   ]
  },
  {
   "cell_type": "markdown",
   "metadata": {},
   "source": [
    "### Graphing Future Value"
   ]
  },
  {
   "cell_type": "code",
   "execution_count": 95,
   "metadata": {},
   "outputs": [
    {
     "name": "stdout",
     "output_type": "stream",
     "text": [
      "This program plots the growth of a 10-year investment.\n",
      "Enter the initial principal: 12\n",
      "Enter the annualized interest rate: .5\n",
      "Press <Enter> to quit.\n"
     ]
    }
   ],
   "source": [
    "# futval_graph.py\n",
    "from graphics import *\n",
    "\n",
    "def main():\n",
    "    # Introduction\n",
    "    print(\"This program plots the growth of a 10-year investment.\")\n",
    "    \n",
    "    # Get the principal and interest rate\n",
    "    principal = eval(input(\"Enter the initial principal: \"))\n",
    "    apr = eval(input(\"Enter the annualized interest rate: \"))\n",
    "    \n",
    "    # Create a graphics window with labels on the left edge\n",
    "    win = GraphWin(\"Investment Growth Chart\", 320, 420)\n",
    "    win.setBackground(\"white\")\n",
    "    Text(Point(20, 320), ' 0.0K').draw(win)\n",
    "    Text(Point(20, 180), ' 2.5K').draw(win)\n",
    "    Text(Point(20, 130), ' 5.0K').draw(win)\n",
    "    Text(Point(20, 80), ' 7.5K').draw(win)\n",
    "    Text(Point(20, 30), ' 10.0K').draw(win)\n",
    "    \n",
    "    # Draw bar for initial principal\n",
    "    \n",
    "    height = principal * 0.02\n",
    "    bar = Rectangle(Point(40, 230), Point(65, 230-height))\n",
    "    bar.setFill(\"green\")\n",
    "    bar.setWidth(2)\n",
    "    bar.draw(win)\n",
    "    \n",
    "    # Draw bars for successive years\n",
    "    for year in range(1,11):\n",
    "        # calculate value for the next year\n",
    "        principal = principal * (1  + apr)\n",
    "        # draw bar for this value\n",
    "        x11 = year * 25 + 40\n",
    "        height = principal * 0.02\n",
    "        bar = Rectangle(Point(x11, 230), Point(x11+25, 230-height))\n",
    "        bar.setFill(\"green\")\n",
    "        bar.setWidth(2)\n",
    "        bar.draw(win)\n",
    "        \n",
    "    input(\"Press <Enter> to quit.\")\n",
    "    win.close()\n",
    "\n",
    "main()"
   ]
  },
  {
   "cell_type": "markdown",
   "metadata": {},
   "source": [
    "### 4.6 Choosing Coordinates"
   ]
  },
  {
   "cell_type": "code",
   "execution_count": 96,
   "metadata": {},
   "outputs": [
    {
     "name": "stdout",
     "output_type": "stream",
     "text": [
      "This program plots the growth of a 10-year investment.\n",
      "Enter the initial principal: 123\n",
      "Enter the annualized interest rate: .23\n",
      "Press <Enter> to quit.\n"
     ]
    }
   ],
   "source": [
    "# futval_graph2.py\n",
    "\n",
    "from graphics import *\n",
    "\n",
    "def main():\n",
    "    # Introduction\n",
    "    print(\"This program plots the growth of a 10-year investment.\")\n",
    "\n",
    "    # Get principal and interest rate\n",
    "    principal = eval(input(\"Enter the initial principal: \"))\n",
    "    apr = eval(input(\"Enter the annualized interest rate: \"))\n",
    "\n",
    "    # Create a graphics window with labels on left edge\n",
    "    win = GraphWin(\"Investment Growth Chart\", 320, 240)\n",
    "    win.setBackground(\"white\")\n",
    "    win.setCoords(-1.75,-200, 11.5, 10400)\n",
    "    Text(Point(-1, 0), ' 0.0K').draw(win)\n",
    "    Text(Point(-1, 2500), ' 2.5K').draw(win)\n",
    "    Text(Point(-1, 5000), ' 5.0K').draw(win)\n",
    "    Text(Point(-1, 7500), ' 7.5k').draw(win)\n",
    "    Text(Point(-1, 10000), '10.0K').draw(win)\n",
    "\n",
    "    # Draw bar for initial principal\n",
    "    bar = Rectangle(Point(0, 0), Point(1, principal))\n",
    "    bar.setFill(\"green\")\n",
    "    bar.setWidth(2)\n",
    "    bar.draw(win)\n",
    "    \n",
    "    # Draw a bar for each subsequent year\n",
    "    for year in range(1, 11):\n",
    "        principal = principal * (1 + apr)\n",
    "        bar = Rectangle(Point(year, 0), Point(year+1, principal))\n",
    "        bar.setFill(\"green\")\n",
    "        bar.setWidth(2)\n",
    "        bar.draw(win)\n",
    "\n",
    "    input(\"Press <Enter> to quit.\")\n",
    "    win.close()\n",
    "\n",
    "main()"
   ]
  },
  {
   "cell_type": "code",
   "execution_count": 97,
   "metadata": {},
   "outputs": [
    {
     "name": "stdout",
     "output_type": "stream",
     "text": [
      "This program plots the growth of a 10-year investment.\n",
      "Enter the initial principal: 10000\n",
      "Enter the annualized interest rate: .1\n",
      "Press <Enter> to quit.\n"
     ]
    }
   ],
   "source": [
    "# futval_graph3.py\n",
    "from graphics import *\n",
    "\n",
    "def drawBar(window, year, height):\n",
    "    # Draw a bar in window starting at year with given height\n",
    "    bar = Rectangle(Point(year, 0), Point(year+1, height))\n",
    "    bar.setFill(\"green\")\n",
    "    bar.setWidth(2)\n",
    "    bar.draw(window)\n",
    "    \n",
    "def main():\n",
    "    # Introduction\n",
    "    print(\"This program plots the growth of a 10-year investment.\")\n",
    "\n",
    "    # Get principal and interest rate\n",
    "    principal = eval(input(\"Enter the initial principal: \"))\n",
    "    apr = eval(input(\"Enter the annualized interest rate: \"))\n",
    "\n",
    "    # Create a graphics window with labels on left edge\n",
    "    win = GraphWin(\"Investment Growth Chart\", 320, 240)\n",
    "    win.setBackground(\"white\")\n",
    "    win.setCoords(-1.75,-200, 11.5, 10400)\n",
    "    Text(Point(-1, 0), ' 0.0K').draw(win)\n",
    "    Text(Point(-1, 2500), ' 2.5K').draw(win)\n",
    "    Text(Point(-1, 5000), ' 5.0K').draw(win)\n",
    "    Text(Point(-1, 7500), ' 7.5k').draw(win)\n",
    "    Text(Point(-1, 10000), '10.0K').draw(win)\n",
    "\n",
    "    drawBar(win, 0, principal)\n",
    "    for year in range(1, 11):\n",
    "        principal = principal * (1 + apr)\n",
    "        drawBar(win, year, principal)\n",
    "\n",
    "    input(\"Press <Enter> to quit.\")\n",
    "    win.close()\n",
    "main()"
   ]
  },
  {
   "cell_type": "code",
   "execution_count": 98,
   "metadata": {},
   "outputs": [
    {
     "name": "stdout",
     "output_type": "stream",
     "text": [
      "This program plots the growth of a 10 year investment.\n",
      "Enter the initial principal: 123\n",
      "Enter the annualized interest rate: .12\n",
      "Press <Enter> to quit.\n"
     ]
    }
   ],
   "source": [
    "# futval_graph4.py\n",
    "\n",
    "from graphics import *\n",
    "\n",
    "def createLabeledWindow():\n",
    "    window = GraphWin(\"Investment Growth Chart\", 320, 240)\n",
    "    window.setBackground(\"white\")\n",
    "    window.setCoords(-1.75,-200, 11.5, 10400)\n",
    "    Text(Point(-1, 0), ' 0.0K').draw(window)\n",
    "    Text(Point(-1, 2500), ' 2.5K').draw(window)\n",
    "    Text(Point(-1, 5000), ' 5.0K').draw(window)\n",
    "    Text(Point(-1, 7500), ' 7.5k').draw(window)\n",
    "    Text(Point(-1, 10000), '10.0K').draw(window)\n",
    "    return window\n",
    "\n",
    "def drawBar(window, year, height):\n",
    "    bar = Rectangle(Point(year, 0), Point(year+1, height))\n",
    "    bar.setFill(\"green\")\n",
    "    bar.setWidth(2)\n",
    "    bar.draw(window)\n",
    "    \n",
    "def main():\n",
    "    print(\"This program plots the growth of a 10 year investment.\")\n",
    "\n",
    "    principal = eval(input(\"Enter the initial principal: \"))\n",
    "    apr = eval(input(\"Enter the annualized interest rate: \"))\n",
    "\n",
    "    win = createLabeledWindow()\n",
    "    drawBar(win, 0, principal)    \n",
    "    for year in range(1, 11):\n",
    "        principal = principal * (1 + apr)\n",
    "        drawBar(win, year, principal)\n",
    "\n",
    "    input(\"Press <Enter> to quit.\")\n",
    "    win.close()\n",
    "\n",
    "main()"
   ]
  },
  {
   "cell_type": "markdown",
   "metadata": {},
   "source": [
    "### 4.7.1 Getting Mouse Clicks"
   ]
  },
  {
   "cell_type": "code",
   "execution_count": 99,
   "metadata": {},
   "outputs": [],
   "source": [
    "# click.py\n",
    "#from graphics import *\n",
    "\n",
    "#def main():\n",
    "#    win = GraphWin(\"Click Me!\")\n",
    "#    for i in range(10):\n",
    "#        p = win.getMouse()\n",
    "#        print(\"You clicked at:\", p.getX(), p.getY())\n",
    "\n",
    "#main()"
   ]
  },
  {
   "cell_type": "code",
   "execution_count": 100,
   "metadata": {},
   "outputs": [],
   "source": [
    "#win.close()"
   ]
  },
  {
   "cell_type": "code",
   "execution_count": 101,
   "metadata": {},
   "outputs": [
    {
     "name": "stdout",
     "output_type": "stream",
     "text": [
      "Press <Enter> to quit.\n"
     ]
    }
   ],
   "source": [
    "# triangle.pyw\n",
    "from graphics import *\n",
    "\n",
    "def main():\n",
    "    win = GraphWin(\"Draw a Triangle\")\n",
    "    win.setCoords(0.0, 0.0, 10.0, 10.0)\n",
    "    message = Text(Point(5, 0.5), \"Click on three points\")\n",
    "    message.draw(win)\n",
    "\n",
    "    # Get and draw three vertices of triangle\n",
    "    p1 = win.getMouse()\n",
    "    p1.draw(win)\n",
    "    p2 = win.getMouse()\n",
    "    p2.draw(win)\n",
    "    p3 = win.getMouse()\n",
    "    p3.draw(win)\n",
    "\n",
    "    # Use Polygon object to draw the triangle\n",
    "    triangle = Polygon(p1,p2,p3)\n",
    "    triangle.setFill(\"peachpuff\")\n",
    "    triangle.setOutline(\"cyan\")\n",
    "    triangle.draw(win)\n",
    "\n",
    "    # Wait for another click to exit\n",
    "    input(\"Press <Enter> to quit.\")\n",
    "    win.close()\n",
    "\n",
    "main()\n",
    "    "
   ]
  },
  {
   "cell_type": "code",
   "execution_count": 102,
   "metadata": {},
   "outputs": [
    {
     "name": "stdout",
     "output_type": "stream",
     "text": [
      "Press <Enter> to quit.\n"
     ]
    }
   ],
   "source": [
    "def main():\n",
    "    win = GraphWin(\"Draw a Triangle\")\n",
    "    win.setCoords(0.0, 0.0, 10.0, 10.0)\n",
    "    message = Text(Point(5, 0.5), \"Click on three points\")\n",
    "    message.draw(win)\n",
    "\n",
    "    # Get and draw three vertices of triangle\n",
    "    p1 = win.getMouse()\n",
    "    p1.draw(win)\n",
    "    p2 = win.getMouse()\n",
    "    p2.draw(win)\n",
    "    p3 = win.getMouse()\n",
    "    p3.draw(win)\n",
    "\n",
    "    # Use Polygon object to draw the triangle\n",
    "    triangle = Polygon(p1,p2,p3)\n",
    "    triangle.setFill(\"peachpuff\")\n",
    "    triangle.setOutline(\"cyan\")\n",
    "    triangle.draw(win)\n",
    "\n",
    "    # Wait for another click to exit\n",
    "    input(\"Press <Enter> to quit.\")\n",
    "    win.close()\n",
    "\n",
    "main()"
   ]
  },
  {
   "cell_type": "markdown",
   "metadata": {},
   "source": [
    "#### 4.7.2 Handling Textual Input"
   ]
  },
  {
   "cell_type": "code",
   "execution_count": 103,
   "metadata": {},
   "outputs": [],
   "source": [
    "# convert_gui.pyw\n",
    "# Program to convert Celsius to Fahrenheit using a simple\n",
    "#   graphical interface.\n",
    "\n",
    "from graphics import *\n",
    "\n",
    "def main():\n",
    "    win = GraphWin(\"Celsius Converter\", 400, 300)\n",
    "    win.setCoords(0.0, 0.0, 3.0, 4.0)\n",
    "    \n",
    "    # Draw the interface\n",
    "    Text(Point(1,3), \"   Celsius Temperature:\").draw(win)\n",
    "    Text(Point(1,1), \"Fahrenheit Temperature:\").draw(win)\n",
    "    input = Entry(Point(2,3), 5)\n",
    "    input.setText(\"0.0\")\n",
    "    input.draw(win)\n",
    "    output = Text(Point(2,1),\"\")\n",
    "    output.draw(win)\n",
    "    button = Text(Point(1.5,2.0),\"Convert It\")\n",
    "    button.draw(win)\n",
    "    Rectangle(Point(1,1.5), Point(2,2.5)).draw(win)\n",
    "\n",
    "    # wait for a mouse click\n",
    "    win.getMouse()\n",
    "\n",
    "    # convert input\n",
    "    celsius = eval(input.getText())\n",
    "    fahrenheit = 9.0/5.0 * celsius + 32\n",
    "\n",
    "    # display output and change button\n",
    "    output.setText(fahrenheit)\n",
    "    button.setText(\"Quit\")\n",
    "\n",
    "    # wait for click and then quit\n",
    "    win.getMouse()\n",
    "    win.close()\n",
    "    \n",
    "main()"
   ]
  },
  {
   "cell_type": "markdown",
   "metadata": {},
   "source": [
    "### Chapter 5\n",
    "\n",
    "## Sequences: Strings, Lists, and Files"
   ]
  },
  {
   "cell_type": "code",
   "execution_count": 104,
   "metadata": {},
   "outputs": [
    {
     "name": "stdout",
     "output_type": "stream",
     "text": [
      "Enter your name: Cario\n"
     ]
    }
   ],
   "source": [
    "firstName = input(\"Enter your name: \")"
   ]
  },
  {
   "cell_type": "code",
   "execution_count": 105,
   "metadata": {},
   "outputs": [
    {
     "name": "stdout",
     "output_type": "stream",
     "text": [
      "Hello Cario\n"
     ]
    }
   ],
   "source": [
    "print(\"Hello\", firstName)"
   ]
  },
  {
   "cell_type": "code",
   "execution_count": 106,
   "metadata": {},
   "outputs": [
    {
     "name": "stdout",
     "output_type": "stream",
     "text": [
      "This program generates computer usernames.\n",
      "\n",
      "Please enter your first name (all lowercase): cario\n",
      "Please enter your last name (all lowercase): lullo\n",
      "Your username is: clullo\n"
     ]
    }
   ],
   "source": [
    "# username.py\n",
    "#    Simple string processing program to generate usernames. \n",
    "\n",
    "def main():\n",
    "    print(\"This program generates computer usernames.\\n\")\n",
    "\n",
    "    # get user's first and last names\n",
    "    first = input(\"Please enter your first name (all lowercase): \")\n",
    "    last = input(\"Please enter your last name (all lowercase): \")\n",
    "\n",
    "    # concatenate first initial with 7 chars of the last name.\n",
    "    uname = first[0] + last[:7]\n",
    "\n",
    "    # output the username\n",
    "    print(\"Your username is:\", uname)\n",
    "\n",
    "main()"
   ]
  },
  {
   "cell_type": "code",
   "execution_count": 107,
   "metadata": {},
   "outputs": [
    {
     "name": "stdout",
     "output_type": "stream",
     "text": [
      "Enter a month number (1-12): 3\n",
      "The month abbreviation is Mar.\n"
     ]
    }
   ],
   "source": [
    "# month.py\n",
    "#  A program to print the abbreviation of a month, given its number\n",
    "\n",
    "def main():\n",
    "    # months is used as a lookup table\n",
    "    months = \"JanFebMarAprMayJunJulAugSepOctNovDec\"\n",
    "\n",
    "    n = eval(input(\"Enter a month number (1-12): \"))\n",
    "\n",
    "    # compute starting position of month n in months\n",
    "    pos = (n-1) * 3\n",
    "    \n",
    "    # Grab the appropriate slice from months\n",
    "    monthAbbrev = months[pos:pos+3]\n",
    "\n",
    "    # print the result    \n",
    "    print(\"The month abbreviation is\", monthAbbrev + \".\")\n",
    "\n",
    "main()"
   ]
  },
  {
   "cell_type": "markdown",
   "metadata": {},
   "source": [
    "#### 5.3 Lists as Sequences"
   ]
  },
  {
   "cell_type": "code",
   "execution_count": 108,
   "metadata": {},
   "outputs": [
    {
     "name": "stdout",
     "output_type": "stream",
     "text": [
      "Enter a month number (1-12): 4\n",
      "The month abbreviation is Apr.\n"
     ]
    }
   ],
   "source": [
    "# month2.py\n",
    "# A program to print the month abbreviation, given its number\n",
    "\n",
    "def main():\n",
    "    # months is a list used as a lookup table\n",
    "    months = [\"Jan\", \"Feb\", \"Mar\", \"Apr\", \"May\", \"Jun\",\n",
    "              \"Jul\", \"Aug\", \"Sep\", \"Oct\", \"Nov\", \"Dec\"]\n",
    "    n = eval(input(\"Enter a month number (1-12): \"))\n",
    "    print(\"The month abbreviation is\", months[n-1] + \".\")\n",
    "main()"
   ]
  },
  {
   "cell_type": "code",
   "execution_count": 109,
   "metadata": {},
   "outputs": [],
   "source": [
    "myList = [34, 26, 15, 10]"
   ]
  },
  {
   "cell_type": "code",
   "execution_count": 110,
   "metadata": {},
   "outputs": [
    {
     "data": {
      "text/plain": [
       "15"
      ]
     },
     "execution_count": 110,
     "metadata": {},
     "output_type": "execute_result"
    }
   ],
   "source": [
    "myList[2]"
   ]
  },
  {
   "cell_type": "code",
   "execution_count": 111,
   "metadata": {},
   "outputs": [],
   "source": [
    "myList[2] = 0"
   ]
  },
  {
   "cell_type": "code",
   "execution_count": 112,
   "metadata": {},
   "outputs": [
    {
     "data": {
      "text/plain": [
       "[34, 26, 0, 10]"
      ]
     },
     "execution_count": 112,
     "metadata": {},
     "output_type": "execute_result"
    }
   ],
   "source": [
    "myList"
   ]
  },
  {
   "cell_type": "code",
   "execution_count": 113,
   "metadata": {},
   "outputs": [
    {
     "name": "stdout",
     "output_type": "stream",
     "text": [
      "This program converts a textual message into\n",
      "a sequence of numbers representing the\n",
      "Unicode encoding of the message.\n",
      "\n",
      "Please enter the message to encode: ghouls and goblins\n",
      "\n",
      "Here are the Unicode codes: \n",
      "103 \n",
      "104 \n",
      "111 \n",
      "117 \n",
      "108 \n",
      "115 \n",
      "32 \n",
      "97 \n",
      "110 \n",
      "100 \n",
      "32 \n",
      "103 \n",
      "111 \n",
      "98 \n",
      "108 \n",
      "105 \n",
      "110 \n",
      "115 \n"
     ]
    }
   ],
   "source": [
    "# text2numbers.py\n",
    "# A program convert a textual message into the underlying\n",
    "# Unicode sequence of encoding to numbers\n",
    "\n",
    "def main():\n",
    "    print(\"This program converts a textual message into\")\n",
    "    print(\"a sequence of numbers representing the\")\n",
    "    print(\"Unicode encoding of the message.\\n\")\n",
    "    \n",
    "    # Get the message \n",
    "    message = input(\"Please enter the message to encode: \")\n",
    "    print(\"\\nHere are the Unicode codes: \")\n",
    "    \n",
    "    # Loop through the message and print out the Unicode values\n",
    "    for ch in message:\n",
    "        print(ord(ch), end=\" \")\n",
    "        print() # blank line before prompt\n",
    "        \n",
    "main()"
   ]
  },
  {
   "cell_type": "markdown",
   "metadata": {},
   "source": [
    "### 5.5 String Methods\n",
    "\n",
    "#### 5.5.1 Programming a Decoder"
   ]
  },
  {
   "cell_type": "code",
   "execution_count": 114,
   "metadata": {},
   "outputs": [],
   "source": [
    "myString = \"Hello, string methods!\""
   ]
  },
  {
   "cell_type": "code",
   "execution_count": 115,
   "metadata": {},
   "outputs": [
    {
     "data": {
      "text/plain": [
       "['Hello,', 'string', 'methods!']"
      ]
     },
     "execution_count": 115,
     "metadata": {},
     "output_type": "execute_result"
    }
   ],
   "source": [
    "myString.split()"
   ]
  },
  {
   "cell_type": "code",
   "execution_count": 116,
   "metadata": {},
   "outputs": [
    {
     "data": {
      "text/plain": [
       "['32', '24', '25', '57']"
      ]
     },
     "execution_count": 116,
     "metadata": {},
     "output_type": "execute_result"
    }
   ],
   "source": [
    "\"32,24,25,57\".split(\",\")"
   ]
  },
  {
   "cell_type": "code",
   "execution_count": 117,
   "metadata": {},
   "outputs": [
    {
     "data": {
      "text/plain": [
       "['87',\n",
       " '104',\n",
       " '97',\n",
       " '116',\n",
       " '32',\n",
       " '97',\n",
       " '32',\n",
       " '83',\n",
       " '111',\n",
       " '117',\n",
       " '114',\n",
       " '112',\n",
       " '117',\n",
       " '115',\n",
       " '115',\n",
       " '33']"
      ]
     },
     "execution_count": 117,
     "metadata": {},
     "output_type": "execute_result"
    }
   ],
   "source": [
    "\"87 104 97 116 32 97 32 83 111 117 114 112 117 115 115 33\".split()"
   ]
  },
  {
   "cell_type": "markdown",
   "metadata": {},
   "source": [
    "### A refresher on eval:"
   ]
  },
  {
   "cell_type": "code",
   "execution_count": 118,
   "metadata": {},
   "outputs": [],
   "source": [
    "numStr = \"500\""
   ]
  },
  {
   "cell_type": "code",
   "execution_count": 119,
   "metadata": {},
   "outputs": [
    {
     "data": {
      "text/plain": [
       "500"
      ]
     },
     "execution_count": 119,
     "metadata": {},
     "output_type": "execute_result"
    }
   ],
   "source": [
    "eval(numStr)"
   ]
  },
  {
   "cell_type": "code",
   "execution_count": 120,
   "metadata": {},
   "outputs": [
    {
     "data": {
      "text/plain": [
       "345.67"
      ]
     },
     "execution_count": 120,
     "metadata": {},
     "output_type": "execute_result"
    }
   ],
   "source": [
    "eval(\"345.67\")"
   ]
  },
  {
   "cell_type": "code",
   "execution_count": 121,
   "metadata": {},
   "outputs": [
    {
     "data": {
      "text/plain": [
       "7"
      ]
     },
     "execution_count": 121,
     "metadata": {},
     "output_type": "execute_result"
    }
   ],
   "source": [
    "eval(\"3+4\")"
   ]
  },
  {
   "cell_type": "code",
   "execution_count": 122,
   "metadata": {},
   "outputs": [],
   "source": [
    "x = 3.5"
   ]
  },
  {
   "cell_type": "code",
   "execution_count": 123,
   "metadata": {},
   "outputs": [],
   "source": [
    "y = 4.7"
   ]
  },
  {
   "cell_type": "code",
   "execution_count": 124,
   "metadata": {},
   "outputs": [
    {
     "data": {
      "text/plain": [
       "16.45"
      ]
     },
     "execution_count": 124,
     "metadata": {},
     "output_type": "execute_result"
    }
   ],
   "source": [
    "eval(\"x * y\")"
   ]
  },
  {
   "cell_type": "markdown",
   "metadata": {},
   "source": [
    "Using split and eval we can write our decoder program"
   ]
  },
  {
   "cell_type": "code",
   "execution_count": 125,
   "metadata": {},
   "outputs": [
    {
     "name": "stdout",
     "output_type": "stream",
     "text": [
      "This program converts a sequence of Unicode numbers into\n",
      "the string of text that it represents.\n",
      "\n",
      "Please enter the Unicode-encoded message: 12 13 156 12 11 14\n",
      "\n",
      "\f",
      "\u000b",
      "\u000edecoded message is: \f",
      "\n"
     ]
    }
   ],
   "source": [
    "# numbers2text.py\n",
    "#     A program to convert a sequence of Unicode numbers into\n",
    "#         a string of text.\n",
    "\n",
    "def main():\n",
    "    print(\"This program converts a sequence of Unicode numbers into\")\n",
    "    print(\"the string of text that it represents.\\n\")\n",
    "    \n",
    "    # Get the message to encode\n",
    "    inString = input(\"Please enter the Unicode-encoded message: \")\n",
    "\n",
    "    # Loop through each substring and build Unicode message\n",
    "    message = \"\"\n",
    "    for numStr in inString.split():\n",
    "        codeNum = eval(numStr)           # convert digits to a number\n",
    "        message = message + chr(codeNum) # concatentate character to message\n",
    "\n",
    "    print(\"\\nThe decoded message is:\", message)\n",
    "\n",
    "main()"
   ]
  },
  {
   "cell_type": "markdown",
   "metadata": {},
   "source": [
    "Manipulating text data"
   ]
  },
  {
   "cell_type": "code",
   "execution_count": 126,
   "metadata": {},
   "outputs": [],
   "source": [
    "s = \"hello, I came here for an argument\""
   ]
  },
  {
   "cell_type": "code",
   "execution_count": 127,
   "metadata": {},
   "outputs": [
    {
     "data": {
      "text/plain": [
       "'Hello, i came here for an argument'"
      ]
     },
     "execution_count": 127,
     "metadata": {},
     "output_type": "execute_result"
    }
   ],
   "source": [
    "s.capitalize()"
   ]
  },
  {
   "cell_type": "code",
   "execution_count": 128,
   "metadata": {},
   "outputs": [
    {
     "data": {
      "text/plain": [
       "'Hello, I Came Here For An Argument'"
      ]
     },
     "execution_count": 128,
     "metadata": {},
     "output_type": "execute_result"
    }
   ],
   "source": [
    "s.title()"
   ]
  },
  {
   "cell_type": "code",
   "execution_count": 129,
   "metadata": {},
   "outputs": [
    {
     "data": {
      "text/plain": [
       "'hello, i came here for an argument'"
      ]
     },
     "execution_count": 129,
     "metadata": {},
     "output_type": "execute_result"
    }
   ],
   "source": [
    "s.lower()"
   ]
  },
  {
   "cell_type": "code",
   "execution_count": 130,
   "metadata": {},
   "outputs": [
    {
     "data": {
      "text/plain": [
       "'HELLO, I CAME HERE FOR AN ARGUMENT'"
      ]
     },
     "execution_count": 130,
     "metadata": {},
     "output_type": "execute_result"
    }
   ],
   "source": [
    "s.upper()"
   ]
  },
  {
   "cell_type": "code",
   "execution_count": 131,
   "metadata": {},
   "outputs": [
    {
     "data": {
      "text/plain": [
       "'hello, you came here for an argument'"
      ]
     },
     "execution_count": 131,
     "metadata": {},
     "output_type": "execute_result"
    }
   ],
   "source": [
    "s.replace(\"I\", \"you\")"
   ]
  },
  {
   "cell_type": "code",
   "execution_count": 132,
   "metadata": {},
   "outputs": [
    {
     "data": {
      "text/plain": [
       "'hello, I came here for an argument'"
      ]
     },
     "execution_count": 132,
     "metadata": {},
     "output_type": "execute_result"
    }
   ],
   "source": [
    "s.center(30)"
   ]
  },
  {
   "cell_type": "code",
   "execution_count": 133,
   "metadata": {},
   "outputs": [
    {
     "data": {
      "text/plain": [
       "'        hello, I came here for an argument        '"
      ]
     },
     "execution_count": 133,
     "metadata": {},
     "output_type": "execute_result"
    }
   ],
   "source": [
    "s.center(50)"
   ]
  },
  {
   "cell_type": "code",
   "execution_count": 134,
   "metadata": {},
   "outputs": [
    {
     "data": {
      "text/plain": [
       "5"
      ]
     },
     "execution_count": 134,
     "metadata": {},
     "output_type": "execute_result"
    }
   ],
   "source": [
    "s.count('e')"
   ]
  },
  {
   "cell_type": "code",
   "execution_count": 135,
   "metadata": {},
   "outputs": [
    {
     "data": {
      "text/plain": [
       "5"
      ]
     },
     "execution_count": 135,
     "metadata": {},
     "output_type": "execute_result"
    }
   ],
   "source": [
    "s.find(',')"
   ]
  },
  {
   "cell_type": "code",
   "execution_count": 136,
   "metadata": {},
   "outputs": [
    {
     "data": {
      "text/plain": [
       "'Number one, the Larch'"
      ]
     },
     "execution_count": 136,
     "metadata": {},
     "output_type": "execute_result"
    }
   ],
   "source": [
    "\" \".join([\"Number\", \"one,\", \"the\", \"Larch\"])"
   ]
  },
  {
   "cell_type": "code",
   "execution_count": 137,
   "metadata": {},
   "outputs": [
    {
     "data": {
      "text/plain": [
       "'Numberspamone,spamthespamLarch'"
      ]
     },
     "execution_count": 137,
     "metadata": {},
     "output_type": "execute_result"
    }
   ],
   "source": [
    "\"spam\".join([\"Number\", \"one,\", \"the\", \"Larch\"])"
   ]
  },
  {
   "cell_type": "code",
   "execution_count": 138,
   "metadata": {},
   "outputs": [],
   "source": [
    "squares = []\n",
    "for x in range(1, 101):\n",
    "    squares.append(x*x)"
   ]
  },
  {
   "cell_type": "code",
   "execution_count": 139,
   "metadata": {},
   "outputs": [
    {
     "name": "stdout",
     "output_type": "stream",
     "text": [
      "[1, 4, 9, 16, 25, 36, 49, 64, 81, 100, 121, 144, 169, 196, 225, 256, 289, 324, 361, 400, 441, 484, 529, 576, 625, 676, 729, 784, 841, 900, 961, 1024, 1089, 1156, 1225, 1296, 1369, 1444, 1521, 1600, 1681, 1764, 1849, 1936, 2025, 2116, 2209, 2304, 2401, 2500, 2601, 2704, 2809, 2916, 3025, 3136, 3249, 3364, 3481, 3600, 3721, 3844, 3969, 4096, 4225, 4356, 4489, 4624, 4761, 4900, 5041, 5184, 5329, 5476, 5625, 5776, 5929, 6084, 6241, 6400, 6561, 6724, 6889, 7056, 7225, 7396, 7569, 7744, 7921, 8100, 8281, 8464, 8649, 8836, 9025, 9216, 9409, 9604, 9801, 10000]\n"
     ]
    }
   ],
   "source": [
    "print(squares)"
   ]
  },
  {
   "cell_type": "code",
   "execution_count": 140,
   "metadata": {},
   "outputs": [
    {
     "name": "stdout",
     "output_type": "stream",
     "text": [
      "This program converts a sequence of Unicode numbers into\n",
      "the string of text that it represents.\n",
      "\n",
      "Please enter the Unicode-encoded message: 123\n",
      "\n",
      "The decoded message is: {\n"
     ]
    }
   ],
   "source": [
    "# numbers2text2.py\n",
    "#     A program to convert a sequence of Unicode numbers into\n",
    "#         a string of text. Efficient version using a list accumulator.\n",
    "\n",
    "def main():\n",
    "    print(\"This program converts a sequence of Unicode numbers into\")\n",
    "    print(\"the string of text that it represents.\\n\")\n",
    "    \n",
    "    # Get the message to encode\n",
    "    inString = input(\"Please enter the Unicode-encoded message: \")\n",
    "\n",
    "    # Loop through each substring and build Unicode message\n",
    "    chars = [] \n",
    "    for numStr in inString.split():\n",
    "        codeNum = eval(numStr)             # convert digits to a number\n",
    "        chars.append(chr(codeNum))         # accumulate new character\n",
    "\n",
    "    message = \"\".join(chars)\n",
    "    print(\"\\nThe decoded message is:\", message)\n",
    "\n",
    "main()"
   ]
  },
  {
   "cell_type": "markdown",
   "metadata": {},
   "source": [
    "#### 5.7 From Encoding to Encryption"
   ]
  },
  {
   "cell_type": "markdown",
   "metadata": {},
   "source": [
    "#### 5.8.1 Example Application: Date Conversion"
   ]
  },
  {
   "cell_type": "code",
   "execution_count": 141,
   "metadata": {},
   "outputs": [
    {
     "data": {
      "text/plain": [
       "3"
      ]
     },
     "execution_count": 141,
     "metadata": {},
     "output_type": "execute_result"
    }
   ],
   "source": [
    "int(\"3\")"
   ]
  },
  {
   "cell_type": "code",
   "execution_count": 142,
   "metadata": {},
   "outputs": [
    {
     "data": {
      "text/plain": [
       "3.0"
      ]
     },
     "execution_count": 142,
     "metadata": {},
     "output_type": "execute_result"
    }
   ],
   "source": [
    "float(\"3\")"
   ]
  },
  {
   "cell_type": "code",
   "execution_count": 143,
   "metadata": {},
   "outputs": [
    {
     "data": {
      "text/plain": [
       "3.5"
      ]
     },
     "execution_count": 143,
     "metadata": {},
     "output_type": "execute_result"
    }
   ],
   "source": [
    "float(\"3.5\")"
   ]
  },
  {
   "cell_type": "code",
   "execution_count": 144,
   "metadata": {},
   "outputs": [
    {
     "data": {
      "text/plain": [
       "8"
      ]
     },
     "execution_count": 144,
     "metadata": {},
     "output_type": "execute_result"
    }
   ],
   "source": [
    "int(\"008\")"
   ]
  },
  {
   "cell_type": "code",
   "execution_count": 145,
   "metadata": {},
   "outputs": [
    {
     "data": {
      "text/plain": [
       "5"
      ]
     },
     "execution_count": 145,
     "metadata": {},
     "output_type": "execute_result"
    }
   ],
   "source": [
    "int(\"05\")"
   ]
  },
  {
   "cell_type": "code",
   "execution_count": 146,
   "metadata": {},
   "outputs": [
    {
     "data": {
      "text/plain": [
       "9"
      ]
     },
     "execution_count": 146,
     "metadata": {},
     "output_type": "execute_result"
    }
   ],
   "source": [
    "int(\"009\")"
   ]
  },
  {
   "cell_type": "code",
   "execution_count": 147,
   "metadata": {},
   "outputs": [
    {
     "name": "stdout",
     "output_type": "stream",
     "text": [
      "Enter a date (mm/dd/yyyy): 02/04/1990\n",
      "The converted date is: February 04, 1990\n"
     ]
    }
   ],
   "source": [
    "# dateconvert.py\n",
    "#    Converts a date in form \"mm/dd/yyyy\" to \"month day, year\" \n",
    "\n",
    "def main():\n",
    "    # get the date\n",
    "    dateStr = input(\"Enter a date (mm/dd/yyyy): \")\n",
    "\n",
    "    # split into components\n",
    "    monthStr, dayStr, yearStr = dateStr.split(\"/\")\n",
    "\n",
    "    # convert monthStr to the month name\n",
    "    months = [\"January\", \"February\", \"March\", \"April\", \n",
    "              \"May\", \"June\", \"July\", \"August\", \n",
    "              \"September\", \"October\", \"November\", \"December\"]\n",
    "    monthStr = months[int(monthStr)-1]\n",
    "\n",
    "    # output result in month day, year format\n",
    "    print(\"The converted date is:\", monthStr, dayStr+\",\", yearStr)\n",
    "\n",
    "main()"
   ]
  },
  {
   "cell_type": "markdown",
   "metadata": {},
   "source": [
    "It is often also necessary to turn a number into a string. In Python, most data types can be converted into strings using the str function. Here are a couple of simple examples:"
   ]
  },
  {
   "cell_type": "code",
   "execution_count": 148,
   "metadata": {},
   "outputs": [
    {
     "data": {
      "text/plain": [
       "'500'"
      ]
     },
     "execution_count": 148,
     "metadata": {},
     "output_type": "execute_result"
    }
   ],
   "source": [
    "str(500)"
   ]
  },
  {
   "cell_type": "code",
   "execution_count": 149,
   "metadata": {},
   "outputs": [],
   "source": [
    "value = 3.14"
   ]
  },
  {
   "cell_type": "code",
   "execution_count": 150,
   "metadata": {},
   "outputs": [
    {
     "data": {
      "text/plain": [
       "'3.14'"
      ]
     },
     "execution_count": 150,
     "metadata": {},
     "output_type": "execute_result"
    }
   ],
   "source": [
    "str(value)"
   ]
  },
  {
   "cell_type": "code",
   "execution_count": 151,
   "metadata": {},
   "outputs": [
    {
     "name": "stdout",
     "output_type": "stream",
     "text": [
      "The value is 3.14.\n"
     ]
    }
   ],
   "source": [
    "print(\"The value is\", str(value) + \".\")"
   ]
  },
  {
   "cell_type": "markdown",
   "metadata": {},
   "source": [
    "Notice the cell above, by turning value into a string we can use string concatenation to put a period at the end of a sentence. If we didn't first turn value into a string, Python would interpret the + as a numerical operation and produce an error, because \".\" is not a number."
   ]
  },
  {
   "cell_type": "code",
   "execution_count": 152,
   "metadata": {},
   "outputs": [
    {
     "name": "stdout",
     "output_type": "stream",
     "text": [
      "Please enter day, month, and year numbers: 2,4,1945\n",
      "The date is 4/2/1945 or April 2, 1945.\n"
     ]
    }
   ],
   "source": [
    "# dateconvert2.py\n",
    "#     Converts day month and year numbers into two date formats\n",
    "\n",
    "def main():\n",
    "    # get the day month and year\n",
    "    day, month, year = eval(input(\"Please enter day, month, and year numbers: \"))\n",
    "\n",
    "    date1 = str(month)+\"/\"+str(day)+\"/\"+str(year)\n",
    "\n",
    "    months = [\"January\", \"February\", \"March\", \"April\", \n",
    "              \"May\", \"June\", \"July\", \"August\", \n",
    "              \"September\", \"October\", \"November\", \"December\"]\n",
    "    monthStr = months[month-1]\n",
    "    date2 = monthStr+\" \" + str(day) + \", \" + str(year)\n",
    "\n",
    "    print(\"The date is\", date1, \"or\", date2+\".\")\n",
    "\n",
    "main()"
   ]
  },
  {
   "cell_type": "markdown",
   "metadata": {},
   "source": [
    "#### 5.8.2 String Formatting"
   ]
  },
  {
   "cell_type": "code",
   "execution_count": 153,
   "metadata": {},
   "outputs": [
    {
     "name": "stdout",
     "output_type": "stream",
     "text": [
      "Change Counter\n",
      "\n",
      "Please enter the count of each coin type.\n",
      "Quarters: 13\n",
      "Dimes: 12\n",
      "Nickels: 1\n",
      "Pennies: 1\n",
      "\n",
      "The total value of your change is $4.51\n"
     ]
    }
   ],
   "source": [
    "# change2.py\n",
    "# A program to calculate the value of some change in dollars\n",
    "\n",
    "def main():\n",
    "    print(\"Change Counter\")\n",
    "    print()\n",
    "    print(\"Please enter the count of each coin type.\")\n",
    "    quarters = eval(input(\"Quarters: \"))\n",
    "    dimes = eval(input(\"Dimes: \"))\n",
    "    nickels = eval(input(\"Nickels: \"))\n",
    "    pennies = eval(input(\"Pennies: \"))\n",
    "    total = quarters * .25 + dimes * .10 + nickels * .05 + pennies * .01\n",
    "    print()\n",
    "    print(\"The total value of your change is ${0:0.2f}\".format(total))\n",
    "\n",
    "main()"
   ]
  },
  {
   "cell_type": "markdown",
   "metadata": {},
   "source": [
    "The format method is a built-in for Python strings. The idea is that the string serves as a sort of template and values supplies as parameters are plugged  into this template to form a a new string. So string formatting takes the form:\n",
    "\n",
    "<template-string>.format(<values>)\n",
    "    \n",
    "Curly braces ({}) inside the template-string mark \"slots\" into which the provided values are inserted. The information inside the curly braces tells which value goes in the slot and how the value should be formatted. \n",
    "\n",
    "In this book, the slot descriptions will always have the form:\n",
    "\n",
    "{<index>:<format-specifier>}\n",
    "    \n",
    "The index tells which of the parameters is inserted into the slot. As usual in Python, indexing starts with 0. In the example above, there is a single slot and the index 0 is used to say that the first (and only) parameter is inserted into that slot.\n",
    "\n",
    "The part of the description after the colon specifies how the value should look when it is inserted into the slot. Again returning to the example, the format specifier is 0.2f. The format of this specifier is <width>.<precision><type>. the width specifies how many \"spaces\" the value should take up. If the value takes up less than the specified width, it is space is padded (by default with the space character). If the value requires more space than alloted, it will take as much space as is require to show the value. So putting a 0 here essentially says \"use as much space as you need.\" The precision is 2, which tells Python to round the value to two decimal places. Finally, the type character f says the value should be displayed as a fixed point number. That means that the specified number decimal places will always be shown, even is they are zero."
   ]
  },
  {
   "cell_type": "code",
   "execution_count": 154,
   "metadata": {},
   "outputs": [
    {
     "name": "stdout",
     "output_type": "stream",
     "text": [
      "Change Counter\n",
      "\n",
      "Please enter the count of each coin type.\n",
      "Quarters: 12\n",
      "Dimes: 14\n",
      "Nickels: 155\n",
      "Pennies: 123\n",
      "The total value of your change is $13.38\n"
     ]
    }
   ],
   "source": [
    "# change3.py\n",
    "#   A program to calculate the value of some change in dollars\n",
    "#   This version represents the total cash in cents.\n",
    "\n",
    "def main():\n",
    "    print(\"Change Counter\\n\")\n",
    "\n",
    "    print(\"Please enter the count of each coin type.\")\n",
    "    quarters = eval(input(\"Quarters: \"))\n",
    "    dimes = eval(input(\"Dimes: \"))\n",
    "    nickels = eval(input(\"Nickels: \"))\n",
    "    pennies = eval(input(\"Pennies: \"))\n",
    "\n",
    "    total = quarters * 25 + dimes * 10 + nickels * 5 + pennies\n",
    "\n",
    "    print(\"The total value of your change is ${0}.{1:0>2}\"\n",
    "          .format(total//100, total%100))\n",
    "\n",
    "main()"
   ]
  },
  {
   "cell_type": "markdown",
   "metadata": {},
   "source": [
    "#### 5.9 File Processing"
   ]
  },
  {
   "cell_type": "code",
   "execution_count": 155,
   "metadata": {},
   "outputs": [
    {
     "name": "stdout",
     "output_type": "stream",
     "text": [
      "Hello\n",
      "World\n",
      "\n",
      "Goodbye 32\n",
      "\n"
     ]
    }
   ],
   "source": [
    "print(\"Hello\\nWorld\\n\\nGoodbye 32\\n\")"
   ]
  },
  {
   "cell_type": "markdown",
   "metadata": {},
   "source": [
    "#### 5.9.2 File Processing"
   ]
  },
  {
   "cell_type": "code",
   "execution_count": 156,
   "metadata": {},
   "outputs": [
    {
     "name": "stdout",
     "output_type": "stream",
     "text": [
      "Enter filename: Names.txt\n",
      "Jamison Veit\n",
      "Izetta Orvis\n",
      "Exie Trepanier\n",
      "Kathaleen Rourke\n",
      "Treena Pelletier\n",
      "Apolonia Hartsock\n",
      "Louella Golay\n",
      "Jenny Birdsong\n",
      "Katlyn Charron\n",
      "Brunilda Mickens\n",
      "Miesha Sumners\n",
      "Lowell Sprow\n",
      "Donny Jacquet\n",
      "Gena Leininger\n",
      "Thu Byars\n",
      "Laverna Hausner\n",
      "Brinda Siegrist\n",
      "Eleni Mena\n",
      "Emmie Lung\n",
      "Cassy Lamy\n",
      "Tamar Rana\n",
      "Twyla Palmateer\n",
      "Roselyn Stillwagon\n",
      "Neoma Haven\n",
      "Jacquelyn Grissom\n",
      "Deedee Warner\n",
      "Verna Simkins\n",
      "Lincoln Schuelke\n",
      "Beaulah Amen\n",
      "Buster Boydstun\n",
      "Mirtha Mccauley\n",
      "Ethan Huebner\n",
      "Rozanne Funk\n",
      "Carin Carrell\n",
      "Gala Rudasill\n",
      "Leandra Tuel\n",
      "Eva Hurlbert\n",
      "Vonda Kilduff\n",
      "Rodney Asher\n",
      "Raul Schuch\n",
      "Brynn Spink\n",
      "Lynn Tubman\n",
      "Kathy Tallman\n",
      "Jada Coogan\n",
      "Bridgett Newquist\n",
      "Austin Mends\n",
      "Tynisha Bardsley\n",
      "Idalia Fredricks\n",
      "Contessa Trowbridge\n",
      "Gary Sisler\n"
     ]
    }
   ],
   "source": [
    "# printfile.py\n",
    "#     Prints a file to the screen.\n",
    "\n",
    "def main():\n",
    "    fname = input(\"Enter filename: \")\n",
    "    infile = open(fname,\"r\")\n",
    "    data = infile.read()\n",
    "    print(data)\n",
    "\n",
    "main()"
   ]
  },
  {
   "cell_type": "code",
   "execution_count": 157,
   "metadata": {},
   "outputs": [
    {
     "name": "stdout",
     "output_type": "stream",
     "text": [
      "This program creates a file of usernames from a\n",
      "file of names.\n",
      "What file are the names in? NamesOut.txt\n",
      "What file should the usernames go in? NamesOut.txt\n",
      "Usernames have been written to NamesOut.txt\n"
     ]
    }
   ],
   "source": [
    "# userfile.py\n",
    "# Program to create a file of usernames in batch mode.\n",
    "\n",
    "def main():\n",
    "    print(\"This program creates a file of usernames from a\")\n",
    "    print(\"file of names.\")\n",
    "\n",
    "    # get the file names\n",
    "    infileName = input(\"What file are the names in? \")\n",
    "    outfileName = input(\"What file should the usernames go in? \")\n",
    "\n",
    "    # open the files\n",
    "    infile = open(infileName, \"r\")\n",
    "    outfile = open(outfileName, \"w\")\n",
    "\n",
    "    # process each line of the input file\n",
    "    for line in infile:\n",
    "        # get the first and last names from line\n",
    "        first, last = line.split()\n",
    "        # create the username\n",
    "        uname = (first[0]+last[:7]).lower()\n",
    "        # write it to the output file\n",
    "        print(uname, file=outfile)\n",
    "\n",
    "    # close both files\n",
    "    infile.close()\n",
    "    outfile.close()\n",
    "\n",
    "    print(\"Usernames have been written to\", outfileName)\n",
    "\n",
    "main()"
   ]
  },
  {
   "cell_type": "markdown",
   "metadata": {},
   "source": [
    "### Chapter 6\n",
    "\n",
    "## Defining Functions"
   ]
  },
  {
   "cell_type": "code",
   "execution_count": 158,
   "metadata": {},
   "outputs": [
    {
     "name": "stdout",
     "output_type": "stream",
     "text": [
      "This program plots the growth of a 10-year investment.\n",
      "Enter the initial principal: 12345\n",
      "Enter the annualized interest rate: .04\n",
      "Press <Enter> to quit.\n"
     ]
    }
   ],
   "source": [
    "# futval_graph2.py\n",
    "\n",
    "from graphics import *\n",
    "\n",
    "def main():\n",
    "    # Introduction\n",
    "    print(\"This program plots the growth of a 10-year investment.\")\n",
    "\n",
    "    # Get principal and interest rate\n",
    "    principal = eval(input(\"Enter the initial principal: \"))\n",
    "    apr = eval(input(\"Enter the annualized interest rate: \"))\n",
    "\n",
    "    # Create a graphics window with labels on left edge\n",
    "    win = GraphWin(\"Investment Growth Chart\", 320, 240)\n",
    "    win.setBackground(\"white\")\n",
    "    win.setCoords(-1.75,-200, 11.5, 10400)\n",
    "    Text(Point(-1, 0), ' 0.0K').draw(win)\n",
    "    Text(Point(-1, 2500), ' 2.5K').draw(win)\n",
    "    Text(Point(-1, 5000), ' 5.0K').draw(win)\n",
    "    Text(Point(-1, 7500), ' 7.5k').draw(win)\n",
    "    Text(Point(-1, 10000), '10.0K').draw(win)\n",
    "\n",
    "    # Draw bar for initial principal\n",
    "    bar = Rectangle(Point(0, 0), Point(1, principal))\n",
    "    bar.setFill(\"green\")\n",
    "    bar.setWidth(2)\n",
    "    bar.draw(win)\n",
    "    \n",
    "    # Draw a bar for each subsequent year\n",
    "    for year in range(1, 11):\n",
    "        principal = principal * (1 + apr)\n",
    "        bar = Rectangle(Point(year, 0), Point(year+1, principal))\n",
    "        bar.setFill(\"green\")\n",
    "        bar.setWidth(2)\n",
    "        bar.draw(win)\n",
    "\n",
    "    input(\"Press <Enter> to quit.\")\n",
    "    win.close()\n",
    "\n",
    "main()"
   ]
  },
  {
   "cell_type": "markdown",
   "metadata": {},
   "source": [
    "#### 6.2 Functions, Informally\n",
    "\n",
    "Think of a function as a subprogram; a small program inside of a program. The basic idea of a function is that we write a sequence of statements and give that sequence a name. The instructions can then be executed at any point in the program by referring to the function name.\n",
    "\n",
    "Here's an interactive session that creates a program for singing \"Happy Birthday\" to Fred."
   ]
  },
  {
   "cell_type": "code",
   "execution_count": 159,
   "metadata": {},
   "outputs": [
    {
     "name": "stdout",
     "output_type": "stream",
     "text": [
      "Happy Birthday to you!\n",
      "Happy Birthday to you!\n",
      "Happy birthday, dear Fred.\n",
      "Happy Birthday to you!\n",
      "\n",
      "Happy Birthday to you!\n",
      "Happy Birthday to you!\n",
      "Happy birthday, dear Lucy.\n",
      "Happy Birthday to you!\n",
      "\n",
      "Happy Birthday to you!\n",
      "Happy Birthday to you!\n",
      "Happy birthday, dear Elmer.\n",
      "Happy Birthday to you!\n"
     ]
    }
   ],
   "source": [
    "# happy.py\n",
    "\n",
    "def happy():\n",
    "    print(\"Happy Birthday to you!\")\n",
    "\n",
    "def sing(person):\n",
    "    happy()\n",
    "    happy()\n",
    "    print(\"Happy birthday, dear\", person + \".\")\n",
    "    happy()\n",
    "\n",
    "def main():\n",
    "    sing(\"Fred\")\n",
    "    print()\n",
    "    sing(\"Lucy\")\n",
    "    print()\n",
    "    sing(\"Elmer\")\n",
    "\n",
    "main()"
   ]
  },
  {
   "cell_type": "markdown",
   "metadata": {},
   "source": [
    "#### 6.3 Future Value with a Function"
   ]
  },
  {
   "cell_type": "code",
   "execution_count": 160,
   "metadata": {},
   "outputs": [
    {
     "name": "stdout",
     "output_type": "stream",
     "text": [
      "This program plots the growth of a 10-year investment.\n",
      "Enter the initial principal: 123\n",
      "Enter the annualized interest rate: 12\n",
      "Press <Enter> to quit.\n"
     ]
    }
   ],
   "source": [
    "# futval_graph3.py\n",
    "from graphics import *\n",
    "\n",
    "def drawBar(window, year, height):\n",
    "    # Draw a bar in window starting at year with given height\n",
    "    bar = Rectangle(Point(year, 0), Point(year+1, height))\n",
    "    bar.setFill(\"green\")\n",
    "    bar.setWidth(2)\n",
    "    bar.draw(window)\n",
    "    \n",
    "def main():\n",
    "    # Introduction\n",
    "    print(\"This program plots the growth of a 10-year investment.\")\n",
    "\n",
    "    # Get principal and interest rate\n",
    "    principal = eval(input(\"Enter the initial principal: \"))\n",
    "    apr = eval(input(\"Enter the annualized interest rate: \"))\n",
    "\n",
    "    # Create a graphics window with labels on left edge\n",
    "    win = GraphWin(\"Investment Growth Chart\", 320, 240)\n",
    "    win.setBackground(\"white\")\n",
    "    win.setCoords(-1.75,-200, 11.5, 10400)\n",
    "    Text(Point(-1, 0), ' 0.0K').draw(win)\n",
    "    Text(Point(-1, 2500), ' 2.5K').draw(win)\n",
    "    Text(Point(-1, 5000), ' 5.0K').draw(win)\n",
    "    Text(Point(-1, 7500), ' 7.5k').draw(win)\n",
    "    Text(Point(-1, 10000), '10.0K').draw(win)\n",
    "\n",
    "    drawBar(win, 0, principal)\n",
    "    for year in range(1, 11):\n",
    "        principal = principal * (1 + apr)\n",
    "        drawBar(win, year, principal)\n",
    "\n",
    "    input(\"Press <Enter> to quit.\")\n",
    "    win.close()\n",
    "main()"
   ]
  },
  {
   "cell_type": "markdown",
   "metadata": {},
   "source": [
    "#### 6.4 Functions and Parameters: The Exciting Details"
   ]
  },
  {
   "cell_type": "markdown",
   "metadata": {},
   "source": [
    "A function definition looks like this:\n",
    "\n",
    "def <name>(<formal-parameters>):\n",
    "    <body>\n",
    "        \n",
    "The name of the function must be an identifier, and \n",
    "formal-parameters is a (possible empty) list of variable names (also identifiers). The formal parameters, like all variables used in the function, are only accessible in the body of the function. Variables with identical names elsewhere in the program are distinct from the formal parameters and variables inside of the function body.\n",
    "\n",
    "A function is called by using its name followed by a list of actual parameters or arguments.\n",
    "    \n",
    "When Python comes to a function call, it initiates a four-step process:\n",
    "\n",
    "1. The calling program suspends the execution at the point of the call.\n",
    "\n",
    "2. The formal parameters of the function get assigned the values supplied by the actual parameters in the call.\n",
    "\n",
    "3. The body of the function is executed. \n",
    "\n",
    "4. Control returns to the point just after where the function was called."
   ]
  },
  {
   "cell_type": "markdown",
   "metadata": {},
   "source": [
    "### Getting Results from a Function\n",
    "\n",
    "#### Functions That Return Values"
   ]
  },
  {
   "cell_type": "code",
   "execution_count": 161,
   "metadata": {},
   "outputs": [],
   "source": [
    "def square(x):\n",
    "    return x * x"
   ]
  },
  {
   "cell_type": "code",
   "execution_count": 162,
   "metadata": {},
   "outputs": [
    {
     "data": {
      "text/plain": [
       "9"
      ]
     },
     "execution_count": 162,
     "metadata": {},
     "output_type": "execute_result"
    }
   ],
   "source": [
    "square(3)"
   ]
  },
  {
   "cell_type": "code",
   "execution_count": 163,
   "metadata": {},
   "outputs": [],
   "source": [
    "# Program: triangle2.py\n",
    "import math\n",
    "from graphics import *\n",
    "\n",
    "def square(x):\n",
    "    return x * x\n",
    "\n",
    "def distance(p1, p2):\n",
    "    dist = math.sqrt(square(p2.getX() - p1.getX())\n",
    "                     + square(p2.getY() - p1.getY()))\n",
    "    return dist\n",
    "\n",
    "def main():\n",
    "    win = GraphWin(\"Draw a Triangle\")\n",
    "    win.setCoords(0.0, 0.0, 10.0, 10.0)\n",
    "    message = Text(Point(5, 0.5), \"Click on three points\")\n",
    "    message.draw(win)\n",
    "\n",
    "    # Get and draw three vertices of triangle\n",
    "    p1 = win.getMouse()\n",
    "    p1.draw(win)\n",
    "    p2 = win.getMouse()\n",
    "    p2.draw(win)\n",
    "    p3 = win.getMouse()\n",
    "    p3.draw(win)\n",
    "\n",
    "    # Use Polygon object to draw the triangle\n",
    "    triangle = Polygon(p1,p2,p3)\n",
    "    triangle.setFill(\"peachpuff\")\n",
    "    triangle.setOutline(\"cyan\")\n",
    "    triangle.draw(win)\n",
    "\n",
    "    # Calculate the perimeter of the triangle\n",
    "    perim = distance(p1,p2) + distance(p2,p3) + distance(p3,p1)\n",
    "    message.setText(\"The perimeter is: {0:0.2f}\".format(perim))\n",
    "\n",
    "    # Wait for another click to exit\n",
    "    win.getMouse()\n",
    "    win.close()\n",
    "\n",
    "main()"
   ]
  },
  {
   "cell_type": "code",
   "execution_count": 164,
   "metadata": {},
   "outputs": [
    {
     "name": "stdout",
     "output_type": "stream",
     "text": [
      "1000\n"
     ]
    }
   ],
   "source": [
    "# addinterest1.py\n",
    "\n",
    "def addInterest(balance, rate):\n",
    "    newBalance = balance * (1+rate)\n",
    "    balance = newBalance\n",
    "\n",
    "def test():\n",
    "    amount = 1000\n",
    "    rate = 0.05\n",
    "    addInterest(amount, rate)\n",
    "    print(amount)\n",
    "    \n",
    "test()                "
   ]
  },
  {
   "cell_type": "code",
   "execution_count": 165,
   "metadata": {},
   "outputs": [
    {
     "name": "stdout",
     "output_type": "stream",
     "text": [
      "1050.0\n"
     ]
    }
   ],
   "source": [
    "# addinterest2.py\n",
    "\n",
    "def addInterest(balance, rate):\n",
    "    newBalance = balance * (1+rate)\n",
    "    return newBalance\n",
    "\n",
    "def test():\n",
    "    amount = 1000\n",
    "    rate = 0.05\n",
    "    amount = addInterest(amount, rate)\n",
    "    print(amount)\n",
    "\n",
    "test()"
   ]
  },
  {
   "cell_type": "code",
   "execution_count": 166,
   "metadata": {},
   "outputs": [
    {
     "name": "stdout",
     "output_type": "stream",
     "text": [
      "[1050.0, 2310.0, 840.0, 378.0]\n"
     ]
    }
   ],
   "source": [
    "# addinterest3.py\n",
    "\n",
    "def addInterest(balances, rate):\n",
    "    for i in range(len(balances)):\n",
    "        balances[i] = balances[i] * (1+rate)\n",
    "\n",
    "def test():\n",
    "    amounts = [1000, 2200, 800, 360]\n",
    "    rate = 0.05\n",
    "    addInterest(amounts, rate)\n",
    "    print(amounts)\n",
    "\n",
    "test()"
   ]
  },
  {
   "cell_type": "code",
   "execution_count": 167,
   "metadata": {},
   "outputs": [
    {
     "name": "stdout",
     "output_type": "stream",
     "text": [
      "This program plots the growth of a 10 year investment.\n",
      "Enter the initial principal: 123\n",
      "Enter the annualized interest rate: 12\n",
      "Press <Enter> to quit.\n"
     ]
    }
   ],
   "source": [
    "# futval_graph4.py\n",
    "\n",
    "from graphics import *\n",
    "\n",
    "def createLabeledWindow():\n",
    "    window = GraphWin(\"Investment Growth Chart\", 320, 240)\n",
    "    window.setBackground(\"white\")\n",
    "    window.setCoords(-1.75,-200, 11.5, 10400)\n",
    "    Text(Point(-1, 0), ' 0.0K').draw(window)\n",
    "    Text(Point(-1, 2500), ' 2.5K').draw(window)\n",
    "    Text(Point(-1, 5000), ' 5.0K').draw(window)\n",
    "    Text(Point(-1, 7500), ' 7.5k').draw(window)\n",
    "    Text(Point(-1, 10000), '10.0K').draw(window)\n",
    "    return window\n",
    "\n",
    "def drawBar(window, year, height):\n",
    "    bar = Rectangle(Point(year, 0), Point(year+1, height))\n",
    "    bar.setFill(\"green\")\n",
    "    bar.setWidth(2)\n",
    "    bar.draw(window)\n",
    "    \n",
    "def main():\n",
    "    print(\"This program plots the growth of a 10 year investment.\")\n",
    "\n",
    "    principal = eval(input(\"Enter the initial principal: \"))\n",
    "    apr = eval(input(\"Enter the annualized interest rate: \"))\n",
    "\n",
    "    win = createLabeledWindow()\n",
    "    drawBar(win, 0, principal)    \n",
    "    for year in range(1, 11):\n",
    "        principal = principal * (1 + apr)\n",
    "        drawBar(win, year, principal)\n",
    "\n",
    "    input(\"Press <Enter> to quit.\")\n",
    "    win.close()\n",
    "\n",
    "main()"
   ]
  },
  {
   "cell_type": "markdown",
   "metadata": {},
   "source": [
    "### Chapter 7\n",
    "\n",
    "## Decision Structures\n",
    "\n",
    "#### 7.1.1 Example: Temperature Warnings"
   ]
  },
  {
   "cell_type": "code",
   "execution_count": 168,
   "metadata": {},
   "outputs": [
    {
     "name": "stdout",
     "output_type": "stream",
     "text": [
      "What is the Celsius temperature? 134\n",
      "The temperature is 273.20000000000005 degrees Fahrenheit.\n",
      "It's really hot out there. Be careful!\n"
     ]
    }
   ],
   "source": [
    "# convert2.py\n",
    "#      A program to convert Celsius temps to Fahrenheit.\n",
    "#      This version issues heat and cold warnings.\n",
    "\n",
    "def main():\n",
    "    celsius = eval(input(\"What is the Celsius temperature? \"))\n",
    "    fahrenheit = 9/5 * celsius + 32\n",
    "    print(\"The temperature is\", fahrenheit, \"degrees Fahrenheit.\")\n",
    "\n",
    "    # Print warnings for extreme temps\n",
    "    if fahrenheit > 90:\n",
    "        print(\"It's really hot out there. Be careful!\")\n",
    "    if fahrenheit < 30:\n",
    "        print(\"Brrrrr. Be sure to dress warmly!\")\n",
    "\n",
    "main()"
   ]
  },
  {
   "cell_type": "code",
   "execution_count": 169,
   "metadata": {},
   "outputs": [
    {
     "data": {
      "text/plain": [
       "True"
      ]
     },
     "execution_count": 169,
     "metadata": {},
     "output_type": "execute_result"
    }
   ],
   "source": [
    "3 < 4"
   ]
  },
  {
   "cell_type": "code",
   "execution_count": 170,
   "metadata": {},
   "outputs": [
    {
     "data": {
      "text/plain": [
       "False"
      ]
     },
     "execution_count": 170,
     "metadata": {},
     "output_type": "execute_result"
    }
   ],
   "source": [
    "3 * 4 < 3 + 4"
   ]
  },
  {
   "cell_type": "code",
   "execution_count": 171,
   "metadata": {},
   "outputs": [
    {
     "data": {
      "text/plain": [
       "True"
      ]
     },
     "execution_count": 171,
     "metadata": {},
     "output_type": "execute_result"
    }
   ],
   "source": [
    "\"hello\" == \"hello\""
   ]
  },
  {
   "cell_type": "code",
   "execution_count": 172,
   "metadata": {},
   "outputs": [
    {
     "data": {
      "text/plain": [
       "False"
      ]
     },
     "execution_count": 172,
     "metadata": {},
     "output_type": "execute_result"
    }
   ],
   "source": [
    "\"hello\" < \"hello\""
   ]
  },
  {
   "cell_type": "code",
   "execution_count": 173,
   "metadata": {},
   "outputs": [
    {
     "data": {
      "text/plain": [
       "True"
      ]
     },
     "execution_count": 173,
     "metadata": {},
     "output_type": "execute_result"
    }
   ],
   "source": [
    "\"Hello\" < \"hello\""
   ]
  },
  {
   "cell_type": "markdown",
   "metadata": {},
   "source": [
    "#### 7.1.3 Example: Conditional Program Execution"
   ]
  },
  {
   "cell_type": "markdown",
   "metadata": {},
   "source": [
    "There are several different ways of running Python programs. Some Python module files are designed to be run directly. These are usually referred to as \"programs\" or \"scripts\". Other Pyhton modules are designed primarily to be imported and used by other programs; these are often called \"libraries\".\n",
    "\n",
    "Sometimes we want to create a sort of hybrid module that can be used both as a stand-alone program and as a library so that is can be imported by other programs.\n",
    "\n",
    "So far, most of our programs have had a line at the bottom to invoke the main function\n",
    "\n",
    "main()\n",
    "\n",
    "This is what actually starts a program running. These programs are suitable for running directly. In a windowing environment, you might run a file by (double)-clicking its icon. Or you might type a command like \n",
    "python <myfile>.py\n",
    "    \n",
    "Since Python evaluates the lines of a module during the import process, our current programs also run when they are imported into either an interactive Python session or into another Python program. Generally, it is nicer not to have the modules run as they are imported. When testing a program interactively, the usual approach is to first import the module and then call its main (or some other function) each time we want to run it.\n",
    "\n",
    "In a program designed to be either imprted (without running) or run directly, the call to main at the bottom must be made conditional. A simple decision should do the trick.\n",
    "\n",
    "if <condition>:\n",
    "    \n",
    "   main()\n",
    "   \n",
    "We just need to figure out a suitable condition. \n",
    "\n",
    "Whenever a module is imported, Python sets a special variable in the module called ___name __ to be the name of the imported module. Here is an example interaction showing what happens with the math library:"
   ]
  },
  {
   "cell_type": "code",
   "execution_count": 174,
   "metadata": {},
   "outputs": [],
   "source": [
    "import math"
   ]
  },
  {
   "cell_type": "code",
   "execution_count": 175,
   "metadata": {},
   "outputs": [
    {
     "data": {
      "text/plain": [
       "'math'"
      ]
     },
     "execution_count": 175,
     "metadata": {},
     "output_type": "execute_result"
    }
   ],
   "source": [
    "math.__name__"
   ]
  },
  {
   "cell_type": "markdown",
   "metadata": {},
   "source": [
    "However, when Python code is being run directly (not imported), Python sets the value of __name __ to be '__main __'. To see this in action, you just need to start a Python shell and look at the value."
   ]
  },
  {
   "cell_type": "code",
   "execution_count": 176,
   "metadata": {},
   "outputs": [
    {
     "data": {
      "text/plain": [
       "'__main__'"
      ]
     },
     "execution_count": 176,
     "metadata": {},
     "output_type": "execute_result"
    }
   ],
   "source": [
    "__name__"
   ]
  },
  {
   "cell_type": "markdown",
   "metadata": {},
   "source": [
    "Putting the pieces together, we can change the final lines of our programs to look like this:\n",
    "\n",
    "if __name __ == '__main__':\n",
    "main()\n",
    "\n",
    "This guarantees that main will automatically run when the program is invoked directly, but will not run if the module is imported. You will see a line of code similar to this at the bottom of virtually every Python program.\n",
    "\n",
    "### 7.2 Two-Way Decisions\n",
    "\n",
    "Now that we have to selectively execute certain statement in a program using decisions, it's time to go back and spruce up the quadratic equation solver from Chapter 3.\n",
    "\n",
    "As we left it, this program crashes when it is given coefficients of a quadractic equation that has no real roots. The problem is when b^2*4ac is less than zero, the program attempts to take the square root of a negative number. Since negative numbers do not have real roots, the math library reports an error.\n",
    "\n",
    "We can us a decision to check for this situation and make sure that the program can't crash.\n",
    "\n",
    "Here is our first attempt:"
   ]
  },
  {
   "cell_type": "code",
   "execution_count": 177,
   "metadata": {},
   "outputs": [
    {
     "name": "stdout",
     "output_type": "stream",
     "text": [
      "This program finds the real solutions to a quadratic\n",
      "\n",
      "Please enter the coefficients (a, b, c): 4,-4,0\n",
      "\n",
      "The solutions are: 1.0 0.0\n"
     ]
    }
   ],
   "source": [
    "# quadratic2.py\n",
    "import math\n",
    "\n",
    "def main():\n",
    "    print(\"This program finds the real solutions to a quadratic\\n\")\n",
    "\n",
    "    a, b, c = eval(input(\"Please enter the coefficients (a, b, c): \"))\n",
    "    \n",
    "    discrim = b * b - 4 * a * c\n",
    "    if discrim >= 0:\n",
    "        discRoot = math.sqrt(discrim)\n",
    "        root1 = (-b + discRoot) / (2 * a)\n",
    "        root2 = (-b - discRoot) / (2 * a)\n",
    "        print(\"\\nThe solutions are:\", root1, root2 )\n",
    "\n",
    "main()"
   ]
  },
  {
   "cell_type": "markdown",
   "metadata": {},
   "source": [
    "The problem above is when the equation has no real roots. b*b - 4*a*c is less than zero, the program will will simply skip the calculations and just go to the next statement. Since there is no next statemen, the program just quits.\n",
    "\n",
    "This is almost worse than before because it doesn't give any indication of what went wrong. \n",
    "\n",
    "A better solution would print a message telling users that their particular equation has no real solutions. We could accomplish this by adding another simple decision at the end of the program.\n",
    "\n",
    "if discrim < 0: \n",
    "print(\"The equation has not real roots!\")\n",
    "\n",
    "This will solve our problem but it doesn't feel right. We have programmed a sequence of two decisions, but the two outcomes are mutually exclusive. If discrim >= 0 is true then discrim < 0 must be false and vice versa. We have two conditions in the program but there is only really one decision to make. \n",
    "\n",
    "Quadratic solver as a two-way decision. It should either print out there are no real roots or it should calculate the roots.\n",
    "\n",
    "In Python, a two-way decision can be implemented by attaching an else clause onto an if clause. The result is called an if-else statement.\n",
    "\n",
    "else:\n",
    "<statements>\n",
    "    \n",
    "When the Python interpreter encounters this structure, it will first evaluate the condition. If the condition is true, the statement under the if are executed. If the condition is false, the statements the under the else are executed. In either case, control then passes to the statement following the if-else.\n",
    "\n",
    "Using a two-way decision in the quadratic solver yileds a more elegant solution."
   ]
  },
  {
   "cell_type": "code",
   "execution_count": 178,
   "metadata": {},
   "outputs": [
    {
     "name": "stdout",
     "output_type": "stream",
     "text": [
      "This program finds the real solutions to a quadratic\n",
      "\n",
      "Please enter the coefficients (a, b, c): 4,-4,0\n",
      "\n",
      "The solutions are: 1.0 0.0\n"
     ]
    }
   ],
   "source": [
    "# quadratic3.py\n",
    "import math\n",
    "\n",
    "def main():\n",
    "    print(\"This program finds the real solutions to a quadratic\\n\")\n",
    "    a, b, c = eval(input(\"Please enter the coefficients (a, b, c): \"))\n",
    "\n",
    "    discrim = b * b - 4 * a * c\n",
    "    if discrim < 0:\n",
    "        print(\"\\nThe equation has no real roots!\")\n",
    "    else:\n",
    "        discRoot = math.sqrt(b * b - 4 * a * c)\n",
    "        root1 = (-b + discRoot) / (2 * a)\n",
    "        root2 = (-b - discRoot) / (2 * a)\n",
    "        print(\"\\nThe solutions are:\", root1, root2)\n",
    "main()"
   ]
  },
  {
   "cell_type": "code",
   "execution_count": 179,
   "metadata": {},
   "outputs": [
    {
     "name": "stdout",
     "output_type": "stream",
     "text": [
      "This program finds the real solutions to a quadratic\n",
      "\n",
      "Please enter the coefficients (a, b, c): 4,-4,0\n",
      "\n",
      "The solutions are: 1.0 0.0\n"
     ]
    }
   ],
   "source": [
    "# quadratic3.py\n",
    "import math\n",
    "\n",
    "def main():\n",
    "    print(\"This program finds the real solutions to a quadratic\\n\")\n",
    "    a, b, c = eval(input(\"Please enter the coefficients (a, b, c): \"))\n",
    "\n",
    "    discrim = b * b - 4 * a * c\n",
    "    if discrim < 0:\n",
    "        print(\"\\nThe equation has no real roots!\")\n",
    "    else:\n",
    "        discRoot = math.sqrt(b * b - 4 * a * c)\n",
    "        root1 = (-b + discRoot) / (2 * a)\n",
    "        root2 = (-b - discRoot) / (2 * a)\n",
    "        print(\"\\nThe solutions are:\", root1, root2)\n",
    "main()"
   ]
  },
  {
   "cell_type": "markdown",
   "metadata": {},
   "source": [
    "#### 7.3 Multi-Way Decisions\n",
    "\n",
    "The newest version of the quadratic solver is certainly a big improvement but it still has some quirks. Here is another another example run:"
   ]
  },
  {
   "cell_type": "code",
   "execution_count": 180,
   "metadata": {},
   "outputs": [
    {
     "name": "stdout",
     "output_type": "stream",
     "text": [
      "This program finds the real solutions to a quadratic\n",
      "\n",
      "Please enter the coefficients (a, b, c): 9,4,3\n",
      "\n",
      "The equation has no real roots!\n"
     ]
    }
   ],
   "source": [
    "# quadratic3.py\n",
    "import math\n",
    "\n",
    "def main():\n",
    "    print(\"This program finds the real solutions to a quadratic\\n\")\n",
    "    a, b, c = eval(input(\"Please enter the coefficients (a, b, c): \"))\n",
    "\n",
    "    discrim = b * b - 4 * a * c\n",
    "    if discrim < 0:\n",
    "        print(\"\\nThe equation has no real roots!\")\n",
    "    else:\n",
    "        discRoot = math.sqrt(b * b - 4 * a * c)\n",
    "        root1 = (-b + discRoot) / (2 * a)\n",
    "        root2 = (-b - discRoot) / (2 * a)\n",
    "        print(\"\\nThe solutions are:\", root1, root2)\n",
    "main()"
   ]
  },
  {
   "cell_type": "markdown",
   "metadata": {},
   "source": [
    "This is technically correct; the given coefficients produce an equation that has a double root at -1. However, the output might be confusing to some users. It looks like the program has mistakenly printed the same number twice. Perhaps the program should  be a bit more informative to avoid confusion.\n",
    "\n",
    "The double-root situation occurs when discrim is exactly 0. In this case, discRoot is also 0, and both roots have the value -b. If we want to catch this special case, our program actually needs a three way decision. \n",
    "\n",
    "One way to code this algorithm is to use two if-else statements. The body of an if or else clause can contain any legal Python statement, including other if or if-else statements. Putting one compound statement inside of is called nesting.\n",
    "\n",
    "Here is an example of using if-elif-else to show the three-way decision in our quadratic solver yields a nicely finished program."
   ]
  },
  {
   "cell_type": "code",
   "execution_count": 181,
   "metadata": {},
   "outputs": [
    {
     "name": "stdout",
     "output_type": "stream",
     "text": [
      "This program finds the real solutions to a quadratic\n",
      "\n",
      "Please enter the coefficients (a, b, c): 3,2,1\n",
      "\n",
      "The equation has no real roots!\n"
     ]
    }
   ],
   "source": [
    "# quadratic4.py\n",
    "import math  \n",
    "\n",
    "def main():\n",
    "    print(\"This program finds the real solutions to a quadratic\\n\")\n",
    "\n",
    "    a, b, c = eval(input(\"Please enter the coefficients (a, b, c): \"))\n",
    "\n",
    "    discrim = b * b - 4 * a * c    \n",
    "    if discrim < 0:\n",
    "        print(\"\\nThe equation has no real roots!\")\n",
    "    elif discrim == 0:\n",
    "        root = -b / (2 * a)\n",
    "        print(\"\\nThere is a double root at\", root)\n",
    "    else:\n",
    "        discRoot = math.sqrt(b * b - 4 * a * c)\n",
    "        root1 = (-b + discRoot) / (2 * a)\n",
    "        root2 = (-b - discRoot) / (2 * a)\n",
    "        print(\"\\nThe solutions are:\", root1, root2 )\n",
    "main()"
   ]
  },
  {
   "cell_type": "markdown",
   "metadata": {},
   "source": [
    "#### 7.4 Exception Handling\n",
    "\n",
    "Our quadratic program uses decision structures to avoid taking the square root of a negative number and generating an error at run-time. This is a common pattern in many programs: using detection to protect against rare but possible errors,\n",
    "\n",
    "In the case of the quadratic solver, we checked the data before the call to the sqrt function. Sometimes functions check themselves for possible errors and return a special value to indicate that the operation was unsuccessful. For example, a different square root operation might return a negative number(say, -1) to indicate an error. Since the square root function should always return the non-negative root, this value could be used to signal that an error has occured. The program would check the result of the operation with a decision.\n",
    "\n",
    "discRt = otherSqrt(b * b - 4 * a * c)\n",
    "if discRt < 0:\n",
    "    print(\"No real roots.\")\n",
    "else: ...\n",
    "\n",
    "Sometimes programs become so peppered with decisions to check for special case that the main algorithm for handling the run-of-the mill cases seems completely lost. Programming language designers have come up with mechanisms for exception handling that help solve this problem. \n",
    "\n",
    "The idea of an exception handling mechanism is that the programmer can write code that catches and deals with errors that arise when the program is running. Rather than explicitly checking that each step in the algortithm was successful, a program with execption handling can in essence say, \"Do these steps, and if any problem crops up, handle it this way.\"\n",
    "\n",
    "We won't go into the gritty details here but we will look at a concrete example so we can see how exception handling works and understands programs that use it.\n",
    "\n",
    "In Python, exception handling is done with a special control structure that is similar to a decision. Let's start with a specific example and then take a look at the general approach.\n",
    "\n",
    "Here is a version of the quadratic program that uses Python's execption mechanism to catch potential errors in the math.sqrt function:"
   ]
  },
  {
   "cell_type": "code",
   "execution_count": 182,
   "metadata": {},
   "outputs": [
    {
     "name": "stdout",
     "output_type": "stream",
     "text": [
      "This program finds the real solutions to a quadratic\n",
      "\n",
      "Please enter the coefficients (a, b, c): 12,13,12\n",
      "\n",
      "No real roots\n"
     ]
    }
   ],
   "source": [
    "# quadratic5.py\n",
    "import math \n",
    "\n",
    "def main():\n",
    "    print (\"This program finds the real solutions to a quadratic\\n\")\n",
    "\n",
    "    try:\n",
    "        a, b, c = eval(input(\"Please enter the coefficients (a, b, c): \"))\n",
    "        discRoot = math.sqrt(b * b - 4 * a * c)\n",
    "        root1 = (-b + discRoot) / (2 * a)\n",
    "        root2 = (-b - discRoot) / (2 * a)\n",
    "        print(\"\\nThe solutions are:\", root1, root2)\n",
    "    except ValueError:\n",
    "        print(\"\\nNo real roots\")\n",
    "main()"
   ]
  },
  {
   "cell_type": "markdown",
   "metadata": {},
   "source": [
    "Notice that this is basically the very first version of the quadratic program with the addition of a try...except around the heart of the program. A try statement has the general form:\n",
    "\n",
    "try: \n",
    "\n",
    "body \n",
    "\n",
    "except ErrorType : handler\n",
    "\n",
    "When Python encounters a try statement, it attempts to execute the statements inside the body. If these statements execute without error, control then passes to the next statement after the try...except. If an error occurs somewhere in the body, Python looks for an except clause with a matching error type. if a suitable except is found, the handler code is executed.\n",
    "\n",
    "In the original program, the last line of the output generates an error called a ValueError. \n",
    "\n",
    "The nice thing about the try..except statement is that is can be used to catch any kind of error, even ones that might be difficult to test for and hopefully, provide a graceful exit. For example, there could be a VaueError, a NameError, a SyntaxError, a TypeError. A single try statement can have multiple excpet clauses to catch various possible classes of errors.\n",
    "\n",
    "Here is one last version of the program deisgned to robustly handle any possible errors in the input:"
   ]
  },
  {
   "cell_type": "code",
   "execution_count": 183,
   "metadata": {},
   "outputs": [
    {
     "name": "stdout",
     "output_type": "stream",
     "text": [
      "This program finds the real solutions to a quadratic\n",
      "\n",
      "Please enter the coefficients (a, b, c): 123,0,2\n",
      "No Real Roots\n"
     ]
    }
   ],
   "source": [
    "import math \n",
    "\n",
    "def main():\n",
    "    print(\"This program finds the real solutions to a quadratic\\n\")\n",
    "\n",
    "    try:\n",
    "        a, b, c = eval(input(\"Please enter the coefficients (a, b, c): \"))\n",
    "        discRoot = math.sqrt(b * b - 4 * a * c)\n",
    "        root1 = (-b + discRoot) / (2 * a)\n",
    "        root2 = (-b - discRoot) / (2 * a)\n",
    "        print(\"\\nThe solutions are:\", root1, root2 )\n",
    "    except ValueError as excObj:\n",
    "        if str(excObj) == \"math domain error\":\n",
    "            print(\"No Real Roots\")\n",
    "        else:\n",
    "            print(\"You didn't give me the right number of coefficients.\")\n",
    "    except NameError:\n",
    "        print(\"\\nYou didn't enter three numbers.\")\n",
    "    except TypeError:\n",
    "        print(\"\\nYour inputs were not all numbers.\")\n",
    "    except SyntaxError:\n",
    "        print(\"\\nYour input was not in the correct form. Missing comma?\")\n",
    "    except:\n",
    "        print(\"\\nSomething went wrong, sorry!\")\n",
    "\n",
    "main()"
   ]
  },
  {
   "cell_type": "markdown",
   "metadata": {},
   "source": [
    "### 7.5 Study in Design: Max of Three\n",
    "\n",
    "Suppose we need an algorithm to find the largest of three numbers."
   ]
  },
  {
   "cell_type": "code",
   "execution_count": 184,
   "metadata": {},
   "outputs": [
    {
     "name": "stdout",
     "output_type": "stream",
     "text": [
      "How many numbers are there? 3\n",
      "Enter a number >> 2\n",
      "Enter a number >> 3\n",
      "Enter a number >> 4\n",
      "The largest value is 4\n"
     ]
    }
   ],
   "source": [
    "# program: maxn.py\n",
    "#   Finds the maximum of a series of numbers\n",
    "\n",
    "def main():\n",
    "    n = eval(input(\"How many numbers are there? \"))\n",
    "    \n",
    "    # Set max to be the first value\n",
    "    max = eval(input(\"Enter a number >> \"))\n",
    "    \n",
    "    # Now compare the n-1 successive values\n",
    "    for i in range(n-1): \n",
    "        x = eval(input(\"Enter a number >> \"))\n",
    "        if x > max:\n",
    "            max = x\n",
    "\n",
    "    print(\"The largest value is\", max)\n",
    "\n",
    "main()"
   ]
  },
  {
   "cell_type": "markdown",
   "metadata": {},
   "source": [
    "## Chapter 8\n",
    "\n",
    "## Loop Structures and Booleans\n",
    "\n",
    "#### 8.1 For Loops:A Quick Review\n",
    "\n",
    "Suppose we want to write a program that can compute the average of a series of numbers entered by the user. To make the program general, it should work for any size set of numbers. We don't need to keep track of all the numbers that have been entered; we just need a running sum so that we can calculate the average at the end.\n",
    "\n",
    "This problem description should look a bit familiar. It suggests the use of some design patterns we have seen before. We are dealing with a series of numbers; that will be handled by some form of loop. If there are n numbers, the loop should execute n times; that calls for a loop accumulator. \n",
    "\n",
    "Here is a program that illustrates both counted loop and accumulator patterns:"
   ]
  },
  {
   "cell_type": "code",
   "execution_count": 185,
   "metadata": {},
   "outputs": [
    {
     "name": "stdout",
     "output_type": "stream",
     "text": [
      "How many numbers do you have? 2\n",
      "Enter a number >> 12\n",
      "Enter a number >> 11\n",
      "\n",
      "The average of the numbers is 11.5\n"
     ]
    }
   ],
   "source": [
    "# average1.py\n",
    "\n",
    "def main():\n",
    "    n = eval(input(\"How many numbers do you have? \"))\n",
    "    sum = 0.0\n",
    "    for i in range(n):\n",
    "        x = eval(input(\"Enter a number >> \"))\n",
    "        sum = sum + x\n",
    "    print(\"\\nThe average of the numbers is\", sum / n)\n",
    "\n",
    "main()"
   ]
  },
  {
   "cell_type": "markdown",
   "metadata": {},
   "source": [
    "#### Indefinite Loops\n",
    "\n",
    "What if you had a whole page of numbers? It would be nice if the computer could take care of counting them for us. Unfortunately, the for loop, in its usual form is a definite loop and that means the number of iterations is determined when the loop starts. We can't use a definite loop unless we know the number of iterations ahead of time and we can't know how many iterations this loop needs until all of the numbers have been entered. We seem to be stuck.\n",
    "\n",
    "The solution is in another kind of loop, the indefinite or conditional loop. An indefinite loop keeps iterating until certain conditions are met. There is no guarantee ahead of tie regarding how many times the loop will go around. \n",
    "\n",
    "In Python, an indefinite loop is implemented using a while statement.\n",
    "\n",
    "The body of the while loop executes repeatedly as long as the condition remains true. When the condition is false, the loop terminates.\n",
    "\n",
    "Notice that the condition is always tested at the top of the loop, before the loop body is executed. This kind of structure is called a pre-test loop. If the loop is initially false, the loop body will not execute at all.\n",
    "\n",
    "Here's an example of a simple while loop that counts from 0 to 10:"
   ]
  },
  {
   "cell_type": "code",
   "execution_count": 186,
   "metadata": {},
   "outputs": [
    {
     "name": "stdout",
     "output_type": "stream",
     "text": [
      "0\n",
      "1\n",
      "2\n",
      "3\n",
      "4\n",
      "5\n",
      "6\n",
      "7\n",
      "8\n",
      "9\n",
      "10\n"
     ]
    }
   ],
   "source": [
    "i = 0\n",
    "while i <= 10:\n",
    "    print(i)\n",
    "    i = i + 1"
   ]
  },
  {
   "cell_type": "markdown",
   "metadata": {},
   "source": [
    "This code will have the same output as if we had written a for loop like this:"
   ]
  },
  {
   "cell_type": "code",
   "execution_count": 187,
   "metadata": {},
   "outputs": [
    {
     "name": "stdout",
     "output_type": "stream",
     "text": [
      "0\n",
      "1\n",
      "2\n",
      "3\n",
      "4\n",
      "5\n",
      "6\n",
      "7\n",
      "8\n",
      "9\n",
      "10\n"
     ]
    }
   ],
   "source": [
    "for i in range(11):\n",
    "    print(i)"
   ]
  },
  {
   "cell_type": "markdown",
   "metadata": {},
   "source": [
    "Ctrl-c can sometimes break you out of an infinite loop. Otherwise, one may have to resort to Ctrl-Alt-Delete or worst case shutting down your computer."
   ]
  },
  {
   "cell_type": "markdown",
   "metadata": {},
   "source": [
    "### 8.3 Common Loop Patterns\n",
    "\n",
    "#### Interactive Loops\n",
    "\n",
    "Interactive loops allow the user to repeat certain portions of a program on demand.\n",
    "\n",
    "Recall that the previous versions of the program forced the user to count up how many numbers there were to be averaged. We want to modify the program so that it keeps track of how many numbers there are. We can do this with another accumulator - call it count - that starts at zero and increases by 1 each time through the loop.\n",
    "\n",
    "To allow the user to stop at any time, each iteration of the loop will ask whether there is more data to process.\n",
    "\n",
    "In the following program you can see how the two accumulators are interleaved into the basic structure of the interactive loop."
   ]
  },
  {
   "cell_type": "code",
   "execution_count": 188,
   "metadata": {},
   "outputs": [
    {
     "name": "stdout",
     "output_type": "stream",
     "text": [
      "Enter a number >> 12\n",
      "Do you have more numbers (yes or no)? n\n",
      "\n",
      "The average of the numbers is 12.0\n"
     ]
    }
   ],
   "source": [
    "# average2.py\n",
    "\n",
    "def main():\n",
    "    sum = 0.0\n",
    "    count = 0\n",
    "    moredata = \"yes\"\n",
    "    while moredata[0] == \"y\":\n",
    "        x = eval(input(\"Enter a number >> \"))\n",
    "        sum = sum + x\n",
    "        count = count + 1\n",
    "        moredata = input(\"Do you have more numbers (yes or no)? \")\n",
    "    print(\"\\nThe average of the numbers is\", sum / count)\n",
    "\n",
    "main()"
   ]
  },
  {
   "cell_type": "markdown",
   "metadata": {},
   "source": [
    "Notice this program uses string indexing (moredata[0]) to look just at the first letter of the user's input. This allows for varied responses such as \"yes\", \"y\", \"yeah\", etc. All that matters is that the first letter is a \"y\".\n",
    "\n",
    "Even though the use doesn't have to count the data values, the interface is still not good. The user will almost certainly be annoyed by the constant prodding for more data. The iteractive loop has many good applications; this is not one of them.\n",
    "\n",
    "##### 8.3.2 Sentinel Loops\n",
    "\n",
    "A better solution to the number averaging problem is to employ a pattern commonly known as a sentinel loop. A sentinel loop continues to process data until reaching a special value that signals the end. The special value is called the sentinel. Any value may be chosen for the sentinel. The only restricton is that it be distinguishable from actual data values. The sentinel is not processed as part of the data. \n",
    "\n",
    "We are going to apply the sentinel pattern to our number averaging problem. The first step is to pick a sentinel. Suppose we are using the program to average exam scores. In that case, we can safely assume that no score will be below 0. The user can enter a negative number to signal the end of the data. Combining the sentinel loop with two accumulators from the interactive loop version yields this program."
   ]
  },
  {
   "cell_type": "code",
   "execution_count": 190,
   "metadata": {},
   "outputs": [
    {
     "name": "stdout",
     "output_type": "stream",
     "text": [
      "Enter a number (negative to quit) >> 9\n",
      "Enter a number (negative to quit) >> -2\n",
      "\n",
      "The average of the numbers is 9.0\n"
     ]
    }
   ],
   "source": [
    "# average3.py\n",
    "\n",
    "def main():\n",
    "    sum = 0.0\n",
    "    count = 0\n",
    "    x = eval(input(\"Enter a number (negative to quit) >> \"))\n",
    "    while x >= 0:\n",
    "        sum = sum + x\n",
    "        count = count + 1\n",
    "        x = eval(input(\"Enter a number (negative to quit) >> \"))\n",
    "    print(\"\\nThe average of the numbers is\", sum / count)\n",
    "\n",
    "main()"
   ]
  },
  {
   "cell_type": "markdown",
   "metadata": {},
   "source": [
    "This version provides the ease of use of the interactive loop without the hassle of having to type \"yes\" all the time. The sentinel loop is a very handy pattern for solving all sorts of data processing problems. \n",
    "\n",
    "This sentinel loop solution is quite good, but there is still a limitation. The program can't be used to average a set of numbers containing negative as well as positive values. \n",
    "\n",
    "Let's see if we can't generalize the program a bit. What we need is a sentinel value that is distinct from any possible valid number, positive or negative. Of course, this is impossible as long as we restrict ourselves to working with numbers. No matter what the number or range of numbers we pick as a sentinel, it is always possible that some data set may contain such a number.\n",
    "\n",
    "In order to have a truly unique sentinel, we need to broaden the possible inputs. Suppose that we get the input from the user as a string. We can have a distinctive, non-numerical string that indicated the end of the input; all others would be converted into numbers and treated as data. One simple solution is to have the sentinel value be an empty string. If the user just hits Enter, Python returns an empty string. We can use this as a simple way to terminate input.\n",
    "\n",
    "The following version adds the conversion of a string to a number in processing the sentinel loop."
   ]
  },
  {
   "cell_type": "code",
   "execution_count": 191,
   "metadata": {},
   "outputs": [
    {
     "name": "stdout",
     "output_type": "stream",
     "text": [
      "Enter a number (<Enter> to quit) >> 123\n",
      "Enter a number (<Enter> to quit) >> 12\n",
      "Enter a number (<Enter> to quit) >> 12\n",
      "Enter a number (<Enter> to quit) >> 12\n",
      "Enter a number (<Enter> to quit) >> \n",
      "\n",
      "The average of the numbers is 39.75\n"
     ]
    }
   ],
   "source": [
    "# average4.py\n",
    "\n",
    "def main():\n",
    "    sum = 0.0\n",
    "    count = 0\n",
    "    xStr = input(\"Enter a number (<Enter> to quit) >> \")\n",
    "    while xStr != \"\":\n",
    "        x = eval(xStr)\n",
    "        sum = sum + x\n",
    "        count = count + 1\n",
    "        xStr = input(\"Enter a number (<Enter> to quit) >> \")\n",
    "    print(\"\\nThe average of the numbers is\", sum / count)\n",
    "\n",
    "main()"
   ]
  },
  {
   "cell_type": "markdown",
   "metadata": {},
   "source": [
    "The code above does not turn the input into a number(via eval) until after it has checked to make sure the input was not the sentinel(\"\")."
   ]
  },
  {
   "cell_type": "markdown",
   "metadata": {},
   "source": [
    "##### 8.3.3 File Loops\n",
    "\n",
    "One disadvantage of all the averaging programs presented so far is that they are interactive. Imagine you are trying to average 87 numbers and you happen to make a typo near the end. With our interactive program, you will need to start all over again. \n",
    "\n",
    "A better approach to the problem might be to type all the  numbers into a file. The data in the file can be perused and edite before sending it to a program that generates a report. This file oriented approach is typically used for data processing applications.\n",
    "\n",
    "Back in Chapter 5, we looked at reading data fromfiles by using the file object as a sequence in a for loop. We can apply this technique directly to the number averaging problem. Assuming that the numbers are typed into a file one per line, we can compute the average with this program."
   ]
  },
  {
   "cell_type": "code",
   "execution_count": 192,
   "metadata": {},
   "outputs": [
    {
     "name": "stdout",
     "output_type": "stream",
     "text": [
      "What file are the numbers in? Numbers1.txt\n",
      "\n",
      "The average of the numbers is 497036.26\n"
     ]
    }
   ],
   "source": [
    "# average5.py\n",
    "\n",
    "def main():\n",
    "    fileName = input(\"What file are the numbers in? \")\n",
    "    infile = open(fileName,'r')\n",
    "    sum = 0.0\n",
    "    count = 0\n",
    "    for line in infile:\n",
    "        sum = sum + eval(line)\n",
    "        count = count + 1\n",
    "    print(\"\\nThe average of the numbers is\", sum / count)\n",
    "\n",
    "main()"
   ]
  },
  {
   "cell_type": "markdown",
   "metadata": {},
   "source": [
    "In the above code, the loop variable line iterates through the file as a sequence of lines; each line is converted to a number and added to the running sum.\n",
    "\n",
    "Many programming languages do not have a special mechanism for looping through files like this. In these languages, the lines of a can be read in one at a time using a form of a sentinel loop. \n",
    "\n",
    "We can illustrate this method in Python by using readline().\n",
    "\n",
    "Remember, the readline() method gets the next line from a file as a string. At the end of the file, readline() returns an empty string, which we can use as a sentinel value. \n",
    "\n",
    "Here is a general pattern for an end-of-file loop using readline() in Python.\n",
    "\n",
    "line = infile.readline()\n",
    "while line != \"\": \n",
    "process line\n",
    "line = infile.readline()\n",
    "\n",
    "At first glance you may be concerned that this loop stops prematurely if it encounters an empty line in the file. This is not the case. Remember, a blank line in a text file contains a single newline character (\"\\n\"), and the readlin method includes the newline character in its return value. Since \"\\n\" != \"\", the loop will continue. \n",
    "\n",
    "Here is the code that results from applying the end-of-file sentinel loop to our number averaging problem:"
   ]
  },
  {
   "cell_type": "code",
   "execution_count": 193,
   "metadata": {},
   "outputs": [
    {
     "name": "stdout",
     "output_type": "stream",
     "text": [
      "What file are the numbers in? numbers1.txt\n",
      "\n",
      "The average of the numbers is 497036.26\n"
     ]
    }
   ],
   "source": [
    "# average6.py\n",
    "\n",
    "def main():\n",
    "    fileName = input(\"What file are the numbers in? \")\n",
    "    infile = open(fileName,'r')\n",
    "    sum = 0.0\n",
    "    count = 0\n",
    "    line = infile.readline()\n",
    "    while line != \"\":\n",
    "        sum = sum + eval(line)\n",
    "        count = count + 1\n",
    "        line = infile.readline()\n",
    "    print(\"\\nThe average of the numbers is\", sum / count)\n",
    "\n",
    "main()"
   ]
  },
  {
   "cell_type": "markdown",
   "metadata": {},
   "source": [
    "Obviously, this version is not quite as concise as the version using the for loop. In Python, you might as well use the patter, but it is still good to know about end-of-file loops in case you are stuck programming in a less elegant language.\n",
    "\n",
    "##### 8.3.4 Nested Loops\n",
    "\n",
    "In the last chapter, we saw how control structures such as decisions and loops could be nested inside one another to produce sophisticated algorithms. One useful but tricky technique is the nesting of loops.\n",
    "\n",
    "Let's take a look at an example program. Maybe one last version of our number averaging problem?\n",
    "\n",
    "Suppose that we modify the specification of our file averaging problem slightly. This time, instead of typing the numbers into the file one per line, we'll allow any number of values on a line. When multiple values appear on a line, they will be separated by commas.\n",
    "\n",
    "At the top level, the basic algorithm will be some sort of file-processing loop that computes a running sum and count.\n",
    "\n",
    "We need to figure out how to update the sum and count in the body of the loop. Since each individual line of the file contains one or more numbers separated by commas, we can split the line into substrings, each of which represents a number. Then we need to loop through these substrings, convert each to a number and add it to sum. We also need to add 1 to count for each number.\n",
    "\n",
    "e.g.\n",
    "for xStr in line.split(\",\"):\n",
    "sum = sum + eval(xStr)\n",
    "count = count + 1\n",
    "\n",
    "Notice that the iteration of the for loop in this fragment is contolled by the value of line, which just happens to be the loop-contol variable for the file-processing loop we outlined above. Knitting these two loops together, here is our program:"
   ]
  },
  {
   "cell_type": "code",
   "execution_count": 195,
   "metadata": {},
   "outputs": [
    {
     "name": "stdout",
     "output_type": "stream",
     "text": [
      "What file are the numbers in? Numbers1.txt\n",
      "\n",
      "The average of the numbers is 497036.26\n"
     ]
    }
   ],
   "source": [
    "# average7.py\n",
    "def main():\n",
    "    fileName = input(\"What file are the numbers in? \")\n",
    "    infile = open(fileName,'r')\n",
    "    sum = 0.0\n",
    "    count = 0\n",
    "    line = infile.readline()\n",
    "    while line != \"\":\n",
    "        # update sum and count for values in line\n",
    "        for xStr in line.split(\",\"):\n",
    "            sum = sum + eval(xStr)\n",
    "            count = count + 1\n",
    "        line = infile.readline()\n",
    "    print(\"\\nThe average of the numbers is\", sum / count)\n",
    "\n",
    "main()"
   ]
  },
  {
   "cell_type": "markdown",
   "metadata": {},
   "source": [
    "As you can see, the loop that processes the numbers in a line is indented inside of the file processing loop. The outer while loop iterates once for each line of the file. On each iteration of the outer loop, the inner for loop iterates as many times as there are numbers on that line. When the inner loop finsihes, the next line of the file is read, and the outer loop goes through its next iteration.\n",
    "\n",
    "The individual fragments of this problem are not complex when taken separately, but the final result is fairly intricate. The best way to design nested loops is to follow the process we did here. First design the outer loop without worrying about what goes inside. Then design what goes inside ignoring the outer loop(s). Finally, put the pieces together, taking care to preserve the nesting. If the individual loops are correct, the nested result will work just fine; trust it. With a little practice, you'll be implementing double-, even triple-nested loops with ease.\n",
    "\n",
    "#### 8.4 Computing with Booleans\n",
    "\n",
    "We now have two control sturctures, if and while, that use conditions which are Boolean expressions. Conceptually, a Boolean expression evaluates to one of two values: false or true. In Python, these values are represented by the literals False and True. So far, we have used simple Boolean expressions that compare two values(e.g. while x >= 0).\n",
    "\n",
    "##### 8.4.1\n",
    "\n",
    "Sometimes the simple conditions that we have been using do not seen expressive enough. For example, suppose you need to determine whether two point objects are in the sam position - that is, they have equal x coordinated and equal y coordinates. One way of handling this would be a nested decision:\n",
    "\n",
    "if p1.getX() == p2.getX():\n",
    "if p1.getY() == p2.getY():\n",
    "\n",
    "points are the same\n",
    "else:\n",
    "points are different\n",
    "points are the same\n",
    "else:\n",
    "points are different\n",
    "\n",
    "You can see how awkward this is. Instead of working around this problem witha decision structure, another approach would be to construct a more complex exproession using Boolean operations. Like most programming languages, Python provides three Boolean operators: and, or and not.\n",
    "\n",
    "Python follows a standard convention that the order of precendence from high to low is not, followed by and, followed by or. So the expression would be equivalent to this parenthesized version:\n",
    "\n",
    "(a or ((not b) and c)))\n",
    "\n",
    "Unlike arithmetic, most people don't tend to know or remember the precendence rules for Booleans. It's good practice to always parenthesize your complex expressions to prevent confusion. Now that we have some Boolean operators, we are ready to return to our example problem. To test for the co-locations ot two points, we could use an and operation.\n",
    "\n",
    "if p1.getX() == p2.getgetX() and p2.getY() == p1.getY():\n",
    "points are the same\n",
    "else points are different\n",
    "\n",
    "Here the entire expression will only be true when both of the simple conditions are true. This ensures that both the x and y coordinates have to match for the points to be the same. Obviously, this is much simpler and clearer than the nested ifs from the previous version.\n",
    "\n",
    "Let's look at a slightly more complex example. In the next chapter we will develop a simulation for the game of racquetball. Part of the simulation will need to determine when a game has ended. Suppose that scoreA and scoreB represent the scores of two racquetball players. The game is over as soon as either player has reached 15 points. Here is a Boolean expression that is true when the game is over:\n",
    "\n",
    "score A == 15 or scoreB == 15\n",
    "\n",
    "When either score reaches 15, one of the two simple conditions becomes true and, by the definition of or, the entire Boolean expression is true. As long as both conditions remain false (neither player has reached 15) the entire expression is flase.\n",
    "\n",
    "Our simulation will need a loop that continues as long as the game is not over. We can construct an appropriate loop condition by taking the negative of the game-over condition. \n",
    "\n",
    "while not (socreA == 15 or scoreB == 15):\n",
    "continue playing\n",
    "\n",
    "We can also construct more complex Boolean expressions that refelct different possible stoppng conditions. Some racquetball players play shutouts (aka a skunk). For these players, a game also ends when one of the players reaches 7 and the other player has not yet scored a point. \n",
    "\n",
    "For brevity, we'll use a for scoreA and b for scoreB. Here is an expression for game-over when shutouts are included:\n",
    "\n",
    "a == 15 or b == 15 or (a == 7 and b == 0) or (b == 7 and a == 0)\n",
    "\n",
    "Do you see how we have added two more situations to the original condition? The new parts reflect the two possible ways a shutout can occur and requires checking both scores. The result is a fairly complex expression.\n",
    "\n",
    "While we are at it, let's try one more example. Suppose we were writing a simulation for volleyball, rather than racquetball. Traditional volleyball does not have shutouts but it requires a team to win by at least two points. If the score is 15 to 14, or even 21 to 20, the game continues.\n",
    "\n",
    "Let's write a condition that computes when a volleyball game is over. Here is one approach:\n",
    "\n",
    "(a >= 15 and a - b >= 2) or(b >= 15 and b - 1 >= 1)\n",
    "\n",
    "Do you see how this expression works? It basically says that the game is over when team A has won (scored at least 15 and leading by at least 2) or when team B has won.\n",
    "\n",
    "Here is another way to do it:\n",
    "\n",
    "(a >= 15 or b >=15) and abs(a - b) >= 2\n",
    "\n",
    "This verison is more succint. It states that the game is over when on of the teams has reached a winning total and the difference in the scores is at least 2. Remember that abs returns the absolute value for an expression\n",
    "\n",
    "##### 8.4.2 Boolean Algebra\n",
    "\n",
    "All decisions in computer programs boil down to appropriate Boolean expressions. The ability to formulate, manipulate and reason with these expressions is an importnat skill for programmers and computer scientists. Boolean expressions obey certain algebraic laws similar to those that apply to numeric operations.\n",
    "\n",
    "#### 8.5 Other Common Structures\n",
    "\n",
    "Taken together, the decision structure (if) along with a pre-test loop (while) provide a complete set of control structures. This means that every algorithm can be expressed using just these. Once you have mastered the while and the if, you can write every conceivable algorithm, in principle. However, for certain kinds of problems, alternative structures can sometimes be convenient. This section outlines some of those alternatives.\n",
    "\n",
    "##### 8.5.1 Post-Test Loop\n",
    "\n",
    "Suppose you are writing an input algorithm that is supposed to geta non-negative number from the user. If the user types an incorrect input, the program asks for another value. It continues to reprompt until the user enters a valid value. This process is called input validation. Well-engineered programs validat inputs whenever possible.\n",
    "\n",
    "Here is a simple algorithm:\n",
    "\n",
    "get a number from the user\n",
    "repeat\n",
    "until the number is >= 0\n",
    "\n",
    "The idea here is that the loop keeps getting inputs until the value is acceptable.\n",
    "\n",
    "A post-test loop contains a loop where the condition test comes after the loop body. A post-tet loop must always execute the body of the loop at least once.\n",
    "\n",
    "Unlike some other languages, Python does not have a statement that directly implements a post-test loop. However, this algorithhm can be implemented with a while by \"seeding\" the loop condition for the first iteration."
   ]
  },
  {
   "cell_type": "code",
   "execution_count": 196,
   "metadata": {},
   "outputs": [
    {
     "name": "stdout",
     "output_type": "stream",
     "text": [
      "Enter a positive number: 12\n"
     ]
    }
   ],
   "source": [
    "number = -1 # Start with an illegal value to get into the loop.\n",
    "while number < 0:\n",
    "    number = eval(input(\"Enter a positive number: \"))"
   ]
  },
  {
   "cell_type": "markdown",
   "metadata": {},
   "source": [
    "This forces the loop body to execute at least once and is equivalent to the post-test algorithm. You might notice that this is similar to the structure given earler for the interacive loop pattern. Interactive loops are naturally suited to a post-test implementation.\n",
    "\n",
    "Some programmers prefer to simluate a post-test loop more directly by using a Python break statement. Executing break causes Python to immediately exit the enclosing loop. Often a break statement is used to leave what looks syntactically like an infinite loop.\n",
    "\n",
    "Here is the same algo implemented with a break:"
   ]
  },
  {
   "cell_type": "code",
   "execution_count": 197,
   "metadata": {},
   "outputs": [
    {
     "name": "stdout",
     "output_type": "stream",
     "text": [
      "Enter a positive number: 12\n"
     ]
    }
   ],
   "source": [
    "while True:\n",
    "    number = eval(input(\"Enter a positive number: \"))\n",
    "    if number >= 0: break # Exit loop if number is valid."
   ]
  },
  {
   "cell_type": "markdown",
   "metadata": {},
   "source": [
    "Even this small example can be improved. It would be nice if the program issued a warning explaining why the input was invalid. In the while version of the post-test loop, this is a bit awkward. We need to add an if, so the warning is not displayed for valid inputs."
   ]
  },
  {
   "cell_type": "code",
   "execution_count": 198,
   "metadata": {},
   "outputs": [
    {
     "name": "stdout",
     "output_type": "stream",
     "text": [
      "Enter a positive number: 12\n"
     ]
    }
   ],
   "source": [
    "number = -1 # Start with an illegal value to get into the loop\n",
    "while number < 0:\n",
    "    number = eval(input(\"Enter a positive number: \"))\n",
    "    if number < 0:\n",
    "        print(\"The number you entered was not positive\")"
   ]
  },
  {
   "cell_type": "markdown",
   "metadata": {},
   "source": [
    "See how the validity check gets repeated in two places?\n",
    "Adding a warning to the version using break only requires adding an else to the exisiting if."
   ]
  },
  {
   "cell_type": "code",
   "execution_count": 199,
   "metadata": {},
   "outputs": [
    {
     "name": "stdout",
     "output_type": "stream",
     "text": [
      "Enter a positive number: 12\n"
     ]
    }
   ],
   "source": [
    "while True:\n",
    "    number = eval(input(\"Enter a positive number: \"))\n",
    "    if number >= 0:\n",
    "        break # Exit the loop if the number is valid\n",
    "    else:\n",
    "        print(\"The number you entered was not positive\")"
   ]
  },
  {
   "cell_type": "markdown",
   "metadata": {},
   "source": [
    "##### 8.5.2 Loop and a Half\n",
    "\n",
    "Some programmers would solve the warning problem from the previous section using a slightly different style."
   ]
  },
  {
   "cell_type": "code",
   "execution_count": 200,
   "metadata": {},
   "outputs": [
    {
     "name": "stdout",
     "output_type": "stream",
     "text": [
      "Enter a positive number: 12\n"
     ]
    }
   ],
   "source": [
    "while True:\n",
    "    number = eval(input(\"Enter a positive number: \"))\n",
    "    if number >= 0: break # Loop exit\n",
    "    print(\"The number you entered was not positive\")"
   ]
  },
  {
   "cell_type": "markdown",
   "metadata": {},
   "source": [
    "Here the loop exit is actually in the middle of the loop body. This is called a \"loop and a half\". Some purists frown on exits in the midst of a loop like this, but the pattern can be quite handy. The loop and a half is an elegant way to avoid the priming read in the sentinel loop. Here is the general pattern of a sentinel loop implemented as a loop and a half:\n",
    "\n",
    "while True:\n",
    "Get next data item\n",
    "if the item is the sentinel: break\n",
    "process the item\n",
    "\n",
    "The choice of whether to use break statements or not is largely a matter of taste. Either style is acceptable. One temptation that should generally be avoided is peppering the body of a loop with multiple break statements. The logic of a loop is easiily lost when there are multiple exits. Howver, there are times when even this rule should be broken to provide the most elegant solution to a problem.\n",
    "\n",
    "##### 8.5.3 Boolean Expressions as Decisions\n",
    "\n",
    "Sometimes Boolean expressions are so flexible in Python that they can sometimes lead to subtle programming errors.\n",
    "\n",
    "Consider writing an interactive loop that keeps going as long as the user response starts with a \"y.\" To allow the user to type either an upper or lower case response, you could use a loop like this:\n",
    "\n",
    "while response[0] == \"y\" or response[0] == \"Y\":\n",
    "\n",
    "You can see how a value will be interpeted when used as a Boolean expression by explictly converting the value to type bool. \n",
    "\n",
    "Here are a few examples:"
   ]
  },
  {
   "cell_type": "code",
   "execution_count": 201,
   "metadata": {},
   "outputs": [
    {
     "data": {
      "text/plain": [
       "False"
      ]
     },
     "execution_count": 201,
     "metadata": {},
     "output_type": "execute_result"
    }
   ],
   "source": [
    "bool(0)"
   ]
  },
  {
   "cell_type": "code",
   "execution_count": 202,
   "metadata": {},
   "outputs": [
    {
     "data": {
      "text/plain": [
       "True"
      ]
     },
     "execution_count": 202,
     "metadata": {},
     "output_type": "execute_result"
    }
   ],
   "source": [
    "bool(1)"
   ]
  },
  {
   "cell_type": "code",
   "execution_count": 203,
   "metadata": {},
   "outputs": [
    {
     "data": {
      "text/plain": [
       "True"
      ]
     },
     "execution_count": 203,
     "metadata": {},
     "output_type": "execute_result"
    }
   ],
   "source": [
    "bool(32)"
   ]
  },
  {
   "cell_type": "code",
   "execution_count": 204,
   "metadata": {},
   "outputs": [
    {
     "data": {
      "text/plain": [
       "True"
      ]
     },
     "execution_count": 204,
     "metadata": {},
     "output_type": "execute_result"
    }
   ],
   "source": [
    "bool(\"hello\")"
   ]
  },
  {
   "cell_type": "code",
   "execution_count": 205,
   "metadata": {},
   "outputs": [
    {
     "data": {
      "text/plain": [
       "False"
      ]
     },
     "execution_count": 205,
     "metadata": {},
     "output_type": "execute_result"
    }
   ],
   "source": [
    "bool(\"\")"
   ]
  },
  {
   "cell_type": "code",
   "execution_count": 206,
   "metadata": {},
   "outputs": [
    {
     "data": {
      "text/plain": [
       "True"
      ]
     },
     "execution_count": 206,
     "metadata": {},
     "output_type": "execute_result"
    }
   ],
   "source": [
    "bool([1,2,3])"
   ]
  },
  {
   "cell_type": "code",
   "execution_count": 207,
   "metadata": {},
   "outputs": [
    {
     "data": {
      "text/plain": [
       "False"
      ]
     },
     "execution_count": 207,
     "metadata": {},
     "output_type": "execute_result"
    }
   ],
   "source": [
    "bool([])"
   ]
  },
  {
   "cell_type": "markdown",
   "metadata": {},
   "source": [
    "As you can see, for any sequence types, an empty sequence is interpreted as false whereas any nonempty sequence is taken to indicate true.\n",
    "\n",
    "### Chapter 9\n",
    "\n",
    "## Simulation and Design\n",
    "\n",
    "#### 9.1 Simulating Racquetball\n",
    "\n",
    "We are at the point where we want to write programs that solve interesting problems. \n",
    "\n",
    "One particularly powerful technique for solving real-world problems is simulation. Computers can model real-world processes to provide otherwise unobtainable information. Computer simulation is used every day to perform myraid tasks such as predicting the weather, designing aircraft, creating special effects for movies, and entertaining video game players, to name just a few. Most of these applications require extremely complex programs, but even relatively modest simulations can shed light on knotty problems.\n",
    "\n",
    "In this chapter we are going to develop a simple simulation of the game of racquetball. Along the way, you will learn some important design and implementation strategies that will help us tackle our own problems.\n",
    "\n",
    "##### 9.1.1 A Simulation Problem - Racquetball\n",
    "\n",
    "Writing a program to simulate certain aspects of racquetball. Using the simulation, they could let the computer model thousands of games between players of differing skill levels.\n",
    "\n",
    "Let's write a racquetball simulation:\n",
    "\n",
    "##### 9.1.2 Analysis and Specification\n",
    "\n",
    "- Serve\n",
    "- Rally\n",
    "- The player who missed the shot loses the rally\n",
    "- If the loser is the player who served, then service passes to the other player\n",
    "- If the server wins the rally, a point is awarded. \n",
    "- Players can only score point during their own service.\n",
    "- The first player to reach 15 points wins the game.\n",
    "\n",
    "In our simulation, the ability level of the players will be respresented by the probability that the palyer wins the rally when he or she serves. Thus players with a 0.6 probability win a point on 60% of their serves. \n",
    "\n",
    "The program will prompt the user to enter the service probability for both players and thn simulater multiple games of racquetball using those probabilities. The program will then print a summary of the results.\n",
    "\n",
    "Input - the program first prompts for and gets the service probabilities of the two players (\"Player A\" and \"Player B\"). Then the program prompts for and gets the number of games to be simulated.\n",
    "\n",
    "Output - The program will will provide a series of initial prompts and then print out a nicely formatted report showing the number of games simulated and the number of wins and winning perecntage for each player\n",
    "\n",
    "Notes - All inputs are assumed to be legal numeric values, no error or validity checking is required. In each simulated game, player A serves first.\n",
    "\n",
    "### 9.2. Pseudo Random Numbers\n",
    "\n",
    "Our simulation program will have to deal with unncertain events. When we say that a player wins50% of the serves, that does not mean that every other serve is a winner. It's more like a coin toss. Overall, we expect that half the time the coin will come up heads and half the time it will come up tails, but there is nothing to prevent a run of five tails in a row. Similarly, our racquetball player should win or lose rallies randomly. The service probability provides a likelihood that a given serve will be won, but the is no set pattern.\n",
    "\n",
    "Many simulations share this property of requiring events to occur witha certain likelihood. A driving simulation must model the unpredictability of other drivers; a bank simulation has to deal with the random arrival of customers. These sorts of simulations are called Monte Carlo algorithms because the results bepend on \"chance\" proabilities. Of course, we know that there is nothing random about computes; they are instruction-following machines. How can computer programsmodel seemingly random happenings?\n",
    "\n",
    "Simulating randomness is a well-studied problem in computer science. A pseudo random number generator works by starting with some seed value. This value is fed to a function to produce a \"random\" number. The next time a random number is needed, the current value is fed back into the function to produce a new number. Witha carefully chosen function, the resulting sequence of values looks essentially random. Of source, if you start the porcess over again with the same seed value, you end up with exactly the same sequence of numbers. It's all determined by the generating function and the value of the seed.\n",
    "\n",
    "Pyhton provides a library module that contains a number of useful functions for generating pseudo random numbers. The functions in this module derive an an intial seed value from the date and time when the module is loaded, so you get a different seed value each time the program is run. This means that you will also get a unique sequence of pseudo random values. The two function of greatest interest to us are randrange and random.\n",
    "\n",
    "The randrange function is used to select a pseudo random int from a given range. It can be used with one, two or three parameters to specify a range exactly as with the range function. For example, randrange(1,6) returns some number from the range [1,2,3,4,5,] and randrange(5,105,5) returns a multiple of 5 between 5 and 100 inclusive. Remember, ranges go up t, but do not include, the stopping value.\n",
    "\n",
    "Each call to randrange generates a new pseudo random int.  Here is an interactive session that shows randrange in action:"
   ]
  },
  {
   "cell_type": "code",
   "execution_count": 208,
   "metadata": {},
   "outputs": [],
   "source": [
    "from random import randrange"
   ]
  },
  {
   "cell_type": "code",
   "execution_count": 209,
   "metadata": {},
   "outputs": [
    {
     "data": {
      "text/plain": [
       "4"
      ]
     },
     "execution_count": 209,
     "metadata": {},
     "output_type": "execute_result"
    }
   ],
   "source": [
    "randrange(1,6)"
   ]
  },
  {
   "cell_type": "code",
   "execution_count": 210,
   "metadata": {},
   "outputs": [
    {
     "data": {
      "text/plain": [
       "4"
      ]
     },
     "execution_count": 210,
     "metadata": {},
     "output_type": "execute_result"
    }
   ],
   "source": [
    "randrange(1,6)"
   ]
  },
  {
   "cell_type": "code",
   "execution_count": 211,
   "metadata": {},
   "outputs": [
    {
     "data": {
      "text/plain": [
       "4"
      ]
     },
     "execution_count": 211,
     "metadata": {},
     "output_type": "execute_result"
    }
   ],
   "source": [
    "randrange(1,6)"
   ]
  },
  {
   "cell_type": "code",
   "execution_count": 212,
   "metadata": {},
   "outputs": [
    {
     "data": {
      "text/plain": [
       "1"
      ]
     },
     "execution_count": 212,
     "metadata": {},
     "output_type": "execute_result"
    }
   ],
   "source": [
    "randrange(1,6)"
   ]
  },
  {
   "cell_type": "code",
   "execution_count": 213,
   "metadata": {},
   "outputs": [
    {
     "data": {
      "text/plain": [
       "1"
      ]
     },
     "execution_count": 213,
     "metadata": {},
     "output_type": "execute_result"
    }
   ],
   "source": [
    "randrange(1,6)"
   ]
  },
  {
   "cell_type": "code",
   "execution_count": 214,
   "metadata": {},
   "outputs": [
    {
     "data": {
      "text/plain": [
       "3"
      ]
     },
     "execution_count": 214,
     "metadata": {},
     "output_type": "execute_result"
    }
   ],
   "source": [
    "randrange(1,6)"
   ]
  },
  {
   "cell_type": "code",
   "execution_count": 215,
   "metadata": {},
   "outputs": [
    {
     "data": {
      "text/plain": [
       "3"
      ]
     },
     "execution_count": 215,
     "metadata": {},
     "output_type": "execute_result"
    }
   ],
   "source": [
    "randrange(1,6)"
   ]
  },
  {
   "cell_type": "code",
   "execution_count": 216,
   "metadata": {},
   "outputs": [
    {
     "data": {
      "text/plain": [
       "1"
      ]
     },
     "execution_count": 216,
     "metadata": {},
     "output_type": "execute_result"
    }
   ],
   "source": [
    "randrange(1,6)"
   ]
  },
  {
   "cell_type": "markdown",
   "metadata": {},
   "source": [
    "Notice that it took eight calls to eventually generate every number between 1-5. This show the probabilistic nature of random numbers. Over time this function produces a uniform distribution.\n",
    "\n",
    "The random function can be used to generate pseudo random floating point values. It takes no parameters and returns values uniformly distributed between 0 and 1. Here are some interactive examples:"
   ]
  },
  {
   "cell_type": "code",
   "execution_count": 217,
   "metadata": {},
   "outputs": [],
   "source": [
    "from random import random"
   ]
  },
  {
   "cell_type": "code",
   "execution_count": 218,
   "metadata": {},
   "outputs": [
    {
     "data": {
      "text/plain": [
       "0.8817595269984676"
      ]
     },
     "execution_count": 218,
     "metadata": {},
     "output_type": "execute_result"
    }
   ],
   "source": [
    "random()"
   ]
  },
  {
   "cell_type": "code",
   "execution_count": 219,
   "metadata": {},
   "outputs": [
    {
     "data": {
      "text/plain": [
       "0.37616989284078595"
      ]
     },
     "execution_count": 219,
     "metadata": {},
     "output_type": "execute_result"
    }
   ],
   "source": [
    "random()"
   ]
  },
  {
   "cell_type": "code",
   "execution_count": 224,
   "metadata": {},
   "outputs": [
    {
     "data": {
      "text/plain": [
       "0.9267208389543222"
      ]
     },
     "execution_count": 224,
     "metadata": {},
     "output_type": "execute_result"
    }
   ],
   "source": [
    "random()"
   ]
  },
  {
   "cell_type": "code",
   "execution_count": 225,
   "metadata": {},
   "outputs": [
    {
     "data": {
      "text/plain": [
       "0.4942736663707904"
      ]
     },
     "execution_count": 225,
     "metadata": {},
     "output_type": "execute_result"
    }
   ],
   "source": [
    "random()"
   ]
  },
  {
   "cell_type": "markdown",
   "metadata": {},
   "source": [
    "Our racquetball simulation can make use to the random function to determine whether or not a player wins a serve. Let's look at a specific example. \n",
    "\n",
    "Suppose a player' service probability is 0.70, which means that they should win 70% of their serves. You can imagine a decision in the program something like the:\n",
    "\n",
    "if player wins serve:\n",
    "    score = score + 1\n",
    "    \n",
    "We need to insert a probabilistic condition that will succeed 70% of the time.\n",
    "\n",
    "Suppose we generate a random value betwee 0 and 1. Exactly 70% of the interval 0...1 is to the left of 0.7. So 70% of the time, the random number will be < 0.7 and it will be >= 0.7 the other 30% of the time. The = goes on the upper end because the random generator can produce a 0 but never a 1. In general, if prob represents the probability that the player wins a serve, the condition random() < prob will succeed with just the right probability.\n",
    "\n",
    "Here is how the decision will look:\n",
    "\n",
    "if random( ) < prob:\n",
    "score = score + 1\n",
    "\n",
    "#### 9.3 Top-Down Design\n",
    "\n",
    "Start with the general problem and try to expressa solution in terms of smaller problems. Then each of the smaller probelms is attacked in turn using the same technique. Eventually, the problems get so small that they are trivial to solve. Then you just put all the pieces back together and you've got a program.\n",
    "\n",
    "##### Top-Level Design\n",
    "\n",
    "Top-down design is easier to illustrate than it is to define.\n",
    "\n",
    "In a broad way, this program follows the basic input, process, output pattern. \n",
    "\n",
    "We need to get the simulation inputs from the user, simulate a bunch of games and prnt out a report.\n",
    "\n",
    "Here is a basic algorithm:\n",
    "\n",
    "Print an Introduction\n",
    "Get the inputs: probA, probB, n\n",
    "Simulate n games of racquetball using probA and probB\n",
    "\n",
    "Print a report on the wins for playerA and playerB\n",
    "\n",
    "Now let's write our program.\n",
    "\n",
    "First we have to print an introduction. It's seems easy so I will finish it later. Here's the start of our program:\n",
    "\n",
    "def main():\n",
    "printIntro()\n",
    "\n",
    "Let's move n and get some inputs from the user. This doesn't seem that hard either, we just need to get values for the variables probA, probB and n. The function must return these vauues for the main program to use. \n",
    "\n",
    "Here is what we have so far:\n",
    "\n",
    "def main():\n",
    "printIntro()\n",
    "probA, probB, n = getInputs()\n",
    "\n",
    "Now let's move on to the crux of the problem. We need to simulate n games of racquetball using the values probA and probB. Since we don't have any idea on how to do this, let's procrastinate again and push the details off into a function. \n",
    "\n",
    "But what should we put into main?\n",
    "\n",
    "Let's call our function simNGames. We need to figure out what the call of this function looks like.\n",
    "\n",
    "You need to know how many games to simulate and what the values of probA and probB should be for these simulations. These three values will in a sense, be inputs to the function.\n",
    "\n",
    "To print out a report you need to know how many games were won by player A and how many games were won by Player B. These must be outputs from the simNGames function.\n",
    "\n",
    "Remember, parameters are use as function inputs and return values serve as function outputs. Given this, we know hwow the next step of the algo should be coded.\n",
    "\n",
    "def main():\n",
    "printIntro()\n",
    "probA, probB, n = getInputs()\n",
    "winsA, winsB = simNGames(n, probA, probB)\n",
    "\n",
    "The last step is to print a report. You have to show how many wins there were for each player; these values are inputs to the function. Here is the complete program\n",
    "\n",
    "def main():\n",
    "printIntro()\n",
    "probA, probB, n = getInputs()\n",
    "winsA, winsB = simNGames(n, probA, probB)\n",
    "printSummary(winsA, winsB)\n",
    "\n",
    "Here is the complete program from start to finish:"
   ]
  },
  {
   "cell_type": "code",
   "execution_count": 226,
   "metadata": {},
   "outputs": [
    {
     "name": "stdout",
     "output_type": "stream",
     "text": [
      "This program simulates a game of racquetball between two\n",
      "players called \"A\" and \"B\".  The abilities of each player is\n",
      "indicated by a probability (a number between 0 and 1) that\n",
      "the player wins the point when serving. Player A always\n",
      "has the first serve.\n",
      "What is the prob. player A wins a serve? .4\n",
      "What is the prob. player B wins a serve? .2\n",
      "How many games to simulate? 100\n",
      "\n",
      "Games simulated: 100\n",
      "Wins for A: 98 (98.0%)\n",
      "Wins for B: 2 (2.0%)\n"
     ]
    }
   ],
   "source": [
    "# rball.py\n",
    "from random import random\n",
    "\n",
    "def main():\n",
    "    printIntro()\n",
    "    probA, probB, n = getInputs()\n",
    "    winsA, winsB = simNGames(n, probA, probB)\n",
    "    printSummary(winsA, winsB)\n",
    "\n",
    "def printIntro():\n",
    "    print(\"This program simulates a game of racquetball between two\")\n",
    "    print('players called \"A\" and \"B\".  The abilities of each player is')\n",
    "    print(\"indicated by a probability (a number between 0 and 1) that\")\n",
    "    print(\"the player wins the point when serving. Player A always\")\n",
    "    print(\"has the first serve.\")\n",
    "\n",
    "def getInputs():\n",
    "    # Returns the three simulation parameters\n",
    "    a = eval(input(\"What is the prob. player A wins a serve? \"))\n",
    "    b = eval(input(\"What is the prob. player B wins a serve? \"))\n",
    "    n = eval(input(\"How many games to simulate? \"))\n",
    "    return a, b, n\n",
    "\n",
    "def simNGames(n, probA, probB):\n",
    "    # Simulates n games of racquetball between players whose\n",
    "    #    abilities are represented by the probability of winning a serve.\n",
    "    # Returns number of wins for A and B\n",
    "    winsA = winsB = 0\n",
    "    for i in range(n):\n",
    "        scoreA, scoreB = simOneGame(probA, probB)\n",
    "        if scoreA > scoreB:\n",
    "            winsA = winsA + 1\n",
    "        else:\n",
    "            winsB = winsB + 1\n",
    "    return winsA, winsB\n",
    "\n",
    "def simOneGame(probA, probB):\n",
    "    # Simulates a single game or racquetball between players whose\n",
    "    #    abilities are represented by the probability of winning a serve.\n",
    "    # Returns final scores for A and B\n",
    "    serving = \"A\"\n",
    "    scoreA = 0\n",
    "    scoreB = 0\n",
    "    while not gameOver(scoreA, scoreB):\n",
    "        if serving == \"A\":\n",
    "            if random() < probA:\n",
    "                scoreA = scoreA + 1\n",
    "            else:\n",
    "                serving = \"B\"\n",
    "        else:\n",
    "            if random() < probB:\n",
    "                scoreB = scoreB + 1\n",
    "            else:\n",
    "                serving = \"A\"\n",
    "    return scoreA, scoreB\n",
    "\n",
    "def gameOver(a, b):\n",
    "    # a and b represent scores for a racquetball game\n",
    "    # Returns True if the game is over, False otherwise.\n",
    "    return a==15 or b==15\n",
    "\n",
    "def printSummary(winsA, winsB):\n",
    "    # Prints a summary of wins for each player.\n",
    "    n = winsA + winsB\n",
    "    print(\"\\nGames simulated:\", n)\n",
    "    print(\"Wins for A: {0} ({1:0.1%})\".format(winsA, winsA/n))\n",
    "    print(\"Wins for B: {0} ({1:0.1%})\".format(winsB, winsB/n))\n",
    "\n",
    "if __name__ == '__main__': main()"
   ]
  },
  {
   "cell_type": "markdown",
   "metadata": {},
   "source": [
    "#### Unit Testing\n",
    "\n",
    "Test each component as you complete it. Here is a sample session testing out just the gameOver function:"
   ]
  },
  {
   "cell_type": "code",
   "execution_count": 227,
   "metadata": {},
   "outputs": [],
   "source": [
    "import rball"
   ]
  },
  {
   "cell_type": "code",
   "execution_count": 228,
   "metadata": {},
   "outputs": [
    {
     "data": {
      "text/plain": [
       "False"
      ]
     },
     "execution_count": 228,
     "metadata": {},
     "output_type": "execute_result"
    }
   ],
   "source": [
    "rball.gameOver(0,0)"
   ]
  },
  {
   "cell_type": "code",
   "execution_count": 229,
   "metadata": {},
   "outputs": [
    {
     "data": {
      "text/plain": [
       "False"
      ]
     },
     "execution_count": 229,
     "metadata": {},
     "output_type": "execute_result"
    }
   ],
   "source": [
    "rball.gameOver(5,10)"
   ]
  },
  {
   "cell_type": "code",
   "execution_count": 230,
   "metadata": {},
   "outputs": [
    {
     "data": {
      "text/plain": [
       "True"
      ]
     },
     "execution_count": 230,
     "metadata": {},
     "output_type": "execute_result"
    }
   ],
   "source": [
    "rball.gameOver(15,3)"
   ]
  },
  {
   "cell_type": "code",
   "execution_count": 231,
   "metadata": {},
   "outputs": [
    {
     "data": {
      "text/plain": [
       "True"
      ]
     },
     "execution_count": 231,
     "metadata": {},
     "output_type": "execute_result"
    }
   ],
   "source": [
    "rball.gameOver(3,15)"
   ]
  },
  {
   "cell_type": "markdown",
   "metadata": {},
   "source": [
    "We selected test data that tries all the important cases for the function.\n",
    "\n",
    "Let's test the simOneGame function"
   ]
  },
  {
   "cell_type": "code",
   "execution_count": 232,
   "metadata": {},
   "outputs": [],
   "source": [
    "import rball"
   ]
  },
  {
   "cell_type": "code",
   "execution_count": 233,
   "metadata": {},
   "outputs": [
    {
     "data": {
      "text/plain": [
       "(15, 11)"
      ]
     },
     "execution_count": 233,
     "metadata": {},
     "output_type": "execute_result"
    }
   ],
   "source": [
    "rball.simOneGame(.5, .5)"
   ]
  },
  {
   "cell_type": "code",
   "execution_count": 234,
   "metadata": {},
   "outputs": [
    {
     "data": {
      "text/plain": [
       "(11, 15)"
      ]
     },
     "execution_count": 234,
     "metadata": {},
     "output_type": "execute_result"
    }
   ],
   "source": [
    "rball.simOneGame(.5, .5)"
   ]
  },
  {
   "cell_type": "code",
   "execution_count": 235,
   "metadata": {},
   "outputs": [
    {
     "data": {
      "text/plain": [
       "(14, 15)"
      ]
     },
     "execution_count": 235,
     "metadata": {},
     "output_type": "execute_result"
    }
   ],
   "source": [
    "rball.simOneGame(.3, .3)"
   ]
  },
  {
   "cell_type": "code",
   "execution_count": 236,
   "metadata": {},
   "outputs": [
    {
     "data": {
      "text/plain": [
       "(13, 15)"
      ]
     },
     "execution_count": 236,
     "metadata": {},
     "output_type": "execute_result"
    }
   ],
   "source": [
    "rball.simOneGame(.3, .3)"
   ]
  },
  {
   "cell_type": "code",
   "execution_count": 237,
   "metadata": {},
   "outputs": [
    {
     "data": {
      "text/plain": [
       "(0, 15)"
      ]
     },
     "execution_count": 237,
     "metadata": {},
     "output_type": "execute_result"
    }
   ],
   "source": [
    "rball.simOneGame(.4, .9)"
   ]
  },
  {
   "cell_type": "code",
   "execution_count": 238,
   "metadata": {},
   "outputs": [
    {
     "data": {
      "text/plain": [
       "(2, 15)"
      ]
     },
     "execution_count": 238,
     "metadata": {},
     "output_type": "execute_result"
    }
   ],
   "source": [
    "rball.simOneGame(.4, .9)"
   ]
  },
  {
   "cell_type": "code",
   "execution_count": 239,
   "metadata": {},
   "outputs": [
    {
     "data": {
      "text/plain": [
       "(15, 1)"
      ]
     },
     "execution_count": 239,
     "metadata": {},
     "output_type": "execute_result"
    }
   ],
   "source": [
    "rball.simOneGame(.9, .4)"
   ]
  },
  {
   "cell_type": "code",
   "execution_count": 240,
   "metadata": {},
   "outputs": [
    {
     "data": {
      "text/plain": [
       "(15, 10)"
      ]
     },
     "execution_count": 240,
     "metadata": {},
     "output_type": "execute_result"
    }
   ],
   "source": [
    "rball.simOneGame(.6, .4)"
   ]
  },
  {
   "cell_type": "code",
   "execution_count": 241,
   "metadata": {},
   "outputs": [
    {
     "data": {
      "text/plain": [
       "(15, 2)"
      ]
     },
     "execution_count": 241,
     "metadata": {},
     "output_type": "execute_result"
    }
   ],
   "source": [
    "rball.simOneGame(.6, .4)"
   ]
  },
  {
   "cell_type": "markdown",
   "metadata": {},
   "source": [
    "We can continue this piecewise testing, testing out each component as we add it to the code. Software engineeers call this unit testing. It makes it easier to spot errors.\n",
    "\n",
    "Modular design makes it easier to design sophisticated programs.\n",
    "\n",
    "### Chapter 10 \n",
    "\n",
    "## Defining Classes\n",
    "\n",
    "Defining new classes can provide structure for a complex program.\n",
    "\n",
    "Encapsulation contributes to building modular and maintainable programs\n",
    "\n",
    "#### 10.1 Quick review of Objects\n",
    "\n",
    "We developed techniques for structuring the computations of a program over the last few chapters. In the following ones, we will take a look at techniques for structuring the data that our programs use. \n",
    "\n",
    "We already know that objects are one important tool for managing complex data. So far, our programs have made use of objects created from pre-defined classese such as Circle. Now we will learn how to write our own classes so we can create novel objects.\n",
    "\n",
    "An object is an active data type that knows stuff and can do stuff. More precisely, an object consists of:\n",
    "\n",
    "1. A collection of related information\n",
    "2. A set of operations to manipulate that information\n",
    "\n",
    "The information is stored inside the object in instance variables. The operations, called methods, are functions that \"live\" inside the object. Collectively, the instance variable and methods are called the attributes of an object. \n",
    "\n",
    "To take a familar example, a Circle object will have instance variable such as center, which remembers the center point of the circle, and radius, which stores the length of the circle's radius. The methods of the circle will need this data to perform actions. The draw methos examines the center and radius to decide which pixels in a window should be colored. The move method will change the value of center to reflect the new position of the circle.\n",
    "\n",
    "Recall that every object is said to be an instance of some class. The class of the object determines what attributes the object will have. Basically a class is a description of what its instances will know and do. New objects are created from a class by invoking a constructor. You can think of the class itself as a sort of factory for stamping out new instances.\n",
    "\n",
    "Consider making a new circle object:\n",
    "myCircle = Circle(Point(0,0), 20)\n",
    "\n",
    "Circle, the name of the class, is used to invoke the constructor. This statement creates a new Circle instance and store a reference to it in the variable myCircle. The parameters to the constructor are used to initialize some of the instance variables (namely center and radius) inside of myCircle. Once the instance has been created, it is manipulated by calling on its methods:\n",
    "\n",
    "myCircle.draw(win)\n",
    "myCircle.move(dx, dy)\n",
    "\n",
    "### 10.2 Example Program: Cannonball\n",
    "\n",
    "Before launching into a detailed discussion of how to write our own classes, let's take a short detour to see how useful classes can be.\n",
    "\n",
    "##### 10.2.1 Program Specification\n",
    "\n",
    "Suppose we want to write a program that simulates the flight of a cannonball (or any other projectile such as a bullet, baseball, or shot put). We are particularly interested in finding out how far the cannonball will travel when when fired at various launch angles and initial velocities. The input to the program will be the launch angle (in degrees), the initial velocity (in meters per second) and the initial height (in meters) of the cannonball. The output will be the distance that the projectile travels befores striking the ground (in meters).\n",
    "\n",
    "If we ignore the effects of wind resistance and assume that the cannonballstay's close to earth's surface (i.e., we are not trying to put it into orbit), this is a relatively simple classical physics problem. The acceleration of gravity near the earth's surface is about 9.8 meters per second. That means if an object is thrown upward at a speed of 20 meters per second, after one second has passed, it's upward speed will have slowed to 20 - 9.8 = 10.2 meters per second. After another second, the speed will only be 0.4 meters per second, and shortly after that it will start coming back down.\n",
    "\n",
    "If one knows a little bit of calculus, it's not hard to derive a formula that gives the position of our cannonball at any given moment in its flight. Rather than take the calcuus approach, however, our program will use simulation to track the cannonball moment by moment. Using just a bit of simple trigonometry to get started, along with the obvious relationship that the distance an object travels in a given amount of time is equal to its rate times the amount of time(d=rt), we can solve this algorithmically.\n",
    "\n",
    "##### 10.2.2 Designng the Program\n",
    "\n",
    "\n",
    "Let's start by designing an algo for this problem.\n",
    "We need to consider the flight of the cannonball in two dimensions: height, so we know when it hits the ground; and distance to keep track of how far it goes. We can think of the position of the cannonball as a point (x,y) in a 2D graph where the value of y gives the height above the ground and the value of x gives the distance from the starting point. \n",
    "\n",
    "Our simulation will have to update the position of the cannonball to account for its flight. Suppose the ball starts at position (0,0) and we want to check its position, say every tenth of a second. In that interval, it will have moved some distance upward (positive y) and some distance forward (positive x). The exact distance in each dimension is determined by its velocity in that direction. \n",
    "\n",
    "Separating out the x and y components of the velocity makes the problem easier. Since we are ignoring wind resistance, the x velocity remains constant for the entire flight. However the y velocity changes over time due to the influence of gravity. In fact, the y velocity will start out being positive and then become negative as the cannonball stars back down.\n",
    "\n",
    "We'll need input statements.\n",
    "\n",
    "Next we need to calculate the x and y components of the initial velocity.\n",
    "\n",
    "We have to consider that our input angle is in degrees and the Python math library uses radian measures. We'll have to convert our angle before applyting the formulas. There are 2pi radians in a circle (360 degrees). This is such a common conversion that the math library provides a convenient function called radians that does this computation. These three formulas give of the code for computing the initial velocities:\n",
    "\n",
    "theta = math.radians(angle)\n",
    "\n",
    "xvel = velocity\n",
    "\n",
    "yvel = velocity * math.cos(theta) * math.sin(theta)\n",
    "\n",
    "This brings us to the main loop in our program. We want to keep updating the position and velocity of the cannonball until it reached the ground. We can do this by examining the value of ypos.\n",
    "\n",
    "while ypos >= 0.0:\n",
    "\n",
    "We used >= as the relationship so that we can start with the cannonball on the ground (=0) and still get the loop going. The loop will quit as soon as the value of ypos dips just below 0, indicating the cannonball has embedded itself slightly in the ground.\n",
    "\n",
    "Now we arrive at the crux of the simulation. Each time we go through the loop, we want to update the state of the cannonball to move it time seconds farther in its flight. Let's start by considering movement in the horizontal direction. Since our specification says that we can ignore wind resistance, the horizontal speed of the cannonball will remain constant and is given by the value of xvel.\n",
    "\n",
    "As a concrete example, suppose the ball is traveling at 30 meters per second and is currently 50 meters from the firing point. In another second it will go 30 more meters and be 80 meters from the firing point. If the interval is only 0.1 second, then the cannonball will only fly another 0.1(30) = 3 meters and be at a distance of 53 meters.\n",
    "\n",
    "You can see that the distance traveled is always given by time * xvel. To updatethe horizontal position, we just need one statement:\n",
    "\n",
    "xpos = xpos + time * xvel\n",
    "\n",
    "The situation for the vertical component is slightly more complicated, since gravity causes the y-velocity to change over time. Each second, yvel must decrease by 9.8 meters per second, the acceleration of gravity. n 0.1 seconds the velocity will decrease by 0.1(9.8) = 0.98 meters per second. The new velocity at the end of the interval is calculated as\n",
    "\n",
    "yvel1 = yvel - time * 9.8\n",
    "\n",
    "To calculate how far the cannonball travels during this interval, we need to know its average vertical velocity. Since the acceleration due to gravity is constant, the average velocity will be just the average of the starting and ending velocities (yvel+yvel1)/2.0/ Multiplying this average velocity by the amount of time in the interval gives us the change in height.\n",
    "\n",
    "Here is the completed loop:\n",
    "\n",
    "while yvel >= 0.0:\n",
    "xpos = xpos + time * xvel\n",
    "yvel1 = yvel - time * 9.8\n",
    "ypos = ypos + time * (yvel + yvel1)/2.0\n",
    "yvel = yvel1\n",
    "\n",
    "Notice how the velocity at the end of the time interval is first store n the temporary variable yvel1. This is done to preserve the initial yvel so that the average velocity can be computed from the two values. Finally, the value of yvel is assigned its new value at the end of the loop. This represents the correct vertical velocity of the cannonball at the end of the interval.\n",
    "\n",
    "The last step of our program simply outputs the distance traveled."
   ]
  },
  {
   "cell_type": "code",
   "execution_count": 243,
   "metadata": {},
   "outputs": [
    {
     "name": "stdout",
     "output_type": "stream",
     "text": [
      "Enter the launch angle (in degrees): .23\n",
      "Enter the initial velocity (in meters/sec): 1234\n",
      "Enter the initial height (in meters): 0\n",
      "Enter the time interval between position calculations: 30\n",
      "\n",
      "Distance traveled: 4e+04 meters.\n"
     ]
    }
   ],
   "source": [
    "# cball1.py\n",
    "from math import pi, sin, cos, radians\n",
    "\n",
    "def main():\n",
    "    angle = eval(input(\"Enter the launch angle (in degrees): \"))\n",
    "    vel = eval(input(\"Enter the initial velocity (in meters/sec): \"))\n",
    "    h0 = eval(input(\"Enter the initial height (in meters): \"))\n",
    "    time = eval(input(\"Enter the time interval between position calculations: \"))\n",
    "    \n",
    "    # convert angle to radians\n",
    "    theta = radians(angle)\n",
    "    \n",
    "    # set up the intial position and velocities in x and y directions\n",
    "    xpos = 0\n",
    "    ypos = h0\n",
    "    xvel = vel * cos(theta)\n",
    "    yvel = vel * sin(theta)\n",
    "    \n",
    "    # loop until the ball hits the ground\n",
    "    while ypos >= 0:\n",
    "        # calculate position and velocity in time seconds\n",
    "        xpos = xpos + time * xvel\n",
    "        yvel1 = yvel - time * 9.8\n",
    "        ypos = ypos + time * (yvel + yvel1)/2.0\n",
    "        yvel = yvel1\n",
    "        \n",
    "    print(\"\\nDistance traveled: {0:0.1} meters.\".format(xpos))\n",
    "    \n",
    "main()"
   ]
  },
  {
   "cell_type": "markdown",
   "metadata": {},
   "source": [
    "##### 10.2.3 Modularizing the Program\n",
    "\n",
    "You may have noticed that we used stepwise refinement (top-down design) to develop the program but did not divide the program into separate functions. We are going to modularize the program in two different ways. First we will use functions (top-down design).\n",
    "\n",
    "While the final program is not too long, it is fairly complex for its length. One cause of the complexity is that it uses ten variables and that is a lot for the reader to keep track of. Let's try dividing the program into functional pieces to see if that helps. Here is a version of the main algo using helper functions:"
   ]
  },
  {
   "cell_type": "code",
   "execution_count": 244,
   "metadata": {},
   "outputs": [
    {
     "name": "stdout",
     "output_type": "stream",
     "text": [
      "Enter the launch angle (in degrees): .21\n",
      "Enter the initial velocity (in meters/sec): 1234\n",
      "Enter the initial height (in meters): 0\n",
      "Enter the time interval between position calculations: .03\n",
      "\n",
      "Distance traveled: 1147.6 meters.\n"
     ]
    }
   ],
   "source": [
    "# cball2.py\n",
    "#   Simulation of the flight of a cannon ball (or other projectile)\n",
    "#   This version uses functional (top-down) composition.\n",
    "\n",
    "from math import pi, sin, cos\n",
    "\n",
    "def main():\n",
    "    angle, vel, h0, time = getInputs()\n",
    "    xpos, ypos = 0, h0\n",
    "    xvel, yvel = getXYComponents(vel, angle)\n",
    "    while ypos >= 0:\n",
    "        xpos, ypos, yvel = updateCannonBall(time, xpos, ypos, xvel, yvel)\n",
    "    print(\"\\nDistance traveled: {0:0.1f} meters.\".format(xpos))\n",
    "\n",
    "def getInputs():\n",
    "    a = eval(input(\"Enter the launch angle (in degrees): \"))\n",
    "    v = eval(input(\"Enter the initial velocity (in meters/sec): \"))\n",
    "    h = eval(input(\"Enter the initial height (in meters): \"))\n",
    "    t = eval(input(\"Enter the time interval between position calculations: \"))\n",
    "    return a,v,h,t\n",
    "\n",
    "def getXYComponents(vel, angle):\n",
    "    radians = (angle * pi)/180.0\n",
    "    x = vel * cos(radians)\n",
    "    y = vel * sin(radians)\n",
    "    return x,y\n",
    "\n",
    "def updateCannonBall(time, xpos, ypos, xvel, yvel):\n",
    "        xpos = xpos + time * xvel\n",
    "        yvel1 = yvel - 9.8 * time\n",
    "        ypos = ypos + time * (yvel + yvel1)/2.0\n",
    "        return xpos, ypos, yvel1\n",
    "     \n",
    "main()"
   ]
  },
  {
   "cell_type": "code",
   "execution_count": 245,
   "metadata": {},
   "outputs": [
    {
     "name": "stdout",
     "output_type": "stream",
     "text": [
      "Enter the launch angle (in degrees): 222\n",
      "Enter the initial velocity (in meters/sec): .12\n",
      "Enter the initial height (in meters): 0\n",
      "Enter the time interval between position calculations: .2\n",
      "\n",
      "Distance traveled: -0.0 meters.\n"
     ]
    }
   ],
   "source": [
    "# cball4.py\n",
    "from projectile import Projectile\n",
    "\n",
    "def getInputs():\n",
    "    a = eval(input(\"Enter the launch angle (in degrees): \"))\n",
    "    v = eval(input(\"Enter the initial velocity (in meters/sec): \"))\n",
    "    h = eval(input(\"Enter the initial height (in meters): \"))\n",
    "    t = eval(input(\"Enter the time interval between position calculations: \"))\n",
    "    return a,v,h,t\n",
    "\n",
    "def main():\n",
    "    angle, vel, h0, time = getInputs()\n",
    "    cball = Projectile(angle, vel, h0)\n",
    "    while cball.getY() >= 0:\n",
    "        cball.update(time)        \n",
    "    print(\"\\nDistance traveled: {0:0.1f} meters.\".format(cball.getX()))\n",
    "\n",
    "if __name__ == \"__main__\":\n",
    "    main()"
   ]
  },
  {
   "cell_type": "markdown",
   "metadata": {},
   "source": [
    "#### 10.3 Defining New Classes\n",
    "\n",
    "##### 10.3.1 Example: Multi-SIde Dice\n",
    "\n",
    "You know that a normal die is a cube, and each face shows a number from one to six. Some games employ nonstandard dice that may have fewer (e.g. four) or more (e.g. thirteen) sides. Let's design a general class MSDie to model multi-sided dice. We could use such as object in any number of simulation or game programs. \n",
    "\n",
    "Each MSDie object will know two things:\n",
    "1. How many sides it has.\n",
    "2. Its current value.\n",
    "\n",
    "When a new MSDie is created, we specify how many sides it will have, n. We can then operate on the die through three provided methods: roll, to set the die to a random value between 1 and n, inclusive; setValue, to set the die to a specific value(i.e., cheat); and getValue, to see what the current value is. "
   ]
  },
  {
   "cell_type": "code",
   "execution_count": 246,
   "metadata": {},
   "outputs": [],
   "source": [
    "# msdie.py\n",
    "#    Class definition for an n-sided die.\n",
    "\n",
    "from random import randrange\n",
    "\n",
    "class MSDie:\n",
    "\n",
    "    def __init__(self, sides):\n",
    "        self.sides = sides\n",
    "        self.value = 1\n",
    "\n",
    "    def roll(self):\n",
    "        self.value = randrange(1,self.sides+1)\n",
    "\n",
    "    def getValue(self):\n",
    "        return self.value\n",
    "\n",
    "    def setValue(self, value):\n",
    "        self.value = value"
   ]
  },
  {
   "cell_type": "markdown",
   "metadata": {},
   "source": [
    "Here is an interactive example showing what our class will do:"
   ]
  },
  {
   "cell_type": "code",
   "execution_count": 247,
   "metadata": {},
   "outputs": [],
   "source": [
    "die1 = MSDie(6)"
   ]
  },
  {
   "cell_type": "code",
   "execution_count": 248,
   "metadata": {},
   "outputs": [
    {
     "data": {
      "text/plain": [
       "1"
      ]
     },
     "execution_count": 248,
     "metadata": {},
     "output_type": "execute_result"
    }
   ],
   "source": [
    "die1.getValue()"
   ]
  },
  {
   "cell_type": "code",
   "execution_count": 249,
   "metadata": {},
   "outputs": [],
   "source": [
    "die1.roll()"
   ]
  },
  {
   "cell_type": "code",
   "execution_count": 250,
   "metadata": {},
   "outputs": [
    {
     "data": {
      "text/plain": [
       "1"
      ]
     },
     "execution_count": 250,
     "metadata": {},
     "output_type": "execute_result"
    }
   ],
   "source": [
    "die1.getValue()"
   ]
  },
  {
   "cell_type": "code",
   "execution_count": 251,
   "metadata": {},
   "outputs": [],
   "source": [
    "die2 = MSDie(13)"
   ]
  },
  {
   "cell_type": "code",
   "execution_count": 252,
   "metadata": {},
   "outputs": [
    {
     "data": {
      "text/plain": [
       "1"
      ]
     },
     "execution_count": 252,
     "metadata": {},
     "output_type": "execute_result"
    }
   ],
   "source": [
    "die2.getValue()"
   ]
  },
  {
   "cell_type": "code",
   "execution_count": 253,
   "metadata": {},
   "outputs": [],
   "source": [
    "die2.roll()"
   ]
  },
  {
   "cell_type": "code",
   "execution_count": 254,
   "metadata": {},
   "outputs": [
    {
     "data": {
      "text/plain": [
       "3"
      ]
     },
     "execution_count": 254,
     "metadata": {},
     "output_type": "execute_result"
    }
   ],
   "source": [
    "die2.getValue()"
   ]
  },
  {
   "cell_type": "code",
   "execution_count": 255,
   "metadata": {},
   "outputs": [],
   "source": [
    "die2.setValue(8)"
   ]
  },
  {
   "cell_type": "code",
   "execution_count": 256,
   "metadata": {},
   "outputs": [
    {
     "data": {
      "text/plain": [
       "8"
      ]
     },
     "execution_count": 256,
     "metadata": {},
     "output_type": "execute_result"
    }
   ],
   "source": [
    "die2.getValue()"
   ]
  },
  {
   "cell_type": "markdown",
   "metadata": {},
   "source": [
    "Do you see how this might be useful? I can define any number of dice having arbitrary of sides. Each die can be rolled independently and will always produce a random value in the proper range determined by the number of sides.\n",
    "\n",
    "Using our object-oriented terminology, we create a die by invoking the MSDie constructor and providing the number of sides as a parameter. Our die object will keep track of this number internally using an instance variable. Another instance variable will be used to store the value of the die. Initially, the value of the die will be set to be 1, since that is a legal value for any die. The value can be changed by the roll and setRoll methods and returned from the getValue method.\n",
    "\n",
    "Writing a definition for MSDie class is really quite simple. A class is a collection of methods, and methods are just functions. Above is the class definition for MSDie.\n",
    "\n",
    "Each method definition looks like a normal function definition. Placing the function inside a class makes it a class of that class, rather than a stand-alone function.\n",
    "\n",
    "Let's take a look at the three methods defined in this class. You'll notice that each method has a first parameter named self. The first parameter of a method is special-it always contains a reference to the object on which the method is acting. As usual, you can use any name you want for this parameter, but the traditional name is self, so that is what I will always use.\n",
    "\n",
    "An example might be helpful in making sense of self. Suppose we have a main function that executes die1.setValue(8). A method invocation is a function call. Just as in normal function calls, Python executes a four-step sequence:\n",
    "\n",
    "1. The calling program(main) suspends at the point of the method application. Python locates the appropriate method definition inside the class of the object to which is being appllied. In this case, contorl is transferring to the setValue method in the MSDie class, since die1 is an instance of MSDie.\n",
    "\n",
    "2. The formal paramters of the method get assigned the values supplied by the actual parameters of the call. Inthe case of a method call, the first formal parameter corresponds to the object. In our example, it as is the following assignments are done before executing the method body:\n",
    "\n",
    "self = die1 value = 8\n",
    "\n",
    "3. The body of the method is executed \n",
    "\n",
    "4. Control returns to the point just after where the method was called, in this case, the statement immediately following die1.setValue(8).\n",
    "\n",
    "The self parameter in the definition is a bookeeping detail. Some languages do this implictly; Python requires us to add the extra parameter. To avoid confusion, we will always refer to the first formal parameter of a method as the self parameter and any others as normal parameters. So, I would say setValues uses one normal parameter. \n",
    "\n",
    "So self is a parameter that represents an object. But what exactly can we do with it? The main thing to remember is that objects contain their own data. Conceptually, instance variables provide a way to remember data inside an object. Just as with regular variables, instance variables are accessed by name. We can use our familiar dot notation: <object>.<instance-var>. Look at the definition of setValue; self.value refers to the instance variable value that is associated with the object. Each instance of a class has its own instance variables, so each MSDie object has its very own value.\n",
    "    \n",
    "Certain methods in a class have special meaning to Python. These methods have names that begin and end with two underscores. The special method __init__ is the object constructor. Python calls this method to initialize a new MSDie. The role of __inti__ is to provide intial values for the instance variables of an object.\n",
    "\n",
    "From outside the class, the constructor is referred to by the class name.\n",
    "\n",
    "die1 = MSDie(6)\n",
    "\n",
    "When executing this statement, Python creates a new MSDie and executes __init__ on that object. THe net result is that die1.sides is set to 6 and the die1.value is set to 1. \n",
    "\n",
    "The power of instance variables is that we can use them to remember the state of a particular object, and this information gets passed around the program as part of the object. The values of instance variables can be referred to again in the other methods or even in successive calls to the same method. This is different from regular local function variables, whose values disappear once the function terminates.\n",
    "\n",
    "Here is a simple illustration:"
   ]
  },
  {
   "cell_type": "code",
   "execution_count": 257,
   "metadata": {},
   "outputs": [],
   "source": [
    "die1 = MSDie(13)"
   ]
  },
  {
   "cell_type": "code",
   "execution_count": 258,
   "metadata": {},
   "outputs": [
    {
     "name": "stdout",
     "output_type": "stream",
     "text": [
      "1\n"
     ]
    }
   ],
   "source": [
    "print(die1.getValue())"
   ]
  },
  {
   "cell_type": "code",
   "execution_count": 259,
   "metadata": {},
   "outputs": [],
   "source": [
    "die1.setValue(8)"
   ]
  },
  {
   "cell_type": "code",
   "execution_count": 260,
   "metadata": {},
   "outputs": [
    {
     "name": "stdout",
     "output_type": "stream",
     "text": [
      "8\n"
     ]
    }
   ],
   "source": [
    "print(die1.getValue())"
   ]
  },
  {
   "cell_type": "markdown",
   "metadata": {},
   "source": [
    "The call to the constructor sets the instance variable die1.value to 1. The next line prints out this value. The value set by the constructor persists as part of the object, even though the constructor is over and done with. Similarly, exeecuting die1.setValue(8) changes the object by setting its value to 8. When the object is asked for its value the next time, it responds with 8.\n",
    "\n",
    "That's just about all there is to know about defining new classes in Python. Now it's time to put this new knowledge to use.\n",
    "\n",
    "##### 10.3.2 Example: The Projectile Class\n",
    "\n",
    "Returning to the cannonball example, we want a class that can respresent projectiles. This class will need a constructor to initialize instance variables, an update method to change the state of the projectile and getX and getY methods so that we can find the current position.\n",
    "\n",
    "Let's start with the constuctor. In the main program, we will create a cannonball from the initial angle, velocity and height.\n",
    "\n",
    "cball = Projectile(angle, vel, h0)\n",
    "\n",
    "The Projectile class must have an __init__ method that uses these values to initialize the instance variables of cball. But what should the instance variables be? Of course, they will be the four pieces of information that characterize the flight of the cannonball: xpos, ypos, xvel, yvel. We will calculate these values using the same formulas that were in the original program.\n",
    "\n",
    "Here is how our class looks with the constructor:\n",
    "\n",
    "class Projectile:\n",
    "\n",
    "def __init__(self, angle, velocity, height):\n",
    "    self.xpos = 0.0\n",
    "    self.ypos = height\n",
    "    theta = math.radians(angle)\n",
    "    self.xvel = velocity * cos(theta)\n",
    "    self.yvel = velocity * sin(theta)\n",
    "    \n",
    "Notice how we have created four instance variables inside the object using the self dot notation. The value of theta is not needed after the __init__ terminates, so it is just a normal (local) function variable.\n",
    "\n",
    "The methods for accessing the position of our projectiles are straightforward; the current position is given by the instance variables xpos and ypos. We just need a couple of methods that return these values.\n",
    "\n",
    "def getX(self):\n",
    "    return self.xpos\n",
    "    \n",
    "def getY(self):\n",
    "    return self.ypos\n",
    "    \n",
    "Finally, we come to the update method. This method takes a single normal parameter that represents an interval of time. We need to update the state of the projectile to account for the passage of that much tile. Here's the code:\n",
    "\n",
    "def update(self, time):\n",
    "    self.xpos = self.xpos + time * self.xvel\n",
    "    yvel1 = self.yvel1 - 9.8 * time\n",
    "    self.ypos = self.ypos + time * (self.yvel + yvel1) / 2.0\n",
    "    self.yvel = yvel1\n",
    "    \n",
    "Basically, this is the same code that we used in the original program updated to use and modify instance variable. Notice the use of yvel1 as a temporary(ordinary) variable. This new value is saved by storing it into the object in the last line of the method.\n",
    "\n",
    "That completes our projectile class. We now have a complete object-based solution to the cannonball problem."
   ]
  },
  {
   "cell_type": "code",
   "execution_count": 261,
   "metadata": {},
   "outputs": [
    {
     "name": "stdout",
     "output_type": "stream",
     "text": [
      "Enter the launch angle (in degrees): .234\n",
      "Enter the initial velocity (in meters/sec): 23\n",
      "Enter the initial height (in meters): 0\n",
      "Enter the time interval between position calculations: 3\n",
      "\n",
      "Distance traveled: 69.0 meters.\n"
     ]
    }
   ],
   "source": [
    "# cball3.py\n",
    "from math import pi, sin, cos, radians\n",
    "\n",
    "class Projectile:\n",
    "\n",
    "    def __init__(self, angle, velocity, height):\n",
    "        self.xpos = 0.0\n",
    "        self.ypos = height\n",
    "        theta = radians(angle)\n",
    "        self.xvel = velocity * cos(theta)\n",
    "        self.yvel = velocity * sin(theta)\n",
    "\n",
    "    def update(self, time):\n",
    "        self.xpos = self.xpos + time * self.xvel\n",
    "        yvel1 = self.yvel - 9.8 * time\n",
    "        self.ypos = self.ypos + time * (self.yvel + yvel1) / 2.0\n",
    "        self.yvel = yvel1\n",
    "\n",
    "    def getY(self):\n",
    "        return self.ypos\n",
    "\n",
    "    def getX(self):\n",
    "        return self.xpos\n",
    "\n",
    "def getInputs():\n",
    "    a = eval(input(\"Enter the launch angle (in degrees): \"))\n",
    "    v = eval(input(\"Enter the initial velocity (in meters/sec): \"))\n",
    "    h = eval(input(\"Enter the initial height (in meters): \"))\n",
    "    t = eval(input(\"Enter the time interval between position calculations: \"))\n",
    "    return a,v,h,t\n",
    "\n",
    "def main():\n",
    "    angle, vel, h0, time = getInputs()\n",
    "    cball = Projectile(angle, vel, h0)\n",
    "    while cball.getY() >= 0:\n",
    "        cball.update(time)        \n",
    "    print(\"\\nDistance traveled: {0:0.1f} meters.\".format(cball.xpos))\n",
    "\n",
    "if __name__ == \"__main__\": \n",
    "    main()"
   ]
  },
  {
   "cell_type": "markdown",
   "metadata": {},
   "source": [
    "#### 10.4 Data Processing with Class\n",
    "\n",
    "The projectile example shows how useful a class can be for modeling a rea-world object that has complex behavior. Another common use for objects is simply to group together a set of information that describes a person or thing. For example, A company needs to keep track of information about all of its employees. Their personnel system might make use of an Employee object that contains data such as the employee's name, socil security number, address, salary, department, etc. A grouping of information of this sort is often called a record. \n",
    "\n",
    "Let's try our hand at some simple data processing involving university students. In a typical university, courses are measured in terms of credit hours and grade point averages are calculated on a 4 point scale where an \"A\" is 4 points, a \"B\" is 3 points, etc. Grade point averages are generally computed using quality points. If a class is worth 3 credit hours and the student gets an \"A\", then he earns 3(4) = 12 quality points. To calculate a student's GPA, we divide the total quality points by the number of credit hours completed.\n",
    "\n",
    "Suppose we have data file that contains student grade information. Each line of the file consists of a student's name, credit-hours and quality points. These three values are separated by a tab character. For example, the contents of the file might loop something like this:\n",
    "\n",
    "Adams, Henry 127 128\n",
    "Computewell, Susan 100 400\n",
    "DibbleBit, Denny 18 41.5\n",
    "Jones, Jim 48.5 155\n",
    "Smith, Frank 37 125.33\n",
    "\n",
    "Our job is to write a program that reads through this file to find the student with the best GPA and print out his/her name, credit-hours and GPA. We can begin by creating a Student class. An object of type Student will be a record of information for a single student. In this case, we have three pieces of information: name, credit-hours and quality points. We can save this information as instance variable that are initialized in the constructor.\n",
    "\n",
    "class Student:\n",
    "    def __init__(self, name, hours, qpoints):\n",
    "    self.name = name\n",
    "    self.hours = float(hours)\n",
    "    self.qpoints = float(qpoints)\n",
    "\n",
    "Notice that I have used parameter names that match the instance variable names. This looks a bit strange at first but it is a very common style for this sort of class. I have also floated the values of hours and qpoints. This makes the constructor a bit more versatile by allowing it to accept parameter that be be floats, ints or even strings. \n",
    "\n",
    "Now that we have a constructor, it's easy to create student recors. For example, we can make a record for Henry Adams like this.\n",
    "\n",
    "aStudent = Student(\"Adams, Henry\", 127, 228)\n",
    "\n",
    "Using objects allows us to collect all the information about an individual in a single variable. Next we must decide what methods a student object should have. Obviously, we would like to be able to access the student's information, so we should define a set of accessor methods.\n",
    "\n",
    "def getName(self):\n",
    "    return self.name\n",
    "    \n",
    "def getHours(self): \n",
    "    return self.hours\n",
    "    \n",
    "def getQPoints(self):\n",
    "    return self.qpoints\n",
    "    \n",
    "These methods allow us to get information back out of a student record. For example, print a student's name we could write:\n",
    "\n",
    "print(aStudent.getName())\n",
    "\n",
    "One method that we have not yet included included in our class is a way of computing GPA. We could compute it separately using the getHours and getQPoints methods, but GPA is so handy that it probably warrants its own method.\n",
    "\n",
    "def gpa(self):\n",
    "return self.qpoints/self.hours\n",
    "\n",
    "With this class in hand, we are ready to attack the problem of finding the best student. Our algorithm will be similar to the one used for finding the max of n numbers. We'll look through the file of students one by one keeping track of the best student seen so far. Here's the algorithm for program:\n",
    "\n",
    "Get the file name from the User\n",
    "\n",
    "Open the file for reading\n",
    "\n",
    "Set best to be the first student\n",
    "\n",
    "For each student a in the file if s.gpa() > best.gpa()\n",
    "\n",
    "set best to s\n",
    "\n",
    "print out information about best\n",
    "\n",
    "The completed program looks like this:"
   ]
  },
  {
   "cell_type": "code",
   "execution_count": 262,
   "metadata": {},
   "outputs": [
    {
     "name": "stdout",
     "output_type": "stream",
     "text": [
      "Enter name the grade file: students.dat\n",
      "The best student is: Computewell, Susan\n",
      "hours: 100.0\n",
      "GPA: 4.0\n"
     ]
    }
   ],
   "source": [
    "# gpa.py\n",
    "#    Program to find student with highest GPA\n",
    "\n",
    "class Student:\n",
    "\n",
    "    def __init__(self, name, hours, qpoints):\n",
    "        self.name = name\n",
    "        self.hours = float(hours)\n",
    "        self.qpoints = float(qpoints)\n",
    "\n",
    "    def getName(self):\n",
    "        return self.name\n",
    "\n",
    "    def getHours(self):\n",
    "        return self.hours\n",
    "\n",
    "    def getQPoints(self):\n",
    "        return self.qpoints\n",
    "\n",
    "    def gpa(self):\n",
    "        return self.qpoints/self.hours\n",
    "\n",
    "def makeStudent(infoStr):\n",
    "    # infoStr is a tab-separated line: name hours qpoints\n",
    "    # returns a corresponding Student object\n",
    "    name, hours, qpoints = infoStr.split(\"\\t\")\n",
    "    return Student(name, hours, qpoints)\n",
    "\n",
    "def main():\n",
    "    # open the input file for reading\n",
    "    filename = input(\"Enter name the grade file: \")\n",
    "    infile = open(filename, 'r')\n",
    "\n",
    "    # set best to the record for the first student in the file\n",
    "    best = makeStudent(infile.readline())\n",
    "\n",
    "    # process subsequent lines of the file\n",
    "    for line in infile:\n",
    "        # turn the line into a student record\n",
    "        s = makeStudent(line)\n",
    "        # if this student is best so far, remember it.\n",
    "        if s.gpa() > best.gpa():\n",
    "            best = s\n",
    "\n",
    "    infile.close()\n",
    "\n",
    "    # print information about the best student\n",
    "    print(\"The best student is:\", best.getName())\n",
    "    print(\"hours:\", best.getHours())\n",
    "    print(\"GPA:\", best.gpa())\n",
    "\n",
    "if __name__ == '__main__':\n",
    "    main()"
   ]
  },
  {
   "cell_type": "markdown",
   "metadata": {},
   "source": [
    "You will notice that I added a helper function called makeStudent. This function takes a single line of the file, splits it into its three tab-separated fields, and returns a corresponding Student object. Right before the loop, this function is used to create a record for the first student in the file:\n",
    "\n",
    "best = makeStudent(infile.readline())\n",
    "\n",
    "It is called again inside the loop to process each subsequent line of the file.\n",
    "\n",
    "s = makeStudent(line)\n",
    "\n",
    "ON unresolved issue with this program is that it only reports back a single student. If there are multiple students tied for the best GPA, only the first one is reported.\n",
    "\n",
    "#### 10.5 Objects and Encapsulation\n",
    "\n",
    "##### 10.5.1 Encapsulating Useful Abstractions\n",
    "\n",
    "Hopefully, you are seeing how defining new classes like Projectile and Student can be a good way to modularilze a program. Once we identify some useful objects, we can write an algorithm using those objects and push the implementation details into a suitable class definition. This gives us the same kind of separation of concerns that we had using functions in top-down design. The main program only has to worry about what objects can do, not about how they are implemented.\n",
    "\n",
    "Computer scientists call this separatio of concerns encapsulation. The implementation details of an object are encapsulated in the class definition, which insulates the rest of the program from having to deal with them. This is another application of abstraction (ignoring irrelevant details), which is the essense of good design.\n",
    "\n",
    "For completeness, it should be mentioned that encapsulation is only a programming convention in Python. It is not enforced by the language, per se. In our Projectile class we included two short methods, getX and getY, that simply returned the values of instance variables xpos and ypos, respectively. Our Student class has similar accessor methods for its instance variables. Strictly speaking, these methods are not absolutely necessary. In Python, you can access the instance variable of any object with the regular dot notation. For example, we could test the constructor for the Projectile class interactively by creating an object and then directly inspecting the values of the instance variables."
   ]
  },
  {
   "cell_type": "code",
   "execution_count": 263,
   "metadata": {},
   "outputs": [],
   "source": [
    "c = Projectile(60,50,20)"
   ]
  },
  {
   "cell_type": "code",
   "execution_count": 264,
   "metadata": {},
   "outputs": [
    {
     "data": {
      "text/plain": [
       "0.0"
      ]
     },
     "execution_count": 264,
     "metadata": {},
     "output_type": "execute_result"
    }
   ],
   "source": [
    "c.xpos"
   ]
  },
  {
   "cell_type": "code",
   "execution_count": 265,
   "metadata": {},
   "outputs": [
    {
     "data": {
      "text/plain": [
       "20"
      ]
     },
     "execution_count": 265,
     "metadata": {},
     "output_type": "execute_result"
    }
   ],
   "source": [
    "c.ypos"
   ]
  },
  {
   "cell_type": "code",
   "execution_count": 266,
   "metadata": {},
   "outputs": [
    {
     "data": {
      "text/plain": [
       "25.000000000000007"
      ]
     },
     "execution_count": 266,
     "metadata": {},
     "output_type": "execute_result"
    }
   ],
   "source": [
    "c.xvel"
   ]
  },
  {
   "cell_type": "code",
   "execution_count": 267,
   "metadata": {},
   "outputs": [
    {
     "data": {
      "text/plain": [
       "43.30127018922193"
      ]
     },
     "execution_count": 267,
     "metadata": {},
     "output_type": "execute_result"
    }
   ],
   "source": [
    "c.yvel"
   ]
  },
  {
   "cell_type": "markdown",
   "metadata": {},
   "source": [
    "Accessing the instance variables of an object is very handy for testing purposes, but it is generally considered poor practice to do this in programs. One of the main reasons for using objects is to hide the internal complexities of those objects from the programs that use them. References to instance variable should generally remain inside the class definition with the rest of the implementation details. From the outside the class, all interaction with an object should generally be done using the interface provided by its methods. However, this is not a hard and fast rule, and Python program designers often specify that certain instance variable are accessible as part of the interface.\n",
    "\n",
    "One immediate advantage of encapsulation is that it allows us to modify and improve classes independently, without worrying abour \"breaking\" other parts of the program. As long as the interface provided by a class stays the same, the rest of the program can't even tell that a class has changed. As you begin to design classes of your own, you should strive to provide each with a complete set of methods to make it useful.\n",
    "\n",
    "##### 10.5.2 Putting Classes in Modules\n",
    "\n",
    "Often a well-defined class or set of classes provides usefule abstractions that can be leverages in many different programs. For example, we might want to turn our projectile class into its own module file so that it can be used in other programs. In doing so, it would be a good idea to add documentation that describes how the class can be used so that programmers who want to use the module don't have to study the code to figure out (or remember what the class and its methods do.\n",
    "\n",
    "##### 10.5.3 Module Documentation\n",
    "\n",
    "You are already familiar with one way of documenting programs, namely comments. It's always a good idea to provide comments explaining the contents of a module and its uses. In fact, comments of this sort are so important that Python incorporates a special kind of commenting convention called a docstring. You can insert a plain string literal as the first line of a module, class or function to document that component. The advantage of docstrings is that, while ordinary comments are simply ignored by Python, docstrings are actually carried along during execution in a special attribute called __doc__. These strings can be examined dynamically.\n",
    "\n",
    "Most of the Python library modules have extensive docstrings that you can use to get help on using the module or its contents. For example, if you can't remember how to use the random function, you can print its docstring directly like this:"
   ]
  },
  {
   "cell_type": "code",
   "execution_count": 268,
   "metadata": {},
   "outputs": [],
   "source": [
    "import random"
   ]
  },
  {
   "cell_type": "code",
   "execution_count": 269,
   "metadata": {},
   "outputs": [
    {
     "name": "stdout",
     "output_type": "stream",
     "text": [
      "random() -> x in the interval [0, 1).\n"
     ]
    }
   ],
   "source": [
    "print(random.random.__doc__)"
   ]
  },
  {
   "cell_type": "markdown",
   "metadata": {},
   "source": [
    "Docstrings are also used by the Python online help system and by a utility called PyDoc that automatically builds documentation for Python modules. You could get the same information using interactive help like this:"
   ]
  },
  {
   "cell_type": "code",
   "execution_count": 270,
   "metadata": {},
   "outputs": [],
   "source": [
    "import random"
   ]
  },
  {
   "cell_type": "code",
   "execution_count": 271,
   "metadata": {},
   "outputs": [
    {
     "name": "stdout",
     "output_type": "stream",
     "text": [
      "Help on built-in function random:\n",
      "\n",
      "random(...) method of random.Random instance\n",
      "    random() -> x in the interval [0, 1).\n",
      "\n"
     ]
    }
   ],
   "source": [
    "help(random.random)"
   ]
  },
  {
   "cell_type": "markdown",
   "metadata": {},
   "source": [
    "If you want to see a whole bunch of information about the entire random module, try typing help(random).\n",
    "\n",
    "Here is a version of our Projectile class as a module file with docstrings included:"
   ]
  },
  {
   "cell_type": "code",
   "execution_count": 272,
   "metadata": {},
   "outputs": [],
   "source": [
    "# projectile.py\n",
    "\n",
    "\"\"\"projectile.py\n",
    "Provides a simple class for modeling the \n",
    "flight of projectiles.\"\"\"\n",
    "   \n",
    "from math import sin, cos, radians\n",
    "\n",
    "class Projectile:\n",
    "\n",
    "    \"\"\"Simulates the flight of simple projectiles near the earth's\n",
    "    surface, ignoring wind resistance. Tracking is done in two\n",
    "    dimensions, height (y) and distance (x).\"\"\"\n",
    "\n",
    "    def __init__(self, angle, velocity, height):\n",
    "        \"\"\"Create a projectile with given launch angle, initial\n",
    "        velocity and height.\"\"\"\n",
    "        self.xpos = 0.0\n",
    "        self.ypos = height\n",
    "        theta = radians(angle)\n",
    "        self.xvel = velocity * cos(theta)\n",
    "        self.yvel = velocity * sin(theta)\n",
    "\n",
    "    def update(self, time):\n",
    "        \"\"\"Update the state of this projectile to move it time seconds\n",
    "        farther into its flight\"\"\"\n",
    "        self.xpos = self.xpos + time * self.xvel\n",
    "        yvel1 = self.yvel - 9.8 * time\n",
    "        self.ypos = self.ypos + time * (self.yvel + yvel1) / 2.0\n",
    "        self.yvel = yvel1\n",
    "\n",
    "    def getY(self):\n",
    "        \"Returns the y position (height) of this projectile.\"\n",
    "        return self.ypos\n",
    "\n",
    "    def getX(self):\n",
    "        \"Returns the x position (distance) of this projectile.\"\n",
    "        return self.xpos\n"
   ]
  },
  {
   "cell_type": "markdown",
   "metadata": {},
   "source": [
    "You might notice that many of the docstrings in this code are enclosed in triple quotes(\"\"\"). This is a third way that Python allows string literals to be delimited. Triple quoting allows us to directly type multi-line strings. Here is an example of how the docstrings appear when they are printed:"
   ]
  },
  {
   "cell_type": "code",
   "execution_count": 273,
   "metadata": {},
   "outputs": [],
   "source": [
    "import projectile"
   ]
  },
  {
   "cell_type": "code",
   "execution_count": 274,
   "metadata": {},
   "outputs": [
    {
     "name": "stdout",
     "output_type": "stream",
     "text": [
      "Simulates the flight of simple projectiles near the earth's\n",
      "    surface, ignoring wind resistance. Tracking is done in two\n",
      "    dimensions, height (y) and distance (x).\n"
     ]
    }
   ],
   "source": [
    "print(projectile.Projectile.__doc__)"
   ]
  },
  {
   "cell_type": "markdown",
   "metadata": {},
   "source": [
    "You might try help(projectile) to see how the complete documentation looks for this module.\n",
    "\n",
    "##### 10.5.4 Working with Multiple Modules\n",
    "\n",
    "Our main program can simply import from the projectile module in order to solve the original problem."
   ]
  },
  {
   "cell_type": "code",
   "execution_count": 275,
   "metadata": {},
   "outputs": [
    {
     "name": "stdout",
     "output_type": "stream",
     "text": [
      "Enter the launch angle (in degrees): 23\n",
      "Enter the initial velocity (in meters/sec): 123\n",
      "Enter the initial height (in meters): 0\n",
      "Enter the time interval between position calculations: .22\n",
      "\n",
      "Distance traveled: 1120.9 meters.\n"
     ]
    }
   ],
   "source": [
    "# cball4.py\n",
    "from projectile import Projectile\n",
    "\n",
    "def getInputs():\n",
    "    a = eval(input(\"Enter the launch angle (in degrees): \"))\n",
    "    v = eval(input(\"Enter the initial velocity (in meters/sec): \"))\n",
    "    h = eval(input(\"Enter the initial height (in meters): \"))\n",
    "    t = eval(input(\"Enter the time interval between position calculations: \"))\n",
    "    return a,v,h,t\n",
    "\n",
    "def main():\n",
    "    angle, vel, h0, time = getInputs()\n",
    "    cball = Projectile(angle, vel, h0)\n",
    "    while cball.getY() >= 0:\n",
    "        cball.update(time)        \n",
    "    print(\"\\nDistance traveled: {0:0.1f} meters.\".format(cball.getX()))\n",
    "\n",
    "if __name__ == \"__main__\":\n",
    "    main()"
   ]
  },
  {
   "cell_type": "markdown",
   "metadata": {},
   "source": [
    "If you are testing multi-module Python projects interactively, you need to be aware of a subtlety in the Python module importing mechanism. When Python first imports a given module, it creates a module object that conatins all of the things defined in the module(technically, this is called a namespace). If a module imports successfully (it has no syntax errors), subsequent imports do not reload the module, they just create additional references to the exisiting module object. Even if a module has been changed (its source file edited) reimporting it into an ongoing interactive session will not get you an updated version.\n",
    "\n",
    "It is possible to interactively replace a module object using the function reload(module) in the imp module of the standard library (consult the Python documentation for details). But often this won't give you the results you want. That's because reloading a module doesn't change the values of any identifiers in the current session that already refer to objects from the old version of the module. In fact, it's pretty easy to create a situation where objects from both the old and new verision of a module are active at the same time, which is confusing to say the least.\n",
    "\n",
    "The simplest way to avoid this confusion is to make sure you start a new interactive session for testing each time any of the modules involved in your tests is modified. That way you are guaranteed to get a fresh (updated) import of all the modules that you are using.\n",
    "\n",
    "#### 10.6 Widgets\n",
    "\n",
    "One very common use of objects is in the design of graphical user interfaces(GUIs). Back in Chapter 4, we talked about GUIs being composed of visual interface objects called widgets. The Entry object defined in our graphics library is one example of a widget. Now that we know how to define new classes, we can create our own custom widgets.\n",
    "\n",
    "##### 10.6.1 Examle Program: Dice Roller\n",
    "\n",
    "Let's try our hand at building a couple of useful widgets. As an example application, consider a program that rolls a pair of standard(six-sided)dice. The program will display the dice graphically and provide two buttons, one for rolling the dice and one for quitting the program.\n",
    "\n",
    "This program has two kinds of widgets: buttons and dice. We can start by developing suitable classes. The two buttons will be instances of a Button class, and the class that provides a graphical view of the value of a die will be DieView.\n",
    "\n",
    "##### 10.6.2 Building Buttons\n",
    "\n",
    "Buttons, of course, are standard elements of virtually every GUI these days. Modern buttons are very sophisticated, usually having a 3-dimensional look and feel. Our simple graphics package doesn't have the machinery to produce buttons that appear to depress as they are clicked. The best we can do is find out where the mouse was clicked after the click has already completed. Nevertheless, we can make a useful, if less pretty, button class.\n",
    "\n",
    "Our buttons will be rectangular regions in a graphics window where user clicks can influence the behavior of the running application. We will need to create buttons and determine when they have been clicked. In addition, it is also nice to be able to activate and deactivate individual buttons. That way, our applications can signal which options are available to the user at any given moment. Typically, an inactive button is grayed-out to show that it is not available.\n",
    "\n",
    "Summarizing this description, our buttons will support the following methods:constructor Create a button in a window. We will have to specify the window in which the button will be displayed, the location/size of the button, and the label that will be on the button.\n",
    "\n",
    "\n",
    "activate - Set the state of the button to active\n",
    "\n",
    "deactivate - Set the state of the button to inactive\n",
    "\n",
    "clicked - Indicate if the button was clicked. If the button is active, this method will determine if the point clicked is inside the button region. The point will have to be sent as a parameter to the method.\n",
    "\n",
    "getLabel - Returns the label string of the button. This is provided so that we can identify a particular button.\n",
    "\n",
    "In order to support these operations, our buttons will need a number of instance variables. For example, the button itself will be drawn as a rectangle with some text centered in it. Invoking the activate and deactivate methods will change the appearance of the button. Saving the Rectangle and Text objects as instance variable will allow us to change the width of the outline and the color of the label. We might start by implementing the various methods to see what other instance variables might be needed. Once we have identified the relevant variables, we can write a constructor that initializes these values.\n",
    "\n",
    "Let's start with the activate method. We can signal that the button is active by making the outline thicker and making the label text black. Here is the code (remember the self parameter refers to the button object):"
   ]
  },
  {
   "cell_type": "code",
   "execution_count": 276,
   "metadata": {},
   "outputs": [],
   "source": [
    "def activate(self):\n",
    "        \"Sets this button to 'active'.\"\n",
    "        self.label.setFill('black')\n",
    "        self.rect.setWidth(2)\n",
    "        self.active = True"
   ]
  },
  {
   "cell_type": "markdown",
   "metadata": {},
   "source": [
    "As mentioned above, in order for this code to work, our constructor will have to initialize self.label as an appropriate Text object and self.rect as a Rectangle object. In addition, the self.active instance variable stores a Boolean value to remember whether whether of not the button is currently active.\n",
    "\n",
    "Our deactivate method will do the inverse of activate. It looks like this:"
   ]
  },
  {
   "cell_type": "code",
   "execution_count": 277,
   "metadata": {},
   "outputs": [],
   "source": [
    "def deactivate(self):\n",
    "        \"Sets this button to 'inactive'.\"\n",
    "        self.label.setFill('darkgrey')\n",
    "        self.rect.setWidth(1)\n",
    "        self.active = False"
   ]
  },
  {
   "cell_type": "markdown",
   "metadata": {},
   "source": [
    "Of course, the main point of a button is being able to determine if it has been clicked. Let's try to write the clicked method. As you know, the graphics package provides a getMouse method that returns the point where the mouse was clicked. If an application needs to get a button click, it will first have to call getMouse and then see which active button (if any) the point is inside of. We could imagine the button processing code looking something like the following:\n",
    "\n",
    "pt = win.getMouse()\n",
    "if button1.clicked(pt):\n",
    "    Do button1 stuff\n",
    "    elif button2.clicked(pt):\n",
    "    do button2 stuff\n",
    "    elif button2.clicked(pt)\n",
    "    Do button3 stuff\n",
    "    ...\n",
    "    \n",
    "The main job of the clicked method is to determine whether a given point is inside the rectangular button. The point is inside the rectangle if its x and y coordinates lie between the extreme x and y values of the rectangle. This would be easiest to figure out if we just assume that the button object has instance variables that record the min and max values of x and y.\n",
    "\n",
    "Assuming the existence of instance variables xmin, xmax, ymin and ymax, we can implement the clicked method with a single Boolean expression.    "
   ]
  },
  {
   "cell_type": "code",
   "execution_count": 278,
   "metadata": {},
   "outputs": [],
   "source": [
    "def clicked(self, p):\n",
    "        \"Returns true if button active and p is inside\"\n",
    "        return (self.active and\n",
    "                self.xmin <= p.getX() <= self.xmax and\n",
    "                self.ymin <= p.getY() <= self.ymax)"
   ]
  },
  {
   "cell_type": "markdown",
   "metadata": {},
   "source": [
    "Here we have a single large Boolean expression composed by anding together three simpler expressions; all three must be true for the function to return a true value.\n",
    "\n",
    "The first of the three subexpressions simply retrieves the value of the instance variable self.active. This ensures that only active buttons will report if they have been clicked. If self.active is false, then clicked will return false. The secnd two subexpressions are compound conditions to check that the x and y values of the point fall between the edges of the button rectangle. (Remember, x <= y <=z means x less than or equal to y less than or equal to z.\n",
    "\n",
    "Now that we have the basic operations of the button ironed out, we just need a constructor to get all the instance variables properly initialized. It's not hard, but it is a bit tedious. Here is the complete class with a suitable constructor:"
   ]
  },
  {
   "cell_type": "code",
   "execution_count": 279,
   "metadata": {},
   "outputs": [],
   "source": [
    "# button.py\n",
    "from graphics import *\n",
    "\n",
    "class Button:\n",
    "\n",
    "    \"\"\"A button is a labeled rectangle in a window.\n",
    "    It is activated or deactivated with the activate()\n",
    "    and deactivate() methods. The clicked(p) method\n",
    "    returns true if the button is active and p is inside it.\"\"\"\n",
    "\n",
    "    def __init__(self, win, center, width, height, label):\n",
    "        \"\"\" Creates a rectangular button, eg:\n",
    "        qb = Button(myWin, centerPoint, width, height, 'Quit') \"\"\" \n",
    "\n",
    "        w,h = width/2.0, height/2.0\n",
    "        x,y = center.getX(), center.getY()\n",
    "        self.xmax, self.xmin = x+w, x-w\n",
    "        self.ymax, self.ymin = y+h, y-h\n",
    "        p1 = Point(self.xmin, self.ymin)\n",
    "        p2 = Point(self.xmax, self.ymax)\n",
    "        self.rect = Rectangle(p1,p2)\n",
    "        self.rect.setFill('lightgray')\n",
    "        self.rect.draw(win)\n",
    "        self.label = Text(center, label)\n",
    "        self.label.draw(win)\n",
    "        self.deactivate()\n",
    "\n",
    "    def clicked(self, p):\n",
    "        \"Returns true if button active and p is inside\"\n",
    "        return (self.active and\n",
    "                self.xmin <= p.getX() <= self.xmax and\n",
    "                self.ymin <= p.getY() <= self.ymax)\n",
    "\n",
    "    def getLabel(self):\n",
    "        \"Returns the label string of this button.\"\n",
    "        return self.label.getText()\n",
    "\n",
    "    def activate(self):\n",
    "        \"Sets this button to 'active'.\"\n",
    "        self.label.setFill('black')\n",
    "        self.rect.setWidth(2)\n",
    "        self.active = True\n",
    "\n",
    "    def deactivate(self):\n",
    "        \"Sets this button to 'inactive'.\"\n",
    "        self.label.setFill('darkgrey')\n",
    "        self.rect.setWidth(1)\n",
    "        self.active = False"
   ]
  },
  {
   "cell_type": "markdown",
   "metadata": {},
   "source": [
    "You should study the constructor in this class to make sure you understand all of the instance variable and how they are initialized. A button is positioned by providing a center point, width and height. Other instance variables are calculated from these parameters.\n",
    "\n",
    "##### 10.6.3 Building Dice\n",
    "\n",
    "Now we'll turn our attention to the DieView class. The purpose of this class is to display the value of a die in a graphical fashion. The face of the dies will be a square (via Rectangle) and the pips will be circles.\n",
    "\n",
    "Our DieView will have the following interface:\n",
    "\n",
    "constructor = Create a die in a window. We will have to specify the window, the center point of the die, and the size of the die as parameters.\n",
    "\n",
    "setValue - Change the view to show a given value. The value to display will be passed as a parameter.\n",
    "\n",
    "Obviously, the heart of DieView is turning various pips \"on\" and \"off\" to indicate the current value of the die. One simple approach is to pre-place circles in all the possible locations where a pip might be and then turn them on or off by changing their colors.\n",
    "\n",
    "Using the standard position of pips on a die, w will need seven circles: three down the left edge, three down the right edge and one in the center. The constructor will create the backgroun square and the seven circles. The setValue method will set the colors of the circles based on the value of the die. \n",
    "\n",
    "Here is the codefor our DieView class. The comments will help you to follow how it works:"
   ]
  },
  {
   "cell_type": "code",
   "execution_count": 280,
   "metadata": {},
   "outputs": [],
   "source": [
    "# dieview.py\n",
    "from graphics import *\n",
    "class DieView:\n",
    "    \"\"\" DieView is a widget that displays a graphical representation\n",
    "    of a standard six-sided die.\"\"\"\n",
    "    \n",
    "    def __init__(self, win, center, size):\n",
    "        \"\"\"Create a view of a die, e.g.:\n",
    "           d1 = GDie(myWin, Point(40,50), 20)\n",
    "        creates a die centered at (40,50) having sides\n",
    "        of length 20.\"\"\"\n",
    "\n",
    "        # first define some standard values\n",
    "        self.win = win            # save this for drawing pips later\n",
    "        self.background = \"white\" # color of die face\n",
    "        self.foreground = \"black\" # color of the pips\n",
    "        self.psize = 0.1 * size   # radius of each pip\n",
    "        hsize = size / 2.0        # half the size of the die\n",
    "        offset = 0.6 * hsize      # distance from center to outer pips\n",
    "\n",
    "        # create a square for the face\n",
    "        cx, cy = center.getX(), center.getY()\n",
    "        p1 = Point(cx-hsize, cy-hsize)\n",
    "        p2 = Point(cx+hsize, cy+hsize)\n",
    "        rect = Rectangle(p1,p2)\n",
    "        rect.draw(win)\n",
    "        rect.setFill(self.background)\n",
    "\n",
    "        # Create 7 circles for standard pip locations\n",
    "        self.pip1 = self.__makePip(cx-offset, cy-offset)\n",
    "        self.pip2 = self.__makePip(cx-offset, cy)\n",
    "        self.pip3 = self.__makePip(cx-offset, cy+offset)\n",
    "        self.pip4 = self.__makePip(cx, cy)\n",
    "        self.pip5 = self.__makePip(cx+offset, cy-offset)\n",
    "        self.pip6 = self.__makePip(cx+offset, cy)\n",
    "        self.pip7 = self.__makePip(cx+offset, cy+offset)\n",
    "        \n",
    "        # Draw an initial value\n",
    "        self.setValue(1)\n",
    "\n",
    "    def __makePip(self, x, y):\n",
    "        \"Internal helper method to draw a pip at (x,y)\"\n",
    "        pip = Circle(Point(x,y), self.psize)\n",
    "        pip.setFill(self.background)\n",
    "        pip.setOutline(self.background)\n",
    "        pip.draw(self.win)\n",
    "        return pip\n",
    "\n",
    "    def setValue(self, value):\n",
    "        \"Set this die to display value.\"\n",
    "        # turn all pips off\n",
    "        self.pip1.setFill(self.background)\n",
    "        self.pip2.setFill(self.background)\n",
    "        self.pip3.setFill(self.background)\n",
    "        self.pip4.setFill(self.background)\n",
    "        self.pip5.setFill(self.background)\n",
    "        self.pip6.setFill(self.background)\n",
    "        self.pip7.setFill(self.background)\n",
    "\n",
    "        # turn correct pips on\n",
    "        if value == 1:\n",
    "            self.pip4.setFill(self.foreground)\n",
    "        elif value == 2:\n",
    "            self.pip1.setFill(self.foreground)\n",
    "            self.pip7.setFill(self.foreground)\n",
    "        elif value == 3:\n",
    "            self.pip1.setFill(self.foreground)\n",
    "            self.pip7.setFill(self.foreground)        \n",
    "            self.pip4.setFill(self.foreground)\n",
    "        elif value == 4:\n",
    "            self.pip1.setFill(self.foreground)\n",
    "            self.pip3.setFill(self.foreground)\n",
    "            self.pip5.setFill(self.foreground)\n",
    "            self.pip7.setFill(self.foreground)\n",
    "        elif value == 5:\n",
    "            self.pip1.setFill(self.foreground)\n",
    "            self.pip3.setFill(self.foreground)\n",
    "            self.pip4.setFill(self.foreground)\n",
    "            self.pip5.setFill(self.foreground)\n",
    "            self.pip7.setFill(self.foreground)\n",
    "        else:\n",
    "            self.pip1.setFill(self.foreground)\n",
    "            self.pip2.setFill(self.foreground)\n",
    "            self.pip3.setFill(self.foreground)\n",
    "            self.pip5.setFill(self.foreground)\n",
    "            self.pip6.setFill(self.foreground)\n",
    "            self.pip7.setFill(self.foreground)"
   ]
  },
  {
   "cell_type": "markdown",
   "metadata": {},
   "source": [
    "There are a couple of things worth noticing in this code. First, in the constructor, I have defined a set of values that determine various aspects of the die such as its color and the size of the pips. Calculating these values in the constuctor and then using them in other places allows us to easily tweak the appearance of the die without having to search through the code to find all the places where those values are used. I actually figured out the specific calculations (such as the pip size being one-tenth of the die size) through a process of trial and error. \n",
    "\n",
    "Another important thing to notice is that I have added an extra method __makePip that was not part of the original specification. This methos is just a helper function that executes the four lines of code necessary to draw each of the ceven pips. Since this a function that is only useful within the DieView class, it is inappropriate to make it a class method. Inside the constructor, it is invoked by line by lines such make it a class method. Inside the constructor, it is invoked by lines such as self.__makePip(cx,cy). Method names beginning with a single or double underscore are used in Python to indicate that a method is \"private\" to the class and not intended for use by outside programs.\n",
    "\n",
    "##### 10.6.4 The Main Program\n",
    "Now we are ready to write our main program. The Button and Dieview classes are imported from their respective modules. Here is the program that uses our new widgets:"
   ]
  },
  {
   "cell_type": "code",
   "execution_count": 281,
   "metadata": {},
   "outputs": [],
   "source": [
    "# roller.py\n",
    "# Graphics program to roll a pair of dice. Uses custom widgets\n",
    "# Button and DieView.\n",
    "\n",
    "from random import randrange\n",
    "from graphics import GraphWin, Point\n",
    "\n",
    "from button import Button\n",
    "from dieview import DieView \n",
    "\n",
    "def main():\n",
    "\n",
    "    # create the application window\n",
    "    win = GraphWin(\"Dice Roller\")\n",
    "    win.setCoords(0, 0, 10, 10)\n",
    "    win.setBackground(\"green2\")\n",
    "\n",
    "    # Draw the interface widgets\n",
    "    die1 = DieView(win, Point(3,7), 2)\n",
    "    die2 = DieView(win, Point(7,7), 2)\n",
    "    rollButton = Button(win, Point(5,4.5), 6, 1, \"Roll Dice\")\n",
    "    rollButton.activate()\n",
    "    quitButton = Button(win, Point(5,1), 2, 1, \"Quit\")\n",
    "\n",
    "    # Event loop\n",
    "    pt = win.getMouse()\n",
    "    while not quitButton.clicked(pt):\n",
    "        if rollButton.clicked(pt):\n",
    "            value1 = randrange(1,7)\n",
    "            die1.setValue(value1)\n",
    "            value2 = randrange(1,7)\n",
    "            die2.setValue(value2)\n",
    "            quitButton.activate()\n",
    "        pt = win.getMouse()\n",
    "\n",
    "    # close up shop\n",
    "    win.close()\n",
    "\n",
    "main()"
   ]
  },
  {
   "cell_type": "markdown",
   "metadata": {},
   "source": [
    "Notice that near the top of the program we have built the visual interface by creating the two DieView and two Button s. To demonstrate the activation feature of buttons, the roll button is initially active, but the quit butto is left deactivated. The quit button is activated inside the event loop below when the roll button is clicked. This approach forces the user to roll the dice at least once before quitting.\n",
    "\n",
    "The heart of the program is the event loop. It is just a sentnel loop that gets the mouse clicks and processes them until the user successfully clicks the quit button. The if inside the loop ensures that the rolling of the dice only happens when the roll button is clicked. Clicking a point that is not inside either button causes the loop to iterate, but nothing is actually done."
   ]
  },
  {
   "cell_type": "markdown",
   "metadata": {},
   "source": [
    "### Chapter 11\n",
    "\n",
    "## Data Collections\n",
    "\n",
    "##### 11.1 Example Problem: Simple Statistics\n",
    "\n",
    "As we saw in the last chapter, classes are one mechanism for structuring the data in our programs. Classes alone, however, are not enough to satisfy all of our data-handling needs.\n",
    "\n",
    "If you think about the kinds of data that most real-world programs manipulate, you will quickly realize that many programs deal with large collections of similar information. A few examples of the collections that you might find in a modern include:\n",
    "\n",
    "- Words in a document\n",
    "- Students in a course\n",
    "- Data from an experiment\n",
    "- Customers of a business\n",
    "- Graphics objects drawn on the screen.\n",
    "- Cards in a deck\n",
    "\n",
    "In this chapter, we'll learn techniques for writing programs that manipulate collections like these.\n",
    "\n",
    "Let's start with a simple example: a collection of numbers. Back in Chcapter 8, we wrote a simple but useful program to compute the mean (average) of a set of numbers entered by the user. Just to refresh our memory, here is the program again:"
   ]
  },
  {
   "cell_type": "code",
   "execution_count": 282,
   "metadata": {},
   "outputs": [
    {
     "name": "stdout",
     "output_type": "stream",
     "text": [
      "Enter a number (<Enter> to quit) >> 123\n",
      "Enter a number (<Enter> to quit) >> 12\n",
      "Enter a number (<Enter> to quit) >> 12\n",
      "Enter a number (<Enter> to quit) >> 13\n",
      "Enter a number (<Enter> to quit) >> 1234\n",
      "Enter a number (<Enter> to quit) >> \n",
      "\n",
      "The average of the numbers is 278.8\n"
     ]
    }
   ],
   "source": [
    "# average4.py\n",
    "\n",
    "def main():\n",
    "    sum = 0.0\n",
    "    count = 0\n",
    "    xStr = input(\"Enter a number (<Enter> to quit) >> \")\n",
    "    while xStr != \"\":\n",
    "        x = eval(xStr)\n",
    "        sum = sum + x\n",
    "        count = count + 1\n",
    "        xStr = input(\"Enter a number (<Enter> to quit) >> \")\n",
    "    print(\"\\nThe average of the numbers is\", sum / count)\n",
    "\n",
    "main()"
   ]
  },
  {
   "cell_type": "markdown",
   "metadata": {},
   "source": [
    "This program allows the user to enter a sequence of numbers, but the program itself does not keep track of what numbers were entered. Instead, it just keeps a summary of the numbers in the form of a running sum. That's all that is needed to compute the mean.\n",
    "\n",
    "Suppose we want to extend this program so that it computes not only the mean but two other standard statistical measures - median and standard deviation of the data. The median is the value that splits the data set into equal sized parts. For the data 2,4,6,9,13, the median value is 6, since there are two values greater than six and two that are smaller. One way to calculate the median is to store all the numbers and put them in order so that we can identify the middle value.\n",
    "\n",
    "The standard deviation is a measure of how spread out the data is relative to the mean. If the data is tightly clustered around the mean, then the standard deviation is small. When the data is more spread out, the standard deviation is larger. The standard deviation provides a yardstick for determining how exceptional a value is. For example, some teachers define an \"A\" as any score that is at least two standard deviations above the mean.\n",
    "\n",
    "#### 11.2 Applying Lists\n",
    "In order to complete our enhanced statistics program, we need a way yo store and manipulate an entire collection of numbers. We can't just use a bunch of independent variables, because we don't know how many numbers there will be. \n",
    "\n",
    "What we need is some way of combining an entire collection of values into one object. Actually, we have already done something like this but we haven't discussed the details. Take a look at these interactive examples:"
   ]
  },
  {
   "cell_type": "code",
   "execution_count": 283,
   "metadata": {},
   "outputs": [
    {
     "data": {
      "text/plain": [
       "range(0, 10)"
      ]
     },
     "execution_count": 283,
     "metadata": {},
     "output_type": "execute_result"
    }
   ],
   "source": [
    "range(10)"
   ]
  },
  {
   "cell_type": "code",
   "execution_count": 284,
   "metadata": {},
   "outputs": [
    {
     "data": {
      "text/plain": [
       "['This', 'is', 'an', 'ex-parrot!']"
      ]
     },
     "execution_count": 284,
     "metadata": {},
     "output_type": "execute_result"
    }
   ],
   "source": [
    "\"This is an ex-parrot!\".split()"
   ]
  },
  {
   "cell_type": "markdown",
   "metadata": {},
   "source": [
    "Both of these familiar functions return a collection of values denoted by the enclosing square brackets. These are lists, of course.\n",
    "\n",
    "##### 11.2.1 Lists and Arrays\n",
    "\n",
    "As you know, Python lasts are ordered sequences of items. In fact, the ideas and notations that we use for manipulating lists are borrowed from the mathematical notion of sequence. Mathematicians sometimes give an entire sequence of items a single name. For instance, a sequence of n numbers might just be called S.\n",
    "\n",
    "By using numbers as subscripts, mathematicians are able to succintly summarize computations over items in the sequence using subscript variables.\n",
    "\n",
    "A similar idea can be applied to computer programs. With a list, we can us a single variable to represent an entire sequence, and the individual items in the sequence can be accessed through subscripting. Well, almost; we don't have a way of typing subscripts, but we use indexing instead.\n",
    "\n",
    "Suppose that our sequence is stored in a variable called s. We could write a loop to calculate the sum of the items in the sequence like this:\n",
    "\n",
    "sum = 0\n",
    "for i in range(n):\n",
    "sum = sum + s[i]\n",
    "\n",
    "Virtually all computer languages provide some sort of sequence structure similar to Python's list; in other languages, it is called an array. To summarize, a list is a sequence of items where the entire sequence is referred to by a single name (in this case, s) and individual items can be selected by indexing (e.g., s[i]).\n",
    "\n",
    "Arrays in other programming languages are generally fixed size. When you create an array, you have to specify how many items it will hold. If you don't know how many items you will have then you have to allocate a large array, just in case, and keep track of how many \"slots\" you actually fill. Arrays are also usually homogeneous. That means they are restricte to holding objects of a single data type. You can have an array of ints or an array of strings but cannot mix strings and ints in a single array. \n",
    "\n",
    "In contrast, Python lists are dynamic. They can grow and shrik on demand. They are also heterogeneous. You can mix arbitrary data types in a single list. In a nutshell, Python lists are mutable sequences of arbitrary objects.\n",
    "\n",
    "##### 11.2.2 List Operations"
   ]
  },
  {
   "cell_type": "markdown",
   "metadata": {},
   "source": [
    "Because lists are sequences, you know that all of the Python built-in sequence operations also apply to lists. \n",
    "\n",
    "Here are a couple of examples checking for membership in lists and string:"
   ]
  },
  {
   "cell_type": "code",
   "execution_count": 285,
   "metadata": {},
   "outputs": [],
   "source": [
    "lst = [1,2,3,4]"
   ]
  },
  {
   "cell_type": "code",
   "execution_count": 286,
   "metadata": {},
   "outputs": [
    {
     "data": {
      "text/plain": [
       "True"
      ]
     },
     "execution_count": 286,
     "metadata": {},
     "output_type": "execute_result"
    }
   ],
   "source": [
    "3 in lst"
   ]
  },
  {
   "cell_type": "code",
   "execution_count": 287,
   "metadata": {},
   "outputs": [
    {
     "data": {
      "text/plain": [
       "False"
      ]
     },
     "execution_count": 287,
     "metadata": {},
     "output_type": "execute_result"
    }
   ],
   "source": [
    " 5 in lst"
   ]
  },
  {
   "cell_type": "code",
   "execution_count": 288,
   "metadata": {},
   "outputs": [],
   "source": [
    "ans = \"Y\""
   ]
  },
  {
   "cell_type": "code",
   "execution_count": 289,
   "metadata": {},
   "outputs": [
    {
     "data": {
      "text/plain": [
       "True"
      ]
     },
     "execution_count": 289,
     "metadata": {},
     "output_type": "execute_result"
    }
   ],
   "source": [
    "ans in 'Yy'"
   ]
  },
  {
   "cell_type": "markdown",
   "metadata": {},
   "source": [
    "By the way, since we can iterate through lists, the summing example from above can be written more simply and clearly this way:\n",
    "sum = 0\n",
    "for x in s:\n",
    "sum = sum + x\n",
    "\n",
    "Recall the one important difference between lists and strings is that lists are mutable. You can use assignment to change the value of items in a list."
   ]
  },
  {
   "cell_type": "code",
   "execution_count": 290,
   "metadata": {},
   "outputs": [],
   "source": [
    "lst = [1, 2, 3, 4]"
   ]
  },
  {
   "cell_type": "code",
   "execution_count": 291,
   "metadata": {},
   "outputs": [
    {
     "data": {
      "text/plain": [
       "4"
      ]
     },
     "execution_count": 291,
     "metadata": {},
     "output_type": "execute_result"
    }
   ],
   "source": [
    "lst[3]"
   ]
  },
  {
   "cell_type": "code",
   "execution_count": 292,
   "metadata": {},
   "outputs": [],
   "source": [
    "lst[3] = \"Hello\""
   ]
  },
  {
   "cell_type": "code",
   "execution_count": 293,
   "metadata": {},
   "outputs": [
    {
     "data": {
      "text/plain": [
       "[1, 2, 3, 'Hello']"
      ]
     },
     "execution_count": 293,
     "metadata": {},
     "output_type": "execute_result"
    }
   ],
   "source": [
    "lst"
   ]
  },
  {
   "cell_type": "code",
   "execution_count": 294,
   "metadata": {},
   "outputs": [],
   "source": [
    "lst[2] = 7"
   ]
  },
  {
   "cell_type": "code",
   "execution_count": 295,
   "metadata": {},
   "outputs": [
    {
     "data": {
      "text/plain": [
       "[1, 2, 7, 'Hello']"
      ]
     },
     "execution_count": 295,
     "metadata": {},
     "output_type": "execute_result"
    }
   ],
   "source": [
    "lst"
   ]
  },
  {
   "cell_type": "code",
   "execution_count": 296,
   "metadata": {},
   "outputs": [],
   "source": [
    "lst[1:3] = [\"Slice\", \"Assignment\"]"
   ]
  },
  {
   "cell_type": "code",
   "execution_count": 297,
   "metadata": {},
   "outputs": [
    {
     "data": {
      "text/plain": [
       "[1, 'Slice', 'Assignment', 'Hello']"
      ]
     },
     "execution_count": 297,
     "metadata": {},
     "output_type": "execute_result"
    }
   ],
   "source": [
    "lst"
   ]
  },
  {
   "cell_type": "markdown",
   "metadata": {},
   "source": [
    "As the last example shows, it's even possible to change an entire subsequence in a list by assigning a list into a slice. Python lists are very flexible. Don't attempt this in other languages! As you know, lists can be created by listing items inside square brackets."
   ]
  },
  {
   "cell_type": "code",
   "execution_count": 298,
   "metadata": {},
   "outputs": [],
   "source": [
    "odds = [1, 3, 5, 7, 9]"
   ]
  },
  {
   "cell_type": "code",
   "execution_count": 299,
   "metadata": {},
   "outputs": [],
   "source": [
    "food = [\"spam\", \"eggs\", \"back bacon\"]"
   ]
  },
  {
   "cell_type": "code",
   "execution_count": 300,
   "metadata": {},
   "outputs": [],
   "source": [
    "silly = [1, \"spam\", 4, \"U\"]"
   ]
  },
  {
   "cell_type": "code",
   "execution_count": 301,
   "metadata": {},
   "outputs": [],
   "source": [
    "empty = []"
   ]
  },
  {
   "cell_type": "markdown",
   "metadata": {},
   "source": [
    "In the last example, empty is a list containing no items at all - an empty list.\n",
    "\n",
    "A list of identical items can be created using the repetition operator. This example creates a list contianing 50 zeroes. \n",
    "\n",
    "zeroes = [0] * 50 Often lists are built up one piece at a time using the append method. Here is fragment of code that fills a list with positive numbers typed by the user:\n",
    "\n",
    "nums = []\n",
    "x = input('Enter a number: ')\n",
    "while x >= 0:\n",
    "    nums.append(x)\n",
    "    \n",
    "The append method is just one example of a number of usefule list-specific methods.\n",
    "\n",
    "We have seen how lists can grow by appending new items. Lists can also shrink when items are deleted. Invididual items or entire slices can be removed from a list using the del operator."
   ]
  },
  {
   "cell_type": "code",
   "execution_count": 302,
   "metadata": {},
   "outputs": [],
   "source": [
    "myList = [34,26,0,10]"
   ]
  },
  {
   "cell_type": "code",
   "execution_count": 303,
   "metadata": {},
   "outputs": [
    {
     "data": {
      "text/plain": [
       "[34, 26, 0, 10]"
      ]
     },
     "execution_count": 303,
     "metadata": {},
     "output_type": "execute_result"
    }
   ],
   "source": [
    "myList"
   ]
  },
  {
   "cell_type": "code",
   "execution_count": 304,
   "metadata": {},
   "outputs": [],
   "source": [
    "del myList[1]"
   ]
  },
  {
   "cell_type": "code",
   "execution_count": 305,
   "metadata": {},
   "outputs": [
    {
     "data": {
      "text/plain": [
       "[34, 0, 10]"
      ]
     },
     "execution_count": 305,
     "metadata": {},
     "output_type": "execute_result"
    }
   ],
   "source": [
    "myList"
   ]
  },
  {
   "cell_type": "code",
   "execution_count": 306,
   "metadata": {},
   "outputs": [],
   "source": [
    "del myList[1:3]"
   ]
  },
  {
   "cell_type": "code",
   "execution_count": 307,
   "metadata": {},
   "outputs": [
    {
     "data": {
      "text/plain": [
       "[34]"
      ]
     },
     "execution_count": 307,
     "metadata": {},
     "output_type": "execute_result"
    }
   ],
   "source": [
    "myList"
   ]
  },
  {
   "cell_type": "markdown",
   "metadata": {},
   "source": [
    "Notice that del is not a list method, but has a built-in operation that can be used on list items. As you can see, Python lists provide a very flexible mechanism for handling arbitrarily large sequences of data. Using lists is easy if you keep these basic principles in mind:\n",
    "\n",
    "- A list is a sequence of items stored as a single object\n",
    "- Items in a list can be accessed bu indexing, and sublists can be accessed by slicing\n",
    "- Lists are mutable; individual items or entire slices can be replaced through assignment statements\n",
    "- Lists support a number of convenient and frequently used methods\n",
    "- Lists will grow and shrink as needed\n",
    "\n",
    "##### 11.2.3 Statistics with Lists\n",
    "\n",
    "Recall that we are trying to develop a program that can compute the mean, median and standard deviation of a sequence of numbers entered by the user. One obvious way to approach this problem is to store the numbers in a list. We can write a series of functions - mean, stdDev, and median - that take a list of numbers and calculate the corresponding statistics.\n",
    "\n",
    "Let's start by using lists to rewrite our original program that only computes the mean. First, we need a function that gets the numbers from the user. Let's call it getNumbers. This function will implement the basic sentinel loop from out original program to input a sequence of numbers. We will use an initially empty list as an accumulator to collect the numbers. The list will then be returned from the function.\n",
    "\n",
    "Here's the code for getNumbers:"
   ]
  },
  {
   "cell_type": "code",
   "execution_count": 308,
   "metadata": {},
   "outputs": [],
   "source": [
    "def getNumbers():\n",
    "    nums = [] # start with an empty list\n",
    "    \n",
    "    # sentinel loop to get numbers\n",
    "    xStr = input(\"Enter a number (<Enter> to quit) >> \")\n",
    "    while xStr != \"\":\n",
    "        x = eval(xStr)\n",
    "        nums.append(x) # add this value to the list\n",
    "        xStr = input(\"Enter a number (<Enter> to quit) >>\")\n",
    "        \n",
    "    return nums"
   ]
  },
  {
   "cell_type": "markdown",
   "metadata": {},
   "source": [
    "Using this function, we can get a list of numbers from the user with a single line of code."
   ]
  },
  {
   "cell_type": "code",
   "execution_count": 310,
   "metadata": {},
   "outputs": [
    {
     "name": "stdout",
     "output_type": "stream",
     "text": [
      "Enter a number (<Enter> to quit) >> 123\n",
      "Enter a number (<Enter> to quit) >>11\n",
      "Enter a number (<Enter> to quit) >>\n"
     ]
    }
   ],
   "source": [
    "data = getNumbers()"
   ]
  },
  {
   "cell_type": "code",
   "execution_count": 311,
   "metadata": {},
   "outputs": [
    {
     "name": "stdout",
     "output_type": "stream",
     "text": [
      "[123, 11]\n"
     ]
    }
   ],
   "source": [
    "print(data)"
   ]
  },
  {
   "cell_type": "markdown",
   "metadata": {},
   "source": [
    "Next, let's implement a function that computes the mean of the numbers in a list. This function takes a list of numbers as a paramete and returns the mean. We will use a loop to go through the list and compute the sum."
   ]
  },
  {
   "cell_type": "code",
   "execution_count": 312,
   "metadata": {},
   "outputs": [],
   "source": [
    "def mean(nums):\n",
    "    sum = 0.0\n",
    "    for num in nums:\n",
    "        sum = sum + num\n",
    "    return sum / len(nums)"
   ]
  },
  {
   "cell_type": "markdown",
   "metadata": {},
   "source": [
    "Notice how the average is computed and returned in the last line of this function. The len operation returns the length of a list; we don't need a separate loop accumulator to determine how many numbers there are.\n",
    "\n",
    "With these two functions, our original program to average a series of numbers can now be done in two simple lines:"
   ]
  },
  {
   "cell_type": "code",
   "execution_count": 313,
   "metadata": {},
   "outputs": [
    {
     "name": "stdout",
     "output_type": "stream",
     "text": [
      "The mean is 67.0\n"
     ]
    }
   ],
   "source": [
    "def main():\n",
    "    data = getNumbers()\n",
    "print('The mean is', mean(data))"
   ]
  },
  {
   "cell_type": "markdown",
   "metadata": {},
   "source": [
    "Next, let's tackle the standard deviation function, stdDev. In order to use the standard deviation formula discussed above, we first need to compute the mean. We have a design choice here. The value to the mean can either be calculated inside of stdDev or passed to the function as a parameter. Which way should we do it?\n",
    "\n",
    "On the one hand, calculating the mean inside of stdDev seems cleaner as it makes the interface to the function simpler. To get the standard deviation of a set of numbers, we just call stdDev and pass it the list of numbers. This is exactly analogous to how mean (and median below)works. On the other hand, programs that need to compute the standard deviation will almost certainly need to compute the mean as well. Computing it again inside of stdDev results in the calculations being done twice. If our data set is large, this seems inefficient.\n",
    "\n",
    "Since our program is going to putput both the mean and the standard deviation, let's have the main program compute the mean and pass it as a parameter to stdDev.\n",
    "\n",
    "Here is the code to compute the standard deviation using the mean (xbar) as a parameter:"
   ]
  },
  {
   "cell_type": "code",
   "execution_count": 314,
   "metadata": {},
   "outputs": [],
   "source": [
    "def stdDev(nums, xbar):\n",
    "    sumDevSq = 0.0\n",
    "    for num in nums:\n",
    "        dev = xbar - num\n",
    "        sumDevSq = sumDevSq + dev * dev\n",
    "    return sqrt(sumDevSq/(len(nums)-1))"
   ]
  },
  {
   "cell_type": "markdown",
   "metadata": {},
   "source": [
    "Notice how the summation from the standard deviation formula is computed using a loop with an accumulator. The variable sumDevSq stores the running sum of the squares of the deviations. Once this sum has been computed, the last line of the function calculates the rest of the formula.\n",
    "\n",
    "Finally, we come to the median function. This one is a little bit trickier, as we do not have a formula to calculate the median. We need an algorithm that picks out the middle value. The first step is to arrange the numbers in increasing order. Whatever value ends up in the middle of the pack is, by definition, the median. There is just one small complication. If we have an even number of values, there is no exact middle number. In that case, the median is determined by averaging the two middle values. So the median of 3,5,6, and 9 is (5+6)/2 = 5.5\n",
    "\n",
    "In pseudocode our median algorithm looks like this:\n",
    "\n",
    "sort the numbers into ascending order\n",
    "if the size of the data is odd:\n",
    "median = the middle value\n",
    "\n",
    "else:\n",
    "median = the average of the two middle values\n",
    "return median\n",
    "\n",
    "This algorithm translates almost directly into Python code. We can take advantage of the sort method to put the list in order. To test whether the size is even, we need to see if it is divisible by two. This is a perfect application of the remainder operation. The size is even if size % 2 == 0, that is, dividing by 2 leaves a remainder of 0.\n",
    "\n",
    "With these insights, we are ready to write the code."
   ]
  },
  {
   "cell_type": "code",
   "execution_count": 315,
   "metadata": {},
   "outputs": [],
   "source": [
    "def median(nums):\n",
    "    nums.sort()\n",
    "    size = len(nums)\n",
    "    midPos = size // 2\n",
    "    if size % 2 == 0:\n",
    "        median = (nums[midPos] + nums[midPos-1] / 2)\n",
    "    else:\n",
    "        median = nums[midPos]\n",
    "    return median"
   ]
  },
  {
   "cell_type": "code",
   "execution_count": 316,
   "metadata": {},
   "outputs": [
    {
     "data": {
      "text/plain": [
       "128.5"
      ]
     },
     "execution_count": 316,
     "metadata": {},
     "output_type": "execute_result"
    }
   ],
   "source": [
    "median(data)"
   ]
  },
  {
   "cell_type": "markdown",
   "metadata": {},
   "source": [
    "This algorithm translated almost directly into Python code. We can take advantage of the sort method to put the list in order. To test whether the size is even, we need to see if it is divisible by two. This is a perfect application of the remainder operation. The size is even if size % 2 == 0, that is, dividing by 2 leaves a remainder of 0.\n",
    "\n",
    "With these insights, we are ready to write the code."
   ]
  },
  {
   "cell_type": "code",
   "execution_count": 317,
   "metadata": {},
   "outputs": [],
   "source": [
    "def median(nums):\n",
    "    nums.sort()\n",
    "    size = len(nums)\n",
    "    midPos = size // 2\n",
    "    if size % 2 == 0:\n",
    "        median = (nums[midPos] + nums[midPos-1]) / 2\n",
    "    else:\n",
    "        median = nums[midPos]\n",
    "    return median            "
   ]
  },
  {
   "cell_type": "code",
   "execution_count": 318,
   "metadata": {},
   "outputs": [
    {
     "data": {
      "text/plain": [
       "67.0"
      ]
     },
     "execution_count": 318,
     "metadata": {},
     "output_type": "execute_result"
    }
   ],
   "source": [
    "median(data)"
   ]
  },
  {
   "cell_type": "markdown",
   "metadata": {},
   "source": [
    "The middle position of the list is calculated using integer division as size // 2. If size is 3, the midPos is 1 (2 goes into 3 just one time). This is the correct middle position, since the three values in the list will have the indexes 0,1,2. Now suppose the size is 4. In this case midPose will be 2, and the four values will be in locations 0,1,2,3. The correct median is found by averaging the values at midPos(2) and midPos-1 (1).\n",
    "\n",
    "Now that we have all the basic functions, finishing out the program is a cinch."
   ]
  },
  {
   "cell_type": "code",
   "execution_count": 319,
   "metadata": {},
   "outputs": [],
   "source": [
    "def main():\n",
    "    print(\"This program computes mean, median and standard deviation.\")\n",
    "    data = getNumbers()\n",
    "    xbar = mean(data)\n",
    "    std = std(data, xbar) \n",
    "    med = median(data)\n",
    "    print(\"\\nThe mean is\", xbar)\n",
    "    print(\"The standard deviation is\", std)\n",
    "    print(\"The median is\", med)"
   ]
  },
  {
   "cell_type": "markdown",
   "metadata": {},
   "source": [
    "Many computational tasks from assigning grades to monitoring flight systems on the space shuttle require some sort of of statistical analysis. By using the if __name__ == '__main__' technique, we can make our code useful as a stand-alone program and as a general statistical library module.\n",
    "\n",
    "Here's the complete program."
   ]
  },
  {
   "cell_type": "code",
   "execution_count": 320,
   "metadata": {},
   "outputs": [
    {
     "name": "stdout",
     "output_type": "stream",
     "text": [
      "This program computes mean, median and standard deviation.\n",
      "Enter a number (<Enter> to quit) >> 12\n",
      "Enter a number (<Enter> to quit) >> 134\n",
      "Enter a number (<Enter> to quit) >> 12345\n",
      "Enter a number (<Enter> to quit) >> \n",
      "\n",
      "The mean is 4163.666666666667\n",
      "The standard deviation is 7085.505086677543\n",
      "The median is 134\n"
     ]
    }
   ],
   "source": [
    "# stats.py \n",
    "from math import sqrt\n",
    "\n",
    "def getNumbers():\n",
    "    nums = []     # start with an empty list\n",
    "\n",
    "    # sentinel loop to get numbers\n",
    "    xStr = input(\"Enter a number (<Enter> to quit) >> \")\n",
    "    while xStr != \"\":\n",
    "        x = eval(xStr)\n",
    "        nums.append(x)   # add this value to the list\n",
    "        xStr = input(\"Enter a number (<Enter> to quit) >> \")\n",
    "    return nums\n",
    "    \n",
    "def mean(nums):\n",
    "    sum = 0.0\n",
    "    for num in nums:\n",
    "        sum = sum + num\n",
    "    return sum / len(nums)\n",
    "    \n",
    "def stdDev(nums, xbar):\n",
    "    sumDevSq = 0.0\n",
    "    for num in nums:\n",
    "        dev = num - xbar\n",
    "        sumDevSq = sumDevSq + dev * dev\n",
    "    return sqrt(sumDevSq/(len(nums)-1))\n",
    "    \n",
    "def median(nums):\n",
    "    nums.sort()\n",
    "    size = len(nums)\n",
    "    midPos = size // 2\n",
    "    if size % 2 == 0:\n",
    "        median = (nums[midPos] + nums[midPos-1]) / 2.0\n",
    "    else:\n",
    "        median = nums[midPos]\n",
    "    return median\n",
    "\n",
    "def main():\n",
    "    print(\"This program computes mean, median and standard deviation.\")\n",
    "\n",
    "    data = getNumbers()\n",
    "    xbar = mean(data)\n",
    "    std = stdDev(data, xbar)\n",
    "    med = median(data)\n",
    "    \n",
    "    print(\"\\nThe mean is\", xbar)\n",
    "    print(\"The standard deviation is\", std)\n",
    "    print(\"The median is\", med)\n",
    "\n",
    "if __name__ == '__main__': main()"
   ]
  },
  {
   "cell_type": "markdown",
   "metadata": {},
   "source": [
    "### 11.3 Lists of Records\n",
    "\n",
    "All of the list examples we've looked at so far have involved lists of simple types like numbers and strings. However, a list can be used to store collections of any type. One particularly useful application is storing a collection of records. We can illustrate this idea by building on the the student GPA data processing program from last chapter.\n",
    "\n",
    "Recall that our previous grade processing program read through a file of student grade information to find and print information about the student with the highest GPA. One of the most common operations performed on this kind of data is sorting. We might want the list in different orders for different purposes. An academic advisor might like to have a file with grade information sorted alphabetically by the name of the student. To determine which students have enough credit hours for graduation, it would be useful to have the file in order according to credit-hours. And a GPA sort would be useful for deciding which students are in the top 10% of the class.\n",
    "\n",
    "Let's write a program that sorts a file of students according to their GPA. The program will make use of a list of Student objects. We just need to borrow the student class from our previous program and add a bit of list processing. The basic algorithm for our program is very simple.\n",
    "\n",
    "Get the name of the input file from the user\n",
    "Read student information into a list\n",
    "Sort the list by GPA\n",
    "Get the name of the output file from the user\n",
    "Write the student information from the the list into a file\n",
    "\n",
    "Let's begin with the file processing. We want to read through the data file and create a list of students. Here is a function that takes a filename as a parameter and returns a list of Student objects the file:"
   ]
  },
  {
   "cell_type": "code",
   "execution_count": 327,
   "metadata": {},
   "outputs": [],
   "source": [
    "def readStudents(filename):\n",
    "    infile = open(filename, 'r')\n",
    "    students = []\n",
    "    for line in infile:\n",
    "        students.append(makeStudent(line))\n",
    "    infile.close()\n",
    "    return students"
   ]
  },
  {
   "cell_type": "markdown",
   "metadata": {},
   "source": [
    "This function first opens the file for reading and then reads line by line, appending a student object to the students list for each line of line of file. Notice that I am borrowing the makeStudent function from the gpa program; it creates a student object from  line of the file. We will have to be sure to import this function (along with the Student class) at the top of our program.\n",
    "\n",
    "While we are thinking about files, let's also write a function that can write the list of students back out out to a file. Remember, each line of the file should contain three pieces of information(name, credit hours and quality points) separated by tabs. The code to do this is straightforward."
   ]
  },
  {
   "cell_type": "code",
   "execution_count": 329,
   "metadata": {},
   "outputs": [],
   "source": [
    "def writeStudents(students, filename):\n",
    "    outfile = open(filename, 'w')\n",
    "    for s in students:\n",
    "        print(\"{0}\\t{1}\\t{2}\".format(s.getName(), s.getHours(), s.getQPoints()), \n",
    "              file=outfile)\n",
    "    outfile.close()"
   ]
  },
  {
   "cell_type": "code",
   "execution_count": 330,
   "metadata": {},
   "outputs": [
    {
     "name": "stdout",
     "output_type": "stream",
     "text": [
      "This program sorts student grade information by GPA\n",
      "Enter the name of the data file: students.dat\n",
      "Enter a name for the output file: studentsout.dat\n",
      "The data has been written to studentsout.dat\n"
     ]
    }
   ],
   "source": [
    "def main():\n",
    "    print(\"This program sorts student grade information by GPA\")\n",
    "    filename = input(\"Enter the name of the data file: \")\n",
    "    data = readStudents(filename)\n",
    "    data.sort(key=Student.gpa)\n",
    "    filename = input(\"Enter a name for the output file: \")\n",
    "    writeStudents(data, filename)\n",
    "    print(\"The data has been written to\", filename)\n",
    "\n",
    "if __name__ == '__main__':\n",
    "    main()"
   ]
  },
  {
   "cell_type": "code",
   "execution_count": 336,
   "metadata": {},
   "outputs": [
    {
     "name": "stdout",
     "output_type": "stream",
     "text": [
      "This program sorts student grade information by GPA\n",
      "Enter the name of the data file: students.dat\n",
      "Enter a name for the output file: studentsOut.dat\n",
      "The data has been written to studentsOut.dat\n"
     ]
    }
   ],
   "source": [
    "# gpasort.py\n",
    "#    A program to sort student information into GPA order.\n",
    "\n",
    "from gpa import Student, makeStudent\n",
    "\n",
    "def readStudents(filename):\n",
    "    infile = open(filename, 'r')\n",
    "    students = []\n",
    "    for line in infile:\n",
    "        students.append(makeStudent(line))\n",
    "    infile.close()\n",
    "    return students\n",
    "\n",
    "\n",
    "def writeStudents(students, filename):\n",
    "    outfile = open(filename, 'w')\n",
    "    for s in students:\n",
    "        print(\"{0}\\t{1}\\t{2}\".format(s.getName(), s.getHours(), s.getQPoints()), \n",
    "              file=outfile)\n",
    "    outfile.close()\n",
    "                      \n",
    "\n",
    "def main():\n",
    "    print(\"This program sorts student grade information by GPA\")\n",
    "    filename = input(\"Enter the name of the data file: \")\n",
    "    data = readStudents(filename)\n",
    "    data.sort(key=Student.gpa)\n",
    "    filename = input(\"Enter a name for the output file: \")\n",
    "    writeStudents(data, filename)\n",
    "    print(\"The data has been written to\", filename)\n",
    "\n",
    "if __name__ == '__main__':\n",
    "    main()"
   ]
  },
  {
   "cell_type": "markdown",
   "metadata": {},
   "source": [
    "Notice that I used the string formatting method to generate to generate the appropriate line of output; the \\t represents a tab character.\n",
    "\n",
    "Using the functions readStudents and writeStudents, we can easily convert our data file into a list of students and then write it back out to a file. All we have to do now is figure now is figure how to sort the records by GPA.\n",
    "\n",
    "In the statistics program, we used the sort a list of numbers. What happens if we try to sort a list that contains something other than numbers? In this case, we want to sort a list of student objects. Let's try that out and out and see what happens."
   ]
  },
  {
   "cell_type": "code",
   "execution_count": 338,
   "metadata": {},
   "outputs": [],
   "source": [
    "# lst = gpasort.readStudents(\"student.dat\")"
   ]
  },
  {
   "cell_type": "markdown",
   "metadata": {},
   "source": [
    "Python gives us an error message becuase it does not know how how our Student objects should be ordered. If you think about it, that makes sense. We have not defined any implicit ordering for students, and we might want to arrange them in different order for different purposes. In this example, we want them ranked by GPA; in another context, we may want them in aplhabetical order. In data processing, the field on which records are sorted is called a key. To put the students in alphabetical order, we would use their name as the key. For our GPA problem, obviously, we want the GPA to be used as the key for sorting the students.\n",
    "\n",
    "\n",
    "The built-in sort method gives us a way to specify the key that is used when sorting a list. By supplying an optional keyword parameter, key, we can pass along a function that computes a key value for each item in the list.\n",
    "\n",
    "<list>.sort(key=<key_function>\n",
    "    \n",
    "The key_function must be a function that takes an item from the list as a paramter and returns the key value for that item. In our case, the list item will be an instance of Student, and we want to use GPA as the key. \n",
    "\n",
    "Here is a suitable key function:"
   ]
  },
  {
   "cell_type": "code",
   "execution_count": 342,
   "metadata": {},
   "outputs": [],
   "source": [
    "def use_gpa(aStudent):\n",
    "    return aStudent.gpa()"
   ]
  },
  {
   "cell_type": "markdown",
   "metadata": {},
   "source": [
    "As you can see this function simply uses the gpa method defined in te Student class to provide the key value. Haveing defined this little helper function, we can use it to sort a list of Students with call to sort.\n",
    "\n"
   ]
  },
  {
   "cell_type": "code",
   "execution_count": 344,
   "metadata": {},
   "outputs": [],
   "source": [
    "#data.sort(key=use_gpa)"
   ]
  },
  {
   "cell_type": "markdown",
   "metadata": {},
   "source": [
    "An important point to notice here is that I did not put paranatheses on the function name (use_gpa()). We do not want to call the function. Rather, we are sending use_gpa to the sort method, and it will call this function anytime it need to compare two items to see what their relative ordering should be in the sorted list.\n",
    "\n",
    "It's often usefule to write this sort of helper function to provide keys for sorting a list; however, in this particular case, writing an additional function is not really necessary. We have already written a function that computes the GPA for the student, it's the gpa method in the Student class. If you go back and look at the definition of that method, you'll see that it takes a single parameter (self) and returns the computed GPA. Since methods are just functions, we can use this as our key and save us the trouble of writing the helper. In order to use a method as a stand-alone function, we just need to use our standard dot notation."
   ]
  },
  {
   "cell_type": "code",
   "execution_count": 346,
   "metadata": {},
   "outputs": [],
   "source": [
    "# data.sort(key=Student.gpa)"
   ]
  },
  {
   "cell_type": "markdown",
   "metadata": {},
   "source": [
    "The snippet above says to use the function/method called gpa defined in our Student class. I think we now have all the components in place for our program. Here's the completed code."
   ]
  },
  {
   "cell_type": "code",
   "execution_count": 347,
   "metadata": {},
   "outputs": [
    {
     "name": "stdout",
     "output_type": "stream",
     "text": [
      "This program sorts student grade information by GPA\n",
      "Enter the name of the data file: Students.dat\n",
      "Enter a name for the output file: StudentsOut.dat\n",
      "The data has been written to StudentsOut.dat\n"
     ]
    }
   ],
   "source": [
    "# gpasort.py\n",
    "#    A program to sort student information into GPA order.\n",
    "\n",
    "from gpa import Student, makeStudent\n",
    "\n",
    "def readStudents(filename):\n",
    "    infile = open(filename, 'r')\n",
    "    students = []\n",
    "    for line in infile:\n",
    "        students.append(makeStudent(line))\n",
    "    infile.close()\n",
    "    return students\n",
    "\n",
    "\n",
    "def writeStudents(students, filename):\n",
    "    outfile = open(filename, 'w')\n",
    "    for s in students:\n",
    "        print(\"{0}\\t{1}\\t{2}\".format(s.getName(), s.getHours(), s.getQPoints()), \n",
    "              file=outfile)\n",
    "    outfile.close()\n",
    "                      \n",
    "\n",
    "def main():\n",
    "    print(\"This program sorts student grade information by GPA\")\n",
    "    filename = input(\"Enter the name of the data file: \")\n",
    "    data = readStudents(filename)\n",
    "    data.sort(key=Student.gpa)\n",
    "    filename = input(\"Enter a name for the output file: \")\n",
    "    writeStudents(data, filename)\n",
    "    print(\"The data has been written to\", filename)\n",
    "\n",
    "if __name__ == '__main__':\n",
    "    main()"
   ]
  },
  {
   "cell_type": "markdown",
   "metadata": {},
   "source": [
    "#### 11.4 Designing with Lists and Classes\n",
    "\n",
    "Lists and classes taken together give us powerful tools for structuring the data in our programs. Let's put these tools to work in some more sophisticated examples.\n",
    "\n",
    "Remember the DieView class from the last chapter? In order to display the six possible values of a die, each DieView object keeps track of seven circles representing the position of pips on the face of a die. In the previous version, we saved the circles using instance variables, pip1, pip2, pip3, etc.\n",
    "\n",
    "Let's consider how the code looks using a collection of circle objects stored as a list. The basic idea is to repace our seven instance variables witha single list called pips. Our first problem is to create a suitable list. This will be done in the constructor for the DieView class.\n",
    "\n",
    "In our previous version, the pips were created with this sequence of statements inside of __init__:\n",
    "              \n",
    "Recall that __makePip is a local method of the DieView class that creates a circle centered at the position given by its parameters. We want to replace these lines with code to create a list of pips. One approach would be to start with an empty list of pips and build up the final list one pip at a time.\n",
    "\n",
    "An even more straightforward approach is to create the list directly, enclosing the calls to __makePip inside list construction brackets, like this:\n",
    "\n",
    "self.pips = [ self.__makePip(cx-offset, cy-offset),\n",
    "              self.__makePip(cx-offset, cy),\n",
    "              self.__makePip(cx-offset, cy+offset),\n",
    "              self.__makePip(cx, cy),\n",
    "              self.__makePip(cx+offset, cy-offset),\n",
    "              self.__makePip(cx+offset, cy),\n",
    "              self.__makePip(cx+offset, cy+offset) ]\n",
    "              \n",
    "Notice how we formatted this statement element on each line. Again, Python is smart enough to know that the end of the statement has not been reached until it finds the matching square bracket. Listing complex objects one per line like this makes it much easier to see what is happening. Just make sure to include commas at the end of the intermediate lines to separate the items of the list.\n",
    "\n",
    "The advantage of a pip list is that it is much easier to perform actions on the entire set. For example, we can blank out the die by setiing all of the pips to have the same background color.\n",
    "\n",
    "Rather than making one giant line, I put one list:\n",
    "\n",
    "for pip in self.pips:\n",
    "    pips.setFill(self.background)\n",
    "    \n",
    "See how these two lines of code loop through the entire collection of pips to change their color? This required required seven lines of code in the previous version using separate instance variables. Similarly, we can turn a set of pips back on by indexing the appropriate spot in the pips list. In the original program, pips 1, 4 and 7 were turned on for the value 3. \n",
    "\n",
    "self.pip1.setFill(self.foreground)\n",
    "self.pip4.setFill(self.foreground)\n",
    "self.pip7.setFill(self.foreground)\n",
    "\n",
    "In the new version, this corresponds to pips in positions 0, 3, and 6, since the pips list is indexed starting at 0. A parallel approach could accomplish the task with these three lines of code:\n",
    "\n",
    "self.pips[0].setFill(self.foreground)\n",
    "self.pips[3].setFill(self.foreground)\n",
    "self.pips[6].setFill(self.foreground)\n",
    "\n",
    "Doing it this way makes explicit the correspondence between the individual instance variables used in the first version and the list elements used in the second version. By subscripting the list, we can get at the individual pip objects, just as if they were separate variables. However, this code does not really take advantage of the new representation.\n",
    "\n",
    "Here is an easier way to turn on the same three pips:\n",
    "\n",
    "for i in [0,3,6]:\n",
    "    self.pips[i].setFill(self.foreground)\n",
    "    \n",
    "Using an index variable in a loop, we can turn all three pips on using the same line of code. The second approach considerably shortens the code needed in the setValue method of the DieView class. We could implement this algo using a multi-way selection followed by a loop.\n",
    "\n",
    "for pip in self.pips:\n",
    "self.pip.setFill(self.background)\n",
    "if value == 1:\n",
    "on = [3]\n",
    "elif value == 2:\n",
    "on = [0,6]\n",
    "elif value == 3:\n",
    "on = [0,3,6]\n",
    "elif value == 4:\n",
    "on = [0,2,4,6]\n",
    "elif value == 5:\n",
    "on = [0,2,3,4,6]\n",
    "else:\n",
    "on = [0,1,2,4,5,6]\n",
    "for i in on:\n",
    "self.pips[i].setFill(self.foreground)\n",
    "\n",
    "This version without lists requires 36 lines of code to accomplsh the same task. But we can do even better than this.\n",
    "\n",
    "Notice that this code still uses the if-elif structure to determine which pips should be turned on. The correct list of indexes is determined by value; we can make this decision table-driven instead. The idea is to use a list where each item in the list is itself a list of pip indexes. For example, the item in position 3 should be the list [0,3,6], since these are the pips that must be turned on to show a value of 3.\n",
    "\n",
    "Here is how a table-driven approach can be coded:\n",
    "\n",
    "onTable = [ [], [3], [2,4], [2,3,4], [0,2,4,6], [0,2,3,4,6],\n",
    " [0,1,2,4,5,6] ]\n",
    " \n",
    "for pip in self.pips:\n",
    "self.pip.setFill(self.background)\n",
    "on = onTable[value]\n",
    "for i in on:\n",
    "self.pips[i].setFill(self.foreground)\n",
    "\n",
    "We have called the table of pip indexes onTable. Notice that I padded the table by placing an empty list in the first position. If value is 0, the DieView will be blank. Now we have reduced our 36 lines of code to seven. In addition, this version is much easier to modify, if you want to change which pips are displayed for various values, you simply modify the entries in onTable.\n",
    "\n",
    "There is one last issue to address. The onTable will remain unchanged throughout the life of any particular DieView. Rather than (re)creating this table each time a new value is displayed, it would be better to create the table in the constructor and save it in an instance variable. Putting the definition of onTable into __init__yields this nicely completed class:\n",
    "\n",
    "\n",
    "\n",
    "\n"
   ]
  },
  {
   "cell_type": "code",
   "execution_count": 349,
   "metadata": {},
   "outputs": [],
   "source": [
    "# dieview2.py\n",
    "from graphics import *\n",
    "class DieView:\n",
    "    \"\"\" DieView is a widget that displays a graphical\n",
    "    representation of a standard six-sided die.\"\"\"\n",
    "    \n",
    "    def __init__(self, win, center, size):\n",
    "        \"\"\"Create a view of a die, e.g.:\n",
    "           d1 = GDie(myWin, Point(40,50), 20)\n",
    "        creates a die centered at (40,50) having sides\n",
    "        of length 20.\"\"\"\n",
    "\n",
    "        # first define some standard values\n",
    "        self.win = win\n",
    "        self.background = \"white\" # color of die face\n",
    "        self.foreground = \"black\" # color of the pips\n",
    "        self.psize = 0.1 * size   # radius of each pip\n",
    "        hsize = size / 2.0        # half of size\n",
    "        offset = 0.6 * hsize      # distance from center to outer pips\n",
    "\n",
    "        # create a square for the face\n",
    "        cx, cy = center.getX(), center.getY()\n",
    "        p1 = Point(cx-hsize, cy-hsize)\n",
    "        p2 = Point(cx+hsize, cy+hsize)\n",
    "        rect = Rectangle(p1,p2)\n",
    "        rect.draw(win)\n",
    "        rect.setFill(self.background)\n",
    "\n",
    "        # Create 7 circles for standard pip locations\n",
    "        self.pips = [ self.__makePip(cx-offset, cy-offset),\n",
    "                      self.__makePip(cx-offset, cy),\n",
    "                      self.__makePip(cx-offset, cy+offset),\n",
    "                      self.__makePip(cx, cy),\n",
    "                      self.__makePip(cx+offset, cy-offset),\n",
    "                      self.__makePip(cx+offset, cy),\n",
    "                      self.__makePip(cx+offset, cy+offset) ]\n",
    "\n",
    "        # Create a table for which pips are on for each value \n",
    "        self.onTable = [ [], [3], [2,4], [2,3,4], \n",
    "            [0,2,4,6], [0,2,3,4,6], [0,1,2,4,5,6] ]\n",
    "\n",
    "        self.setValue(1)\n",
    "\n",
    "    def __makePip(self, x, y):\n",
    "        \"\"\"Internal helper method to draw a pip at (x,y)\"\"\"\n",
    "        pip = Circle(Point(x,y), self.psize)\n",
    "        pip.setFill(self.background)\n",
    "        pip.setOutline(self.background)\n",
    "        pip.draw(self.win)\n",
    "        return pip\n",
    "\n",
    "    def setValue(self, value):\n",
    "        \"\"\" Set this die to display value.\"\"\"\n",
    "        # Turn all the pips off\n",
    "        for pip in self.pips:\n",
    "            pip.setFill(self.background)\n",
    "\n",
    "        # Turn the appropriate pips back on\n",
    "        for i in self.onTable[value]:\n",
    "            self.pips[i].setFill(self.foreground)\n"
   ]
  },
  {
   "cell_type": "markdown",
   "metadata": {},
   "source": [
    "This example also showcases the advantages of encapsulation that we discussed in Chapter 10. We have significantly improved the implementation of the DieView class, but we have not changed the set of methods that it supports. We can substitute this improved version into any program that uses a DieView without having to modify any of the other code. The encapsulation of objects allows us to build complex software systems as a set of \"pluggable modules.\"\n",
    "\n",
    "#### 11.5 Case Study: Python Calculator\n",
    "\n",
    "The reworked DieView class shows how lists can be used effectively as instance variables of objects. Interestingly, our pips list and onTable list contain circles and lists, respectively, which are themselves objects. By nexting and combinining collections and objects we can devise elegant ways of storing data in our programs.\n",
    "\n",
    "We can even go one step further and view a program itself as a collection of data structures (collections and objects) and a set of algorithms that operate on those data structures. Now, if a program contains data and operations, one natural way to organize the program is to treat the entire application itself as an object.\n",
    "\n",
    "##### 11.5.1 A Calculator as an Object\n",
    "\n",
    "As an example, we'll develop a program that implements a simple Python calculator. Our calculator will have buttons for the ten digits (0-9), a decimal point(.), four operations (+, - , *, /) and a few special keys:: \"C\" to clear the display, \"<-\" to backspace over characters in the display and \"=\" to do the calculation.\n",
    "\n",
    "\n",
    "We'll take a very simple approach to performing calculations. As buttons are clicked the corresponding characters will show up in the display, allowing the user to create a formula. When the \"=\" key is pressed, the formula will be evaluated and the resulting value shown in the display.\n",
    "\n",
    "Basically, we can divide the functioning of the calculator into two parts: creating the interface and interacting with the user. The user interface in this case consists of a display widget and a bunch of buttons. We can keep track of these GUI widgets with instance variables. The user interaction can be managed by a set of methods that manipulate the widgets.\n",
    "\n",
    "To implement this division of labor, we will create a Calculator class that represents the calculator  in our program. The constructor for the class will create the initial interface. We will make the calculator resond to user interaction by invoking a special run method.\n",
    "\n",
    "##### 11.5.2 Constructing the Interface\n",
    "Let's take a detailed look at the constructor for the Calculator class. First, we'll need to create a graphics window to draw the interface."
   ]
  },
  {
   "cell_type": "code",
   "execution_count": 350,
   "metadata": {},
   "outputs": [],
   "source": [
    "def __init__(self):\n",
    "    # create the window for the calculator\n",
    "    win = GraphWin(\"Calculator\")\n",
    "    win.setCoords(0,0,6,7)\n",
    "    win.setBackground(\"slategray\")\n",
    "    self.win = win"
   ]
  },
  {
   "cell_type": "markdown",
   "metadata": {},
   "source": [
    "The coordinates for the window were chosen to simplify the layout of the buttons. In the last line, the window object is tucked into an instance variable so that other methods can refer to it.\n",
    "\n",
    "The next step is to create the buttons. We will reuse the button class from the last chapter. Since there are a lot of similar buttons, we will use a list to store them Here is the code that creates the button list:"
   ]
  },
  {
   "cell_type": "code",
   "execution_count": 357,
   "metadata": {},
   "outputs": [
    {
     "ename": "GraphicsError",
     "evalue": "getMouse in closed window",
     "output_type": "error",
     "traceback": [
      "\u001b[0;31m---------------------------------------------------------------------------\u001b[0m",
      "\u001b[0;31mGraphicsError\u001b[0m                             Traceback (most recent call last)",
      "\u001b[0;32m<ipython-input-357-b9a5ec566190>\u001b[0m in \u001b[0;36m<module>\u001b[0;34m\u001b[0m\n\u001b[1;32m     87\u001b[0m     \u001b[0mtheCalc\u001b[0m \u001b[0;34m=\u001b[0m \u001b[0mCalculator\u001b[0m\u001b[0;34m(\u001b[0m\u001b[0;34m)\u001b[0m\u001b[0;34m\u001b[0m\u001b[0;34m\u001b[0m\u001b[0m\n\u001b[1;32m     88\u001b[0m     \u001b[0;31m# Now call the calculator's run method.\u001b[0m\u001b[0;34m\u001b[0m\u001b[0;34m\u001b[0m\u001b[0;34m\u001b[0m\u001b[0m\n\u001b[0;32m---> 89\u001b[0;31m     \u001b[0mtheCalc\u001b[0m\u001b[0;34m.\u001b[0m\u001b[0mrun\u001b[0m\u001b[0;34m(\u001b[0m\u001b[0;34m)\u001b[0m\u001b[0;34m\u001b[0m\u001b[0;34m\u001b[0m\u001b[0m\n\u001b[0m",
      "\u001b[0;32m<ipython-input-357-b9a5ec566190>\u001b[0m in \u001b[0;36mrun\u001b[0;34m(self)\u001b[0m\n\u001b[1;32m     79\u001b[0m         \u001b[0;31m# Infinite 'event loop' to process button clicks.\u001b[0m\u001b[0;34m\u001b[0m\u001b[0;34m\u001b[0m\u001b[0;34m\u001b[0m\u001b[0m\n\u001b[1;32m     80\u001b[0m         \u001b[0;32mwhile\u001b[0m \u001b[0;32mTrue\u001b[0m\u001b[0;34m:\u001b[0m\u001b[0;34m\u001b[0m\u001b[0;34m\u001b[0m\u001b[0m\n\u001b[0;32m---> 81\u001b[0;31m             \u001b[0mkey\u001b[0m \u001b[0;34m=\u001b[0m \u001b[0mself\u001b[0m\u001b[0;34m.\u001b[0m\u001b[0mgetButton\u001b[0m\u001b[0;34m(\u001b[0m\u001b[0;34m)\u001b[0m\u001b[0;34m\u001b[0m\u001b[0;34m\u001b[0m\u001b[0m\n\u001b[0m\u001b[1;32m     82\u001b[0m             \u001b[0mself\u001b[0m\u001b[0;34m.\u001b[0m\u001b[0mprocessButton\u001b[0m\u001b[0;34m(\u001b[0m\u001b[0mkey\u001b[0m\u001b[0;34m)\u001b[0m\u001b[0;34m\u001b[0m\u001b[0;34m\u001b[0m\u001b[0m\n\u001b[1;32m     83\u001b[0m \u001b[0;34m\u001b[0m\u001b[0m\n",
      "\u001b[0;32m<ipython-input-357-b9a5ec566190>\u001b[0m in \u001b[0;36mgetButton\u001b[0;34m(self)\u001b[0m\n\u001b[1;32m     50\u001b[0m         \u001b[0;31m#    the button that was clicked.\u001b[0m\u001b[0;34m\u001b[0m\u001b[0;34m\u001b[0m\u001b[0;34m\u001b[0m\u001b[0m\n\u001b[1;32m     51\u001b[0m         \u001b[0;32mwhile\u001b[0m \u001b[0;32mTrue\u001b[0m\u001b[0;34m:\u001b[0m\u001b[0;34m\u001b[0m\u001b[0;34m\u001b[0m\u001b[0m\n\u001b[0;32m---> 52\u001b[0;31m             \u001b[0mp\u001b[0m \u001b[0;34m=\u001b[0m \u001b[0mself\u001b[0m\u001b[0;34m.\u001b[0m\u001b[0mwin\u001b[0m\u001b[0;34m.\u001b[0m\u001b[0mgetMouse\u001b[0m\u001b[0;34m(\u001b[0m\u001b[0;34m)\u001b[0m\u001b[0;34m\u001b[0m\u001b[0;34m\u001b[0m\u001b[0m\n\u001b[0m\u001b[1;32m     53\u001b[0m             \u001b[0;32mfor\u001b[0m \u001b[0mb\u001b[0m \u001b[0;32min\u001b[0m \u001b[0mself\u001b[0m\u001b[0;34m.\u001b[0m\u001b[0mbuttons\u001b[0m\u001b[0;34m:\u001b[0m\u001b[0;34m\u001b[0m\u001b[0;34m\u001b[0m\u001b[0m\n\u001b[1;32m     54\u001b[0m                 \u001b[0;32mif\u001b[0m \u001b[0mb\u001b[0m\u001b[0;34m.\u001b[0m\u001b[0mclicked\u001b[0m\u001b[0;34m(\u001b[0m\u001b[0mp\u001b[0m\u001b[0;34m)\u001b[0m\u001b[0;34m:\u001b[0m\u001b[0;34m\u001b[0m\u001b[0;34m\u001b[0m\u001b[0m\n",
      "\u001b[0;32m~/graphics.py\u001b[0m in \u001b[0;36mgetMouse\u001b[0;34m(self)\u001b[0m\n\u001b[1;32m    263\u001b[0m         \u001b[0;32mwhile\u001b[0m \u001b[0mself\u001b[0m\u001b[0;34m.\u001b[0m\u001b[0mmouseX\u001b[0m \u001b[0;34m==\u001b[0m \u001b[0;32mNone\u001b[0m \u001b[0;32mor\u001b[0m \u001b[0mself\u001b[0m\u001b[0;34m.\u001b[0m\u001b[0mmouseY\u001b[0m \u001b[0;34m==\u001b[0m \u001b[0;32mNone\u001b[0m\u001b[0;34m:\u001b[0m\u001b[0;34m\u001b[0m\u001b[0;34m\u001b[0m\u001b[0m\n\u001b[1;32m    264\u001b[0m             \u001b[0mself\u001b[0m\u001b[0;34m.\u001b[0m\u001b[0mupdate\u001b[0m\u001b[0;34m(\u001b[0m\u001b[0;34m)\u001b[0m\u001b[0;34m\u001b[0m\u001b[0;34m\u001b[0m\u001b[0m\n\u001b[0;32m--> 265\u001b[0;31m             \u001b[0;32mif\u001b[0m \u001b[0mself\u001b[0m\u001b[0;34m.\u001b[0m\u001b[0misClosed\u001b[0m\u001b[0;34m(\u001b[0m\u001b[0;34m)\u001b[0m\u001b[0;34m:\u001b[0m \u001b[0;32mraise\u001b[0m \u001b[0mGraphicsError\u001b[0m\u001b[0;34m(\u001b[0m\u001b[0;34m\"getMouse in closed window\"\u001b[0m\u001b[0;34m)\u001b[0m\u001b[0;34m\u001b[0m\u001b[0;34m\u001b[0m\u001b[0m\n\u001b[0m\u001b[1;32m    266\u001b[0m             \u001b[0mtime\u001b[0m\u001b[0;34m.\u001b[0m\u001b[0msleep\u001b[0m\u001b[0;34m(\u001b[0m\u001b[0;36m.1\u001b[0m\u001b[0;34m)\u001b[0m \u001b[0;31m# give up thread\u001b[0m\u001b[0;34m\u001b[0m\u001b[0;34m\u001b[0m\u001b[0m\n\u001b[1;32m    267\u001b[0m         \u001b[0mx\u001b[0m\u001b[0;34m,\u001b[0m\u001b[0my\u001b[0m \u001b[0;34m=\u001b[0m \u001b[0mself\u001b[0m\u001b[0;34m.\u001b[0m\u001b[0mtoWorld\u001b[0m\u001b[0;34m(\u001b[0m\u001b[0mself\u001b[0m\u001b[0;34m.\u001b[0m\u001b[0mmouseX\u001b[0m\u001b[0;34m,\u001b[0m \u001b[0mself\u001b[0m\u001b[0;34m.\u001b[0m\u001b[0mmouseY\u001b[0m\u001b[0;34m)\u001b[0m\u001b[0;34m\u001b[0m\u001b[0;34m\u001b[0m\u001b[0m\n",
      "\u001b[0;31mGraphicsError\u001b[0m: getMouse in closed window"
     ]
    }
   ],
   "source": [
    "# calc.pyw -- A four function calculator using Python arithmetic.\n",
    "#     Illustrates use of objects and lists to build a simple GUI.\n",
    "\n",
    "from graphics import *\n",
    "from button import Button\n",
    "\n",
    "class Calculator:\n",
    "    # This class implements a simple calculator GUI\n",
    "\n",
    "    def __init__(self):\n",
    "        # create the window for the calculator\n",
    "        win = GraphWin(\"calculator\")\n",
    "        win.setCoords(0,0,6,7)\n",
    "        win.setBackground(\"slategray\")\n",
    "        self.win = win\n",
    "        # Now create the widgets\n",
    "        self.__createButtons()\n",
    "        self.__createDisplay()\n",
    "\n",
    "    def __createButtons(self):\n",
    "        # create list of buttons\n",
    "        # start with all the standard sized buttons\n",
    "        # bSpecs gives center coords and label of buttons\n",
    "        bSpecs = [(2,1,'0'), (3,1,'.'),\n",
    "                  (1,2,'1'), (2,2,'2'), (3,2,'3'), (4,2,'+'), (5,2,'-'),\n",
    "                  (1,3,'4'), (2,3,'5'), (3,3,'6'), (4,3,'*'), (5,3,'/'),\n",
    "                  (1,4,'7'), (2,4,'8'), (3,4,'9'), (4,4,'<-'),(5,4,'C')]\n",
    "        self.buttons = []\n",
    "        for (cx,cy,label) in bSpecs:\n",
    "            self.buttons.append(Button(self.win,Point(cx,cy),.75,.75,label))\n",
    "        # create the larger = button\n",
    "        self.buttons.append(Button(self.win, Point(4.5,1), 1.75, .75, \"=\"))\n",
    "        # activate all buttons\n",
    "        for b in self.buttons:\n",
    "            b.activate()\n",
    "\n",
    "    def __createDisplay(self):\n",
    "        bg = Rectangle(Point(.5,5.5), Point(5.5,6.5))\n",
    "        bg.setFill('white')\n",
    "        bg.draw(self.win)\n",
    "        text = Text(Point(3,6), \"\")\n",
    "        text.draw(self.win)\n",
    "        text.setFace(\"courier\")\n",
    "        text.setStyle(\"bold\")\n",
    "        text.setSize(16)\n",
    "        self.display = text\n",
    "\n",
    "    def getButton(self):\n",
    "        # Waits for a button to be clicked and returns the label of\n",
    "        #    the button that was clicked.\n",
    "        while True:\n",
    "            p = self.win.getMouse()\n",
    "            for b in self.buttons:\n",
    "                if b.clicked(p):\n",
    "                    return b.getLabel() # method exit\n",
    "\n",
    "    def processButton(self, key):\n",
    "        # Updates the display of the calculator for press of this key\n",
    "        text = self.display.getText()\n",
    "        if key == 'C':\n",
    "            self.display.setText(\"\")\n",
    "        elif key == '<-':\n",
    "            # Backspace, slice off the last character.\n",
    "            self.display.setText(text[:-1])\n",
    "        elif key == '=':\n",
    "            # Evaluate the expresssion and display the result.\n",
    "            # the try...except mechanism \"catches\" errors in the\n",
    "            # formula being evaluated.\n",
    "            try:\n",
    "                result = eval(text)\n",
    "            except:\n",
    "                result = 'ERROR'\n",
    "            self.display.setText(str(result))\n",
    "        else:\n",
    "            # Normal key press, append it to the end of the display\n",
    "            self.display.setText(text+key)\n",
    "\n",
    "    def run(self):\n",
    "        # Infinite 'event loop' to process button clicks.\n",
    "        while True:\n",
    "            key = self.getButton()\n",
    "            self.processButton(key)\n",
    "\n",
    "# This runs the program.\n",
    "if __name__ == '__main__':\n",
    "    # First create a calculator object\n",
    "    theCalc = Calculator()\n",
    "    # Now call the calculator's run method.\n",
    "    theCalc.run()"
   ]
  },
  {
   "cell_type": "markdown",
   "metadata": {},
   "source": [
    "Study this code carefully. A button is normally specified by providing a center point, width, height and label. Typing out calls to the Button constructor with all this information for each button would be tedious. Rather than creating the buttons directly, this code first creates a list of button specifications, bSpecs. This list of specifications is then used to create the buttons. \n",
    "\n",
    "Each specficiation is a tuple consisting of the x and y coordinates of the center of the button and its label. A tuple looks like a list except that it is enclosed in round parantheses () instead of square brackets []. A tuple is just another kind of sequence in Python. Tuples are like lists except that tuples are immutable - the items can't be changed. If the contents of a sequence won't be changes after it is created, using a tuple is more efficient than using a list.\n",
    "\n",
    "The next step is to iterate through the specification list and create a cooresponding button for each entry. Take a loop at the loop heading:\n",
    "for (cx, cy, label) in bSpecs:\n",
    "\n",
    "According to the definition of a for loop, the tuple (cx, cy, label) will be assigned each successive item in the list bSpecs.\n",
    "\n",
    "Put another way, conceptually, each iteration of the loop starts with an assignment.\n",
    "(cx, cy, label) = next item from bSpecs\n",
    "\n",
    "Of course, each item in bSpecs is also a tuple. When a tuple of variables is used on the left side of an assignment, the corresponding components of the tuple on the right side are unpacked into the variables on the left side. In fact, this is how Python actually implements all simultaneous assignments.\n",
    "\n",
    "The first time through the loop, it is as if we had done this simultaneous assignment:\n",
    "cx, cy, label = 2, 1, \"0\"\n",
    "\n",
    "Each time through the loop, another tuple from bSpecs is unpacked into the variables in the loop heading. The values are then used to create a Button that is appended to the list of buttons. After all of the standard sized buttons have been created, the larger = button is created and tacked onto the list.\n",
    "\n",
    "self.buttons.append(Button(self.win, Point(4.5,1), 1.75, .75, \"=\")) \n",
    "\n",
    "We could have written a line like this for each of the previous buttons, but one can see the appeal of the specification-list/loop approach for creating 17 similar buttons.\n",
    "\n",
    "In contrast to the buttons, creating the calculator display is quite simple. The display will just be a rectangle with some text centered on it. We need to save the text object as an instance variable so that its contents can be accessed and changed during processing of button clicks. Here is the code that creates the display.\n",
    "\n",
    "bg = Rectangle(Point(.5,5.5), Point(5.5, 6.5))\n",
    "bg.setFill('white')\n",
    "bg.draw(self.win)\n",
    "text = Text(Point(3.6), \"\"\")\n",
    "text.draw(self.win)\n",
    "text.setFace(\"courier\")\n",
    "text.setStyle(\"bold\")\n",
    "text.setSize(16)\n",
    "self.display = text\n",
    "\n",
    "##### 11.5.3 Processing Buttons\n",
    "\n",
    "Now that we have an interface drawn, we need a method that actually gets the calculator running. Our calculator will use a classic event loop that waits for a button to be clicked and then processes that button. Let's encapsulate this in a method called run."
   ]
  },
  {
   "cell_type": "code",
   "execution_count": 358,
   "metadata": {},
   "outputs": [],
   "source": [
    "def run(self):\n",
    "    while True:\n",
    "        key = self.getKeyPress()\n",
    "        self.process(key)"
   ]
  },
  {
   "cell_type": "markdown",
   "metadata": {},
   "source": [
    "Notice that this is an infinite loop. To quit the program, the user will have to \"kill\" the calculator window. All that is left is to implement the getKeyPress and processKey methods.\n",
    "\n",
    "Getting key presses is easy; we continue getting mouse clicks until one of those mouse clicks is on a button. To determine whether a button has been clicked, we loop through the list of buttons and check each one. The result is a nested loop.  "
   ]
  },
  {
   "cell_type": "code",
   "execution_count": 359,
   "metadata": {},
   "outputs": [
    {
     "ename": "SyntaxError",
     "evalue": "unexpected EOF while parsing (<ipython-input-359-71af5f958719>, line 9)",
     "output_type": "error",
     "traceback": [
      "\u001b[0;36m  File \u001b[0;32m\"<ipython-input-359-71af5f958719>\"\u001b[0;36m, line \u001b[0;32m9\u001b[0m\n\u001b[0;31m    if b.clicked(p):\u001b[0m\n\u001b[0m                    ^\u001b[0m\n\u001b[0;31mSyntaxError\u001b[0m\u001b[0;31m:\u001b[0m unexpected EOF while parsing\n"
     ]
    }
   ],
   "source": [
    "def getKeyPress(self):\n",
    "    # waits for a button to be clicked\n",
    "    # returns the label of the button that was clicked\n",
    "    while True:\n",
    "        # loop for each mouse click\n",
    "        p = self.win.getMouse()\n",
    "        for b in self.buttons:\n",
    "            # loop for each button\n",
    "            if b.clicked(p):"
   ]
  },
  {
   "cell_type": "markdown",
   "metadata": {},
   "source": [
    "You can see how having the buttons in a list is a big win here. We can use a for loop at each button in turn. If the clicked point p turns out to be in one of the buttons, the label of that button is returned, providing an exit from the otherwise infinite while loop.\n",
    "\n",
    "The last step is to update the display of the calculator accordin to whic button was clicked. This is accomplished in processKey. Basically, this is a multi-way decision that checks the key label and takes the appropriate action.\n",
    "\n",
    "A digit or operator is simply appended to the display. If key contains the label of the button, and text contains the current contents of the display, the appropriate line of code looks like this:\n",
    "self.display.setText(text+key)\n",
    "\n",
    "The clear key blanks the display.\n",
    "self.display.setText(\"\")\n",
    "\n",
    "The backspace strips off one character.\n",
    "self.display.setText(text[:-1])\n",
    "Finally, the equal key causes the expression in the display to evaluated and the result displayed."
   ]
  },
  {
   "cell_type": "code",
   "execution_count": 361,
   "metadata": {},
   "outputs": [
    {
     "ename": "NameError",
     "evalue": "name 'self' is not defined",
     "output_type": "error",
     "traceback": [
      "\u001b[0;31m---------------------------------------------------------------------------\u001b[0m",
      "\u001b[0;31mNameError\u001b[0m                                 Traceback (most recent call last)",
      "\u001b[0;32m<ipython-input-361-efddea2bf3eb>\u001b[0m in \u001b[0;36m<module>\u001b[0;34m\u001b[0m\n\u001b[1;32m      1\u001b[0m \u001b[0;32mtry\u001b[0m\u001b[0;34m:\u001b[0m\u001b[0;34m\u001b[0m\u001b[0;34m\u001b[0m\u001b[0m\n\u001b[0;32m----> 2\u001b[0;31m     \u001b[0mresult\u001b[0m \u001b[0;34m=\u001b[0m \u001b[0meval\u001b[0m\u001b[0;34m(\u001b[0m\u001b[0mtext\u001b[0m\u001b[0;34m)\u001b[0m\u001b[0;34m\u001b[0m\u001b[0;34m\u001b[0m\u001b[0m\n\u001b[0m\u001b[1;32m      3\u001b[0m \u001b[0;32mexcept\u001b[0m\u001b[0;34m:\u001b[0m\u001b[0;34m\u001b[0m\u001b[0;34m\u001b[0m\u001b[0m\n",
      "\u001b[0;31mNameError\u001b[0m: name 'text' is not defined",
      "\nDuring handling of the above exception, another exception occurred:\n",
      "\u001b[0;31mNameError\u001b[0m                                 Traceback (most recent call last)",
      "\u001b[0;32m<ipython-input-361-efddea2bf3eb>\u001b[0m in \u001b[0;36m<module>\u001b[0;34m\u001b[0m\n\u001b[1;32m      3\u001b[0m \u001b[0;32mexcept\u001b[0m\u001b[0;34m:\u001b[0m\u001b[0;34m\u001b[0m\u001b[0;34m\u001b[0m\u001b[0m\n\u001b[1;32m      4\u001b[0m     \u001b[0mresult\u001b[0m \u001b[0;34m=\u001b[0m \u001b[0;34m'ERROR'\u001b[0m\u001b[0;34m\u001b[0m\u001b[0;34m\u001b[0m\u001b[0m\n\u001b[0;32m----> 5\u001b[0;31m     \u001b[0mself\u001b[0m\u001b[0;34m.\u001b[0m\u001b[0mdisplay\u001b[0m\u001b[0;34m.\u001b[0m\u001b[0msetText\u001b[0m\u001b[0;34m(\u001b[0m\u001b[0mstr\u001b[0m\u001b[0;34m(\u001b[0m\u001b[0mresult\u001b[0m\u001b[0;34m)\u001b[0m\u001b[0;34m)\u001b[0m\u001b[0;34m\u001b[0m\u001b[0;34m\u001b[0m\u001b[0m\n\u001b[0m",
      "\u001b[0;31mNameError\u001b[0m: name 'self' is not defined"
     ]
    }
   ],
   "source": [
    "try:\n",
    "    result = eval(text)\n",
    "except:\n",
    "    result = 'ERROR'\n",
    "    self.display.setText(str(result))"
   ]
  },
  {
   "cell_type": "markdown",
   "metadata": {},
   "source": [
    "The try-except here is necessary to catchrun-time errors caused by entries that are not legal Python expressions. If an error occurs, the calculator will display ERROR rather than causing the program to crash.\n",
    "\n",
    "Here is the complete program:"
   ]
  },
  {
   "cell_type": "code",
   "execution_count": 366,
   "metadata": {},
   "outputs": [
    {
     "ename": "GraphicsError",
     "evalue": "getMouse in closed window",
     "output_type": "error",
     "traceback": [
      "\u001b[0;31m---------------------------------------------------------------------------\u001b[0m",
      "\u001b[0;31mGraphicsError\u001b[0m                             Traceback (most recent call last)",
      "\u001b[0;32m<ipython-input-366-b9a5ec566190>\u001b[0m in \u001b[0;36m<module>\u001b[0;34m\u001b[0m\n\u001b[1;32m     87\u001b[0m     \u001b[0mtheCalc\u001b[0m \u001b[0;34m=\u001b[0m \u001b[0mCalculator\u001b[0m\u001b[0;34m(\u001b[0m\u001b[0;34m)\u001b[0m\u001b[0;34m\u001b[0m\u001b[0;34m\u001b[0m\u001b[0m\n\u001b[1;32m     88\u001b[0m     \u001b[0;31m# Now call the calculator's run method.\u001b[0m\u001b[0;34m\u001b[0m\u001b[0;34m\u001b[0m\u001b[0;34m\u001b[0m\u001b[0m\n\u001b[0;32m---> 89\u001b[0;31m     \u001b[0mtheCalc\u001b[0m\u001b[0;34m.\u001b[0m\u001b[0mrun\u001b[0m\u001b[0;34m(\u001b[0m\u001b[0;34m)\u001b[0m\u001b[0;34m\u001b[0m\u001b[0;34m\u001b[0m\u001b[0m\n\u001b[0m",
      "\u001b[0;32m<ipython-input-366-b9a5ec566190>\u001b[0m in \u001b[0;36mrun\u001b[0;34m(self)\u001b[0m\n\u001b[1;32m     79\u001b[0m         \u001b[0;31m# Infinite 'event loop' to process button clicks.\u001b[0m\u001b[0;34m\u001b[0m\u001b[0;34m\u001b[0m\u001b[0;34m\u001b[0m\u001b[0m\n\u001b[1;32m     80\u001b[0m         \u001b[0;32mwhile\u001b[0m \u001b[0;32mTrue\u001b[0m\u001b[0;34m:\u001b[0m\u001b[0;34m\u001b[0m\u001b[0;34m\u001b[0m\u001b[0m\n\u001b[0;32m---> 81\u001b[0;31m             \u001b[0mkey\u001b[0m \u001b[0;34m=\u001b[0m \u001b[0mself\u001b[0m\u001b[0;34m.\u001b[0m\u001b[0mgetButton\u001b[0m\u001b[0;34m(\u001b[0m\u001b[0;34m)\u001b[0m\u001b[0;34m\u001b[0m\u001b[0;34m\u001b[0m\u001b[0m\n\u001b[0m\u001b[1;32m     82\u001b[0m             \u001b[0mself\u001b[0m\u001b[0;34m.\u001b[0m\u001b[0mprocessButton\u001b[0m\u001b[0;34m(\u001b[0m\u001b[0mkey\u001b[0m\u001b[0;34m)\u001b[0m\u001b[0;34m\u001b[0m\u001b[0;34m\u001b[0m\u001b[0m\n\u001b[1;32m     83\u001b[0m \u001b[0;34m\u001b[0m\u001b[0m\n",
      "\u001b[0;32m<ipython-input-366-b9a5ec566190>\u001b[0m in \u001b[0;36mgetButton\u001b[0;34m(self)\u001b[0m\n\u001b[1;32m     50\u001b[0m         \u001b[0;31m#    the button that was clicked.\u001b[0m\u001b[0;34m\u001b[0m\u001b[0;34m\u001b[0m\u001b[0;34m\u001b[0m\u001b[0m\n\u001b[1;32m     51\u001b[0m         \u001b[0;32mwhile\u001b[0m \u001b[0;32mTrue\u001b[0m\u001b[0;34m:\u001b[0m\u001b[0;34m\u001b[0m\u001b[0;34m\u001b[0m\u001b[0m\n\u001b[0;32m---> 52\u001b[0;31m             \u001b[0mp\u001b[0m \u001b[0;34m=\u001b[0m \u001b[0mself\u001b[0m\u001b[0;34m.\u001b[0m\u001b[0mwin\u001b[0m\u001b[0;34m.\u001b[0m\u001b[0mgetMouse\u001b[0m\u001b[0;34m(\u001b[0m\u001b[0;34m)\u001b[0m\u001b[0;34m\u001b[0m\u001b[0;34m\u001b[0m\u001b[0m\n\u001b[0m\u001b[1;32m     53\u001b[0m             \u001b[0;32mfor\u001b[0m \u001b[0mb\u001b[0m \u001b[0;32min\u001b[0m \u001b[0mself\u001b[0m\u001b[0;34m.\u001b[0m\u001b[0mbuttons\u001b[0m\u001b[0;34m:\u001b[0m\u001b[0;34m\u001b[0m\u001b[0;34m\u001b[0m\u001b[0m\n\u001b[1;32m     54\u001b[0m                 \u001b[0;32mif\u001b[0m \u001b[0mb\u001b[0m\u001b[0;34m.\u001b[0m\u001b[0mclicked\u001b[0m\u001b[0;34m(\u001b[0m\u001b[0mp\u001b[0m\u001b[0;34m)\u001b[0m\u001b[0;34m:\u001b[0m\u001b[0;34m\u001b[0m\u001b[0;34m\u001b[0m\u001b[0m\n",
      "\u001b[0;32m~/graphics.py\u001b[0m in \u001b[0;36mgetMouse\u001b[0;34m(self)\u001b[0m\n\u001b[1;32m    263\u001b[0m         \u001b[0;32mwhile\u001b[0m \u001b[0mself\u001b[0m\u001b[0;34m.\u001b[0m\u001b[0mmouseX\u001b[0m \u001b[0;34m==\u001b[0m \u001b[0;32mNone\u001b[0m \u001b[0;32mor\u001b[0m \u001b[0mself\u001b[0m\u001b[0;34m.\u001b[0m\u001b[0mmouseY\u001b[0m \u001b[0;34m==\u001b[0m \u001b[0;32mNone\u001b[0m\u001b[0;34m:\u001b[0m\u001b[0;34m\u001b[0m\u001b[0;34m\u001b[0m\u001b[0m\n\u001b[1;32m    264\u001b[0m             \u001b[0mself\u001b[0m\u001b[0;34m.\u001b[0m\u001b[0mupdate\u001b[0m\u001b[0;34m(\u001b[0m\u001b[0;34m)\u001b[0m\u001b[0;34m\u001b[0m\u001b[0;34m\u001b[0m\u001b[0m\n\u001b[0;32m--> 265\u001b[0;31m             \u001b[0;32mif\u001b[0m \u001b[0mself\u001b[0m\u001b[0;34m.\u001b[0m\u001b[0misClosed\u001b[0m\u001b[0;34m(\u001b[0m\u001b[0;34m)\u001b[0m\u001b[0;34m:\u001b[0m \u001b[0;32mraise\u001b[0m \u001b[0mGraphicsError\u001b[0m\u001b[0;34m(\u001b[0m\u001b[0;34m\"getMouse in closed window\"\u001b[0m\u001b[0;34m)\u001b[0m\u001b[0;34m\u001b[0m\u001b[0;34m\u001b[0m\u001b[0m\n\u001b[0m\u001b[1;32m    266\u001b[0m             \u001b[0mtime\u001b[0m\u001b[0;34m.\u001b[0m\u001b[0msleep\u001b[0m\u001b[0;34m(\u001b[0m\u001b[0;36m.1\u001b[0m\u001b[0;34m)\u001b[0m \u001b[0;31m# give up thread\u001b[0m\u001b[0;34m\u001b[0m\u001b[0;34m\u001b[0m\u001b[0m\n\u001b[1;32m    267\u001b[0m         \u001b[0mx\u001b[0m\u001b[0;34m,\u001b[0m\u001b[0my\u001b[0m \u001b[0;34m=\u001b[0m \u001b[0mself\u001b[0m\u001b[0;34m.\u001b[0m\u001b[0mtoWorld\u001b[0m\u001b[0;34m(\u001b[0m\u001b[0mself\u001b[0m\u001b[0;34m.\u001b[0m\u001b[0mmouseX\u001b[0m\u001b[0;34m,\u001b[0m \u001b[0mself\u001b[0m\u001b[0;34m.\u001b[0m\u001b[0mmouseY\u001b[0m\u001b[0;34m)\u001b[0m\u001b[0;34m\u001b[0m\u001b[0;34m\u001b[0m\u001b[0m\n",
      "\u001b[0;31mGraphicsError\u001b[0m: getMouse in closed window"
     ]
    }
   ],
   "source": [
    "# calc.pyw -- A four function calculator using Python arithmetic.\n",
    "#     Illustrates use of objects and lists to build a simple GUI.\n",
    "\n",
    "from graphics import *\n",
    "from button import Button\n",
    "\n",
    "class Calculator:\n",
    "    # This class implements a simple calculator GUI\n",
    "\n",
    "    def __init__(self):\n",
    "        # create the window for the calculator\n",
    "        win = GraphWin(\"calculator\")\n",
    "        win.setCoords(0,0,6,7)\n",
    "        win.setBackground(\"slategray\")\n",
    "        self.win = win\n",
    "        # Now create the widgets\n",
    "        self.__createButtons()\n",
    "        self.__createDisplay()\n",
    "\n",
    "    def __createButtons(self):\n",
    "        # create list of buttons\n",
    "        # start with all the standard sized buttons\n",
    "        # bSpecs gives center coords and label of buttons\n",
    "        bSpecs = [(2,1,'0'), (3,1,'.'),\n",
    "                  (1,2,'1'), (2,2,'2'), (3,2,'3'), (4,2,'+'), (5,2,'-'),\n",
    "                  (1,3,'4'), (2,3,'5'), (3,3,'6'), (4,3,'*'), (5,3,'/'),\n",
    "                  (1,4,'7'), (2,4,'8'), (3,4,'9'), (4,4,'<-'),(5,4,'C')]\n",
    "        self.buttons = []\n",
    "        for (cx,cy,label) in bSpecs:\n",
    "            self.buttons.append(Button(self.win,Point(cx,cy),.75,.75,label))\n",
    "        # create the larger = button\n",
    "        self.buttons.append(Button(self.win, Point(4.5,1), 1.75, .75, \"=\"))\n",
    "        # activate all buttons\n",
    "        for b in self.buttons:\n",
    "            b.activate()\n",
    "\n",
    "    def __createDisplay(self):\n",
    "        bg = Rectangle(Point(.5,5.5), Point(5.5,6.5))\n",
    "        bg.setFill('white')\n",
    "        bg.draw(self.win)\n",
    "        text = Text(Point(3,6), \"\")\n",
    "        text.draw(self.win)\n",
    "        text.setFace(\"courier\")\n",
    "        text.setStyle(\"bold\")\n",
    "        text.setSize(16)\n",
    "        self.display = text\n",
    "\n",
    "    def getButton(self):\n",
    "        # Waits for a button to be clicked and returns the label of\n",
    "        #    the button that was clicked.\n",
    "        while True:\n",
    "            p = self.win.getMouse()\n",
    "            for b in self.buttons:\n",
    "                if b.clicked(p):\n",
    "                    return b.getLabel() # method exit\n",
    "\n",
    "    def processButton(self, key):\n",
    "        # Updates the display of the calculator for press of this key\n",
    "        text = self.display.getText()\n",
    "        if key == 'C':\n",
    "            self.display.setText(\"\")\n",
    "        elif key == '<-':\n",
    "            # Backspace, slice off the last character.\n",
    "            self.display.setText(text[:-1])\n",
    "        elif key == '=':\n",
    "            # Evaluate the expresssion and display the result.\n",
    "            # the try...except mechanism \"catches\" errors in the\n",
    "            # formula being evaluated.\n",
    "            try:\n",
    "                result = eval(text)\n",
    "            except:\n",
    "                result = 'ERROR'\n",
    "            self.display.setText(str(result))\n",
    "        else:\n",
    "            # Normal key press, append it to the end of the display\n",
    "            self.display.setText(text+key)\n",
    "\n",
    "    def run(self):\n",
    "        # Infinite 'event loop' to process button clicks.\n",
    "        while True:\n",
    "            key = self.getButton()\n",
    "            self.processButton(key)\n",
    "\n",
    "# This runs the program.\n",
    "if __name__ == '__main__':\n",
    "    # First create a calculator object\n",
    "    theCalc = Calculator()\n",
    "    # Now call the calculator's run method.\n",
    "    theCalc.run()"
   ]
  },
  {
   "cell_type": "markdown",
   "metadata": {},
   "source": [
    "Notice especially the very end of the program. To run the application, we create an instance of the Calculator class and then call its run method.\n",
    "\n",
    "#### 11.6 Non-Sequential Collections\n",
    "\n",
    "Python provides another built in data type for collections, called a dictionary. While dictionaries are incredibly useful, they are not as common in other languages as lists(arrays). The example programs in the rest of the book will not use dictionaries, so you can skip the rest of this section if you've learned all you want to about collections for the moment.\n",
    "\n",
    "##### 11.6.1 Dictionary Basics\n",
    "\n",
    "Lists allow us to store and retrieve items from sequential collections. When we want to access an item in the collection, we look it up by index; its position in the collection. Many applications require a more flexible way to look up information. For example, we might want to retrieve information about students or employees based on their social security numbers.\n",
    "\n",
    "In programming terminology, this is a key-value pair. We access the value(student information) associated with a particular key (social security number). If you think a bit, you can come up with lots of others examples of useful key-value pairs: names and phone numbers, usernames and passwords, zipcodes and shipping costs, state names and capitals, sales items and quantity in stock, etc.\n",
    "\n",
    "A collection that allows us to look up information associated with arbitrary keys is called a mapping. Python dictionaries are mappings. Some other programming languages provide similar structures called hashes or associative arrays. A dictionary can be created in Python by listing key-value pairs inside of curly braces. Here is a simple dictionary that stores some fictional usernames and passwords:"
   ]
  },
  {
   "cell_type": "code",
   "execution_count": 363,
   "metadata": {},
   "outputs": [],
   "source": [
    "passwd = {\"guido\":\"superprogrammer\", \"turing\":\"genius\", \"bill\":\"monopoly\"}"
   ]
  },
  {
   "cell_type": "markdown",
   "metadata": {},
   "source": [
    "Notice that keys and values are joined with a \":\", and commas are used to separate the pairs. The main use for a dictionary is to look up the value associated with a particular key. This is done through indexing notation."
   ]
  },
  {
   "cell_type": "code",
   "execution_count": 364,
   "metadata": {},
   "outputs": [
    {
     "data": {
      "text/plain": [
       "'superprogrammer'"
      ]
     },
     "execution_count": 364,
     "metadata": {},
     "output_type": "execute_result"
    }
   ],
   "source": [
    "passwd[\"guido\"]"
   ]
  },
  {
   "cell_type": "code",
   "execution_count": 365,
   "metadata": {},
   "outputs": [
    {
     "data": {
      "text/plain": [
       "'monopoly'"
      ]
     },
     "execution_count": 365,
     "metadata": {},
     "output_type": "execute_result"
    }
   ],
   "source": [
    "passwd[\"bill\"]"
   ]
  },
  {
   "cell_type": "markdown",
   "metadata": {},
   "source": [
    "In general, \n",
    "dictionary[key]\n",
    "\n",
    "returns the object associated with the given key.\n",
    "\n",
    "Dictionaries are mutable; the value associated with a key can be changed through assignment."
   ]
  },
  {
   "cell_type": "code",
   "execution_count": 367,
   "metadata": {},
   "outputs": [],
   "source": [
    "passwd[\"bill\"] = \"bluescreen\""
   ]
  },
  {
   "cell_type": "code",
   "execution_count": 368,
   "metadata": {},
   "outputs": [
    {
     "data": {
      "text/plain": [
       "{'guido': 'superprogrammer', 'turing': 'genius', 'bill': 'bluescreen'}"
      ]
     },
     "execution_count": 368,
     "metadata": {},
     "output_type": "execute_result"
    }
   ],
   "source": [
    "passwd"
   ]
  },
  {
   "cell_type": "markdown",
   "metadata": {},
   "source": [
    "In this example, you can see that value associated with 'bill' has changed to 'bluescreen'. Also notice that the dictionary prints out in a different order from how it was originally created.\n",
    "\n",
    "This is not a mistake. Mappings are inherently unordered. Internally Python stores dictionaries in a way that makes key lookup very efficient. When a dictionary is printed out, the order of keys will look essentially random. If you want to keep a collection of items in a certain order, you need a sequence, not a mapping.\n",
    "\n",
    "To summarize, dictionaries are mutable collections that implement a mapping from keys to values. Our password example showed a dictionary having strings as both keys and values. In general, keys can be any immutable type, and values can be any type at all, including programmer defined classes. Python dictionaries are very efficient and can routinely store even hundreds of thousands of items.\n",
    "\n",
    "##### 11.6.2 Dictionary Operations\n",
    "\n",
    "Like lists, Python dictionaries support a number of handy built-in operations. you have already seen how dictionaries can be defined by explicitly listing the key-value pairs in curly braces. You can also extend a dictionary by adding new entries. Suppose a new user is added to our password system. We can expand the dictionary by assigning a password for the new username."
   ]
  },
  {
   "cell_type": "code",
   "execution_count": 369,
   "metadata": {},
   "outputs": [],
   "source": [
    "passwd['newuser'] = 'ImANewbie'"
   ]
  },
  {
   "cell_type": "code",
   "execution_count": 370,
   "metadata": {},
   "outputs": [
    {
     "data": {
      "text/plain": [
       "{'guido': 'superprogrammer',\n",
       " 'turing': 'genius',\n",
       " 'bill': 'bluescreen',\n",
       " 'newuser': 'ImANewbie'}"
      ]
     },
     "execution_count": 370,
     "metadata": {},
     "output_type": "execute_result"
    }
   ],
   "source": [
    "passwd"
   ]
  },
  {
   "cell_type": "markdown",
   "metadata": {},
   "source": [
    "In fact, a common method for building dictionaries is to start with an empty collection and add the key-value pairs one at a time. Suppose that usernames and passwords were stored in a file called passwords, where each line of the file contains a username and password with a space between. We could easily create the passwd dictionary from the file."
   ]
  },
  {
   "cell_type": "code",
   "execution_count": 373,
   "metadata": {},
   "outputs": [
    {
     "ename": "SyntaxError",
     "evalue": "invalid syntax (<ipython-input-373-1b33276038bd>, line 3)",
     "output_type": "error",
     "traceback": [
      "\u001b[0;36m  File \u001b[0;32m\"<ipython-input-373-1b33276038bd>\"\u001b[0;36m, line \u001b[0;32m3\u001b[0m\n\u001b[0;31m    user, pass = line.split()\u001b[0m\n\u001b[0m             ^\u001b[0m\n\u001b[0;31mSyntaxError\u001b[0m\u001b[0;31m:\u001b[0m invalid syntax\n"
     ]
    }
   ],
   "source": [
    "passwd = {}\n",
    "for line in open('passwords', 'r'):\n",
    "    user, pass = line.split()\n",
    "    passwd[user] = pass"
   ]
  },
  {
   "cell_type": "markdown",
   "metadata": {},
   "source": [
    "To manipulate the contents of a dictionary, Python provides methods. Here are some examples using our password dictionary."
   ]
  },
  {
   "cell_type": "code",
   "execution_count": 374,
   "metadata": {},
   "outputs": [
    {
     "data": {
      "text/plain": [
       "['guido', 'turing', 'bill', 'newuser']"
      ]
     },
     "execution_count": 374,
     "metadata": {},
     "output_type": "execute_result"
    }
   ],
   "source": [
    "list(passwd.keys())"
   ]
  },
  {
   "cell_type": "code",
   "execution_count": 375,
   "metadata": {},
   "outputs": [
    {
     "data": {
      "text/plain": [
       "['superprogrammer', 'genius', 'bluescreen', 'ImANewbie']"
      ]
     },
     "execution_count": 375,
     "metadata": {},
     "output_type": "execute_result"
    }
   ],
   "source": [
    "list(passwd.values())"
   ]
  },
  {
   "cell_type": "code",
   "execution_count": 376,
   "metadata": {},
   "outputs": [
    {
     "data": {
      "text/plain": [
       "[('guido', 'superprogrammer'),\n",
       " ('turing', 'genius'),\n",
       " ('bill', 'bluescreen'),\n",
       " ('newuser', 'ImANewbie')]"
      ]
     },
     "execution_count": 376,
     "metadata": {},
     "output_type": "execute_result"
    }
   ],
   "source": [
    "list(passwd.items())"
   ]
  },
  {
   "cell_type": "code",
   "execution_count": 377,
   "metadata": {},
   "outputs": [
    {
     "data": {
      "text/plain": [
       "True"
      ]
     },
     "execution_count": 377,
     "metadata": {},
     "output_type": "execute_result"
    }
   ],
   "source": [
    "\"bill\" in passwd"
   ]
  },
  {
   "cell_type": "code",
   "execution_count": 378,
   "metadata": {},
   "outputs": [
    {
     "data": {
      "text/plain": [
       "False"
      ]
     },
     "execution_count": 378,
     "metadata": {},
     "output_type": "execute_result"
    }
   ],
   "source": [
    "'fred' in passwd"
   ]
  },
  {
   "cell_type": "code",
   "execution_count": 379,
   "metadata": {},
   "outputs": [
    {
     "data": {
      "text/plain": [
       "'bluescreen'"
      ]
     },
     "execution_count": 379,
     "metadata": {},
     "output_type": "execute_result"
    }
   ],
   "source": [
    "passwd.get('bill', 'unknown')"
   ]
  },
  {
   "cell_type": "code",
   "execution_count": 380,
   "metadata": {},
   "outputs": [
    {
     "data": {
      "text/plain": [
       "'unknown'"
      ]
     },
     "execution_count": 380,
     "metadata": {},
     "output_type": "execute_result"
    }
   ],
   "source": [
    "passwd.get('john', 'unknown')"
   ]
  },
  {
   "cell_type": "code",
   "execution_count": 381,
   "metadata": {},
   "outputs": [],
   "source": [
    "passwd.clear()"
   ]
  },
  {
   "cell_type": "code",
   "execution_count": 382,
   "metadata": {},
   "outputs": [
    {
     "data": {
      "text/plain": [
       "{}"
      ]
     },
     "execution_count": 382,
     "metadata": {},
     "output_type": "execute_result"
    }
   ],
   "source": [
    "passwd"
   ]
  },
  {
   "cell_type": "markdown",
   "metadata": {},
   "source": [
    "##### 11.6.3 Example Program: Word Frequency\n",
    "\n",
    "Let's write a program that analyzes text documents and counts how many times each word appears in the document. This kind of analysis is sometimes used as a crude measure of the style similarity between two documents and is also used by automatic indexing and archiving programs (such as Internet search engines).\n",
    "\n",
    "At the highest level, this is just a multi-accumulator problem. We need a count for each word that appears in the document. We can use a loop that iterates through each word in the document and adds one to the appropriate count. The only catch is that we will need hundreds or thousands of accumulators, one for each unique word in the document. This is where a (Python) dictionary comes in handy.\n",
    "\n",
    "We will use a dictionary where the keys are strings representing words in the document and the values are ints that count how many times the word appears. Let's call our dictionary counts. To update the count for a particular word, w, we just need a line of code something like this:\n",
    "\n",
    "counts[w] = counts[w] + 1\n",
    "\n",
    "This says to set the count associated with the word w to be one more than the current count for w. There is one small complications with using a dictionary here. The first time we encounter a word, it will not yet be in counts. Attempting to access a non-existent key produces a run-time KeyError. To guard against this, we need a decision in our algorithm.\n",
    "\n",
    "if w is already in counts:\n",
    "add one to the count for w\n",
    "else:\n",
    "set count for w to 1\n",
    "\n",
    "This decision ensures that the first time a word is encountered, it will be entered into the dictionary with a count of 1.\n",
    "\n",
    "One way to implement this decision is to use the in operator.\n",
    "\n",
    "if w in counts:\n",
    "counts[w] = counts[w] + 1\n",
    "else:\n",
    "counts[w] = 1\n",
    "\n",
    "A more elegant approach is to use the get method.\n",
    "counts[w] = counts.get(w,0) + 1\n",
    "\n",
    "If w is not already in the dictionary, this get will return 0, and the result is that entry for w is set to 1.\n",
    "\n",
    "The dictionary updating code will form the heart of our program. We just need to fill in the parts around it. The first task is to split our text document into a sequence of words. in the process, we will also convert all the text to lowercase (so, occurrences of \"Foo\" match \"foo\") and elimate punctuation (so \"foo\" matches \"foo\"). Here's the code to do that:"
   ]
  },
  {
   "cell_type": "code",
   "execution_count": 384,
   "metadata": {},
   "outputs": [
    {
     "name": "stdout",
     "output_type": "stream",
     "text": [
      "This program analyzes word frequency in a file\n",
      "and prints a report on the n most frequent words.\n",
      "\n",
      "File to analyze: RandomText1.txt\n",
      "Output analysis of how many words? 100\n",
      "as                11\n",
      "and                9\n",
      "do                 9\n",
      "in                 9\n",
      "no                 7\n",
      "of                 7\n",
      "an                 6\n",
      "fat                6\n",
      "it                 6\n",
      "ye                 6\n",
      "he                 5\n",
      "her                5\n",
      "my                 5\n",
      "nay                5\n",
      "on                 5\n",
      "to                 5\n",
      "add                4\n",
      "at                 4\n",
      "be                 4\n",
      "did                4\n",
      "his                4\n",
      "object             4\n",
      "or                 4\n",
      "six                4\n",
      "so                 4\n",
      "too                4\n",
      "we                 4\n",
      "ask                3\n",
      "chatty             3\n",
      "exposed            3\n",
      "four               3\n",
      "had                3\n",
      "him                3\n",
      "insensible         3\n",
      "is                 3\n",
      "me                 3\n",
      "nor                3\n",
      "oh                 3\n",
      "old                3\n",
      "one                3\n",
      "put                3\n",
      "the                3\n",
      "themselves         3\n",
      "travelling         3\n",
      "up                 3\n",
      "use                3\n",
      "you                3\n",
      "able               2\n",
      "absolute           2\n",
      "admitting          2\n",
      "age                2\n",
      "all                2\n",
      "allow              2\n",
      "are                2\n",
      "bachelor           2\n",
      "between            2\n",
      "both               2\n",
      "boy                2\n",
      "children           2\n",
      "cold               2\n",
      "collecting         2\n",
      "comfort            2\n",
      "conduct            2\n",
      "considered         2\n",
      "consulted          2\n",
      "difficulty         2\n",
      "direct             2\n",
      "discretion         2\n",
      "far                2\n",
      "few                2\n",
      "frequently         2\n",
      "furniture          2\n",
      "gay                2\n",
      "if                 2\n",
      "introduced         2\n",
      "late               2\n",
      "led                2\n",
      "met                2\n",
      "months             2\n",
      "motionless         2\n",
      "narrow             2\n",
      "nearer             2\n",
      "now                2\n",
      "objection          2\n",
      "occasional         2\n",
      "placing            2\n",
      "position           2\n",
      "produced           2\n",
      "propriety          2\n",
      "reasonable         2\n",
      "rendered           2\n",
      "rose               2\n",
      "sex                2\n",
      "she                2\n",
      "speedily           2\n",
      "ten                2\n",
      "they               2\n",
      "though             2\n",
      "unpleasing         2\n",
      "unsatiable         2\n"
     ]
    }
   ],
   "source": [
    "# wordfreq.py\n",
    "\n",
    "def byFreq(pair):\n",
    "    return pair[1]\n",
    "\n",
    "def main():\n",
    "    print(\"This program analyzes word frequency in a file\")\n",
    "    print(\"and prints a report on the n most frequent words.\\n\")\n",
    "\n",
    "    # get the sequence of words from the file\n",
    "    fname = input(\"File to analyze: \")\n",
    "    text = open(fname,'r').read()\n",
    "    text = text.lower()\n",
    "    for ch in '!\"#$%&()*+,-./:;<=>?@[\\\\]^_`{|}~':\n",
    "        text = text.replace(ch, ' ')\n",
    "    words = text.split()\n",
    "\n",
    "    # construct a dictionary of word counts\n",
    "    counts = {}\n",
    "    for w in words:\n",
    "        counts[w] = counts.get(w,0) + 1\n",
    "\n",
    "    # output analysis of n most frequent words.\n",
    "    n = eval(input(\"Output analysis of how many words? \"))\n",
    "    items = list(counts.items())\n",
    "    items.sort()\n",
    "    items.sort(key=byFreq, reverse=True)\n",
    "    for i in range(n):\n",
    "        word, count = items[i]\n",
    "        print(\"{0:<15}{1:>5}\".format(word, count))\n",
    "\n",
    "if __name__ == '__main__':  main()"
   ]
  },
  {
   "cell_type": "markdown",
   "metadata": {},
   "source": [
    "Use RandomText1.txt as a test file"
   ]
  },
  {
   "cell_type": "markdown",
   "metadata": {},
   "source": [
    "For a large document, our approach is unlikely to be usefule. There will be far too many words, most of which only appear a few time. A more interesting analysis is to print out the counts for the n most frequent words in the document. In order to do that, we will need to create a list that is sorted by counts (most to fewest) and then select the first n items in the list. \n",
    "\n",
    "We can start by getting a list of key-value pairs using the items method for dictionaries. \n",
    "\n",
    "items = list(count.items())\n",
    "\n",
    "Here items will be a list of tuples (e.g., [('foo', 5), ('bar', 7), ('spam', 376). ...]).\n",
    "\n",
    "If we simply sort this list (items.sort()) Python will put them in a standard order. Unfortunately, when Python compares tuples, it orders them by components, left to right. Since the first component of each pair is the word, items.sort() will out this list in alphabetical order, which is not what we want.\n",
    "\n",
    "To sort our list of items according to frequency, we can use the key-function trick again. This time, our function will take a pair as a parameter and return the second item in the pair. \n",
    "\n",
    "def byFreq(pair):\n",
    "    return pair[1]\n",
    "    \n",
    "Notice that tuples, like lists, are indexed starting a 0. So returning pair[1] hands back the frequency part of the tuple. With this comparison function, it is now a simple matter to sort our items by frequency.\n",
    "\n",
    "items.sort(key=byFreq)\n",
    "\n",
    "But we're not quite finished yet. When we have multiple words with the same frequency, it would be nice if those words appeared in the list in alphabetical order within their frequency groupl. That is, we want the list of pairs primarily sorted by frequency, but sorted alphbetically within each level. How can we handle this double-sortedness?\n",
    "\n",
    "Python's sort method performs a \"stable sort *IN PLACE*. This means that the method modifies the list that is is applied to rather than producing a new sorted vesion of the list. But the critical point for us here is the word \"stable\". A sorting algo is stable if equivalent items (items that have equal keys) stay in the same relative position to each other in the resulting list as they were in the original. Since the Python sorting algorithm is stable, if all the word were in alphabetical order before sorting them by frequency, then words having the same frequency will still be in alphabetical order. To get the result we want, we justneed to sort the list twice, first by words, then by frequency.\n",
    "\n",
    "items.sort()\n",
    "items.sort(key=byFreq, reverse=True) \n",
    "\n",
    "This orders pairs alphabetically and orders by frequency\n",
    "\n",
    "We have added one last wrinke here. Supplying the keyword parameter reverse and setting it to True tells Python to sort the list in reverse order. The resulting list will go from highest frequency to lowest.\n",
    "\n",
    "Now that the items are sorted in order from most to least frequent, we are ready to print a report of the n most frequent words. There is a loop in the program that does the trick.\n",
    "\n",
    "The loop index i is used to get the next next pair from the list of items and that item is unpacked into its word and count components. The word is then printed left-justified in 15 spaces, folllowed by the count right-justified in five spaces."
   ]
  },
  {
   "cell_type": "markdown",
   "metadata": {},
   "source": [
    "### Chapter 12\n",
    "\n",
    "## Object-Oriented Design\n",
    "\n",
    "#### 12.1 The Process of OOD\n",
    "\n",
    "Now that we kow some data structuring techniques, it's time to stretch our wings and put those tools to work. Most modern computer applications are designed using a data-centered view of computing. This so-called object-oriented design (OOD) process is a powerful complement to top-down design for the development of reliable, cost-effective software systems. In this chapter, we will look at the basic principles of OOD and apply them in a couple of case studies. \n",
    "\n",
    "The essence of design is descibing a system in terms of magical black boxes and their interfaces. Each component provides a set of services through its interface. Other components are users or clients of the services.\n",
    "\n",
    "A client only needs to understand the interface of a service; the details of how that service is implemented are not important. In fact, the internal details may change radically and not affect the client at all. Similarly, the component providing the service does not have to consider how the service might be used. The black box just has to make sure that the service is faithfully delivered. This separation of concerns is what makes the design of complex systems possible.\n",
    "\n",
    "In top-down design, functions serve the role of our maginal black boxes. A client program can use a function as along as it understands what the function does. The details of how the task is accomplished are encapsulated in the function defintion.\n",
    "\n",
    "In object-oriented design, the black boxes are objects. The magic behind objects lies in class defintions. Once a suitable class defintion has been written, we can completely ignore how the class works and just rely on the external interface; the methods. This is what allows us to draw circles in the graphics windows without so much as a glance at the code in the graphics module. All the nitty-gritty details are encapsulated in the class definitions for GraphWin and Circle.\n",
    "\n",
    "If we can break a large problem into a set of cooperating classes, we drastically reduce the complexity that must be considered to understand any given part of the program. Each class stands on its own. Object-oriented design is the process of finding and defining a useful set of classes for a given problem. Like all design, it is part art an part science.\n",
    "\n",
    "There are many different approaches to OOD, each with its own special techniques, notations, gurus and textbooks. The best way to learn about OOD is by doing. \n",
    "\n",
    "To get started, here are some intuitive guidelines for OOD.\n",
    "\n",
    "1. Look for object candidates. \n",
    "Our goal is to define a set of objects that will be helpful in solving the problem. Start with a careful consideration of the problem statement. Objects are usually described by nouns. You might underline all of the nouns in the problem statement and consider them one by one. Which of them will actually be represented in the program? Which of the have \"interesting\" behavior? Things that can be represented as primitive data types (numbers or strings) are probably not important candidates for objects. Things that seem to involve a grouping of related data items (e.g., coordinates of a point or personal data about an employee) probably are.\n",
    "\n",
    "2. Identify instance variables. \n",
    "Once you have uncovered some possible objects, think about the information atht each object will need to do its job. What linds of values will the instance variables have? Some object attributes will have primitive values; others might themselves be complex types that suggest other useful objects/classes. Strive to find good \"home\" classes for all the data in your program.\n",
    "\n",
    "3. Think about interfaces.\n",
    "When you have identifies a potential object/class and some associated data, think about what operations would be required for objects of that class to be useful. You might start by considering the verbs in the problem statement. Verbs are used to descibe actions; what must be done. List the methods that the class will require. Remember that all manipulation of the object's data should be done through the methods you provide.\n",
    "\n",
    "4. Refine the nontrivial methods.\n",
    "Some methods will look like they can be accomplished with a couple of lines of code. Other methods will require considerable work to develop an algo. Use top-down design and stepwise refinement to flesh out the details of the more difficult methods. As you go along, you may very well discover that some new interactions with other classes are needed, and this may force you to add new methods to other classes. Sometimes you may discover a need for a brand new kind of object that calls for the definition of another class.\n",
    "\n",
    "5. Design iteratively.\n",
    "As you work through the design, you will bounce back and forth bewteen designing new classes and adding methods to existing classes. Work on whatever seems to be demanding your attention. No one designs a program top to bottom in a linear, systematic fashion. Make progress whenever it seems progress needs to be made.\n",
    "\n",
    "6. Try out alternatives\n",
    "Don't be afraid to scrap an approach the doesn't seem to be working or to follow an idea and see where it leads. Good design involves a lot of trial and error. When you look at the programs of others, you are seeing finished work, not the process they went through to get there. If a program is well designed, it is probably not the result of a first try. Fred brooks, a legendary software engineer, said \"Plan to throw one away.\" Often you won't really know how a system should be built until you've already built it the wrong way.\n",
    "\n",
    "7. Keep it simple\n",
    "At each step in the design, try to find the simplest approach that will solve the problem at hand. Don't design in extra complexity until it is clear that a more complex approach is needed.\n",
    "\n",
    "Next, we'll walk through a couple of case studies that illustrate aspects of OOD. Once we fully understand these examples, we will be able to tackle our own programs and refine our design skills.\n",
    "\n",
    "#### 12.2 Case Study: Racquetball Simulation\n",
    "\n",
    "Let's return to the racquetball simulation from Chapter 9. The crux of the problem is to simulate multiple games of racquetball where the ability of the two opponents is represented by the probability that they win a point when they are serving. The inputs to the simulation are the probability for player A, the probability for player B and the number of games to simulate. The output is a nicely formatted summary of the results.\n",
    "\n",
    "In the original version of the program, we ended a game when one of the payers reached a total of 15 points. This time around, let's also consider shutouts. If one player gets to 7 before the other player has scores a point, the game ends. Our simulation should keep track of both the number of wins for each player and the number of wins that are shutouts.\n",
    "\n",
    "##### 12.2.1 Candidate Objects and Methods\n",
    "\n",
    "Our first task is to find a set of objects that could be usefule in solving this problem. We need to simulate a series of racquetball games between two players and record some statistics about the series of games. This short description already suggests one way of dividing up the work in the program. We need to do two basic things: simulate a game and keep track of some statistics.\n",
    "\n",
    "Let's tackle simulation of the game first. We can use an object to represent a single game of racquetball. A game will have to keep track of information about two players. When we creat a new game, we will specify the skill levels of the players. This suggests a class, let's call it RBallGame, with a constructor that requires parameters for the probabilities of the two players. \n",
    "\n",
    "What does our program need to do with a game? Of course it needs to play it. Let's give our class a play method that simulates the game until it is over. We could create and play a racquetball game with two lines of code:\n",
    "\n",
    "theGame = RBallGame(probA, probB)\n",
    "theGame.play()\n",
    "\n",
    "To play lots of games, we just need to put a loop around this code. That's all we really need in RBallGame to write the main program. Let's turn our attention to collecting statistics about the games.\n",
    "\n",
    "Obviously, we will have to keep track of at least four counts in order to print a summary of our simulations: wins for A, wins for B, shououts for A, and shutouts for B. We will alos print out the number of games simulated, but this can be calculated by adding the wins for A and B. Here we have four related pieces of information. Rather than treating them independently, let's group them into a single object. This object will be an instance of a class called SimStats.\n",
    "\n",
    "A SimStats object will keep track of all the information about a series of games. We have already analyzed the four crucial pieces of information. Now we have to decide what operations will be useful. For starters, we need a constructor that initializes all of the counts to 0.\n",
    "\n",
    "We also need a way of updating the counts as each new game is simulated. Let's give our object an update method. The update of the statistics will be basedon the outcome of a game. We will have to send some information to the statistics object so that the update can be done appropriately. An easy approach would be to just end the entire game and let update extract whatever information it needs.\n",
    "\n",
    "Finally, when all of the games have been simulated, wee need to print out a report of the results. This suggests a printReport method that prints out a nice report of the accumulated statistics.\n",
    "\n",
    "We have now done enough design tha we can actually write the main function for our program. Most of the details have been pushed off into the definition of our two classes.\n",
    "\n",
    "def main():\n",
    "printIntro()\n",
    "probA, probB, n = getInputs()\n",
    "\n",
    "Then, play the games\n",
    "stats = SimStats()\n",
    "for i in range(n):\n",
    "    theGame = RBallGame(probA, probB) # create a new game\n",
    "    theGame.play() # play it\n",
    "    stats.update(theGame) # get info about completed game\n",
    "    stats.printReport()  # Print the results\n",
    "    \n",
    "We have also used a couple helper functions to print an introduction and get the inputs. \n",
    "\n",
    "Now let's flesh out the details of our two classes. The SimStats class looks pretty easy; we'll tackle that one first.\n",
    "\n",
    "##### 12.2.2 Implementing SimStats\n",
    "The constructor for SimStats just needs to initialize the four counts to 0. Here is an obvious approach:\n",
    "\n",
    "class SimStats:\n",
    "    def __init__(self):\n",
    "    self.winsA = 0\n",
    "    self.winsB = 0\n",
    "    self.shutsA = 0\n",
    "    self.shutsB = 0\n",
    "    \n",
    "Now let's take a look at the update method. It takes a game as a normal parameter and must update the four counts accordingly. The heading of the method will look like this:\n",
    "def update(self, aGame):\n",
    "\n",
    "But how exactly do we know what to do? We need to know the final score of the game, but this information resides inside of aGame. Remember, we are not allowed to directly access the instance variables of aGame. We don't even know yet what those variable will be.\n",
    "\n",
    "Our analysis suggests the need for a new method in the RBallGame class. We need to extend the interface so that aGame has a way of reporting the final score. Let's call the new method getScores and have it return the score for player A and the score for player B.\n",
    "\n",
    "Now the algo for update is straightforward.\n",
    "\n",
    "def update(self, aGame):\n",
    "    a, b = aGame.getScores()\n",
    "    if a > b: # A won the game\n",
    "    \n",
    "    self.winsA = self.winsA + 1\n",
    "    if b == 0:\n",
    "        self.shutsA = self.shutsA + 1\n",
    "    else: # B won the game\n",
    "        self.winsB = self.winsB + 1\n",
    "    if a == 0:\n",
    "        self.shutsB = self.shutsB + 1\n",
    "\n",
    "We can complete the simStats class by writing a methos to print out the results. Our printReport method will generate a table that shows the wins, wn percentage, shutouts, and shutout percentage for each player.\n",
    "\n",
    "It's easy to print out the headings for this table but the formatting of the lines takes a little more care. We want to get the colums lined up nicely, and we must avoid division by zero in calculating the shutout percentage for a player who didn't get any wins. Let's write the basic method but procrastinate a bit and push off the details of formatting the line into another methos, printLine. The printLine method will need the player label (A or B) number of wins and shutouts, and the total number of games (for calculation of percentages).\n",
    "\n",
    "def printReport(self):\n",
    "    . # Print a nicely formatted report\n",
    "    n = self.winsA + self.winsB\n",
    "    print(\"Summary of\", n , \"games:\\n\")\n",
    "    print(\" wins (% total) shutouts (% wins) \")\n",
    "    print(\"------------------------------------\")\n",
    "    self.printLine(\"A\", self.prntLine(\"B\", self.winsA, self.winsB, self.shutsA, n) self.shutsB, n)\n",
    "    \n",
    "To finish out the class, we implement the printLine method. This method will make heavy use of string formatting. A good start is to define a template for the information that will appear in each line.\n",
    "\n",
    "def printLine(self, label, wins, shuts, n):\n",
    "    template = \"Player {0}:{1:5} ({2:5.1%}) {3:11} ({4})\n",
    "    if wins == 0: # Avoid division by zero!\n",
    "        shutStr = \"------\"\n",
    "    else:\n",
    "        shutStr = \"{0:4.1%}.format(float(shuts)/wins)\n",
    "        print(template.format(label, wins, float(wins)/n, shuts, shutStr))\n",
    "        \n",
    "Notice how the shutout percentage is handled. the main template includes it as a fifth slot and the if statement takes care of formatting this piec to prevent division by zero.\n",
    "\n",
    "##### 12.2.3 Implementing RBallGame\n",
    "\n",
    "Now that we have wrapped up the SimStats class, we need to turn our attention to RBallGame. Summarizing what we have decided so far, this class needs a constructor that accepts two probabilities as parameters, a play method that plays the game, and a getScores method that reports the scores.\n",
    "\n",
    "What will a racquetball game need to know? To actually play the game, we have to remember the probability for each player, the score for each player and which player is serving. If you think about this carefully, you will see that probability and score are properties related to particular players, while the server is a property of the game bewteen two players. that suggests that we might simply consider that a game needs to know who the players are and which is serving. The players themselves can be objects that know their probability and score. Thinking about the RballGame class this way leads us to design some new objects.\n",
    "\n",
    "If the players are objects, then we will need another class to define their behavior. Let's name that class Player. A Player object will keep track of its proability and current score. When a Player is first created the probability will be supplied as a parameter, but the score will just start out at 0. We'll flesh out the design of Player class methoods as we work on RballGame.\n",
    "\n",
    "We are now in a position to define the constructor for RBallGame. The game will need instance variables for the two players and another variable to keep track of which player is serving.\n",
    "\n",
    "class RBallGame:\n",
    "    def __init__(self, self.playerA = self.playerB = probA, probB):\n",
    "        Player(probA) \n",
    "        Player(probB)\n",
    "        \n",
    "        self.server = self.PlayerA # player A always serves first\n",
    "        \n",
    "Sometimes it helps to draw a picture to see the realtionships among the objects that we are creating. Suppose we creat an instance of RBallGame like this:\n",
    "\n",
    "theGame = RBallGame(.6, .5)\n",
    "\n",
    "Ok, now that we can create an RBallGame, we need to figure out how to play it. We need an algo that continues to seve rallies and either award points or change the server as appropriate until the game is over. We can translate this loose algorithm almost directly into our object-based code.\n",
    "\n",
    "First, we need a loop that continues as long as the game is not over. Obviously, the decision of whether the game has ended or not can only be made by looking at the game object itself. Let's just assume that an appropriate isOvermethod can be written. The beginning of our play methos can make use of this (yet to be written) method.\n",
    "\n",
    "def play(self):\n",
    "    while not self.isOver():\n",
    "    \n",
    "Inside of the loop, we need to have the serving player serve and, based on the result, decide what to do. This suggests that Player objects should have a method that performs a serve. After all, whether the serve is won or not depends on the probability that is stored inside of each player object. We'll just ask the server if the serve is won or lost.\n",
    "\n",
    "if self.server.winsServe():\n",
    "\n",
    "Based on this result, we either award a point or change the server. To award a point, we need to change a player's score. This again requires the player to do something, namely increment the score. Changing servers, on the other hand, is done at the game level, since this information is keft in the server instance variable of RBallGame.\n",
    "\n",
    "Putting it all together, here is our play method:\n",
    "def play(self):\n",
    "    while not self.isOver():\n",
    "        if self.server.winsServe():\n",
    "            self.server.inScore()\n",
    "        else:\n",
    "            self.changeServer()\n",
    "            \n",
    "As long as you remember that self is an RBallGame, this code should be clear. While the game is not over, if the server wins a serve, award a point to the server; otherwise change the server.\n",
    "\n",
    "Of course, the price we pay for this simple algorithm is that we now hace two new methods (isOver and changeServer) that need to be implemented in the RBallGame class and two more (winsServe and incScore) for the Player class.\n",
    "\n",
    "Before attacking these new methods, let's go back and finish up the other top-level method of the RBallGame class, namely getScores. This one just returns the scores of the two players. Of course, we run into the same problem again. It is the player objects that actually know the scores, so we will need a method that asks a player to return its score.\n",
    "\n",
    "def getScores(self):\n",
    "    return self.playerA.getScore(), self.playerB.getScore()\n",
    "    \n",
    "This adds one more method to be implemented in the Player class. Make sure you put that on our list to complete later.\n",
    "\n",
    "To finish out the RBallGame class, we need to write the isOver and changeServer methods. Given what we have we have developed already and our previous version of this program, these methods are straightforward. I'll leave those as an exercise for you at the moment. If you're looking for my solutions, skip to the complete code at the end of this section.\n",
    "\n",
    "##### 12.2.4 Implementing Player\n",
    "\n",
    "In developing the RBallGame class, we discovered the need for a Player class that encapsulates the service probability and current score for a player. The Player class need a suitable constructor and methods for winsServe, incScore and getScore.\n",
    "\n",
    "If you are getting the hang of this object-oriented approach, you should have no trouble coming p with a constuctor. We just need to initialize the instance variables. The player's probability will be passed as a parameter, and the score starts at 0.\n",
    "\n",
    "def __init__(self, prob):\n",
    "    . # Create a player with this probability\n",
    "    self.prob = prob\n",
    "    self.score = 0\n",
    "    \n",
    "The other methods for our Player class are even simpler. To see if a player wins a serve, we compare the probability to a random number between 0 and 1.\n",
    "\n",
    "def winsServe(self):\n",
    "    return random() <= self.prob\n",
    "    \n",
    "To give a player a point, we simply add one to the score.\n",
    "\n",
    "def incScore(self):\n",
    "    self.score = self.score + 1\n",
    "\n",
    "The final method just returns the value of the score.\n",
    "\n",
    "def getScore(self):\n",
    "    return self.score\n",
    "    \n",
    "Initially, you may think that it's silly yo create a class with a bunch of one or two line methods. Actually, it's quite common for a well-modularized object-oriented program to have lots of trivial methods. The point of design is to break down a problem into simpler pieces. If those pieces are so simple that their implementations are obvious, that gives us confidence that we must have gotten it right.\n",
    "\n",
    "##### 12.2.5 The Complete Program"
   ]
  },
  {
   "cell_type": "code",
   "execution_count": 386,
   "metadata": {},
   "outputs": [
    {
     "name": "stdout",
     "output_type": "stream",
     "text": [
      "This program simulates games of racquetball between two\n",
      "players called \"A\" and \"B\".  The ability of each player is\n",
      "indicated by a probability (a number between 0 and 1) that\n",
      "the player wins the point when serving. Player A always\n",
      "has the first serve.\n",
      "\n",
      "What is the prob. player A wins a serve? .5\n",
      "What is the prob. player B wins a serve? .5\n",
      "How many games to simulate? 10000\n",
      "Summary of 10000 games:\n",
      "\n",
      "          wins (% total)   shutouts (% wins)  \n",
      "--------------------------------------------\n",
      "Player A: 5325  (53.2%)         614   (11.5%)\n",
      "Player B: 4675  (46.8%)         283   (6.1%)\n",
      "\n",
      "Press <Enter> to quit\n"
     ]
    },
    {
     "data": {
      "text/plain": [
       "''"
      ]
     },
     "execution_count": 386,
     "metadata": {},
     "output_type": "execute_result"
    }
   ],
   "source": [
    "# objrball.py -- Simulation of a racquet game.\n",
    "#             Illustrates design with objects.\n",
    "\n",
    "from random import random\n",
    "\n",
    "class Player:\n",
    "    # A Player keeps track of service probability and score\n",
    "\n",
    "    def __init__(self, prob):\n",
    "        # Create a player with this probability\n",
    "        self.prob = prob\n",
    "        self.score = 0\n",
    "\n",
    "    def winsServe(self):\n",
    "        # Returns a Boolean that is true with probability self.prob\n",
    "        return random() <= self.prob\n",
    "\n",
    "    def incScore(self):\n",
    "        # Add a point to this player's score\n",
    "        self.score = self.score + 1\n",
    "\n",
    "    def getScore(self):\n",
    "        # Returns this player's current score\n",
    "        return self.score\n",
    "\n",
    "class RBallGame:\n",
    "    # A RBallGame represents a game in progress. A game has two players\n",
    "    # and keeps track of which one is currently serving.\n",
    "\n",
    "    def __init__(self, probA, probB):\n",
    "        # Create a new game having players with the given probs.\n",
    "        self.playerA = Player(probA)\n",
    "        self.playerB = Player(probB)\n",
    "        self.server = self.playerA  # Player A always serves first\n",
    "\n",
    "    def play(self):\n",
    "        # Play the game to completion\n",
    "        while not self.isOver():\n",
    "            if self.server.winsServe():\n",
    "                self.server.incScore()\n",
    "            else:\n",
    "                self.changeServer()\n",
    "            \n",
    "    def isOver(self):\n",
    "        # Returns game is finished (i.e. one of the players has won).\n",
    "        a,b = self.getScores()\n",
    "        return a == 15 or b == 15 or \\\n",
    "               (a == 7 and b == 0) or (b==7 and a == 0)\n",
    "\n",
    "    def changeServer(self):\n",
    "        # Switch which player is serving\n",
    "        if self.server == self.playerA:\n",
    "            self.server = self.playerB\n",
    "        else:\n",
    "            self.server = self.playerA\n",
    "\n",
    "    def getScores(self):\n",
    "        # Returns the current scores of player A and player B\n",
    "        return self.playerA.getScore(), self.playerB.getScore()\n",
    "\n",
    "class SimStats:\n",
    "    # SimStats handles accumulation of statistics across multiple\n",
    "    #   (completed) games. This version tracks the wins and shutouts for\n",
    "    #   each player.\n",
    "\n",
    "    def __init__(self):\n",
    "        # Create a new accumulator for a series of games\n",
    "        self.winsA = 0\n",
    "        self.winsB = 0\n",
    "        self.shutsA = 0\n",
    "        self.shutsB = 0\n",
    "\n",
    "    def update(self, aGame):\n",
    "        # Determine the outcome of aGame and update statistics\n",
    "        a, b = aGame.getScores()\n",
    "        if a > b:                             # A won the game\n",
    "            self.winsA = self.winsA + 1\n",
    "            if b == 0:\n",
    "                self.shutsA = self.shutsA + 1\n",
    "        else:                                 # B won the game\n",
    "            self.winsB = self.winsB + 1\n",
    "            if a == 0:\n",
    "                self.shutsB = self.shutsB + 1\n",
    "\n",
    "    def printReport(self):\n",
    "        # Print a nicely formatted report\n",
    "        n = self.winsA + self.winsB\n",
    "        print(\"Summary of\", n , \"games:\\n\")\n",
    "        print(\"          wins (% total)   shutouts (% wins)  \")\n",
    "        print(\"--------------------------------------------\")\n",
    "        self.printLine(\"A\", self.winsA, self.shutsA, n)\n",
    "        self.printLine(\"B\", self.winsB, self.shutsB, n)\n",
    "            \n",
    "    def printLine(self, label, wins, shuts, n):\n",
    "        template = \"Player {0}:{1:5}  ({2:5.1%}) {3:11}   ({4})\"\n",
    "        if wins == 0:        # Avoid division by zero!\n",
    "            shutStr = \"-----\"\n",
    "        else:\n",
    "            shutStr = \"{0:4.1%}\".format(float(shuts)/wins)\n",
    "        print(template.format(label, wins, float(wins)/n, shuts, shutStr)) \n",
    "\n",
    "\n",
    "def printIntro():\n",
    "    print(\"This program simulates games of racquetball between two\")\n",
    "    print('players called \"A\" and \"B\".  The ability of each player is')\n",
    "    print(\"indicated by a probability (a number between 0 and 1) that\")\n",
    "    print(\"the player wins the point when serving. Player A always\")\n",
    "    print(\"has the first serve.\\n\")\n",
    "        \n",
    "def getInputs():\n",
    "    # Returns the three simulation parameters\n",
    "    a = eval(input(\"What is the prob. player A wins a serve? \"))\n",
    "    b = eval(input(\"What is the prob. player B wins a serve? \"))\n",
    "    n = eval(input(\"How many games to simulate? \"))\n",
    "    return a, b, n\n",
    "\n",
    "def main():\n",
    "    printIntro()\n",
    "    \n",
    "    probA, probB, n = getInputs()\n",
    "\n",
    "    # Play the games\n",
    "    stats = SimStats()\n",
    "    for i in range(n):\n",
    "        theGame = RBallGame(probA, probB) # create a new game\n",
    "        theGame.play()                    # play it\n",
    "        stats.update(theGame)             # extract info\n",
    "\n",
    "    # Print the results\n",
    "    stats.printReport()\n",
    "\n",
    "main()\n",
    "input(\"\\nPress <Enter> to quit\")"
   ]
  },
  {
   "cell_type": "markdown",
   "metadata": {},
   "source": [
    "### 12.3 Case Study: Dice Poker\n",
    "\n",
    "In Chapter 10, we suggested that objects are particularly useful for the design of graphical user interfaces (GUI). Let's look at a graphical application using some of the widgets that we developed in previous chapters.\n",
    "\n",
    "##### 12.3.1 Program Specification \n",
    "\n",
    "Our goal is to write a game program that allows a user to play video poker using dice. The program will display a hand consisting of five dice. The basic set of rules is as follows:\n",
    "\n",
    "The player starts with $100\n",
    "Each round costs $10 to play. This amount is subtracted from the palyer's money at the start of the round.\n",
    "The player initially rolls a completely random hand (i.e., all five dice are rolled).\n",
    "The player gets two chances to enhance the hand by rerolling some or all of the dice.\n",
    "At the end of the hand, the player's money is updated according to the following payout schedule:\n",
    "Hand Pay\n",
    "Two Pairs 5\n",
    "Three of a Kind 8\n",
    "Full House (A pair and Three of a Kind) 12\n",
    "Four of a Kind 15\n",
    "Straight (1-5 or 2-6) 20\n",
    "Five of a Kind 30\n",
    "\n",
    "Ultimately, we want this program to present a nice graphical interface. Our interaction will be through mouse clicks. The interface should have the following characteristics:\n",
    "\n",
    "The current score (amount of money) is constantly displayed.\n",
    "\n",
    "The program automatically terminates if the player goes broke.\n",
    "\n",
    "The player may choose to quit at appropriate points during play.\n",
    "\n",
    "The interface will present visual cues to indicate what is going on at any given moment and what the valid user responses are.\n",
    "\n",
    "##### 12.3.2 Identifying Candidate Objects\n",
    "\n",
    "our first step is to analyze the program description and identify some objects that will be useful in attacking this problem. This is a game involving dice and money. Are either of these good candidates for objects? Both the money and an individual die can be simply represented as numbers. By themselves, they do not to seem to be good objects candidates. However, the game uses five dice and this sounds like a collection. We will still need to be able to roll all the dice or a selection of dice as well as analyze the collection to see what it scores.\n",
    "\n",
    "We can encapsulate the informatio abut the dice in a Dice class. Here are a few obvious operations that this class will have to implement:\n",
    "\n",
    "constuctor - Create the initial collection\n",
    "\n",
    "rollAll - Assign random values to each of the five dice\n",
    "\n",
    "roll - Assign a random value to some subset of the dice, while maintaining the current value of others.\n",
    "\n",
    "values - Return the current values of the five dice.\n",
    "\n",
    "score - Return the score for the dice.\n",
    "\n",
    "We can also think of the entire program as an object. Let's call the class PokerApp. A PokerApp object will keep track of the current amount of money, the dice, the number of rolls, etc. It will implement a run method that we use to get things started and also some helper methods that are used to implement run. We won't know exactly what methods are needed until we design the main algorithm.\n",
    "\n",
    "Up to this point, I have concentrated on the actual game that we are implementing. Another component to this program will be the user interface. One good way to break down the complexity of a more sophisticated program is to separate the user interface from the main guts of the program. This is often called the model-view approach. Our program implements some model (in this case, it models a poker game), and the interface is a view of the current state of the model.\n",
    "\n",
    "One way of separating out the interface is to encapsulate the decisions about the interface in a separate interface object. An advantage of this approach is that we can change the look and feel of the program simply by substituting a different interface object. For example, we might have a text-based version of a program and a graphical version.\n",
    "\n",
    "Let's assume that our program will make use of an interface object, call it a PokerInterface. It's not clear yet exactly what behaviors we will need from this class, but as we refine the PokerApll class, we will need to get information from the user and also display infomration about the game. These will correspond to method implemented by the PokerInterface class.\n",
    "\n",
    "##### 12.3.3 Implementing the Model\n",
    "\n",
    "So far, we have a pretty good picture of what the Dice class will do and a starting point for implementing the PokerApp class. We could proceed by working on either of these classes. We won't really be able to try out the Poker App class until we have dice so let's start with the lower-level Dice class.\n",
    "\n",
    "##### Implementing Dice\n",
    "\n",
    "The Dice class implements a collection of dice, which are just changing numbers. The obvious representation is to use a list of five ints. Our constructor needs to create a list and assign some intitial values.\n",
    "\n",
    "class Dice:\n",
    "    def __init__(self):\n",
    "        self.dice = [0]*5\n",
    "        self.rollAll()\n",
    "        \n",
    "This code first creates a list of five zeroes. These need to be set to some random values. Since we are going to implement a rollAll function anyway, calling it here saves duplicating that code.\n",
    "\n",
    "We need methods to selected dice and also to roll all of the dice. Since the latter is a special case of the former, let's turn our atteention to the roll function, which rolls a subset. We can specifiy which dice to roll by passing a list of indexes. For example, roll([0,3,4]) would roll the dice in positions 0,3 and 4 of the dice list. We just need a loop that goes through the paramter and generates a new random value for each listed position.\n",
    "\n",
    "def roll(self, which):\n",
    "    for pos in which:\n",
    "        self.dice[pos] = randrange(1,7)\n",
    "        \n",
    "Next, we can use roll to implement rollAll as follows:\n",
    "def rollAll(self):\n",
    "    self.roll(range(5))\n",
    "    \n",
    "We used range(5) to generate a sequence of all the indexes.\n",
    "\n",
    "The values function is used to return the values of the dice so that they can be displayed.\n",
    "\n",
    "Another one-liner suffices.\n",
    "\n",
    "def values(self):\n",
    "    return self.dice[:]\n",
    "    \n",
    "Notice that we created a copy of the dice list by slicing it. That way, if a Dice client modifies the list that it gets back from values, if will not affect the original copy stored in the Dice object. This defensive programming prevents other parts of the code from accidentall messing with our object.\n",
    "\n",
    "Finally, we come to the score method. This si the function that will determine the worth of the current dice. We need to examine the values and determine whether we have any of the pattenrs that lead to a payoff, namelyFive of a Kind, Four of a Kind, Full House, Three of a Kind, Two Pairs, or Straight. Our function will need some way toindicate what the payoff is. Let's return a string labeling what the hand is and an int that gives the payoff amount.\n",
    "\n",
    "We can think of this function as a multi-way decision. We simply need to check for each possible hand. If we do so in a sensible order, we can guarrantee giving the correct payout. For example, a full house also contains a three of a kind. We need to check for the full ouse before checking for three of a kind, since the full house is more valuable.\n",
    "\n",
    "One simple way of checking the hand is to generate a list of the counts of each value. That is, counts[i] will be the number of times that the i occurs in dice. If the dice are: [3,2,5,2,3] then the count list would be [0,0,2,2,0,1,0]. Notice thath counts [0] will always be zero, since dice values are in the range 1-6. Checking for various hands can then be done by looking for various values in counts. For example, if counts contains a 3 and a 2, the hand contains a triple and a pair; hence it is a full house.\n",
    "\n",
    "Here's the code:\n",
    "\n",
    "def score(self):\n",
    "    . # Create the counts list\n",
    "    counts = [0] * 7\n",
    "    for value in self.dice:\n",
    "        counts[value] = counts[value] + 1\n",
    "        . # score the hand\n",
    "        if 5 in counts:\n",
    "            return \"Five of a Kind\", 30\n",
    "        elif 4 in counts:\n",
    "            return \"Four of a Kind\", 15\n",
    "        elif (3 in counts) and (2 in counts):\n",
    "            return \"Full House\", 12\n",
    "        elif 3 in counts:\n",
    "            return \"Three of a Kind\", 8\n",
    "        elif not (2 in counts) and (counts[1]==0 or counts[6] == 0):\n",
    "            return \"Straight\", 20\n",
    "        elif counts.count(2) == 2:\n",
    "            return \"Two Pairs\", 5\n",
    "        else:\n",
    "            return \"Garbage\", 0\n",
    "            \n",
    "The only tricky part is testing for straights. Since we have already checked for 5,4, and 3 of a kind, checking that there are no pairs - not 2 in counts - guarantees that the dice show five distinct values. If there is no 6, then the values must be 1-5; likewise, no 1 means the values must be 2-6.\n",
    "\n",
    "At this point, we could try out the Dice class to make sure that it is working correctly. Here is short interaction showing some of what the class can do:"
   ]
  },
  {
   "cell_type": "code",
   "execution_count": 387,
   "metadata": {},
   "outputs": [],
   "source": [
    "from dice import Dice"
   ]
  },
  {
   "cell_type": "code",
   "execution_count": 388,
   "metadata": {},
   "outputs": [],
   "source": [
    "d = Dice()"
   ]
  },
  {
   "cell_type": "code",
   "execution_count": 389,
   "metadata": {},
   "outputs": [
    {
     "data": {
      "text/plain": [
       "[6, 3, 6, 6, 2]"
      ]
     },
     "execution_count": 389,
     "metadata": {},
     "output_type": "execute_result"
    }
   ],
   "source": [
    "d.values()"
   ]
  },
  {
   "cell_type": "code",
   "execution_count": 390,
   "metadata": {},
   "outputs": [
    {
     "data": {
      "text/plain": [
       "('Three of a Kind', 8)"
      ]
     },
     "execution_count": 390,
     "metadata": {},
     "output_type": "execute_result"
    }
   ],
   "source": [
    "d.score()"
   ]
  },
  {
   "cell_type": "code",
   "execution_count": 391,
   "metadata": {},
   "outputs": [],
   "source": [
    "d.roll([4])"
   ]
  },
  {
   "cell_type": "code",
   "execution_count": 392,
   "metadata": {},
   "outputs": [
    {
     "data": {
      "text/plain": [
       "[6, 3, 6, 6, 5]"
      ]
     },
     "execution_count": 392,
     "metadata": {},
     "output_type": "execute_result"
    }
   ],
   "source": [
    "d.values()"
   ]
  },
  {
   "cell_type": "code",
   "execution_count": 394,
   "metadata": {},
   "outputs": [],
   "source": [
    "d.roll([4])"
   ]
  },
  {
   "cell_type": "code",
   "execution_count": 395,
   "metadata": {},
   "outputs": [
    {
     "data": {
      "text/plain": [
       "[6, 3, 6, 6, 3]"
      ]
     },
     "execution_count": 395,
     "metadata": {},
     "output_type": "execute_result"
    }
   ],
   "source": [
    "d.values()"
   ]
  },
  {
   "cell_type": "code",
   "execution_count": 396,
   "metadata": {},
   "outputs": [
    {
     "data": {
      "text/plain": [
       "('Full House', 12)"
      ]
     },
     "execution_count": 396,
     "metadata": {},
     "output_type": "execute_result"
    }
   ],
   "source": [
    "d.score()"
   ]
  },
  {
   "cell_type": "markdown",
   "metadata": {},
   "source": [
    "We would want to be sure that each kind of hand scores properly.\n",
    "\n",
    "##### Implementing PokerApp\n",
    "\n",
    "Now we are ready to turn our attention to the task of actually implementing the poker game. We can use top-down design to flesh out the details and also suggest what methods will have to be implemented in the PokerInterface class.\n",
    "\n",
    "Initially, we know that the PokerApp will need to keep track of the dice, the amount of money, and some user interface. Let's initialize these values use in the constructor.\n",
    "\n",
    "class PokerApp:\n",
    "    def __init__(self):\n",
    "        self.dice = Dice()\n",
    "        self.money = 100\n",
    "        self.interface = PokerInterface()\n",
    "        \n",
    "To run the program, we will create an instance of this class and call its run method. Basically, the program will loop, allowing the user to continue playing hands until he or she is either out of money or chooses to quit. Since it costs $10 to play a hand, we can continue as long as self.money >= 10. Determining whether the user actually wants to play anothe hand must come from the user interface. Here is one way we might code the run method:\n",
    "\n",
    "def run(self):\n",
    "    while self.money >= and self.interface.wantToPlay():\n",
    "        self.playRound()\n",
    "        self.interface.close()\n",
    "        \n",
    "Notice the call to interface.close at the bottom. This will allow us to do any necessary cleaning up such as printing a final message for the user or closing a graphics window.\n",
    "\n",
    "Most of the work of the program has now been pushed into the playRound method. Let's continue the top-down process by focusing our attention here. Each round will consist of a series of rolls. Based on these rolls, the program will have to adjust the player's score.\n",
    "\n",
    "def playRound(self):\n",
    "    self.money = self.money - 10\n",
    "    self.interface.setMoney(self.money)\n",
    "    self.doRolls()\n",
    "    result, score = self.dice.score()\n",
    "    self.interface.showResult(result, score)\n",
    "    self.money = self.money + score\n",
    "    self.interface.setMoney(self.money)\n",
    "    \n",
    "This code only really handles the scoring aspect of a round. Anytime new information must be shown to the user, a suitable method from interface is invoked. The $10 fee to play a round is first deducted and the interface is updated with the new amount of money remaining. The program then processes a series of rolls(doRolls), show the user the result, and updates the amount of money accordingly.\n",
    "\n",
    "Finally, we are down to the nitty-gritty details of implementing the dice rolling process. Initially, all of the dice will be rolled. Them we need a loop that continues rolling user-selected dice until either the user chooses to quit rolling or the limit of three rolls is reached. Let's use a local variable rolls to kepp track of how many times the dice have been rolled. Obviously, displaying the dice and getting the list of dice to roll must come from interaction with the user through interface.\n",
    "\n",
    "def doRolls(self):\n",
    "    self.dice.rollAll()\n",
    "    roll = 1\n",
    "    self.interface.setDice(self.dice.values())\n",
    "    toRoll = self.interface.chooseDice()\n",
    "    while roll < 3 and toRoll != []:\n",
    "    \n",
    "    self.dice.roll(toRoll)\n",
    "    roll = roll + 1\n",
    "    self.interface.setDice(self.dice.values())\n",
    "    if roll < 3:\n",
    "        toRoll = self.interface.chooseDice()\n",
    "        \n",
    "At this point, we have completed the basic functions of our interactive poker program. That is, we have a model of the process for playing poker. We can't really test out this program yet, however, because we don't have a user interface.\n",
    "\n",
    "##### 12.3.4 A Text-Based UI\n",
    "\n",
    "In designing PokerApp we have also developed a specification for a generic PokerInterface class. Our interface must support the methods for displaying information: setMoney, setDice, and showResult. It must also have methods that allow for input from the user: wantToPlay and chooseDice. These methods can be implemented in many different ways, producing programs that look quite different even though the underlying model, PokerApp, remains the same.\n",
    "\n",
    "Usually, graphical interfaces are much more complicated to design and build than text-based ones. If we are in a hurry to get our application running, we might first try building a simple text-based interface. We can use this for testing an debugging of the model without all the extra complication of a full-blown GUI.\n",
    "\n",
    "First, let's tweak our PokerApp class a bit so that the user interface is supplied as a parameter to the constructor.\n",
    "\n",
    "class PokerApp:\n",
    "    def __init__(self, interface):\n",
    "    self.dice = Dice()\n",
    "    self.money = 100\n",
    "    self.interface = interface\n",
    "    \n",
    "Then we can easily create versions of the poker programm using different interfaces.\n",
    "\n",
    "Now let's consider a bare-bones interface to test out the poker program. Our text-based version will not present a finished application, but rather, it provides a minimalist interface solely to get the program running. Each of the necessary methods can be given a trivial implementation.\n",
    "\n",
    "Here is a complete TextInterface class using this approach:"
   ]
  },
  {
   "cell_type": "code",
   "execution_count": 399,
   "metadata": {},
   "outputs": [
    {
     "name": "stdout",
     "output_type": "stream",
     "text": [
      "Welcome to video poker.\n",
      "Do you wish to try your luck? n\n",
      "\n",
      "Thanks for playing!\n"
     ]
    }
   ],
   "source": [
    "# textpoker.py\n",
    "\n",
    "from pokerapp import PokerApp\n",
    "\n",
    "class TextInterface:\n",
    "\n",
    "    def __init__(self):\n",
    "        print(\"Welcome to video poker.\")\n",
    "\n",
    "    def setMoney(self, amt):\n",
    "        print(\"You currently have ${0}.\".format(amt))\n",
    "\n",
    "    def setDice(self, values):\n",
    "        print(\"Dice:\", values)\n",
    "\n",
    "    def wantToPlay(self):\n",
    "        ans = input(\"Do you wish to try your luck? \")\n",
    "        return ans[0] in \"yY\"\n",
    "\n",
    "    def close(self):\n",
    "        print(\"\\nThanks for playing!\")\n",
    "\n",
    "    def showResult(self, msg, score):\n",
    "        print(\"{0}. You win ${1}.\".format(msg, score))\n",
    "\n",
    "    def chooseDice(self):\n",
    "        return eval(input(\"Enter list of which to change ([] to stop) \"))\n",
    "\n",
    "inter = TextInterface()\n",
    "app = PokerApp(inter)\n",
    "app.run()"
   ]
  },
  {
   "cell_type": "markdown",
   "metadata": {},
   "source": [
    "##### 12.3.5 Developing a GUI\n",
    "\n",
    "Now that we have a working program, let's turn our attention to a graphical interface. Our first step must be to decide exactly how we want our interface to look an function. The interface will have to support the various methods found in the text-based version and will also probably have some additional helper methods.\n",
    "\n",
    "##### Designing the Interaction\n",
    "\n",
    "Let's start with the basic methods that must be supported and decide exactly how interaction with the user will occur. Clearly, in a graphical interface, the faces of the dice and the current score should be continuously displayed. The setDice and setMoney methods will be used to change those displays. That leaves one output method, showResult, that we need to accomodate. One common way to handle this sort of transient information is with a message at the bottom of the window. This is sometomes called a status bar.\n",
    "\n",
    "To get information from the user, we will make use of buttons. In wantToPlay, the user will have to decide between either rolling the dice or quitting. We could include \"Roll Dice\" and \"Quit\" buttons for this choice. That leaves us with figuring out how the user should choose dice.\n",
    "\n",
    "To implement chooseDice, we could provide a button for each die and have the user click the buttons for the dice they want to roll. When the user is done choosing the dice, they could click the \"Roll Dice\" button again to roll the selected dice. Elaborating on this idea, it would be nice if we allowed the user to change his or her mind while selecting the dice. Perhaps clicking the button of a currently selected die would cause it to become unselected. The clicking of the button will serve as a sortof toggle that selects/unselects a particular die. The user commits to a certain selection by clicking on \"Roll Dice.\"\n",
    "\n",
    "Our vision for chooseDice suggests a couple of tweaks for the interface. First, we should have some way of showing the user which dice are currently selected. There are lots of ways we could do this. One simple approach would be to change the color of the die. Let's \"gray out\" the pips on the dice selected for rolling. Second, we need a good way for the user to indicate that they wish to stop rolling. That is, they would like the dice scored just as they stand. We could handle this by having them click the \"Roll Dice\" button when no dice are selected, hence asking the program to roll no dice. Another approach would be to provide a separate button to click that causes the dice to be scored. The latter approach seems a bit more intuitive/informative. Let's add a \"Score\" button to the interface.\n",
    "\n",
    "No we have a basic idea of how the interface will function. We still need to figure out how it will look. What is the exact layout of the widgets?\n",
    "\n",
    "##### Managing the Widgets\n",
    "\n",
    "The graphical interface that we are developing makes use of buttons and dice. Our intent is to reuse the Button and DieView classes for these widgets that we developed earlier. The Button class can be used as is, and since we have quite a number of buttons to manage, we can use a list of Buttons, similar to the approach we used in the calculator prgram from Chapter 11.\n",
    "\n",
    "Unlike the buttons in the calculator program, the buttons of our poker interface will not be active all of the tie. For example, the dice buttons will only be active when the user is actually in the process of choosing dice. When user input is required, the valid buttons for that interaction will be set active and the others will be inactive. To implement this behavior, we can add a helper method called choose to the PokerInterface class.\n",
    "\n",
    "The choose method takes a list of button labels as a parameter, activates them, and them waits for the user to click one of them. The return value of the function is the label of the button that was clicked. We can call the choose method whenever we need input from the user. For example, if we are waiting for the user to choose either the \"Roll Dice\" or \"Quit\" button, we would use a sequence of code like this:\n",
    "\n",
    "choice = self.choose([\"Roll Dice\", \"Quit\"])\n",
    "if choice == \"Roll Dice\":\n",
    "...\n",
    "\n",
    "Assuming the buttons are stored in an instance variable called buttons, here is one possible implementation of choose:\n",
    "\n",
    "def choose(self, choices):\n",
    "    buttons = self.buttons\n",
    "    . # activate choice buttons, deactivate others for b \n",
    "    . # in buttons:\n",
    "    if b.getLabel() in choices:\n",
    "    \n",
    "    b.activate()\n",
    "    else:\n",
    "    b.deactivate()\n",
    "    \n",
    "    .# get mouse clicks until an active button is        clicked\n",
    "    while True:\n",
    "    p =self.win.getMouse()\n",
    "    for b in buttons:\n",
    "    if b.clicked(p):\n",
    "        return b.getLabel() # function exit here\n",
    "        \n",
    "The other widgets in our interface will be our DieView that we developed in the last two chapters. Basically, we will use the same class as before but we need to add just a bit of new functionality. As discussed above, we want to change the color of a die to indicate whether it is selected for rerolling.\n",
    "\n",
    "You might want to go back and review the DieView class. Remember, the class constructor draws a sqaure and seven circles to represent the positions where the pips of various values will appear. The setValue method turns on the appropriate pips to display a given value. To refresh your memory a bit, here is the setValue method as we left it:\n",
    "\n",
    "def setVaue(self, value):\n",
    ". # Turn all the pips off\n",
    "for pip in self.pips:\n",
    "pip.setFill(self.background)\n",
    "\n",
    ".# Turn the appropriate pips back on\n",
    "for i in self.onTable[value]:\n",
    "self.pips[i].setFill(self.foreground)\n",
    "\n",
    "We need to modify the DieView class by adding a setColor method. This method will be used to change the color that is used for drawing the pips. As you can see in the code for setVaue, the color of the pips is determined by the value of the instance variable foreground. Of course, changing the value of foreground will not actually change the appearance of the die until it is redrawn using the new color.\n",
    "\n",
    "The algorithm for setColor seems straightforward. We need two steps:\n",
    "change foreground to the new color\n",
    "redraw the current value of the die.\n",
    "\n",
    "Unfortunately, the second step presents a slight snag. We already have code that draws a value, namely setValue. But setValue requires us to send the value as a paramter, and the current version of DieView does not store this value anywhere. Once the proper pips have been turned on, the actual value is discarded.\n",
    "\n",
    "In order to implement setColor, we need to tweak setValue so that it remembers the current vaue. The setColor can redraw the die using its current value. The change to setValue is easy; we just need to add a single line.\n",
    "\n",
    "self.value = value\n",
    "\n",
    "This line stores the value parameter in an instance variable called value.\n",
    "\n",
    "With the modified version of setValue, implementing setColor is a breeze.\n",
    "\n",
    "def setColor(self, color):\n",
    "    self.foreground = color\n",
    "    self.setValue(self.value)\n",
    "    \n",
    "Notice how the last line simply calls setValue to (re)draw the die, passing along the value that was saved from the last time setValue was called.\n",
    "\n",
    "##### Creating the Interface\n",
    "Now that we have our widgets under control, we are ready to actually implement our GUI poker interface. The constructor will create all of our widgets, setting up the interface for later interactions.\n",
    "\n",
    "class GraphicsInterface:\n",
    "    def __init__(self):\n",
    "        self.win = GraphWin(\"Dice Poker\", 600, 400)\n",
    "        self.win.setBackground(\"green3\")\n",
    "        banner = Text(Point(300,30), \"Python Poker Parlor\")\n",
    "        banner.setSize(24)\n",
    "        banner.setFill(\"yellow2\")\n",
    "        banner.setStyle(\"bold\")\n",
    "        banner.draw(self.win)\n",
    "        self.msg = Text(Point(300,380), \"Welcome to the Dice Table\")\n",
    "        self.msg.setSize(18)\n",
    "        self.msg.draw(self.win)\n",
    "        self.createDice(Point(300,100), 75)\n",
    "        self.buttons = []\n",
    "        self.addDiceButtons(Point(300,170), 75, 30)\n",
    "        b = Button(self.win, Point(300, 230), 400,40 \"Roll Dice\")\n",
    "        self.buttons.append(b)\n",
    "        b = Button(self.win, Point(300, 280), 150, 40, \"Score\")\n",
    "        self.buttons.append(b)\n",
    "        b = Button(self.win, Point(570, 375), 40,30, \"Quit\")\n",
    "        self.buttons.append(b)\n",
    "        self.money = Text(Point(300,325), \"$100\")\n",
    "        self.money.setSize(18)\n",
    "        self.money.draw(self.win)\n",
    "        \n",
    "Notice that the creation of the dice and their associated buttons has been pushed into a couple of helper methods. Here are the necessary definitions:\n",
    "    \n",
    "    def createDice(self, center, size):\n",
    "        center.move(-3*size,0)\n",
    "        self.dice = []\n",
    "        for i in range(5):\n",
    "    \n",
    "            view = DieView(self.win, center, size):\n",
    "            self.dice.append(view)\n",
    "            center.move(1.5*size,0)\n",
    "        \n",
    "    def addDiceButtons(self, center, width, height):\n",
    "        center.move(-3*width, 0)\n",
    "        for i in range(1,6):\n",
    "            label = \"Die {0}\".format(i)\n",
    "                b = Button(self.win, center, width, height, label)\n",
    "                self.buttons.append(b)\n",
    "                center.move(1.5*width, 0)\n",
    "        \n",
    "These two methods are similar in that they employ a loop to draw five similar widgets. In both cases, a Point variable, center, is used to calculate the correct position of the next widget."
   ]
  },
  {
   "cell_type": "markdown",
   "metadata": {},
   "source": [
    "##### Implementing the Interaction\n",
    "\n",
    "You might be a little scared at this point tat the constructor for our GUI interface was so complex. Even simple graphical interfaces involves many independent components. Getting them all set up and initialized is often the most tedious part of coding the interface. Now that we have that part out of the way, actually writing the code that handles the interaction will not be too hard,provided we attack it one piece at a time.\n",
    "\n",
    "Let's start with the simple output methhods setMoney and showResult. These two methods display some text in our interface window. Since our constructor took care of creating and positioning the relevant Text objects, all our methods have to do is call the setText methods for the appropriate objects.\n",
    "\n",
    "def setMoney(self, amt):\n",
    "    self.money.setText(\"${0}\".format(amt))\n",
    "    \n",
    "def showResult(self, msg, score):\n",
    "    if score > 0:\n",
    "        text = \"{0}! You win ${1}\".format(msg, score)\n",
    "    else:\n",
    "    text = \"You rolled {0}\".format(msg)\n",
    "    self.msg.setText(text)\n",
    "    \n",
    "In a similar spirit, the output method setDice must make a call to the setValue methos of the appropriate DieView objects in dice. We can do this with a for loop.\n",
    "\n",
    "def setDice(self, values):\n",
    "    for i in range(5):\n",
    "        self.dice[i].setValue(values[i])\n",
    "        \n",
    "Take a good look at the line in the loop body. It sets the ith die to show the ith value.\n",
    "\n",
    "As you can see, once the interface has been constructed, making it functional is not very difficult. Our output methods are completed with just a few lines of code. Ths input methods are only slightly more complicated.\n",
    "\n",
    "The wantToPlay method will wait for the user to click either \"Roll Dice\" or \"Quit.\" we can use our choose helper method to do this.\n",
    "\n",
    "def wantToPlay(self):\n",
    "    ans = self.choose([\"Roll Dice\", \"Quit\"])\n",
    "    self.msg.setText(\"\")\n",
    "    return ans == \"Roll Dice\"\n",
    "    \n",
    "After waiting for the user to click an appropriate button, this method then clears out any message; such as the previous results; by setting the msg text to the empty string. The method then returns a Boolean value by examining the label returned by choose.\n",
    "\n",
    "That brings us to the chooseDice method. Here we must implement a more extensive user interaction. The chooseDice method returns a list of the indexes of the dice that the user wishes to roll.\n",
    "\n",
    "In our GUI, the user will choose dice by clicking on corresponding buttons. We need to maintain a list of which dice have been chosen. Each time a die button is clicked, that die is either chosn(its index is appended to the list) or unchosen (its index is removed from the list). In addition, the color of the corresponding DieView reflects the status of the die. The interaction ends when the user clicks either the roll button or the score button. If the roll button is clicked, the method returns the list of currently chosen indexes. If the score button is clicked, the function returns an empty list to signal that the player is done rolling. \n",
    "\n",
    "We just need a few lines of code to get our game started\n",
    "\n",
    "inter = GraphicsINterface()\n",
    "app = PokerApp(inter)\n",
    "app.run()\n",
    "\n",
    "#### 12.4 OO Concepts\n",
    "\n",
    "###### 12.4.1 Encapsulation\n",
    "The process of packaging some data along with the set of operations that can be performed on the data.\n",
    "\n",
    "It provides a convenient way to compose comple solutions that correspons to our intuitive view ofhow the world works.\n",
    "\n",
    "From a design standpoint, encapsulation also provides a critical service of separatig the concerns of \"what\" vs. \"how\". The actual implementation of an object is independent of its use. The implementation can change but as long as the interface is preserved, other components that rely on the object will not break. This allows us to isolate major design decision, especially ones that are subject to change. \n",
    "\n",
    "Encapsulation also supports code reuse. It allows us to package up general components that can be use from one program to the next. \n",
    "\n",
    "It is probably the chief benefit of using objects but alone it only makes a system object-based. To be truly object oriented, the approach must also have the characteristics of polymorphism and inheritence.\n",
    "\n",
    "##### 12.4.2 Polymorphism\n",
    "\n",
    "means \"many forms. It refers to the fact that what an object does in response to a message(a method call) depends on the type or class of the object.\n",
    "\n",
    "Our poker program illustrated one aspect of polymorphism. The PokerApp calss was used with both a TextInterface and a GraphicsInterface. There were two different forms of interface, and the PokerApp class could function quite well with either. When the PokerApp called the showDice method, for example, the TextInterface showed the dice one way and the GraphicsInterface did it another way.\n",
    "\n",
    "In our poker example, we used either the text interface or the graphics interface. The remarkable thing about polymorphism, however, is that a given line in a program may invoke a completely different method from one moment to the next. As a simple example, suppose you had a list of graphics objects to draw on the screen. The list might contain a mixture of Circle, Rectangle, Polygon, etc. You could draw all the items in a list with this simple code:\n",
    "\n",
    "for obj in objects:\n",
    "    obj.draw(win)\n",
    "    \n",
    "Now ask yourself, what operation does this loop actually execute? When obj is a circly, it executes the draw method from the circle class. When obj is a rectangle, it is the draw method from the rectangle class, etc.\n",
    "\n",
    "Polymorphism gives object-oriented systems the flexibility for each object to perform an anction just the way that it should be performed for that object. Before object orientation, this kind of flexibility was much harder to achieve.\n",
    "\n",
    "##### 12.4.3 Inheritance\n",
    "\n",
    "The third important propert for object-oriented approaches is one that we have not yet used. The idea is that a new class can be defined to borrow behavior from another class. The new class, the one doing the borrowing, is called a subclass and the existing class, the one being borrowed from is its superclass.\n",
    "\n",
    "For example, if we are building a system to keep track of employees, we might have a class\n",
    "\n",
    "Employee that contains the general information that is common to all employees. One example attribute would be a homeAddress method that returns the home address of an employee. Within the class of all employees, we might distinguish between SalariedEmployee and HourlyEmployee. We could make these subclasses of Employee so they would share methods like homeAddress. However, each subclass would have its own monthlyPay function, since pay is computed differently for these different classes of employees.\n",
    "\n",
    "Inheritence provides two benefits. One is that we can structure the classes of a system to avoid duplication of operations. We don't have to write a separate homeAddress method for the HourlyEmployee and SalariedEmployee classes. A closely related benefit is that new classes can often be based on existing classes, promoting code reuse.\n",
    "\n",
    "We could have used inheritance to build our poker program. Wehn we first wrote the DieVeiw clss, it did not provide a way of changing the appearance of the die. We solved this problem by modifying the original class definition. An alternative would have been to leave the original class unchanged and create a new subclass ColorDieView. A ColorDieView is just like a DieView except that it contains an additional method that allows us to change its color.\n",
    "\n",
    "### Chapter 13 \n",
    "\n",
    "## Algorithm Design and Recursion\n",
    "\n",
    "#### 13.1 Searching\n",
    "\n",
    "Searching is the process of looking for a particular value in a collection. \n",
    "\n",
    "##### 13.1.1 A Simple Searching Problem\n",
    "\n",
    "def search(x, nums):\n",
    "    .#  nums is a list of numbers and x is a number\n",
    "    .# Returns the position in the list where x occurs or -1 if x is not in the list"
   ]
  },
  {
   "cell_type": "code",
   "execution_count": 403,
   "metadata": {},
   "outputs": [
    {
     "ename": "NameError",
     "evalue": "name 'searches' is not defined",
     "output_type": "error",
     "traceback": [
      "\u001b[0;31m---------------------------------------------------------------------------\u001b[0m",
      "\u001b[0;31mNameError\u001b[0m                                 Traceback (most recent call last)",
      "\u001b[0;32m<ipython-input-403-c987185fc8b1>\u001b[0m in \u001b[0;36m<module>\u001b[0;34m\u001b[0m\n\u001b[0;32m----> 1\u001b[0;31m \u001b[0msearches\u001b[0m\u001b[0;34m.\u001b[0m\u001b[0mpy\u001b[0m\u001b[0;34m\u001b[0m\u001b[0;34m\u001b[0m\u001b[0m\n\u001b[0m\u001b[1;32m      2\u001b[0m \u001b[0;31m#    Implementation of linear and binary searches\u001b[0m\u001b[0;34m\u001b[0m\u001b[0;34m\u001b[0m\u001b[0;34m\u001b[0m\u001b[0m\n\u001b[1;32m      3\u001b[0m \u001b[0;34m\u001b[0m\u001b[0m\n\u001b[1;32m      4\u001b[0m \u001b[0;32mdef\u001b[0m \u001b[0mlinSearch\u001b[0m\u001b[0;34m(\u001b[0m\u001b[0mx\u001b[0m\u001b[0;34m,\u001b[0m \u001b[0mnums\u001b[0m\u001b[0;34m)\u001b[0m\u001b[0;34m:\u001b[0m\u001b[0;34m\u001b[0m\u001b[0;34m\u001b[0m\u001b[0m\n\u001b[1;32m      5\u001b[0m    \u001b[0;32mfor\u001b[0m \u001b[0mi\u001b[0m \u001b[0;32min\u001b[0m \u001b[0mrange\u001b[0m\u001b[0;34m(\u001b[0m\u001b[0mlen\u001b[0m\u001b[0;34m(\u001b[0m\u001b[0mnums\u001b[0m\u001b[0;34m)\u001b[0m\u001b[0;34m)\u001b[0m\u001b[0;34m:\u001b[0m\u001b[0;34m\u001b[0m\u001b[0;34m\u001b[0m\u001b[0m\n",
      "\u001b[0;31mNameError\u001b[0m: name 'searches' is not defined"
     ]
    }
   ],
   "source": [
    " searches.py\n",
    "#    Implementation of linear and binary searches\n",
    "\n",
    "def linSearch(x, nums):\n",
    "    for i in range(len(nums)):\n",
    "        if nums[i] == x:       # item found, return the index value\n",
    "            return i\n",
    "    return -1                  # loop finished, item was not in list\n",
    "\n",
    "def binSearch(x, nums):\n",
    "    low = 0\n",
    "    high = len(nums)-1\n",
    "    while low <= high:          # There is still a range to search\n",
    "        mid = (low + high)//2   # position of middle item\n",
    "        item = nums[mid]\n",
    "        if x == item :          # Found it! Return the index\n",
    "            return mid\n",
    "        elif x < item:          # x is in lower half of range\n",
    "            high = mid - 1      #     move top marker down\n",
    "        else:                   # x is in upper half\n",
    "            low = mid + 1       #     move bottom marker up\n",
    "    return -1                   # no range left to search, x is not there\n",
    "\n",
    "def recBinSearch(x, nums, low, high):\n",
    "    if low > high:                        # No place left to look, return -1\n",
    "        return -1\n",
    "    mid = (low + high) // 2\n",
    "    item = nums[mid]\n",
    "    if item == x:                         # Found it! Return the index\n",
    "        return mid\n",
    "    elif x < item:                        # Look in lower half\n",
    "        return recBinSearch(x, nums, low, mid-1)\n",
    "    else:                                 # Look in upper half\n",
    "        return recBinSearch(x, nums, mid+1, high)\n",
    "\n",
    "def rbinSearch(x, nums):\n",
    "    return recBinSearch(x, nums, 0, len(nums)-1)\n",
    "\n",
    "\n",
    "import time, random\n",
    "\n",
    "# Simple test function. You can use this interactively to time different\n",
    "#    size searches. Here's an example call:\n",
    "#       >>> from searches import *\n",
    "#       >>> avgTime(binSearch, 5000, 10)\n",
    "#    This reports the average time needed to find a random value in a list\n",
    "#    of 5000 ints. The average is done over 10 trials.\n",
    "\n",
    "def avgTime(search, n, trials):\n",
    "    # build an ordered list of size n\n",
    "    l1 = list(range(n))\n",
    "    print(\"List built\")\n",
    "\n",
    "    # run a number of trials and compute average time\n",
    "    sum = 0.0\n",
    "    for i in range(trials):\n",
    "        print(i+1, end=' ')                    # show progress\n",
    "        target = random.randint(0,n)\n",
    "        # Get system time just before search\n",
    "        t0 = time.time()\n",
    "        pos = search(target, l1)\n",
    "        # Get system time just after search\n",
    "        t1 = time.time()\n",
    "        # Add elapsed time to sum\n",
    "        sum = sum + (t1-t0)\n",
    "    print(\"\\naverage:\", sum/trials)\n",
    "    "
   ]
  },
  {
   "cell_type": "code",
   "execution_count": 404,
   "metadata": {},
   "outputs": [],
   "source": [
    "# sorts.py\n",
    "#    Implementations of selection sort and merge sort.\n",
    "\n",
    "def selSort(lst):\n",
    "    n = len(lst)\n",
    "    for bottom in range(n-1):\n",
    "        mp = bottom\n",
    "        for i in range(bottom+1,n):\n",
    "            if lst[i] < lst[mp]:\n",
    "                mp = i\n",
    "        lst[bottom], lst[mp] = lst[mp], lst[bottom]\n",
    "\n",
    "def merge(lst1, lst2, lst3):\n",
    "    # merge sorted lists lst1 and lst2 into lst3\n",
    "    # these indexes keep track of current position in each list\n",
    "    i1 = i2 = i3 = 0\n",
    "    n1, n2 = len(lst1), len(lst2)\n",
    "\n",
    "    # Loop while both pieces have data\n",
    "    while i1 < n1 and i2 < n2:\n",
    "        if lst1[i1] < lst2[i2]:     # copy from lst1\n",
    "            lst3[i3] = lst1[i1]     \n",
    "            i1 = i1 + 1\n",
    "        else:                       # copy from list2\n",
    "            lst3[i3] = lst2[i2]     \n",
    "            i2 = i2 + 1\n",
    "        i3 = i3 + 1                 # item added to lst3\n",
    "\n",
    "    # Here either lst1 or lst2 is done, One of the following loops will\n",
    "    # execute to finish up the merge.\n",
    "    \n",
    "    # Copy remaining items (if any) from lst1\n",
    "    while i1 < len(lst1):\n",
    "        lst3[i3] = lst1[i1]\n",
    "        i1 = i1 + 1\n",
    "        i3 = i3 + 1\n",
    "    # Copy remaining items (if any) from lst2\n",
    "    while i2 < len(lst2):\n",
    "        lst3[i3] = lst2[i2]\n",
    "        i2 = i2 + 1\n",
    "        i3 = i3 + 1\n",
    "\n",
    "def mergeSort(lst):\n",
    "    # Put items of lst in ascending order\n",
    "    n = len(lst)\n",
    "    # Do nothing is lst contains 0 or 1 items\n",
    "    if n > 1:\n",
    "        # split into two sublists\n",
    "        m = n // 2\n",
    "        lst1, lst2 = lst[:m], lst[m:]\n",
    "        # recursively sort each piece\n",
    "        mergeSort(lst1)\n",
    "        mergeSort(lst2)\n",
    "        # merge the sorted pieces\n",
    "        merge(lst1, lst2, lst)\n",
    "\n",
    "\n",
    "## Functions for timing sorts\n",
    "        \n",
    "## Example:\n",
    "## >>> from sorts import *\n",
    "## >>> timingCurve(mergeSort, 1000, 2000, 5000, 5)\n",
    "## List size:  1000\n",
    "## 0\n",
    "## 1\n",
    "## 2\n",
    "## 3\n",
    "## 4\n",
    "## avg = 0.2\n",
    "## List size:  3000\n",
    "## 0\n",
    "## 1\n",
    "## 2\n",
    "## 3\n",
    "## 4\n",
    "## avg = 0.8\n",
    "## [0.234578800201, 0.765318417549]\n",
    "\n",
    "import random, time\n",
    "\n",
    "def genList(n):\n",
    "    # RETURNS a list of n random floats\n",
    "    xs = []\n",
    "    for i in range(n):\n",
    "        xs.append(random.random())\n",
    "    return xs\n",
    "\n",
    "def timeSort(sortFn, n):\n",
    "    # RETURNS the time it takes to sort a random list of size n\n",
    "    #    using the given sorting function sortFn\n",
    "    xs = genList(n)\n",
    "    t1 = time.time()\n",
    "    sortFn(xs)\n",
    "    t2 = time.time()\n",
    "    return t2 - t1\n",
    "\n",
    "def timingCurve(sortFn, start, inc, stop, trials):\n",
    "    # RETURNS a list representing the average time required to sort\n",
    "    #     lists of sizes start, start+inc, start+2*inc, ..., stop.\n",
    "    times = []\n",
    "    for n in range(start, stop, inc):\n",
    "        print(\"List size: \", n)\n",
    "        sum = 0.0\n",
    "        for i in range(trials):\n",
    "            print(i)\n",
    "            sum = sum + timeSort(sortFn,n)\n",
    "        avg = sum / trials\n",
    "        print(\"avg = {0:0.1f}\".format(avg))\n",
    "        times.append(avg)\n",
    "    return times"
   ]
  },
  {
   "cell_type": "code",
   "execution_count": 405,
   "metadata": {},
   "outputs": [],
   "source": [
    "# recursions.py\n",
    "#   A collection of simple recursive functions\n",
    "#   (Some also include looping counterparts).\n",
    "\n",
    "def fact(n):\n",
    "    # returns factorial of n\n",
    "    if n == 0:\n",
    "        return 1\n",
    "    else:\n",
    "        return n * fact(n-1)\n",
    "\n",
    "def reverse(s):\n",
    "    # returns reverse of string s\n",
    "    if s == \"\":\n",
    "        return s\n",
    "    else:\n",
    "        return reverse(s[1:]) + s[0]\n",
    "\n",
    "def anagrams(s):\n",
    "    # returns a list of all anagrams of string s\n",
    "    if s == \"\":\n",
    "        return [s]\n",
    "    else:\n",
    "        ans = []\n",
    "        for w in anagrams(s[1:]):\n",
    "            for pos in range(len(w)+1):\n",
    "                ans.append(w[:pos]+s[0]+w[pos:])\n",
    "        return ans\n",
    "\n",
    "def loopPower(a, n):\n",
    "    # returns a rasied to int power n\n",
    "    ans = 1\n",
    "    for i in range(n):\n",
    "        ans = ans * a\n",
    "    return ans\n",
    "\n",
    "def recPower(a,n):\n",
    "    # returns a raised to int power n\n",
    "    if n == 0:\n",
    "        return 1\n",
    "    else:\n",
    "        factor = recPower(a, n/2)\n",
    "        if n % 2 == 0: # n is even\n",
    "            return factor * factor\n",
    "        else:\n",
    "            return factor * factor * a\n",
    "\n",
    "def loopFib(n):\n",
    "    # returns the nth Fibonacci number\n",
    "    curr = 1\n",
    "    prev = 1\n",
    "    for i in range(n-2):\n",
    "        curr, prev = curr+prev, curr\n",
    "    return curr\n",
    "\n",
    "def recFib(n):\n",
    "    # returns nth Fibonacci number\n",
    "    # Note: this algorithm is exceedingly inefficient!\n",
    "    if n < 3:\n",
    "        return 1\n",
    "    else:\n",
    "        return recFib(n-1) + recFib(n-2)"
   ]
  },
  {
   "cell_type": "code",
   "execution_count": 406,
   "metadata": {},
   "outputs": [
    {
     "name": "stdout",
     "output_type": "stream",
     "text": [
      "Towers of Hanoi\n",
      "How many disks? 12\n",
      "Move disk from A to B.\n",
      "Move disk from A to C.\n",
      "Move disk from B to C.\n",
      "Move disk from A to B.\n",
      "Move disk from C to A.\n",
      "Move disk from C to B.\n",
      "Move disk from A to B.\n",
      "Move disk from A to C.\n",
      "Move disk from B to C.\n",
      "Move disk from B to A.\n",
      "Move disk from C to A.\n",
      "Move disk from B to C.\n",
      "Move disk from A to B.\n",
      "Move disk from A to C.\n",
      "Move disk from B to C.\n",
      "Move disk from A to B.\n",
      "Move disk from C to A.\n",
      "Move disk from C to B.\n",
      "Move disk from A to B.\n",
      "Move disk from C to A.\n",
      "Move disk from B to C.\n",
      "Move disk from B to A.\n",
      "Move disk from C to A.\n",
      "Move disk from C to B.\n",
      "Move disk from A to B.\n",
      "Move disk from A to C.\n",
      "Move disk from B to C.\n",
      "Move disk from A to B.\n",
      "Move disk from C to A.\n",
      "Move disk from C to B.\n",
      "Move disk from A to B.\n",
      "Move disk from A to C.\n",
      "Move disk from B to C.\n",
      "Move disk from B to A.\n",
      "Move disk from C to A.\n",
      "Move disk from B to C.\n",
      "Move disk from A to B.\n",
      "Move disk from A to C.\n",
      "Move disk from B to C.\n",
      "Move disk from B to A.\n",
      "Move disk from C to A.\n",
      "Move disk from C to B.\n",
      "Move disk from A to B.\n",
      "Move disk from C to A.\n",
      "Move disk from B to C.\n",
      "Move disk from B to A.\n",
      "Move disk from C to A.\n",
      "Move disk from B to C.\n",
      "Move disk from A to B.\n",
      "Move disk from A to C.\n",
      "Move disk from B to C.\n",
      "Move disk from A to B.\n",
      "Move disk from C to A.\n",
      "Move disk from C to B.\n",
      "Move disk from A to B.\n",
      "Move disk from A to C.\n",
      "Move disk from B to C.\n",
      "Move disk from B to A.\n",
      "Move disk from C to A.\n",
      "Move disk from B to C.\n",
      "Move disk from A to B.\n",
      "Move disk from A to C.\n",
      "Move disk from B to C.\n",
      "Move disk from A to B.\n",
      "Move disk from C to A.\n",
      "Move disk from C to B.\n",
      "Move disk from A to B.\n",
      "Move disk from C to A.\n",
      "Move disk from B to C.\n",
      "Move disk from B to A.\n",
      "Move disk from C to A.\n",
      "Move disk from C to B.\n",
      "Move disk from A to B.\n",
      "Move disk from A to C.\n",
      "Move disk from B to C.\n",
      "Move disk from A to B.\n",
      "Move disk from C to A.\n",
      "Move disk from C to B.\n",
      "Move disk from A to B.\n",
      "Move disk from C to A.\n",
      "Move disk from B to C.\n",
      "Move disk from B to A.\n",
      "Move disk from C to A.\n",
      "Move disk from B to C.\n",
      "Move disk from A to B.\n",
      "Move disk from A to C.\n",
      "Move disk from B to C.\n",
      "Move disk from B to A.\n",
      "Move disk from C to A.\n",
      "Move disk from C to B.\n",
      "Move disk from A to B.\n",
      "Move disk from C to A.\n",
      "Move disk from B to C.\n",
      "Move disk from B to A.\n",
      "Move disk from C to A.\n",
      "Move disk from C to B.\n",
      "Move disk from A to B.\n",
      "Move disk from A to C.\n",
      "Move disk from B to C.\n",
      "Move disk from A to B.\n",
      "Move disk from C to A.\n",
      "Move disk from C to B.\n",
      "Move disk from A to B.\n",
      "Move disk from A to C.\n",
      "Move disk from B to C.\n",
      "Move disk from B to A.\n",
      "Move disk from C to A.\n",
      "Move disk from B to C.\n",
      "Move disk from A to B.\n",
      "Move disk from A to C.\n",
      "Move disk from B to C.\n",
      "Move disk from A to B.\n",
      "Move disk from C to A.\n",
      "Move disk from C to B.\n",
      "Move disk from A to B.\n",
      "Move disk from C to A.\n",
      "Move disk from B to C.\n",
      "Move disk from B to A.\n",
      "Move disk from C to A.\n",
      "Move disk from C to B.\n",
      "Move disk from A to B.\n",
      "Move disk from A to C.\n",
      "Move disk from B to C.\n",
      "Move disk from A to B.\n",
      "Move disk from C to A.\n",
      "Move disk from C to B.\n",
      "Move disk from A to B.\n",
      "Move disk from A to C.\n",
      "Move disk from B to C.\n",
      "Move disk from B to A.\n",
      "Move disk from C to A.\n",
      "Move disk from B to C.\n",
      "Move disk from A to B.\n",
      "Move disk from A to C.\n",
      "Move disk from B to C.\n",
      "Move disk from B to A.\n",
      "Move disk from C to A.\n",
      "Move disk from C to B.\n",
      "Move disk from A to B.\n",
      "Move disk from C to A.\n",
      "Move disk from B to C.\n",
      "Move disk from B to A.\n",
      "Move disk from C to A.\n",
      "Move disk from B to C.\n",
      "Move disk from A to B.\n",
      "Move disk from A to C.\n",
      "Move disk from B to C.\n",
      "Move disk from A to B.\n",
      "Move disk from C to A.\n",
      "Move disk from C to B.\n",
      "Move disk from A to B.\n",
      "Move disk from A to C.\n",
      "Move disk from B to C.\n",
      "Move disk from B to A.\n",
      "Move disk from C to A.\n",
      "Move disk from B to C.\n",
      "Move disk from A to B.\n",
      "Move disk from A to C.\n",
      "Move disk from B to C.\n",
      "Move disk from B to A.\n",
      "Move disk from C to A.\n",
      "Move disk from C to B.\n",
      "Move disk from A to B.\n",
      "Move disk from C to A.\n",
      "Move disk from B to C.\n",
      "Move disk from B to A.\n",
      "Move disk from C to A.\n",
      "Move disk from C to B.\n",
      "Move disk from A to B.\n",
      "Move disk from A to C.\n",
      "Move disk from B to C.\n",
      "Move disk from A to B.\n",
      "Move disk from C to A.\n",
      "Move disk from C to B.\n",
      "Move disk from A to B.\n",
      "Move disk from C to A.\n",
      "Move disk from B to C.\n",
      "Move disk from B to A.\n",
      "Move disk from C to A.\n",
      "Move disk from B to C.\n",
      "Move disk from A to B.\n",
      "Move disk from A to C.\n",
      "Move disk from B to C.\n",
      "Move disk from B to A.\n",
      "Move disk from C to A.\n",
      "Move disk from C to B.\n",
      "Move disk from A to B.\n",
      "Move disk from C to A.\n",
      "Move disk from B to C.\n",
      "Move disk from B to A.\n",
      "Move disk from C to A.\n",
      "Move disk from B to C.\n",
      "Move disk from A to B.\n",
      "Move disk from A to C.\n",
      "Move disk from B to C.\n",
      "Move disk from A to B.\n",
      "Move disk from C to A.\n",
      "Move disk from C to B.\n",
      "Move disk from A to B.\n",
      "Move disk from A to C.\n",
      "Move disk from B to C.\n",
      "Move disk from B to A.\n",
      "Move disk from C to A.\n",
      "Move disk from B to C.\n",
      "Move disk from A to B.\n",
      "Move disk from A to C.\n",
      "Move disk from B to C.\n",
      "Move disk from A to B.\n",
      "Move disk from C to A.\n",
      "Move disk from C to B.\n",
      "Move disk from A to B.\n",
      "Move disk from C to A.\n",
      "Move disk from B to C.\n",
      "Move disk from B to A.\n",
      "Move disk from C to A.\n",
      "Move disk from C to B.\n",
      "Move disk from A to B.\n",
      "Move disk from A to C.\n",
      "Move disk from B to C.\n",
      "Move disk from A to B.\n",
      "Move disk from C to A.\n",
      "Move disk from C to B.\n",
      "Move disk from A to B.\n",
      "Move disk from A to C.\n",
      "Move disk from B to C.\n",
      "Move disk from B to A.\n",
      "Move disk from C to A.\n",
      "Move disk from B to C.\n",
      "Move disk from A to B.\n",
      "Move disk from A to C.\n",
      "Move disk from B to C.\n",
      "Move disk from B to A.\n",
      "Move disk from C to A.\n",
      "Move disk from C to B.\n",
      "Move disk from A to B.\n",
      "Move disk from C to A.\n",
      "Move disk from B to C.\n",
      "Move disk from B to A.\n",
      "Move disk from C to A.\n",
      "Move disk from B to C.\n",
      "Move disk from A to B.\n",
      "Move disk from A to C.\n",
      "Move disk from B to C.\n",
      "Move disk from A to B.\n",
      "Move disk from C to A.\n",
      "Move disk from C to B.\n",
      "Move disk from A to B.\n",
      "Move disk from A to C.\n",
      "Move disk from B to C.\n",
      "Move disk from B to A.\n",
      "Move disk from C to A.\n",
      "Move disk from B to C.\n",
      "Move disk from A to B.\n",
      "Move disk from A to C.\n",
      "Move disk from B to C.\n",
      "Move disk from A to B.\n",
      "Move disk from C to A.\n",
      "Move disk from C to B.\n",
      "Move disk from A to B.\n",
      "Move disk from C to A.\n",
      "Move disk from B to C.\n",
      "Move disk from B to A.\n",
      "Move disk from C to A.\n",
      "Move disk from C to B.\n",
      "Move disk from A to B.\n",
      "Move disk from A to C.\n",
      "Move disk from B to C.\n",
      "Move disk from A to B.\n",
      "Move disk from C to A.\n",
      "Move disk from C to B.\n",
      "Move disk from A to B.\n",
      "Move disk from C to A.\n",
      "Move disk from B to C.\n",
      "Move disk from B to A.\n",
      "Move disk from C to A.\n",
      "Move disk from B to C.\n",
      "Move disk from A to B.\n",
      "Move disk from A to C.\n",
      "Move disk from B to C.\n",
      "Move disk from B to A.\n",
      "Move disk from C to A.\n",
      "Move disk from C to B.\n",
      "Move disk from A to B.\n",
      "Move disk from C to A.\n",
      "Move disk from B to C.\n",
      "Move disk from B to A.\n",
      "Move disk from C to A.\n",
      "Move disk from C to B.\n",
      "Move disk from A to B.\n",
      "Move disk from A to C.\n",
      "Move disk from B to C.\n",
      "Move disk from A to B.\n",
      "Move disk from C to A.\n",
      "Move disk from C to B.\n",
      "Move disk from A to B.\n",
      "Move disk from A to C.\n",
      "Move disk from B to C.\n",
      "Move disk from B to A.\n",
      "Move disk from C to A.\n",
      "Move disk from B to C.\n",
      "Move disk from A to B.\n",
      "Move disk from A to C.\n",
      "Move disk from B to C.\n",
      "Move disk from A to B.\n",
      "Move disk from C to A.\n",
      "Move disk from C to B.\n",
      "Move disk from A to B.\n",
      "Move disk from C to A.\n",
      "Move disk from B to C.\n",
      "Move disk from B to A.\n",
      "Move disk from C to A.\n",
      "Move disk from C to B.\n",
      "Move disk from A to B.\n",
      "Move disk from A to C.\n",
      "Move disk from B to C.\n",
      "Move disk from A to B.\n",
      "Move disk from C to A.\n",
      "Move disk from C to B.\n",
      "Move disk from A to B.\n",
      "Move disk from C to A.\n",
      "Move disk from B to C.\n",
      "Move disk from B to A.\n",
      "Move disk from C to A.\n",
      "Move disk from B to C.\n",
      "Move disk from A to B.\n",
      "Move disk from A to C.\n",
      "Move disk from B to C.\n",
      "Move disk from B to A.\n",
      "Move disk from C to A.\n",
      "Move disk from C to B.\n",
      "Move disk from A to B.\n",
      "Move disk from C to A.\n",
      "Move disk from B to C.\n",
      "Move disk from B to A.\n",
      "Move disk from C to A.\n",
      "Move disk from B to C.\n",
      "Move disk from A to B.\n",
      "Move disk from A to C.\n",
      "Move disk from B to C.\n",
      "Move disk from A to B.\n",
      "Move disk from C to A.\n",
      "Move disk from C to B.\n",
      "Move disk from A to B.\n",
      "Move disk from A to C.\n",
      "Move disk from B to C.\n",
      "Move disk from B to A.\n",
      "Move disk from C to A.\n",
      "Move disk from B to C.\n",
      "Move disk from A to B.\n",
      "Move disk from A to C.\n",
      "Move disk from B to C.\n",
      "Move disk from B to A.\n",
      "Move disk from C to A.\n",
      "Move disk from C to B.\n",
      "Move disk from A to B.\n",
      "Move disk from C to A.\n",
      "Move disk from B to C.\n",
      "Move disk from B to A.\n",
      "Move disk from C to A.\n",
      "Move disk from C to B.\n",
      "Move disk from A to B.\n",
      "Move disk from A to C.\n",
      "Move disk from B to C.\n",
      "Move disk from A to B.\n",
      "Move disk from C to A.\n",
      "Move disk from C to B.\n",
      "Move disk from A to B.\n",
      "Move disk from C to A.\n",
      "Move disk from B to C.\n",
      "Move disk from B to A.\n",
      "Move disk from C to A.\n",
      "Move disk from B to C.\n",
      "Move disk from A to B.\n",
      "Move disk from A to C.\n",
      "Move disk from B to C.\n",
      "Move disk from B to A.\n",
      "Move disk from C to A.\n",
      "Move disk from C to B.\n",
      "Move disk from A to B.\n",
      "Move disk from C to A.\n",
      "Move disk from B to C.\n",
      "Move disk from B to A.\n",
      "Move disk from C to A.\n",
      "Move disk from C to B.\n",
      "Move disk from A to B.\n",
      "Move disk from A to C.\n",
      "Move disk from B to C.\n",
      "Move disk from A to B.\n",
      "Move disk from C to A.\n",
      "Move disk from C to B.\n",
      "Move disk from A to B.\n",
      "Move disk from A to C.\n",
      "Move disk from B to C.\n",
      "Move disk from B to A.\n",
      "Move disk from C to A.\n",
      "Move disk from B to C.\n",
      "Move disk from A to B.\n",
      "Move disk from A to C.\n",
      "Move disk from B to C.\n",
      "Move disk from A to B.\n",
      "Move disk from C to A.\n",
      "Move disk from C to B.\n",
      "Move disk from A to B.\n",
      "Move disk from C to A.\n",
      "Move disk from B to C.\n",
      "Move disk from B to A.\n",
      "Move disk from C to A.\n",
      "Move disk from C to B.\n",
      "Move disk from A to B.\n",
      "Move disk from A to C.\n",
      "Move disk from B to C.\n",
      "Move disk from A to B.\n",
      "Move disk from C to A.\n",
      "Move disk from C to B.\n",
      "Move disk from A to B.\n",
      "Move disk from A to C.\n",
      "Move disk from B to C.\n",
      "Move disk from B to A.\n",
      "Move disk from C to A.\n",
      "Move disk from B to C.\n",
      "Move disk from A to B.\n",
      "Move disk from A to C.\n",
      "Move disk from B to C.\n",
      "Move disk from B to A.\n",
      "Move disk from C to A.\n",
      "Move disk from C to B.\n",
      "Move disk from A to B.\n",
      "Move disk from C to A.\n",
      "Move disk from B to C.\n",
      "Move disk from B to A.\n",
      "Move disk from C to A.\n",
      "Move disk from B to C.\n",
      "Move disk from A to B.\n",
      "Move disk from A to C.\n",
      "Move disk from B to C.\n",
      "Move disk from A to B.\n",
      "Move disk from C to A.\n",
      "Move disk from C to B.\n",
      "Move disk from A to B.\n",
      "Move disk from A to C.\n",
      "Move disk from B to C.\n",
      "Move disk from B to A.\n",
      "Move disk from C to A.\n",
      "Move disk from B to C.\n",
      "Move disk from A to B.\n",
      "Move disk from A to C.\n",
      "Move disk from B to C.\n",
      "Move disk from A to B.\n",
      "Move disk from C to A.\n",
      "Move disk from C to B.\n",
      "Move disk from A to B.\n",
      "Move disk from C to A.\n",
      "Move disk from B to C.\n",
      "Move disk from B to A.\n",
      "Move disk from C to A.\n",
      "Move disk from C to B.\n",
      "Move disk from A to B.\n",
      "Move disk from A to C.\n",
      "Move disk from B to C.\n",
      "Move disk from A to B.\n",
      "Move disk from C to A.\n",
      "Move disk from C to B.\n",
      "Move disk from A to B.\n",
      "Move disk from C to A.\n",
      "Move disk from B to C.\n",
      "Move disk from B to A.\n",
      "Move disk from C to A.\n"
     ]
    },
    {
     "name": "stdout",
     "output_type": "stream",
     "text": [
      "Move disk from B to C.\n",
      "Move disk from A to B.\n",
      "Move disk from A to C.\n",
      "Move disk from B to C.\n",
      "Move disk from B to A.\n",
      "Move disk from C to A.\n",
      "Move disk from C to B.\n",
      "Move disk from A to B.\n",
      "Move disk from C to A.\n",
      "Move disk from B to C.\n",
      "Move disk from B to A.\n",
      "Move disk from C to A.\n",
      "Move disk from C to B.\n",
      "Move disk from A to B.\n",
      "Move disk from A to C.\n",
      "Move disk from B to C.\n",
      "Move disk from A to B.\n",
      "Move disk from C to A.\n",
      "Move disk from C to B.\n",
      "Move disk from A to B.\n",
      "Move disk from A to C.\n",
      "Move disk from B to C.\n",
      "Move disk from B to A.\n",
      "Move disk from C to A.\n",
      "Move disk from B to C.\n",
      "Move disk from A to B.\n",
      "Move disk from A to C.\n",
      "Move disk from B to C.\n",
      "Move disk from A to B.\n",
      "Move disk from C to A.\n",
      "Move disk from C to B.\n",
      "Move disk from A to B.\n",
      "Move disk from C to A.\n",
      "Move disk from B to C.\n",
      "Move disk from B to A.\n",
      "Move disk from C to A.\n",
      "Move disk from C to B.\n",
      "Move disk from A to B.\n",
      "Move disk from A to C.\n",
      "Move disk from B to C.\n",
      "Move disk from A to B.\n",
      "Move disk from C to A.\n",
      "Move disk from C to B.\n",
      "Move disk from A to B.\n",
      "Move disk from A to C.\n",
      "Move disk from B to C.\n",
      "Move disk from B to A.\n",
      "Move disk from C to A.\n",
      "Move disk from B to C.\n",
      "Move disk from A to B.\n",
      "Move disk from A to C.\n",
      "Move disk from B to C.\n",
      "Move disk from B to A.\n",
      "Move disk from C to A.\n",
      "Move disk from C to B.\n",
      "Move disk from A to B.\n",
      "Move disk from C to A.\n",
      "Move disk from B to C.\n",
      "Move disk from B to A.\n",
      "Move disk from C to A.\n",
      "Move disk from B to C.\n",
      "Move disk from A to B.\n",
      "Move disk from A to C.\n",
      "Move disk from B to C.\n",
      "Move disk from A to B.\n",
      "Move disk from C to A.\n",
      "Move disk from C to B.\n",
      "Move disk from A to B.\n",
      "Move disk from A to C.\n",
      "Move disk from B to C.\n",
      "Move disk from B to A.\n",
      "Move disk from C to A.\n",
      "Move disk from B to C.\n",
      "Move disk from A to B.\n",
      "Move disk from A to C.\n",
      "Move disk from B to C.\n",
      "Move disk from B to A.\n",
      "Move disk from C to A.\n",
      "Move disk from C to B.\n",
      "Move disk from A to B.\n",
      "Move disk from C to A.\n",
      "Move disk from B to C.\n",
      "Move disk from B to A.\n",
      "Move disk from C to A.\n",
      "Move disk from C to B.\n",
      "Move disk from A to B.\n",
      "Move disk from A to C.\n",
      "Move disk from B to C.\n",
      "Move disk from A to B.\n",
      "Move disk from C to A.\n",
      "Move disk from C to B.\n",
      "Move disk from A to B.\n",
      "Move disk from C to A.\n",
      "Move disk from B to C.\n",
      "Move disk from B to A.\n",
      "Move disk from C to A.\n",
      "Move disk from B to C.\n",
      "Move disk from A to B.\n",
      "Move disk from A to C.\n",
      "Move disk from B to C.\n",
      "Move disk from B to A.\n",
      "Move disk from C to A.\n",
      "Move disk from C to B.\n",
      "Move disk from A to B.\n",
      "Move disk from C to A.\n",
      "Move disk from B to C.\n",
      "Move disk from B to A.\n",
      "Move disk from C to A.\n",
      "Move disk from B to C.\n",
      "Move disk from A to B.\n",
      "Move disk from A to C.\n",
      "Move disk from B to C.\n",
      "Move disk from A to B.\n",
      "Move disk from C to A.\n",
      "Move disk from C to B.\n",
      "Move disk from A to B.\n",
      "Move disk from A to C.\n",
      "Move disk from B to C.\n",
      "Move disk from B to A.\n",
      "Move disk from C to A.\n",
      "Move disk from B to C.\n",
      "Move disk from A to B.\n",
      "Move disk from A to C.\n",
      "Move disk from B to C.\n",
      "Move disk from A to B.\n",
      "Move disk from C to A.\n",
      "Move disk from C to B.\n",
      "Move disk from A to B.\n",
      "Move disk from C to A.\n",
      "Move disk from B to C.\n",
      "Move disk from B to A.\n",
      "Move disk from C to A.\n",
      "Move disk from C to B.\n",
      "Move disk from A to B.\n",
      "Move disk from A to C.\n",
      "Move disk from B to C.\n",
      "Move disk from A to B.\n",
      "Move disk from C to A.\n",
      "Move disk from C to B.\n",
      "Move disk from A to B.\n",
      "Move disk from A to C.\n",
      "Move disk from B to C.\n",
      "Move disk from B to A.\n",
      "Move disk from C to A.\n",
      "Move disk from B to C.\n",
      "Move disk from A to B.\n",
      "Move disk from A to C.\n",
      "Move disk from B to C.\n",
      "Move disk from B to A.\n",
      "Move disk from C to A.\n",
      "Move disk from C to B.\n",
      "Move disk from A to B.\n",
      "Move disk from C to A.\n",
      "Move disk from B to C.\n",
      "Move disk from B to A.\n",
      "Move disk from C to A.\n",
      "Move disk from B to C.\n",
      "Move disk from A to B.\n",
      "Move disk from A to C.\n",
      "Move disk from B to C.\n",
      "Move disk from A to B.\n",
      "Move disk from C to A.\n",
      "Move disk from C to B.\n",
      "Move disk from A to B.\n",
      "Move disk from A to C.\n",
      "Move disk from B to C.\n",
      "Move disk from B to A.\n",
      "Move disk from C to A.\n",
      "Move disk from B to C.\n",
      "Move disk from A to B.\n",
      "Move disk from A to C.\n",
      "Move disk from B to C.\n",
      "Move disk from B to A.\n",
      "Move disk from C to A.\n",
      "Move disk from C to B.\n",
      "Move disk from A to B.\n",
      "Move disk from C to A.\n",
      "Move disk from B to C.\n",
      "Move disk from B to A.\n",
      "Move disk from C to A.\n",
      "Move disk from C to B.\n",
      "Move disk from A to B.\n",
      "Move disk from A to C.\n",
      "Move disk from B to C.\n",
      "Move disk from A to B.\n",
      "Move disk from C to A.\n",
      "Move disk from C to B.\n",
      "Move disk from A to B.\n",
      "Move disk from C to A.\n",
      "Move disk from B to C.\n",
      "Move disk from B to A.\n",
      "Move disk from C to A.\n",
      "Move disk from B to C.\n",
      "Move disk from A to B.\n",
      "Move disk from A to C.\n",
      "Move disk from B to C.\n",
      "Move disk from B to A.\n",
      "Move disk from C to A.\n",
      "Move disk from C to B.\n",
      "Move disk from A to B.\n",
      "Move disk from C to A.\n",
      "Move disk from B to C.\n",
      "Move disk from B to A.\n",
      "Move disk from C to A.\n",
      "Move disk from C to B.\n",
      "Move disk from A to B.\n",
      "Move disk from A to C.\n",
      "Move disk from B to C.\n",
      "Move disk from A to B.\n",
      "Move disk from C to A.\n",
      "Move disk from C to B.\n",
      "Move disk from A to B.\n",
      "Move disk from A to C.\n",
      "Move disk from B to C.\n",
      "Move disk from B to A.\n",
      "Move disk from C to A.\n",
      "Move disk from B to C.\n",
      "Move disk from A to B.\n",
      "Move disk from A to C.\n",
      "Move disk from B to C.\n",
      "Move disk from A to B.\n",
      "Move disk from C to A.\n",
      "Move disk from C to B.\n",
      "Move disk from A to B.\n",
      "Move disk from C to A.\n",
      "Move disk from B to C.\n",
      "Move disk from B to A.\n",
      "Move disk from C to A.\n",
      "Move disk from C to B.\n",
      "Move disk from A to B.\n",
      "Move disk from A to C.\n",
      "Move disk from B to C.\n",
      "Move disk from A to B.\n",
      "Move disk from C to A.\n",
      "Move disk from C to B.\n",
      "Move disk from A to B.\n",
      "Move disk from C to A.\n",
      "Move disk from B to C.\n",
      "Move disk from B to A.\n",
      "Move disk from C to A.\n",
      "Move disk from B to C.\n",
      "Move disk from A to B.\n",
      "Move disk from A to C.\n",
      "Move disk from B to C.\n",
      "Move disk from B to A.\n",
      "Move disk from C to A.\n",
      "Move disk from C to B.\n",
      "Move disk from A to B.\n",
      "Move disk from C to A.\n",
      "Move disk from B to C.\n",
      "Move disk from B to A.\n",
      "Move disk from C to A.\n",
      "Move disk from B to C.\n",
      "Move disk from A to B.\n",
      "Move disk from A to C.\n",
      "Move disk from B to C.\n",
      "Move disk from A to B.\n",
      "Move disk from C to A.\n",
      "Move disk from C to B.\n",
      "Move disk from A to B.\n",
      "Move disk from A to C.\n",
      "Move disk from B to C.\n",
      "Move disk from B to A.\n",
      "Move disk from C to A.\n",
      "Move disk from B to C.\n",
      "Move disk from A to B.\n",
      "Move disk from A to C.\n",
      "Move disk from B to C.\n",
      "Move disk from B to A.\n",
      "Move disk from C to A.\n",
      "Move disk from C to B.\n",
      "Move disk from A to B.\n",
      "Move disk from C to A.\n",
      "Move disk from B to C.\n",
      "Move disk from B to A.\n",
      "Move disk from C to A.\n",
      "Move disk from C to B.\n",
      "Move disk from A to B.\n",
      "Move disk from A to C.\n",
      "Move disk from B to C.\n",
      "Move disk from A to B.\n",
      "Move disk from C to A.\n",
      "Move disk from C to B.\n",
      "Move disk from A to B.\n",
      "Move disk from C to A.\n",
      "Move disk from B to C.\n",
      "Move disk from B to A.\n",
      "Move disk from C to A.\n",
      "Move disk from B to C.\n",
      "Move disk from A to B.\n",
      "Move disk from A to C.\n",
      "Move disk from B to C.\n",
      "Move disk from B to A.\n",
      "Move disk from C to A.\n",
      "Move disk from C to B.\n",
      "Move disk from A to B.\n",
      "Move disk from C to A.\n",
      "Move disk from B to C.\n",
      "Move disk from B to A.\n",
      "Move disk from C to A.\n",
      "Move disk from B to C.\n",
      "Move disk from A to B.\n",
      "Move disk from A to C.\n",
      "Move disk from B to C.\n",
      "Move disk from A to B.\n",
      "Move disk from C to A.\n",
      "Move disk from C to B.\n",
      "Move disk from A to B.\n",
      "Move disk from A to C.\n",
      "Move disk from B to C.\n",
      "Move disk from B to A.\n",
      "Move disk from C to A.\n",
      "Move disk from B to C.\n",
      "Move disk from A to B.\n",
      "Move disk from A to C.\n",
      "Move disk from B to C.\n",
      "Move disk from A to B.\n",
      "Move disk from C to A.\n",
      "Move disk from C to B.\n",
      "Move disk from A to B.\n",
      "Move disk from C to A.\n",
      "Move disk from B to C.\n",
      "Move disk from B to A.\n",
      "Move disk from C to A.\n",
      "Move disk from C to B.\n",
      "Move disk from A to B.\n",
      "Move disk from A to C.\n",
      "Move disk from B to C.\n",
      "Move disk from A to B.\n",
      "Move disk from C to A.\n",
      "Move disk from C to B.\n",
      "Move disk from A to B.\n",
      "Move disk from A to C.\n",
      "Move disk from B to C.\n",
      "Move disk from B to A.\n",
      "Move disk from C to A.\n",
      "Move disk from B to C.\n",
      "Move disk from A to B.\n",
      "Move disk from A to C.\n",
      "Move disk from B to C.\n",
      "Move disk from B to A.\n",
      "Move disk from C to A.\n",
      "Move disk from C to B.\n",
      "Move disk from A to B.\n",
      "Move disk from C to A.\n",
      "Move disk from B to C.\n",
      "Move disk from B to A.\n",
      "Move disk from C to A.\n",
      "Move disk from B to C.\n",
      "Move disk from A to B.\n",
      "Move disk from A to C.\n",
      "Move disk from B to C.\n",
      "Move disk from A to B.\n",
      "Move disk from C to A.\n",
      "Move disk from C to B.\n",
      "Move disk from A to B.\n",
      "Move disk from A to C.\n",
      "Move disk from B to C.\n",
      "Move disk from B to A.\n",
      "Move disk from C to A.\n",
      "Move disk from B to C.\n",
      "Move disk from A to B.\n",
      "Move disk from A to C.\n",
      "Move disk from B to C.\n",
      "Move disk from A to B.\n",
      "Move disk from C to A.\n",
      "Move disk from C to B.\n",
      "Move disk from A to B.\n",
      "Move disk from C to A.\n",
      "Move disk from B to C.\n",
      "Move disk from B to A.\n",
      "Move disk from C to A.\n",
      "Move disk from C to B.\n",
      "Move disk from A to B.\n",
      "Move disk from A to C.\n"
     ]
    },
    {
     "name": "stdout",
     "output_type": "stream",
     "text": [
      "Move disk from B to C.\n",
      "Move disk from A to B.\n",
      "Move disk from C to A.\n",
      "Move disk from C to B.\n",
      "Move disk from A to B.\n",
      "Move disk from C to A.\n",
      "Move disk from B to C.\n",
      "Move disk from B to A.\n",
      "Move disk from C to A.\n",
      "Move disk from B to C.\n",
      "Move disk from A to B.\n",
      "Move disk from A to C.\n",
      "Move disk from B to C.\n",
      "Move disk from B to A.\n",
      "Move disk from C to A.\n",
      "Move disk from C to B.\n",
      "Move disk from A to B.\n",
      "Move disk from C to A.\n",
      "Move disk from B to C.\n",
      "Move disk from B to A.\n",
      "Move disk from C to A.\n",
      "Move disk from C to B.\n",
      "Move disk from A to B.\n",
      "Move disk from A to C.\n",
      "Move disk from B to C.\n",
      "Move disk from A to B.\n",
      "Move disk from C to A.\n",
      "Move disk from C to B.\n",
      "Move disk from A to B.\n",
      "Move disk from A to C.\n",
      "Move disk from B to C.\n",
      "Move disk from B to A.\n",
      "Move disk from C to A.\n",
      "Move disk from B to C.\n",
      "Move disk from A to B.\n",
      "Move disk from A to C.\n",
      "Move disk from B to C.\n",
      "Move disk from A to B.\n",
      "Move disk from C to A.\n",
      "Move disk from C to B.\n",
      "Move disk from A to B.\n",
      "Move disk from C to A.\n",
      "Move disk from B to C.\n",
      "Move disk from B to A.\n",
      "Move disk from C to A.\n",
      "Move disk from C to B.\n",
      "Move disk from A to B.\n",
      "Move disk from A to C.\n",
      "Move disk from B to C.\n",
      "Move disk from A to B.\n",
      "Move disk from C to A.\n",
      "Move disk from C to B.\n",
      "Move disk from A to B.\n",
      "Move disk from A to C.\n",
      "Move disk from B to C.\n",
      "Move disk from B to A.\n",
      "Move disk from C to A.\n",
      "Move disk from B to C.\n",
      "Move disk from A to B.\n",
      "Move disk from A to C.\n",
      "Move disk from B to C.\n",
      "Move disk from B to A.\n",
      "Move disk from C to A.\n",
      "Move disk from C to B.\n",
      "Move disk from A to B.\n",
      "Move disk from C to A.\n",
      "Move disk from B to C.\n",
      "Move disk from B to A.\n",
      "Move disk from C to A.\n",
      "Move disk from B to C.\n",
      "Move disk from A to B.\n",
      "Move disk from A to C.\n",
      "Move disk from B to C.\n",
      "Move disk from A to B.\n",
      "Move disk from C to A.\n",
      "Move disk from C to B.\n",
      "Move disk from A to B.\n",
      "Move disk from A to C.\n",
      "Move disk from B to C.\n",
      "Move disk from B to A.\n",
      "Move disk from C to A.\n",
      "Move disk from B to C.\n",
      "Move disk from A to B.\n",
      "Move disk from A to C.\n",
      "Move disk from B to C.\n",
      "Move disk from B to A.\n",
      "Move disk from C to A.\n",
      "Move disk from C to B.\n",
      "Move disk from A to B.\n",
      "Move disk from C to A.\n",
      "Move disk from B to C.\n",
      "Move disk from B to A.\n",
      "Move disk from C to A.\n",
      "Move disk from C to B.\n",
      "Move disk from A to B.\n",
      "Move disk from A to C.\n",
      "Move disk from B to C.\n",
      "Move disk from A to B.\n",
      "Move disk from C to A.\n",
      "Move disk from C to B.\n",
      "Move disk from A to B.\n",
      "Move disk from C to A.\n",
      "Move disk from B to C.\n",
      "Move disk from B to A.\n",
      "Move disk from C to A.\n",
      "Move disk from B to C.\n",
      "Move disk from A to B.\n",
      "Move disk from A to C.\n",
      "Move disk from B to C.\n",
      "Move disk from B to A.\n",
      "Move disk from C to A.\n",
      "Move disk from C to B.\n",
      "Move disk from A to B.\n",
      "Move disk from C to A.\n",
      "Move disk from B to C.\n",
      "Move disk from B to A.\n",
      "Move disk from C to A.\n",
      "Move disk from B to C.\n",
      "Move disk from A to B.\n",
      "Move disk from A to C.\n",
      "Move disk from B to C.\n",
      "Move disk from A to B.\n",
      "Move disk from C to A.\n",
      "Move disk from C to B.\n",
      "Move disk from A to B.\n",
      "Move disk from A to C.\n",
      "Move disk from B to C.\n",
      "Move disk from B to A.\n",
      "Move disk from C to A.\n",
      "Move disk from B to C.\n",
      "Move disk from A to B.\n",
      "Move disk from A to C.\n",
      "Move disk from B to C.\n",
      "Move disk from A to B.\n",
      "Move disk from C to A.\n",
      "Move disk from C to B.\n",
      "Move disk from A to B.\n",
      "Move disk from C to A.\n",
      "Move disk from B to C.\n",
      "Move disk from B to A.\n",
      "Move disk from C to A.\n",
      "Move disk from C to B.\n",
      "Move disk from A to B.\n",
      "Move disk from A to C.\n",
      "Move disk from B to C.\n",
      "Move disk from A to B.\n",
      "Move disk from C to A.\n",
      "Move disk from C to B.\n",
      "Move disk from A to B.\n",
      "Move disk from A to C.\n",
      "Move disk from B to C.\n",
      "Move disk from B to A.\n",
      "Move disk from C to A.\n",
      "Move disk from B to C.\n",
      "Move disk from A to B.\n",
      "Move disk from A to C.\n",
      "Move disk from B to C.\n",
      "Move disk from B to A.\n",
      "Move disk from C to A.\n",
      "Move disk from C to B.\n",
      "Move disk from A to B.\n",
      "Move disk from C to A.\n",
      "Move disk from B to C.\n",
      "Move disk from B to A.\n",
      "Move disk from C to A.\n",
      "Move disk from B to C.\n",
      "Move disk from A to B.\n",
      "Move disk from A to C.\n",
      "Move disk from B to C.\n",
      "Move disk from A to B.\n",
      "Move disk from C to A.\n",
      "Move disk from C to B.\n",
      "Move disk from A to B.\n",
      "Move disk from A to C.\n",
      "Move disk from B to C.\n",
      "Move disk from B to A.\n",
      "Move disk from C to A.\n",
      "Move disk from B to C.\n",
      "Move disk from A to B.\n",
      "Move disk from A to C.\n",
      "Move disk from B to C.\n",
      "Move disk from A to B.\n",
      "Move disk from C to A.\n",
      "Move disk from C to B.\n",
      "Move disk from A to B.\n",
      "Move disk from C to A.\n",
      "Move disk from B to C.\n",
      "Move disk from B to A.\n",
      "Move disk from C to A.\n",
      "Move disk from C to B.\n",
      "Move disk from A to B.\n",
      "Move disk from A to C.\n",
      "Move disk from B to C.\n",
      "Move disk from A to B.\n",
      "Move disk from C to A.\n",
      "Move disk from C to B.\n",
      "Move disk from A to B.\n",
      "Move disk from C to A.\n",
      "Move disk from B to C.\n",
      "Move disk from B to A.\n",
      "Move disk from C to A.\n",
      "Move disk from B to C.\n",
      "Move disk from A to B.\n",
      "Move disk from A to C.\n",
      "Move disk from B to C.\n",
      "Move disk from B to A.\n",
      "Move disk from C to A.\n",
      "Move disk from C to B.\n",
      "Move disk from A to B.\n",
      "Move disk from C to A.\n",
      "Move disk from B to C.\n",
      "Move disk from B to A.\n",
      "Move disk from C to A.\n",
      "Move disk from C to B.\n",
      "Move disk from A to B.\n",
      "Move disk from A to C.\n",
      "Move disk from B to C.\n",
      "Move disk from A to B.\n",
      "Move disk from C to A.\n",
      "Move disk from C to B.\n",
      "Move disk from A to B.\n",
      "Move disk from A to C.\n",
      "Move disk from B to C.\n",
      "Move disk from B to A.\n",
      "Move disk from C to A.\n",
      "Move disk from B to C.\n",
      "Move disk from A to B.\n",
      "Move disk from A to C.\n",
      "Move disk from B to C.\n",
      "Move disk from A to B.\n",
      "Move disk from C to A.\n",
      "Move disk from C to B.\n",
      "Move disk from A to B.\n",
      "Move disk from C to A.\n",
      "Move disk from B to C.\n",
      "Move disk from B to A.\n",
      "Move disk from C to A.\n",
      "Move disk from C to B.\n",
      "Move disk from A to B.\n",
      "Move disk from A to C.\n",
      "Move disk from B to C.\n",
      "Move disk from A to B.\n",
      "Move disk from C to A.\n",
      "Move disk from C to B.\n",
      "Move disk from A to B.\n",
      "Move disk from C to A.\n",
      "Move disk from B to C.\n",
      "Move disk from B to A.\n",
      "Move disk from C to A.\n",
      "Move disk from B to C.\n",
      "Move disk from A to B.\n",
      "Move disk from A to C.\n",
      "Move disk from B to C.\n",
      "Move disk from B to A.\n",
      "Move disk from C to A.\n",
      "Move disk from C to B.\n",
      "Move disk from A to B.\n",
      "Move disk from C to A.\n",
      "Move disk from B to C.\n",
      "Move disk from B to A.\n",
      "Move disk from C to A.\n",
      "Move disk from B to C.\n",
      "Move disk from A to B.\n",
      "Move disk from A to C.\n",
      "Move disk from B to C.\n",
      "Move disk from A to B.\n",
      "Move disk from C to A.\n",
      "Move disk from C to B.\n",
      "Move disk from A to B.\n",
      "Move disk from A to C.\n",
      "Move disk from B to C.\n",
      "Move disk from B to A.\n",
      "Move disk from C to A.\n",
      "Move disk from B to C.\n",
      "Move disk from A to B.\n",
      "Move disk from A to C.\n",
      "Move disk from B to C.\n",
      "Move disk from B to A.\n",
      "Move disk from C to A.\n",
      "Move disk from C to B.\n",
      "Move disk from A to B.\n",
      "Move disk from C to A.\n",
      "Move disk from B to C.\n",
      "Move disk from B to A.\n",
      "Move disk from C to A.\n",
      "Move disk from C to B.\n",
      "Move disk from A to B.\n",
      "Move disk from A to C.\n",
      "Move disk from B to C.\n",
      "Move disk from A to B.\n",
      "Move disk from C to A.\n",
      "Move disk from C to B.\n",
      "Move disk from A to B.\n",
      "Move disk from C to A.\n",
      "Move disk from B to C.\n",
      "Move disk from B to A.\n",
      "Move disk from C to A.\n",
      "Move disk from B to C.\n",
      "Move disk from A to B.\n",
      "Move disk from A to C.\n",
      "Move disk from B to C.\n",
      "Move disk from B to A.\n",
      "Move disk from C to A.\n",
      "Move disk from C to B.\n",
      "Move disk from A to B.\n",
      "Move disk from C to A.\n",
      "Move disk from B to C.\n",
      "Move disk from B to A.\n",
      "Move disk from C to A.\n",
      "Move disk from C to B.\n",
      "Move disk from A to B.\n",
      "Move disk from A to C.\n",
      "Move disk from B to C.\n",
      "Move disk from A to B.\n",
      "Move disk from C to A.\n",
      "Move disk from C to B.\n",
      "Move disk from A to B.\n",
      "Move disk from A to C.\n",
      "Move disk from B to C.\n",
      "Move disk from B to A.\n",
      "Move disk from C to A.\n",
      "Move disk from B to C.\n",
      "Move disk from A to B.\n",
      "Move disk from A to C.\n",
      "Move disk from B to C.\n",
      "Move disk from A to B.\n",
      "Move disk from C to A.\n",
      "Move disk from C to B.\n",
      "Move disk from A to B.\n",
      "Move disk from C to A.\n",
      "Move disk from B to C.\n",
      "Move disk from B to A.\n",
      "Move disk from C to A.\n",
      "Move disk from C to B.\n",
      "Move disk from A to B.\n",
      "Move disk from A to C.\n",
      "Move disk from B to C.\n",
      "Move disk from A to B.\n",
      "Move disk from C to A.\n",
      "Move disk from C to B.\n",
      "Move disk from A to B.\n",
      "Move disk from A to C.\n",
      "Move disk from B to C.\n",
      "Move disk from B to A.\n",
      "Move disk from C to A.\n",
      "Move disk from B to C.\n",
      "Move disk from A to B.\n",
      "Move disk from A to C.\n",
      "Move disk from B to C.\n",
      "Move disk from B to A.\n",
      "Move disk from C to A.\n",
      "Move disk from C to B.\n",
      "Move disk from A to B.\n",
      "Move disk from C to A.\n",
      "Move disk from B to C.\n",
      "Move disk from B to A.\n",
      "Move disk from C to A.\n",
      "Move disk from B to C.\n",
      "Move disk from A to B.\n",
      "Move disk from A to C.\n",
      "Move disk from B to C.\n",
      "Move disk from A to B.\n",
      "Move disk from C to A.\n",
      "Move disk from C to B.\n",
      "Move disk from A to B.\n",
      "Move disk from A to C.\n",
      "Move disk from B to C.\n",
      "Move disk from B to A.\n",
      "Move disk from C to A.\n",
      "Move disk from B to C.\n",
      "Move disk from A to B.\n",
      "Move disk from A to C.\n",
      "Move disk from B to C.\n",
      "Move disk from A to B.\n",
      "Move disk from C to A.\n"
     ]
    },
    {
     "name": "stdout",
     "output_type": "stream",
     "text": [
      "Move disk from C to B.\n",
      "Move disk from A to B.\n",
      "Move disk from C to A.\n",
      "Move disk from B to C.\n",
      "Move disk from B to A.\n",
      "Move disk from C to A.\n",
      "Move disk from C to B.\n",
      "Move disk from A to B.\n",
      "Move disk from A to C.\n",
      "Move disk from B to C.\n",
      "Move disk from A to B.\n",
      "Move disk from C to A.\n",
      "Move disk from C to B.\n",
      "Move disk from A to B.\n",
      "Move disk from C to A.\n",
      "Move disk from B to C.\n",
      "Move disk from B to A.\n",
      "Move disk from C to A.\n",
      "Move disk from B to C.\n",
      "Move disk from A to B.\n",
      "Move disk from A to C.\n",
      "Move disk from B to C.\n",
      "Move disk from B to A.\n",
      "Move disk from C to A.\n",
      "Move disk from C to B.\n",
      "Move disk from A to B.\n",
      "Move disk from C to A.\n",
      "Move disk from B to C.\n",
      "Move disk from B to A.\n",
      "Move disk from C to A.\n",
      "Move disk from C to B.\n",
      "Move disk from A to B.\n",
      "Move disk from A to C.\n",
      "Move disk from B to C.\n",
      "Move disk from A to B.\n",
      "Move disk from C to A.\n",
      "Move disk from C to B.\n",
      "Move disk from A to B.\n",
      "Move disk from A to C.\n",
      "Move disk from B to C.\n",
      "Move disk from B to A.\n",
      "Move disk from C to A.\n",
      "Move disk from B to C.\n",
      "Move disk from A to B.\n",
      "Move disk from A to C.\n",
      "Move disk from B to C.\n",
      "Move disk from A to B.\n",
      "Move disk from C to A.\n",
      "Move disk from C to B.\n",
      "Move disk from A to B.\n",
      "Move disk from C to A.\n",
      "Move disk from B to C.\n",
      "Move disk from B to A.\n",
      "Move disk from C to A.\n",
      "Move disk from C to B.\n",
      "Move disk from A to B.\n",
      "Move disk from A to C.\n",
      "Move disk from B to C.\n",
      "Move disk from A to B.\n",
      "Move disk from C to A.\n",
      "Move disk from C to B.\n",
      "Move disk from A to B.\n",
      "Move disk from C to A.\n",
      "Move disk from B to C.\n",
      "Move disk from B to A.\n",
      "Move disk from C to A.\n",
      "Move disk from B to C.\n",
      "Move disk from A to B.\n",
      "Move disk from A to C.\n",
      "Move disk from B to C.\n",
      "Move disk from B to A.\n",
      "Move disk from C to A.\n",
      "Move disk from C to B.\n",
      "Move disk from A to B.\n",
      "Move disk from C to A.\n",
      "Move disk from B to C.\n",
      "Move disk from B to A.\n",
      "Move disk from C to A.\n",
      "Move disk from B to C.\n",
      "Move disk from A to B.\n",
      "Move disk from A to C.\n",
      "Move disk from B to C.\n",
      "Move disk from A to B.\n",
      "Move disk from C to A.\n",
      "Move disk from C to B.\n",
      "Move disk from A to B.\n",
      "Move disk from A to C.\n",
      "Move disk from B to C.\n",
      "Move disk from B to A.\n",
      "Move disk from C to A.\n",
      "Move disk from B to C.\n",
      "Move disk from A to B.\n",
      "Move disk from A to C.\n",
      "Move disk from B to C.\n",
      "Move disk from B to A.\n",
      "Move disk from C to A.\n",
      "Move disk from C to B.\n",
      "Move disk from A to B.\n",
      "Move disk from C to A.\n",
      "Move disk from B to C.\n",
      "Move disk from B to A.\n",
      "Move disk from C to A.\n",
      "Move disk from C to B.\n",
      "Move disk from A to B.\n",
      "Move disk from A to C.\n",
      "Move disk from B to C.\n",
      "Move disk from A to B.\n",
      "Move disk from C to A.\n",
      "Move disk from C to B.\n",
      "Move disk from A to B.\n",
      "Move disk from C to A.\n",
      "Move disk from B to C.\n",
      "Move disk from B to A.\n",
      "Move disk from C to A.\n",
      "Move disk from B to C.\n",
      "Move disk from A to B.\n",
      "Move disk from A to C.\n",
      "Move disk from B to C.\n",
      "Move disk from B to A.\n",
      "Move disk from C to A.\n",
      "Move disk from C to B.\n",
      "Move disk from A to B.\n",
      "Move disk from C to A.\n",
      "Move disk from B to C.\n",
      "Move disk from B to A.\n",
      "Move disk from C to A.\n",
      "Move disk from B to C.\n",
      "Move disk from A to B.\n",
      "Move disk from A to C.\n",
      "Move disk from B to C.\n",
      "Move disk from A to B.\n",
      "Move disk from C to A.\n",
      "Move disk from C to B.\n",
      "Move disk from A to B.\n",
      "Move disk from A to C.\n",
      "Move disk from B to C.\n",
      "Move disk from B to A.\n",
      "Move disk from C to A.\n",
      "Move disk from B to C.\n",
      "Move disk from A to B.\n",
      "Move disk from A to C.\n",
      "Move disk from B to C.\n",
      "Move disk from A to B.\n",
      "Move disk from C to A.\n",
      "Move disk from C to B.\n",
      "Move disk from A to B.\n",
      "Move disk from C to A.\n",
      "Move disk from B to C.\n",
      "Move disk from B to A.\n",
      "Move disk from C to A.\n",
      "Move disk from C to B.\n",
      "Move disk from A to B.\n",
      "Move disk from A to C.\n",
      "Move disk from B to C.\n",
      "Move disk from A to B.\n",
      "Move disk from C to A.\n",
      "Move disk from C to B.\n",
      "Move disk from A to B.\n",
      "Move disk from A to C.\n",
      "Move disk from B to C.\n",
      "Move disk from B to A.\n",
      "Move disk from C to A.\n",
      "Move disk from B to C.\n",
      "Move disk from A to B.\n",
      "Move disk from A to C.\n",
      "Move disk from B to C.\n",
      "Move disk from B to A.\n",
      "Move disk from C to A.\n",
      "Move disk from C to B.\n",
      "Move disk from A to B.\n",
      "Move disk from C to A.\n",
      "Move disk from B to C.\n",
      "Move disk from B to A.\n",
      "Move disk from C to A.\n",
      "Move disk from B to C.\n",
      "Move disk from A to B.\n",
      "Move disk from A to C.\n",
      "Move disk from B to C.\n",
      "Move disk from A to B.\n",
      "Move disk from C to A.\n",
      "Move disk from C to B.\n",
      "Move disk from A to B.\n",
      "Move disk from A to C.\n",
      "Move disk from B to C.\n",
      "Move disk from B to A.\n",
      "Move disk from C to A.\n",
      "Move disk from B to C.\n",
      "Move disk from A to B.\n",
      "Move disk from A to C.\n",
      "Move disk from B to C.\n",
      "Move disk from B to A.\n",
      "Move disk from C to A.\n",
      "Move disk from C to B.\n",
      "Move disk from A to B.\n",
      "Move disk from C to A.\n",
      "Move disk from B to C.\n",
      "Move disk from B to A.\n",
      "Move disk from C to A.\n",
      "Move disk from C to B.\n",
      "Move disk from A to B.\n",
      "Move disk from A to C.\n",
      "Move disk from B to C.\n",
      "Move disk from A to B.\n",
      "Move disk from C to A.\n",
      "Move disk from C to B.\n",
      "Move disk from A to B.\n",
      "Move disk from C to A.\n",
      "Move disk from B to C.\n",
      "Move disk from B to A.\n",
      "Move disk from C to A.\n",
      "Move disk from B to C.\n",
      "Move disk from A to B.\n",
      "Move disk from A to C.\n",
      "Move disk from B to C.\n",
      "Move disk from B to A.\n",
      "Move disk from C to A.\n",
      "Move disk from C to B.\n",
      "Move disk from A to B.\n",
      "Move disk from C to A.\n",
      "Move disk from B to C.\n",
      "Move disk from B to A.\n",
      "Move disk from C to A.\n",
      "Move disk from C to B.\n",
      "Move disk from A to B.\n",
      "Move disk from A to C.\n",
      "Move disk from B to C.\n",
      "Move disk from A to B.\n",
      "Move disk from C to A.\n",
      "Move disk from C to B.\n",
      "Move disk from A to B.\n",
      "Move disk from A to C.\n",
      "Move disk from B to C.\n",
      "Move disk from B to A.\n",
      "Move disk from C to A.\n",
      "Move disk from B to C.\n",
      "Move disk from A to B.\n",
      "Move disk from A to C.\n",
      "Move disk from B to C.\n",
      "Move disk from A to B.\n",
      "Move disk from C to A.\n",
      "Move disk from C to B.\n",
      "Move disk from A to B.\n",
      "Move disk from C to A.\n",
      "Move disk from B to C.\n",
      "Move disk from B to A.\n",
      "Move disk from C to A.\n",
      "Move disk from C to B.\n",
      "Move disk from A to B.\n",
      "Move disk from A to C.\n",
      "Move disk from B to C.\n",
      "Move disk from A to B.\n",
      "Move disk from C to A.\n",
      "Move disk from C to B.\n",
      "Move disk from A to B.\n",
      "Move disk from C to A.\n",
      "Move disk from B to C.\n",
      "Move disk from B to A.\n",
      "Move disk from C to A.\n",
      "Move disk from B to C.\n",
      "Move disk from A to B.\n",
      "Move disk from A to C.\n",
      "Move disk from B to C.\n",
      "Move disk from B to A.\n",
      "Move disk from C to A.\n",
      "Move disk from C to B.\n",
      "Move disk from A to B.\n",
      "Move disk from C to A.\n",
      "Move disk from B to C.\n",
      "Move disk from B to A.\n",
      "Move disk from C to A.\n",
      "Move disk from B to C.\n",
      "Move disk from A to B.\n",
      "Move disk from A to C.\n",
      "Move disk from B to C.\n",
      "Move disk from A to B.\n",
      "Move disk from C to A.\n",
      "Move disk from C to B.\n",
      "Move disk from A to B.\n",
      "Move disk from A to C.\n",
      "Move disk from B to C.\n",
      "Move disk from B to A.\n",
      "Move disk from C to A.\n",
      "Move disk from B to C.\n",
      "Move disk from A to B.\n",
      "Move disk from A to C.\n",
      "Move disk from B to C.\n",
      "Move disk from B to A.\n",
      "Move disk from C to A.\n",
      "Move disk from C to B.\n",
      "Move disk from A to B.\n",
      "Move disk from C to A.\n",
      "Move disk from B to C.\n",
      "Move disk from B to A.\n",
      "Move disk from C to A.\n",
      "Move disk from C to B.\n",
      "Move disk from A to B.\n",
      "Move disk from A to C.\n",
      "Move disk from B to C.\n",
      "Move disk from A to B.\n",
      "Move disk from C to A.\n",
      "Move disk from C to B.\n",
      "Move disk from A to B.\n",
      "Move disk from C to A.\n",
      "Move disk from B to C.\n",
      "Move disk from B to A.\n",
      "Move disk from C to A.\n",
      "Move disk from B to C.\n",
      "Move disk from A to B.\n",
      "Move disk from A to C.\n",
      "Move disk from B to C.\n",
      "Move disk from B to A.\n",
      "Move disk from C to A.\n",
      "Move disk from C to B.\n",
      "Move disk from A to B.\n",
      "Move disk from C to A.\n",
      "Move disk from B to C.\n",
      "Move disk from B to A.\n",
      "Move disk from C to A.\n",
      "Move disk from C to B.\n",
      "Move disk from A to B.\n",
      "Move disk from A to C.\n",
      "Move disk from B to C.\n",
      "Move disk from A to B.\n",
      "Move disk from C to A.\n",
      "Move disk from C to B.\n",
      "Move disk from A to B.\n",
      "Move disk from A to C.\n",
      "Move disk from B to C.\n",
      "Move disk from B to A.\n",
      "Move disk from C to A.\n",
      "Move disk from B to C.\n",
      "Move disk from A to B.\n",
      "Move disk from A to C.\n",
      "Move disk from B to C.\n",
      "Move disk from A to B.\n",
      "Move disk from C to A.\n",
      "Move disk from C to B.\n",
      "Move disk from A to B.\n",
      "Move disk from C to A.\n",
      "Move disk from B to C.\n",
      "Move disk from B to A.\n",
      "Move disk from C to A.\n",
      "Move disk from C to B.\n",
      "Move disk from A to B.\n",
      "Move disk from A to C.\n",
      "Move disk from B to C.\n",
      "Move disk from A to B.\n",
      "Move disk from C to A.\n",
      "Move disk from C to B.\n",
      "Move disk from A to B.\n",
      "Move disk from A to C.\n",
      "Move disk from B to C.\n",
      "Move disk from B to A.\n",
      "Move disk from C to A.\n",
      "Move disk from B to C.\n",
      "Move disk from A to B.\n",
      "Move disk from A to C.\n",
      "Move disk from B to C.\n",
      "Move disk from B to A.\n",
      "Move disk from C to A.\n",
      "Move disk from C to B.\n",
      "Move disk from A to B.\n",
      "Move disk from C to A.\n",
      "Move disk from B to C.\n",
      "Move disk from B to A.\n",
      "Move disk from C to A.\n",
      "Move disk from B to C.\n",
      "Move disk from A to B.\n",
      "Move disk from A to C.\n",
      "Move disk from B to C.\n",
      "Move disk from A to B.\n",
      "Move disk from C to A.\n",
      "Move disk from C to B.\n",
      "Move disk from A to B.\n"
     ]
    },
    {
     "name": "stdout",
     "output_type": "stream",
     "text": [
      "Move disk from A to C.\n",
      "Move disk from B to C.\n",
      "Move disk from B to A.\n",
      "Move disk from C to A.\n",
      "Move disk from B to C.\n",
      "Move disk from A to B.\n",
      "Move disk from A to C.\n",
      "Move disk from B to C.\n",
      "Move disk from A to B.\n",
      "Move disk from C to A.\n",
      "Move disk from C to B.\n",
      "Move disk from A to B.\n",
      "Move disk from C to A.\n",
      "Move disk from B to C.\n",
      "Move disk from B to A.\n",
      "Move disk from C to A.\n",
      "Move disk from C to B.\n",
      "Move disk from A to B.\n",
      "Move disk from A to C.\n",
      "Move disk from B to C.\n",
      "Move disk from A to B.\n",
      "Move disk from C to A.\n",
      "Move disk from C to B.\n",
      "Move disk from A to B.\n",
      "Move disk from C to A.\n",
      "Move disk from B to C.\n",
      "Move disk from B to A.\n",
      "Move disk from C to A.\n",
      "Move disk from B to C.\n",
      "Move disk from A to B.\n",
      "Move disk from A to C.\n",
      "Move disk from B to C.\n",
      "Move disk from B to A.\n",
      "Move disk from C to A.\n",
      "Move disk from C to B.\n",
      "Move disk from A to B.\n",
      "Move disk from C to A.\n",
      "Move disk from B to C.\n",
      "Move disk from B to A.\n",
      "Move disk from C to A.\n",
      "Move disk from C to B.\n",
      "Move disk from A to B.\n",
      "Move disk from A to C.\n",
      "Move disk from B to C.\n",
      "Move disk from A to B.\n",
      "Move disk from C to A.\n",
      "Move disk from C to B.\n",
      "Move disk from A to B.\n",
      "Move disk from A to C.\n",
      "Move disk from B to C.\n",
      "Move disk from B to A.\n",
      "Move disk from C to A.\n",
      "Move disk from B to C.\n",
      "Move disk from A to B.\n",
      "Move disk from A to C.\n",
      "Move disk from B to C.\n",
      "Move disk from A to B.\n",
      "Move disk from C to A.\n",
      "Move disk from C to B.\n",
      "Move disk from A to B.\n",
      "Move disk from C to A.\n",
      "Move disk from B to C.\n",
      "Move disk from B to A.\n",
      "Move disk from C to A.\n",
      "Move disk from C to B.\n",
      "Move disk from A to B.\n",
      "Move disk from A to C.\n",
      "Move disk from B to C.\n",
      "Move disk from A to B.\n",
      "Move disk from C to A.\n",
      "Move disk from C to B.\n",
      "Move disk from A to B.\n",
      "Move disk from A to C.\n",
      "Move disk from B to C.\n",
      "Move disk from B to A.\n",
      "Move disk from C to A.\n",
      "Move disk from B to C.\n",
      "Move disk from A to B.\n",
      "Move disk from A to C.\n",
      "Move disk from B to C.\n",
      "Move disk from B to A.\n",
      "Move disk from C to A.\n",
      "Move disk from C to B.\n",
      "Move disk from A to B.\n",
      "Move disk from C to A.\n",
      "Move disk from B to C.\n",
      "Move disk from B to A.\n",
      "Move disk from C to A.\n",
      "Move disk from B to C.\n",
      "Move disk from A to B.\n",
      "Move disk from A to C.\n",
      "Move disk from B to C.\n",
      "Move disk from A to B.\n",
      "Move disk from C to A.\n",
      "Move disk from C to B.\n",
      "Move disk from A to B.\n",
      "Move disk from A to C.\n",
      "Move disk from B to C.\n",
      "Move disk from B to A.\n",
      "Move disk from C to A.\n",
      "Move disk from B to C.\n",
      "Move disk from A to B.\n",
      "Move disk from A to C.\n",
      "Move disk from B to C.\n",
      "Move disk from B to A.\n",
      "Move disk from C to A.\n",
      "Move disk from C to B.\n",
      "Move disk from A to B.\n",
      "Move disk from C to A.\n",
      "Move disk from B to C.\n",
      "Move disk from B to A.\n",
      "Move disk from C to A.\n",
      "Move disk from C to B.\n",
      "Move disk from A to B.\n",
      "Move disk from A to C.\n",
      "Move disk from B to C.\n",
      "Move disk from A to B.\n",
      "Move disk from C to A.\n",
      "Move disk from C to B.\n",
      "Move disk from A to B.\n",
      "Move disk from C to A.\n",
      "Move disk from B to C.\n",
      "Move disk from B to A.\n",
      "Move disk from C to A.\n",
      "Move disk from B to C.\n",
      "Move disk from A to B.\n",
      "Move disk from A to C.\n",
      "Move disk from B to C.\n",
      "Move disk from B to A.\n",
      "Move disk from C to A.\n",
      "Move disk from C to B.\n",
      "Move disk from A to B.\n",
      "Move disk from C to A.\n",
      "Move disk from B to C.\n",
      "Move disk from B to A.\n",
      "Move disk from C to A.\n",
      "Move disk from B to C.\n",
      "Move disk from A to B.\n",
      "Move disk from A to C.\n",
      "Move disk from B to C.\n",
      "Move disk from A to B.\n",
      "Move disk from C to A.\n",
      "Move disk from C to B.\n",
      "Move disk from A to B.\n",
      "Move disk from A to C.\n",
      "Move disk from B to C.\n",
      "Move disk from B to A.\n",
      "Move disk from C to A.\n",
      "Move disk from B to C.\n",
      "Move disk from A to B.\n",
      "Move disk from A to C.\n",
      "Move disk from B to C.\n",
      "Move disk from A to B.\n",
      "Move disk from C to A.\n",
      "Move disk from C to B.\n",
      "Move disk from A to B.\n",
      "Move disk from C to A.\n",
      "Move disk from B to C.\n",
      "Move disk from B to A.\n",
      "Move disk from C to A.\n",
      "Move disk from C to B.\n",
      "Move disk from A to B.\n",
      "Move disk from A to C.\n",
      "Move disk from B to C.\n",
      "Move disk from A to B.\n",
      "Move disk from C to A.\n",
      "Move disk from C to B.\n",
      "Move disk from A to B.\n",
      "Move disk from A to C.\n",
      "Move disk from B to C.\n",
      "Move disk from B to A.\n",
      "Move disk from C to A.\n",
      "Move disk from B to C.\n",
      "Move disk from A to B.\n",
      "Move disk from A to C.\n",
      "Move disk from B to C.\n",
      "Move disk from B to A.\n",
      "Move disk from C to A.\n",
      "Move disk from C to B.\n",
      "Move disk from A to B.\n",
      "Move disk from C to A.\n",
      "Move disk from B to C.\n",
      "Move disk from B to A.\n",
      "Move disk from C to A.\n",
      "Move disk from B to C.\n",
      "Move disk from A to B.\n",
      "Move disk from A to C.\n",
      "Move disk from B to C.\n",
      "Move disk from A to B.\n",
      "Move disk from C to A.\n",
      "Move disk from C to B.\n",
      "Move disk from A to B.\n",
      "Move disk from A to C.\n",
      "Move disk from B to C.\n",
      "Move disk from B to A.\n",
      "Move disk from C to A.\n",
      "Move disk from B to C.\n",
      "Move disk from A to B.\n",
      "Move disk from A to C.\n",
      "Move disk from B to C.\n",
      "Move disk from A to B.\n",
      "Move disk from C to A.\n",
      "Move disk from C to B.\n",
      "Move disk from A to B.\n",
      "Move disk from C to A.\n",
      "Move disk from B to C.\n",
      "Move disk from B to A.\n",
      "Move disk from C to A.\n",
      "Move disk from C to B.\n",
      "Move disk from A to B.\n",
      "Move disk from A to C.\n",
      "Move disk from B to C.\n",
      "Move disk from A to B.\n",
      "Move disk from C to A.\n",
      "Move disk from C to B.\n",
      "Move disk from A to B.\n",
      "Move disk from C to A.\n",
      "Move disk from B to C.\n",
      "Move disk from B to A.\n",
      "Move disk from C to A.\n",
      "Move disk from B to C.\n",
      "Move disk from A to B.\n",
      "Move disk from A to C.\n",
      "Move disk from B to C.\n",
      "Move disk from B to A.\n",
      "Move disk from C to A.\n",
      "Move disk from C to B.\n",
      "Move disk from A to B.\n",
      "Move disk from C to A.\n",
      "Move disk from B to C.\n",
      "Move disk from B to A.\n",
      "Move disk from C to A.\n",
      "Move disk from C to B.\n",
      "Move disk from A to B.\n",
      "Move disk from A to C.\n",
      "Move disk from B to C.\n",
      "Move disk from A to B.\n",
      "Move disk from C to A.\n",
      "Move disk from C to B.\n",
      "Move disk from A to B.\n",
      "Move disk from A to C.\n",
      "Move disk from B to C.\n",
      "Move disk from B to A.\n",
      "Move disk from C to A.\n",
      "Move disk from B to C.\n",
      "Move disk from A to B.\n",
      "Move disk from A to C.\n",
      "Move disk from B to C.\n",
      "Move disk from A to B.\n",
      "Move disk from C to A.\n",
      "Move disk from C to B.\n",
      "Move disk from A to B.\n",
      "Move disk from C to A.\n",
      "Move disk from B to C.\n",
      "Move disk from B to A.\n",
      "Move disk from C to A.\n",
      "Move disk from C to B.\n",
      "Move disk from A to B.\n",
      "Move disk from A to C.\n",
      "Move disk from B to C.\n",
      "Move disk from A to B.\n",
      "Move disk from C to A.\n",
      "Move disk from C to B.\n",
      "Move disk from A to B.\n",
      "Move disk from C to A.\n",
      "Move disk from B to C.\n",
      "Move disk from B to A.\n",
      "Move disk from C to A.\n",
      "Move disk from B to C.\n",
      "Move disk from A to B.\n",
      "Move disk from A to C.\n",
      "Move disk from B to C.\n",
      "Move disk from B to A.\n",
      "Move disk from C to A.\n",
      "Move disk from C to B.\n",
      "Move disk from A to B.\n",
      "Move disk from C to A.\n",
      "Move disk from B to C.\n",
      "Move disk from B to A.\n",
      "Move disk from C to A.\n",
      "Move disk from B to C.\n",
      "Move disk from A to B.\n",
      "Move disk from A to C.\n",
      "Move disk from B to C.\n",
      "Move disk from A to B.\n",
      "Move disk from C to A.\n",
      "Move disk from C to B.\n",
      "Move disk from A to B.\n",
      "Move disk from A to C.\n",
      "Move disk from B to C.\n",
      "Move disk from B to A.\n",
      "Move disk from C to A.\n",
      "Move disk from B to C.\n",
      "Move disk from A to B.\n",
      "Move disk from A to C.\n",
      "Move disk from B to C.\n",
      "Move disk from B to A.\n",
      "Move disk from C to A.\n",
      "Move disk from C to B.\n",
      "Move disk from A to B.\n",
      "Move disk from C to A.\n",
      "Move disk from B to C.\n",
      "Move disk from B to A.\n",
      "Move disk from C to A.\n",
      "Move disk from C to B.\n",
      "Move disk from A to B.\n",
      "Move disk from A to C.\n",
      "Move disk from B to C.\n",
      "Move disk from A to B.\n",
      "Move disk from C to A.\n",
      "Move disk from C to B.\n",
      "Move disk from A to B.\n",
      "Move disk from C to A.\n",
      "Move disk from B to C.\n",
      "Move disk from B to A.\n",
      "Move disk from C to A.\n",
      "Move disk from B to C.\n",
      "Move disk from A to B.\n",
      "Move disk from A to C.\n",
      "Move disk from B to C.\n",
      "Move disk from B to A.\n",
      "Move disk from C to A.\n",
      "Move disk from C to B.\n",
      "Move disk from A to B.\n",
      "Move disk from C to A.\n",
      "Move disk from B to C.\n",
      "Move disk from B to A.\n",
      "Move disk from C to A.\n",
      "Move disk from C to B.\n",
      "Move disk from A to B.\n",
      "Move disk from A to C.\n",
      "Move disk from B to C.\n",
      "Move disk from A to B.\n",
      "Move disk from C to A.\n",
      "Move disk from C to B.\n",
      "Move disk from A to B.\n",
      "Move disk from A to C.\n",
      "Move disk from B to C.\n",
      "Move disk from B to A.\n",
      "Move disk from C to A.\n",
      "Move disk from B to C.\n",
      "Move disk from A to B.\n",
      "Move disk from A to C.\n",
      "Move disk from B to C.\n",
      "Move disk from A to B.\n",
      "Move disk from C to A.\n",
      "Move disk from C to B.\n",
      "Move disk from A to B.\n",
      "Move disk from C to A.\n",
      "Move disk from B to C.\n",
      "Move disk from B to A.\n",
      "Move disk from C to A.\n",
      "Move disk from C to B.\n",
      "Move disk from A to B.\n",
      "Move disk from A to C.\n",
      "Move disk from B to C.\n",
      "Move disk from A to B.\n",
      "Move disk from C to A.\n",
      "Move disk from C to B.\n",
      "Move disk from A to B.\n",
      "Move disk from A to C.\n",
      "Move disk from B to C.\n",
      "Move disk from B to A.\n",
      "Move disk from C to A.\n",
      "Move disk from B to C.\n",
      "Move disk from A to B.\n",
      "Move disk from A to C.\n",
      "Move disk from B to C.\n",
      "Move disk from B to A.\n",
      "Move disk from C to A.\n",
      "Move disk from C to B.\n",
      "Move disk from A to B.\n",
      "Move disk from C to A.\n",
      "Move disk from B to C.\n",
      "Move disk from B to A.\n"
     ]
    },
    {
     "name": "stdout",
     "output_type": "stream",
     "text": [
      "Move disk from C to A.\n",
      "Move disk from B to C.\n",
      "Move disk from A to B.\n",
      "Move disk from A to C.\n",
      "Move disk from B to C.\n",
      "Move disk from A to B.\n",
      "Move disk from C to A.\n",
      "Move disk from C to B.\n",
      "Move disk from A to B.\n",
      "Move disk from A to C.\n",
      "Move disk from B to C.\n",
      "Move disk from B to A.\n",
      "Move disk from C to A.\n",
      "Move disk from B to C.\n",
      "Move disk from A to B.\n",
      "Move disk from A to C.\n",
      "Move disk from B to C.\n",
      "Move disk from A to B.\n",
      "Move disk from C to A.\n",
      "Move disk from C to B.\n",
      "Move disk from A to B.\n",
      "Move disk from C to A.\n",
      "Move disk from B to C.\n",
      "Move disk from B to A.\n",
      "Move disk from C to A.\n",
      "Move disk from C to B.\n",
      "Move disk from A to B.\n",
      "Move disk from A to C.\n",
      "Move disk from B to C.\n",
      "Move disk from A to B.\n",
      "Move disk from C to A.\n",
      "Move disk from C to B.\n",
      "Move disk from A to B.\n",
      "Move disk from C to A.\n",
      "Move disk from B to C.\n",
      "Move disk from B to A.\n",
      "Move disk from C to A.\n",
      "Move disk from B to C.\n",
      "Move disk from A to B.\n",
      "Move disk from A to C.\n",
      "Move disk from B to C.\n",
      "Move disk from B to A.\n",
      "Move disk from C to A.\n",
      "Move disk from C to B.\n",
      "Move disk from A to B.\n",
      "Move disk from C to A.\n",
      "Move disk from B to C.\n",
      "Move disk from B to A.\n",
      "Move disk from C to A.\n",
      "Move disk from C to B.\n",
      "Move disk from A to B.\n",
      "Move disk from A to C.\n",
      "Move disk from B to C.\n",
      "Move disk from A to B.\n",
      "Move disk from C to A.\n",
      "Move disk from C to B.\n",
      "Move disk from A to B.\n",
      "Move disk from A to C.\n",
      "Move disk from B to C.\n",
      "Move disk from B to A.\n",
      "Move disk from C to A.\n",
      "Move disk from B to C.\n",
      "Move disk from A to B.\n",
      "Move disk from A to C.\n",
      "Move disk from B to C.\n",
      "Move disk from A to B.\n",
      "Move disk from C to A.\n",
      "Move disk from C to B.\n",
      "Move disk from A to B.\n",
      "Move disk from C to A.\n",
      "Move disk from B to C.\n",
      "Move disk from B to A.\n",
      "Move disk from C to A.\n",
      "Move disk from C to B.\n",
      "Move disk from A to B.\n",
      "Move disk from A to C.\n",
      "Move disk from B to C.\n",
      "Move disk from A to B.\n",
      "Move disk from C to A.\n",
      "Move disk from C to B.\n",
      "Move disk from A to B.\n",
      "Move disk from A to C.\n",
      "Move disk from B to C.\n",
      "Move disk from B to A.\n",
      "Move disk from C to A.\n",
      "Move disk from B to C.\n",
      "Move disk from A to B.\n",
      "Move disk from A to C.\n",
      "Move disk from B to C.\n",
      "Move disk from B to A.\n",
      "Move disk from C to A.\n",
      "Move disk from C to B.\n",
      "Move disk from A to B.\n",
      "Move disk from C to A.\n",
      "Move disk from B to C.\n",
      "Move disk from B to A.\n",
      "Move disk from C to A.\n",
      "Move disk from B to C.\n",
      "Move disk from A to B.\n",
      "Move disk from A to C.\n",
      "Move disk from B to C.\n",
      "Move disk from A to B.\n",
      "Move disk from C to A.\n",
      "Move disk from C to B.\n",
      "Move disk from A to B.\n",
      "Move disk from A to C.\n",
      "Move disk from B to C.\n",
      "Move disk from B to A.\n",
      "Move disk from C to A.\n",
      "Move disk from B to C.\n",
      "Move disk from A to B.\n",
      "Move disk from A to C.\n",
      "Move disk from B to C.\n",
      "Move disk from B to A.\n",
      "Move disk from C to A.\n",
      "Move disk from C to B.\n",
      "Move disk from A to B.\n",
      "Move disk from C to A.\n",
      "Move disk from B to C.\n",
      "Move disk from B to A.\n",
      "Move disk from C to A.\n",
      "Move disk from C to B.\n",
      "Move disk from A to B.\n",
      "Move disk from A to C.\n",
      "Move disk from B to C.\n",
      "Move disk from A to B.\n",
      "Move disk from C to A.\n",
      "Move disk from C to B.\n",
      "Move disk from A to B.\n",
      "Move disk from C to A.\n",
      "Move disk from B to C.\n",
      "Move disk from B to A.\n",
      "Move disk from C to A.\n",
      "Move disk from B to C.\n",
      "Move disk from A to B.\n",
      "Move disk from A to C.\n",
      "Move disk from B to C.\n",
      "Move disk from B to A.\n",
      "Move disk from C to A.\n",
      "Move disk from C to B.\n",
      "Move disk from A to B.\n",
      "Move disk from C to A.\n",
      "Move disk from B to C.\n",
      "Move disk from B to A.\n",
      "Move disk from C to A.\n",
      "Move disk from B to C.\n",
      "Move disk from A to B.\n",
      "Move disk from A to C.\n",
      "Move disk from B to C.\n",
      "Move disk from A to B.\n",
      "Move disk from C to A.\n",
      "Move disk from C to B.\n",
      "Move disk from A to B.\n",
      "Move disk from A to C.\n",
      "Move disk from B to C.\n",
      "Move disk from B to A.\n",
      "Move disk from C to A.\n",
      "Move disk from B to C.\n",
      "Move disk from A to B.\n",
      "Move disk from A to C.\n",
      "Move disk from B to C.\n",
      "Move disk from A to B.\n",
      "Move disk from C to A.\n",
      "Move disk from C to B.\n",
      "Move disk from A to B.\n",
      "Move disk from C to A.\n",
      "Move disk from B to C.\n",
      "Move disk from B to A.\n",
      "Move disk from C to A.\n",
      "Move disk from C to B.\n",
      "Move disk from A to B.\n",
      "Move disk from A to C.\n",
      "Move disk from B to C.\n",
      "Move disk from A to B.\n",
      "Move disk from C to A.\n",
      "Move disk from C to B.\n",
      "Move disk from A to B.\n",
      "Move disk from A to C.\n",
      "Move disk from B to C.\n",
      "Move disk from B to A.\n",
      "Move disk from C to A.\n",
      "Move disk from B to C.\n",
      "Move disk from A to B.\n",
      "Move disk from A to C.\n",
      "Move disk from B to C.\n",
      "Move disk from B to A.\n",
      "Move disk from C to A.\n",
      "Move disk from C to B.\n",
      "Move disk from A to B.\n",
      "Move disk from C to A.\n",
      "Move disk from B to C.\n",
      "Move disk from B to A.\n",
      "Move disk from C to A.\n",
      "Move disk from B to C.\n",
      "Move disk from A to B.\n",
      "Move disk from A to C.\n",
      "Move disk from B to C.\n",
      "Move disk from A to B.\n",
      "Move disk from C to A.\n",
      "Move disk from C to B.\n",
      "Move disk from A to B.\n",
      "Move disk from A to C.\n",
      "Move disk from B to C.\n",
      "Move disk from B to A.\n",
      "Move disk from C to A.\n",
      "Move disk from B to C.\n",
      "Move disk from A to B.\n",
      "Move disk from A to C.\n",
      "Move disk from B to C.\n",
      "Move disk from B to A.\n",
      "Move disk from C to A.\n",
      "Move disk from C to B.\n",
      "Move disk from A to B.\n",
      "Move disk from C to A.\n",
      "Move disk from B to C.\n",
      "Move disk from B to A.\n",
      "Move disk from C to A.\n",
      "Move disk from C to B.\n",
      "Move disk from A to B.\n",
      "Move disk from A to C.\n",
      "Move disk from B to C.\n",
      "Move disk from A to B.\n",
      "Move disk from C to A.\n",
      "Move disk from C to B.\n",
      "Move disk from A to B.\n",
      "Move disk from C to A.\n",
      "Move disk from B to C.\n",
      "Move disk from B to A.\n",
      "Move disk from C to A.\n",
      "Move disk from B to C.\n",
      "Move disk from A to B.\n",
      "Move disk from A to C.\n",
      "Move disk from B to C.\n",
      "Move disk from B to A.\n",
      "Move disk from C to A.\n",
      "Move disk from C to B.\n",
      "Move disk from A to B.\n",
      "Move disk from C to A.\n",
      "Move disk from B to C.\n",
      "Move disk from B to A.\n",
      "Move disk from C to A.\n",
      "Move disk from C to B.\n",
      "Move disk from A to B.\n",
      "Move disk from A to C.\n",
      "Move disk from B to C.\n",
      "Move disk from A to B.\n",
      "Move disk from C to A.\n",
      "Move disk from C to B.\n",
      "Move disk from A to B.\n",
      "Move disk from A to C.\n",
      "Move disk from B to C.\n",
      "Move disk from B to A.\n",
      "Move disk from C to A.\n",
      "Move disk from B to C.\n",
      "Move disk from A to B.\n",
      "Move disk from A to C.\n",
      "Move disk from B to C.\n",
      "Move disk from A to B.\n",
      "Move disk from C to A.\n",
      "Move disk from C to B.\n",
      "Move disk from A to B.\n",
      "Move disk from C to A.\n",
      "Move disk from B to C.\n",
      "Move disk from B to A.\n",
      "Move disk from C to A.\n",
      "Move disk from C to B.\n",
      "Move disk from A to B.\n",
      "Move disk from A to C.\n",
      "Move disk from B to C.\n",
      "Move disk from A to B.\n",
      "Move disk from C to A.\n",
      "Move disk from C to B.\n",
      "Move disk from A to B.\n",
      "Move disk from C to A.\n",
      "Move disk from B to C.\n",
      "Move disk from B to A.\n",
      "Move disk from C to A.\n",
      "Move disk from B to C.\n",
      "Move disk from A to B.\n",
      "Move disk from A to C.\n",
      "Move disk from B to C.\n",
      "Move disk from B to A.\n",
      "Move disk from C to A.\n",
      "Move disk from C to B.\n",
      "Move disk from A to B.\n",
      "Move disk from C to A.\n",
      "Move disk from B to C.\n",
      "Move disk from B to A.\n",
      "Move disk from C to A.\n",
      "Move disk from B to C.\n",
      "Move disk from A to B.\n",
      "Move disk from A to C.\n",
      "Move disk from B to C.\n",
      "Move disk from A to B.\n",
      "Move disk from C to A.\n",
      "Move disk from C to B.\n",
      "Move disk from A to B.\n",
      "Move disk from A to C.\n",
      "Move disk from B to C.\n",
      "Move disk from B to A.\n",
      "Move disk from C to A.\n",
      "Move disk from B to C.\n",
      "Move disk from A to B.\n",
      "Move disk from A to C.\n",
      "Move disk from B to C.\n",
      "Move disk from B to A.\n",
      "Move disk from C to A.\n",
      "Move disk from C to B.\n",
      "Move disk from A to B.\n",
      "Move disk from C to A.\n",
      "Move disk from B to C.\n",
      "Move disk from B to A.\n",
      "Move disk from C to A.\n",
      "Move disk from C to B.\n",
      "Move disk from A to B.\n",
      "Move disk from A to C.\n",
      "Move disk from B to C.\n",
      "Move disk from A to B.\n",
      "Move disk from C to A.\n",
      "Move disk from C to B.\n",
      "Move disk from A to B.\n",
      "Move disk from C to A.\n",
      "Move disk from B to C.\n",
      "Move disk from B to A.\n",
      "Move disk from C to A.\n",
      "Move disk from B to C.\n",
      "Move disk from A to B.\n",
      "Move disk from A to C.\n",
      "Move disk from B to C.\n",
      "Move disk from B to A.\n",
      "Move disk from C to A.\n",
      "Move disk from C to B.\n",
      "Move disk from A to B.\n",
      "Move disk from C to A.\n",
      "Move disk from B to C.\n",
      "Move disk from B to A.\n",
      "Move disk from C to A.\n",
      "Move disk from B to C.\n",
      "Move disk from A to B.\n",
      "Move disk from A to C.\n",
      "Move disk from B to C.\n",
      "Move disk from A to B.\n",
      "Move disk from C to A.\n",
      "Move disk from C to B.\n",
      "Move disk from A to B.\n",
      "Move disk from A to C.\n",
      "Move disk from B to C.\n",
      "Move disk from B to A.\n",
      "Move disk from C to A.\n",
      "Move disk from B to C.\n",
      "Move disk from A to B.\n",
      "Move disk from A to C.\n",
      "Move disk from B to C.\n",
      "Move disk from A to B.\n",
      "Move disk from C to A.\n",
      "Move disk from C to B.\n",
      "Move disk from A to B.\n",
      "Move disk from C to A.\n",
      "Move disk from B to C.\n",
      "Move disk from B to A.\n",
      "Move disk from C to A.\n",
      "Move disk from C to B.\n",
      "Move disk from A to B.\n",
      "Move disk from A to C.\n",
      "Move disk from B to C.\n",
      "Move disk from A to B.\n",
      "Move disk from C to A.\n",
      "Move disk from C to B.\n",
      "Move disk from A to B.\n",
      "Move disk from A to C.\n",
      "Move disk from B to C.\n",
      "Move disk from B to A.\n",
      "Move disk from C to A.\n",
      "Move disk from B to C.\n",
      "Move disk from A to B.\n"
     ]
    },
    {
     "name": "stdout",
     "output_type": "stream",
     "text": [
      "Move disk from A to C.\n",
      "Move disk from B to C.\n",
      "Move disk from B to A.\n",
      "Move disk from C to A.\n",
      "Move disk from C to B.\n",
      "Move disk from A to B.\n",
      "Move disk from C to A.\n",
      "Move disk from B to C.\n",
      "Move disk from B to A.\n",
      "Move disk from C to A.\n",
      "Move disk from B to C.\n",
      "Move disk from A to B.\n",
      "Move disk from A to C.\n",
      "Move disk from B to C.\n",
      "Move disk from A to B.\n",
      "Move disk from C to A.\n",
      "Move disk from C to B.\n",
      "Move disk from A to B.\n",
      "Move disk from A to C.\n",
      "Move disk from B to C.\n",
      "Move disk from B to A.\n",
      "Move disk from C to A.\n",
      "Move disk from B to C.\n",
      "Move disk from A to B.\n",
      "Move disk from A to C.\n",
      "Move disk from B to C.\n",
      "Move disk from A to B.\n",
      "Move disk from C to A.\n",
      "Move disk from C to B.\n",
      "Move disk from A to B.\n",
      "Move disk from C to A.\n",
      "Move disk from B to C.\n",
      "Move disk from B to A.\n",
      "Move disk from C to A.\n",
      "Move disk from C to B.\n",
      "Move disk from A to B.\n",
      "Move disk from A to C.\n",
      "Move disk from B to C.\n",
      "Move disk from A to B.\n",
      "Move disk from C to A.\n",
      "Move disk from C to B.\n",
      "Move disk from A to B.\n",
      "Move disk from C to A.\n",
      "Move disk from B to C.\n",
      "Move disk from B to A.\n",
      "Move disk from C to A.\n",
      "Move disk from B to C.\n",
      "Move disk from A to B.\n",
      "Move disk from A to C.\n",
      "Move disk from B to C.\n",
      "Move disk from B to A.\n",
      "Move disk from C to A.\n",
      "Move disk from C to B.\n",
      "Move disk from A to B.\n",
      "Move disk from C to A.\n",
      "Move disk from B to C.\n",
      "Move disk from B to A.\n",
      "Move disk from C to A.\n",
      "Move disk from C to B.\n",
      "Move disk from A to B.\n",
      "Move disk from A to C.\n",
      "Move disk from B to C.\n",
      "Move disk from A to B.\n",
      "Move disk from C to A.\n",
      "Move disk from C to B.\n",
      "Move disk from A to B.\n",
      "Move disk from A to C.\n",
      "Move disk from B to C.\n",
      "Move disk from B to A.\n",
      "Move disk from C to A.\n",
      "Move disk from B to C.\n",
      "Move disk from A to B.\n",
      "Move disk from A to C.\n",
      "Move disk from B to C.\n",
      "Move disk from A to B.\n",
      "Move disk from C to A.\n",
      "Move disk from C to B.\n",
      "Move disk from A to B.\n",
      "Move disk from C to A.\n",
      "Move disk from B to C.\n",
      "Move disk from B to A.\n",
      "Move disk from C to A.\n",
      "Move disk from C to B.\n",
      "Move disk from A to B.\n",
      "Move disk from A to C.\n",
      "Move disk from B to C.\n",
      "Move disk from A to B.\n",
      "Move disk from C to A.\n",
      "Move disk from C to B.\n",
      "Move disk from A to B.\n",
      "Move disk from A to C.\n",
      "Move disk from B to C.\n",
      "Move disk from B to A.\n",
      "Move disk from C to A.\n",
      "Move disk from B to C.\n",
      "Move disk from A to B.\n",
      "Move disk from A to C.\n",
      "Move disk from B to C.\n",
      "Move disk from B to A.\n",
      "Move disk from C to A.\n",
      "Move disk from C to B.\n",
      "Move disk from A to B.\n",
      "Move disk from C to A.\n",
      "Move disk from B to C.\n",
      "Move disk from B to A.\n",
      "Move disk from C to A.\n",
      "Move disk from B to C.\n",
      "Move disk from A to B.\n",
      "Move disk from A to C.\n",
      "Move disk from B to C.\n",
      "Move disk from A to B.\n",
      "Move disk from C to A.\n",
      "Move disk from C to B.\n",
      "Move disk from A to B.\n",
      "Move disk from A to C.\n",
      "Move disk from B to C.\n",
      "Move disk from B to A.\n",
      "Move disk from C to A.\n",
      "Move disk from B to C.\n",
      "Move disk from A to B.\n",
      "Move disk from A to C.\n",
      "Move disk from B to C.\n",
      "Move disk from B to A.\n",
      "Move disk from C to A.\n",
      "Move disk from C to B.\n",
      "Move disk from A to B.\n",
      "Move disk from C to A.\n",
      "Move disk from B to C.\n",
      "Move disk from B to A.\n",
      "Move disk from C to A.\n",
      "Move disk from C to B.\n",
      "Move disk from A to B.\n",
      "Move disk from A to C.\n",
      "Move disk from B to C.\n",
      "Move disk from A to B.\n",
      "Move disk from C to A.\n",
      "Move disk from C to B.\n",
      "Move disk from A to B.\n",
      "Move disk from C to A.\n",
      "Move disk from B to C.\n",
      "Move disk from B to A.\n",
      "Move disk from C to A.\n",
      "Move disk from B to C.\n",
      "Move disk from A to B.\n",
      "Move disk from A to C.\n",
      "Move disk from B to C.\n",
      "Move disk from B to A.\n",
      "Move disk from C to A.\n",
      "Move disk from C to B.\n",
      "Move disk from A to B.\n",
      "Move disk from C to A.\n",
      "Move disk from B to C.\n",
      "Move disk from B to A.\n",
      "Move disk from C to A.\n",
      "Move disk from B to C.\n",
      "Move disk from A to B.\n",
      "Move disk from A to C.\n",
      "Move disk from B to C.\n",
      "Move disk from A to B.\n",
      "Move disk from C to A.\n",
      "Move disk from C to B.\n",
      "Move disk from A to B.\n",
      "Move disk from A to C.\n",
      "Move disk from B to C.\n",
      "Move disk from B to A.\n",
      "Move disk from C to A.\n",
      "Move disk from B to C.\n",
      "Move disk from A to B.\n",
      "Move disk from A to C.\n",
      "Move disk from B to C.\n",
      "Move disk from A to B.\n",
      "Move disk from C to A.\n",
      "Move disk from C to B.\n",
      "Move disk from A to B.\n",
      "Move disk from C to A.\n",
      "Move disk from B to C.\n",
      "Move disk from B to A.\n",
      "Move disk from C to A.\n",
      "Move disk from C to B.\n",
      "Move disk from A to B.\n",
      "Move disk from A to C.\n",
      "Move disk from B to C.\n",
      "Move disk from A to B.\n",
      "Move disk from C to A.\n",
      "Move disk from C to B.\n",
      "Move disk from A to B.\n",
      "Move disk from A to C.\n",
      "Move disk from B to C.\n",
      "Move disk from B to A.\n",
      "Move disk from C to A.\n",
      "Move disk from B to C.\n",
      "Move disk from A to B.\n",
      "Move disk from A to C.\n",
      "Move disk from B to C.\n",
      "Move disk from B to A.\n",
      "Move disk from C to A.\n",
      "Move disk from C to B.\n",
      "Move disk from A to B.\n",
      "Move disk from C to A.\n",
      "Move disk from B to C.\n",
      "Move disk from B to A.\n",
      "Move disk from C to A.\n",
      "Move disk from B to C.\n",
      "Move disk from A to B.\n",
      "Move disk from A to C.\n",
      "Move disk from B to C.\n",
      "Move disk from A to B.\n",
      "Move disk from C to A.\n",
      "Move disk from C to B.\n",
      "Move disk from A to B.\n",
      "Move disk from A to C.\n",
      "Move disk from B to C.\n",
      "Move disk from B to A.\n",
      "Move disk from C to A.\n",
      "Move disk from B to C.\n",
      "Move disk from A to B.\n",
      "Move disk from A to C.\n",
      "Move disk from B to C.\n",
      "Move disk from B to A.\n",
      "Move disk from C to A.\n",
      "Move disk from C to B.\n",
      "Move disk from A to B.\n",
      "Move disk from C to A.\n",
      "Move disk from B to C.\n",
      "Move disk from B to A.\n",
      "Move disk from C to A.\n",
      "Move disk from C to B.\n",
      "Move disk from A to B.\n",
      "Move disk from A to C.\n",
      "Move disk from B to C.\n",
      "Move disk from A to B.\n",
      "Move disk from C to A.\n",
      "Move disk from C to B.\n",
      "Move disk from A to B.\n",
      "Move disk from C to A.\n",
      "Move disk from B to C.\n",
      "Move disk from B to A.\n",
      "Move disk from C to A.\n",
      "Move disk from B to C.\n",
      "Move disk from A to B.\n",
      "Move disk from A to C.\n",
      "Move disk from B to C.\n",
      "Move disk from B to A.\n",
      "Move disk from C to A.\n",
      "Move disk from C to B.\n",
      "Move disk from A to B.\n",
      "Move disk from C to A.\n",
      "Move disk from B to C.\n",
      "Move disk from B to A.\n",
      "Move disk from C to A.\n",
      "Move disk from C to B.\n",
      "Move disk from A to B.\n",
      "Move disk from A to C.\n",
      "Move disk from B to C.\n",
      "Move disk from A to B.\n",
      "Move disk from C to A.\n",
      "Move disk from C to B.\n",
      "Move disk from A to B.\n",
      "Move disk from A to C.\n",
      "Move disk from B to C.\n",
      "Move disk from B to A.\n",
      "Move disk from C to A.\n",
      "Move disk from B to C.\n",
      "Move disk from A to B.\n",
      "Move disk from A to C.\n",
      "Move disk from B to C.\n",
      "Move disk from A to B.\n",
      "Move disk from C to A.\n",
      "Move disk from C to B.\n",
      "Move disk from A to B.\n",
      "Move disk from C to A.\n",
      "Move disk from B to C.\n",
      "Move disk from B to A.\n",
      "Move disk from C to A.\n",
      "Move disk from C to B.\n",
      "Move disk from A to B.\n",
      "Move disk from A to C.\n",
      "Move disk from B to C.\n",
      "Move disk from A to B.\n",
      "Move disk from C to A.\n",
      "Move disk from C to B.\n",
      "Move disk from A to B.\n",
      "Move disk from C to A.\n",
      "Move disk from B to C.\n",
      "Move disk from B to A.\n",
      "Move disk from C to A.\n",
      "Move disk from B to C.\n",
      "Move disk from A to B.\n",
      "Move disk from A to C.\n",
      "Move disk from B to C.\n",
      "Move disk from B to A.\n",
      "Move disk from C to A.\n",
      "Move disk from C to B.\n",
      "Move disk from A to B.\n",
      "Move disk from C to A.\n",
      "Move disk from B to C.\n",
      "Move disk from B to A.\n",
      "Move disk from C to A.\n",
      "Move disk from B to C.\n",
      "Move disk from A to B.\n",
      "Move disk from A to C.\n",
      "Move disk from B to C.\n",
      "Move disk from A to B.\n",
      "Move disk from C to A.\n",
      "Move disk from C to B.\n",
      "Move disk from A to B.\n",
      "Move disk from A to C.\n",
      "Move disk from B to C.\n",
      "Move disk from B to A.\n",
      "Move disk from C to A.\n",
      "Move disk from B to C.\n",
      "Move disk from A to B.\n",
      "Move disk from A to C.\n",
      "Move disk from B to C.\n",
      "Move disk from B to A.\n",
      "Move disk from C to A.\n",
      "Move disk from C to B.\n",
      "Move disk from A to B.\n",
      "Move disk from C to A.\n",
      "Move disk from B to C.\n",
      "Move disk from B to A.\n",
      "Move disk from C to A.\n",
      "Move disk from C to B.\n",
      "Move disk from A to B.\n",
      "Move disk from A to C.\n",
      "Move disk from B to C.\n",
      "Move disk from A to B.\n",
      "Move disk from C to A.\n",
      "Move disk from C to B.\n",
      "Move disk from A to B.\n",
      "Move disk from C to A.\n",
      "Move disk from B to C.\n",
      "Move disk from B to A.\n",
      "Move disk from C to A.\n",
      "Move disk from B to C.\n",
      "Move disk from A to B.\n",
      "Move disk from A to C.\n",
      "Move disk from B to C.\n",
      "Move disk from B to A.\n",
      "Move disk from C to A.\n",
      "Move disk from C to B.\n",
      "Move disk from A to B.\n",
      "Move disk from C to A.\n",
      "Move disk from B to C.\n",
      "Move disk from B to A.\n",
      "Move disk from C to A.\n",
      "Move disk from C to B.\n",
      "Move disk from A to B.\n",
      "Move disk from A to C.\n",
      "Move disk from B to C.\n",
      "Move disk from A to B.\n",
      "Move disk from C to A.\n",
      "Move disk from C to B.\n",
      "Move disk from A to B.\n",
      "Move disk from A to C.\n",
      "Move disk from B to C.\n",
      "Move disk from B to A.\n",
      "Move disk from C to A.\n",
      "Move disk from B to C.\n",
      "Move disk from A to B.\n",
      "Move disk from A to C.\n",
      "Move disk from B to C.\n",
      "Move disk from A to B.\n",
      "Move disk from C to A.\n",
      "Move disk from C to B.\n",
      "Move disk from A to B.\n",
      "Move disk from C to A.\n",
      "Move disk from B to C.\n",
      "Move disk from B to A.\n",
      "Move disk from C to A.\n",
      "Move disk from C to B.\n",
      "Move disk from A to B.\n",
      "Move disk from A to C.\n",
      "Move disk from B to C.\n",
      "Move disk from A to B.\n"
     ]
    },
    {
     "name": "stdout",
     "output_type": "stream",
     "text": [
      "Move disk from C to A.\n",
      "Move disk from C to B.\n",
      "Move disk from A to B.\n",
      "Move disk from A to C.\n",
      "Move disk from B to C.\n",
      "Move disk from B to A.\n",
      "Move disk from C to A.\n",
      "Move disk from B to C.\n",
      "Move disk from A to B.\n",
      "Move disk from A to C.\n",
      "Move disk from B to C.\n",
      "Move disk from B to A.\n",
      "Move disk from C to A.\n",
      "Move disk from C to B.\n",
      "Move disk from A to B.\n",
      "Move disk from C to A.\n",
      "Move disk from B to C.\n",
      "Move disk from B to A.\n",
      "Move disk from C to A.\n",
      "Move disk from B to C.\n",
      "Move disk from A to B.\n",
      "Move disk from A to C.\n",
      "Move disk from B to C.\n",
      "Move disk from A to B.\n",
      "Move disk from C to A.\n",
      "Move disk from C to B.\n",
      "Move disk from A to B.\n",
      "Move disk from A to C.\n",
      "Move disk from B to C.\n",
      "Move disk from B to A.\n",
      "Move disk from C to A.\n",
      "Move disk from B to C.\n",
      "Move disk from A to B.\n",
      "Move disk from A to C.\n",
      "Move disk from B to C.\n",
      "Move disk from A to B.\n",
      "Move disk from C to A.\n",
      "Move disk from C to B.\n",
      "Move disk from A to B.\n",
      "Move disk from C to A.\n",
      "Move disk from B to C.\n",
      "Move disk from B to A.\n",
      "Move disk from C to A.\n",
      "Move disk from C to B.\n",
      "Move disk from A to B.\n",
      "Move disk from A to C.\n",
      "Move disk from B to C.\n",
      "Move disk from A to B.\n",
      "Move disk from C to A.\n",
      "Move disk from C to B.\n",
      "Move disk from A to B.\n",
      "Move disk from C to A.\n",
      "Move disk from B to C.\n",
      "Move disk from B to A.\n",
      "Move disk from C to A.\n",
      "Move disk from B to C.\n",
      "Move disk from A to B.\n",
      "Move disk from A to C.\n",
      "Move disk from B to C.\n",
      "Move disk from B to A.\n",
      "Move disk from C to A.\n",
      "Move disk from C to B.\n",
      "Move disk from A to B.\n",
      "Move disk from C to A.\n",
      "Move disk from B to C.\n",
      "Move disk from B to A.\n",
      "Move disk from C to A.\n",
      "Move disk from C to B.\n",
      "Move disk from A to B.\n",
      "Move disk from A to C.\n",
      "Move disk from B to C.\n",
      "Move disk from A to B.\n",
      "Move disk from C to A.\n",
      "Move disk from C to B.\n",
      "Move disk from A to B.\n",
      "Move disk from A to C.\n",
      "Move disk from B to C.\n",
      "Move disk from B to A.\n",
      "Move disk from C to A.\n",
      "Move disk from B to C.\n",
      "Move disk from A to B.\n",
      "Move disk from A to C.\n",
      "Move disk from B to C.\n",
      "Move disk from A to B.\n",
      "Move disk from C to A.\n",
      "Move disk from C to B.\n",
      "Move disk from A to B.\n",
      "Move disk from C to A.\n",
      "Move disk from B to C.\n",
      "Move disk from B to A.\n",
      "Move disk from C to A.\n",
      "Move disk from C to B.\n",
      "Move disk from A to B.\n",
      "Move disk from A to C.\n",
      "Move disk from B to C.\n",
      "Move disk from A to B.\n",
      "Move disk from C to A.\n",
      "Move disk from C to B.\n",
      "Move disk from A to B.\n",
      "Move disk from C to A.\n",
      "Move disk from B to C.\n",
      "Move disk from B to A.\n",
      "Move disk from C to A.\n",
      "Move disk from B to C.\n",
      "Move disk from A to B.\n",
      "Move disk from A to C.\n",
      "Move disk from B to C.\n",
      "Move disk from B to A.\n",
      "Move disk from C to A.\n",
      "Move disk from C to B.\n",
      "Move disk from A to B.\n",
      "Move disk from C to A.\n",
      "Move disk from B to C.\n",
      "Move disk from B to A.\n",
      "Move disk from C to A.\n",
      "Move disk from B to C.\n",
      "Move disk from A to B.\n",
      "Move disk from A to C.\n",
      "Move disk from B to C.\n",
      "Move disk from A to B.\n",
      "Move disk from C to A.\n",
      "Move disk from C to B.\n",
      "Move disk from A to B.\n",
      "Move disk from A to C.\n",
      "Move disk from B to C.\n",
      "Move disk from B to A.\n",
      "Move disk from C to A.\n",
      "Move disk from B to C.\n",
      "Move disk from A to B.\n",
      "Move disk from A to C.\n",
      "Move disk from B to C.\n",
      "Move disk from B to A.\n",
      "Move disk from C to A.\n",
      "Move disk from C to B.\n",
      "Move disk from A to B.\n",
      "Move disk from C to A.\n",
      "Move disk from B to C.\n",
      "Move disk from B to A.\n",
      "Move disk from C to A.\n",
      "Move disk from C to B.\n",
      "Move disk from A to B.\n",
      "Move disk from A to C.\n",
      "Move disk from B to C.\n",
      "Move disk from A to B.\n",
      "Move disk from C to A.\n",
      "Move disk from C to B.\n",
      "Move disk from A to B.\n",
      "Move disk from C to A.\n",
      "Move disk from B to C.\n",
      "Move disk from B to A.\n",
      "Move disk from C to A.\n",
      "Move disk from B to C.\n",
      "Move disk from A to B.\n",
      "Move disk from A to C.\n",
      "Move disk from B to C.\n",
      "Move disk from B to A.\n",
      "Move disk from C to A.\n",
      "Move disk from C to B.\n",
      "Move disk from A to B.\n",
      "Move disk from C to A.\n",
      "Move disk from B to C.\n",
      "Move disk from B to A.\n",
      "Move disk from C to A.\n",
      "Move disk from B to C.\n",
      "Move disk from A to B.\n",
      "Move disk from A to C.\n",
      "Move disk from B to C.\n",
      "Move disk from A to B.\n",
      "Move disk from C to A.\n",
      "Move disk from C to B.\n",
      "Move disk from A to B.\n",
      "Move disk from A to C.\n",
      "Move disk from B to C.\n",
      "Move disk from B to A.\n",
      "Move disk from C to A.\n",
      "Move disk from B to C.\n",
      "Move disk from A to B.\n",
      "Move disk from A to C.\n",
      "Move disk from B to C.\n",
      "Move disk from A to B.\n",
      "Move disk from C to A.\n",
      "Move disk from C to B.\n",
      "Move disk from A to B.\n",
      "Move disk from C to A.\n",
      "Move disk from B to C.\n",
      "Move disk from B to A.\n",
      "Move disk from C to A.\n",
      "Move disk from C to B.\n",
      "Move disk from A to B.\n",
      "Move disk from A to C.\n",
      "Move disk from B to C.\n",
      "Move disk from A to B.\n",
      "Move disk from C to A.\n",
      "Move disk from C to B.\n",
      "Move disk from A to B.\n",
      "Move disk from A to C.\n",
      "Move disk from B to C.\n",
      "Move disk from B to A.\n",
      "Move disk from C to A.\n",
      "Move disk from B to C.\n",
      "Move disk from A to B.\n",
      "Move disk from A to C.\n",
      "Move disk from B to C.\n",
      "Move disk from B to A.\n",
      "Move disk from C to A.\n",
      "Move disk from C to B.\n",
      "Move disk from A to B.\n",
      "Move disk from C to A.\n",
      "Move disk from B to C.\n",
      "Move disk from B to A.\n",
      "Move disk from C to A.\n",
      "Move disk from B to C.\n",
      "Move disk from A to B.\n",
      "Move disk from A to C.\n",
      "Move disk from B to C.\n",
      "Move disk from A to B.\n",
      "Move disk from C to A.\n",
      "Move disk from C to B.\n",
      "Move disk from A to B.\n",
      "Move disk from A to C.\n",
      "Move disk from B to C.\n",
      "Move disk from B to A.\n",
      "Move disk from C to A.\n",
      "Move disk from B to C.\n",
      "Move disk from A to B.\n",
      "Move disk from A to C.\n",
      "Move disk from B to C.\n",
      "Move disk from B to A.\n",
      "Move disk from C to A.\n",
      "Move disk from C to B.\n",
      "Move disk from A to B.\n",
      "Move disk from C to A.\n",
      "Move disk from B to C.\n",
      "Move disk from B to A.\n",
      "Move disk from C to A.\n",
      "Move disk from C to B.\n",
      "Move disk from A to B.\n",
      "Move disk from A to C.\n",
      "Move disk from B to C.\n",
      "Move disk from A to B.\n",
      "Move disk from C to A.\n",
      "Move disk from C to B.\n",
      "Move disk from A to B.\n",
      "Move disk from C to A.\n",
      "Move disk from B to C.\n",
      "Move disk from B to A.\n",
      "Move disk from C to A.\n",
      "Move disk from B to C.\n",
      "Move disk from A to B.\n",
      "Move disk from A to C.\n",
      "Move disk from B to C.\n",
      "Move disk from B to A.\n",
      "Move disk from C to A.\n",
      "Move disk from C to B.\n",
      "Move disk from A to B.\n",
      "Move disk from C to A.\n",
      "Move disk from B to C.\n",
      "Move disk from B to A.\n",
      "Move disk from C to A.\n",
      "Move disk from C to B.\n",
      "Move disk from A to B.\n",
      "Move disk from A to C.\n",
      "Move disk from B to C.\n",
      "Move disk from A to B.\n",
      "Move disk from C to A.\n",
      "Move disk from C to B.\n",
      "Move disk from A to B.\n",
      "Move disk from A to C.\n",
      "Move disk from B to C.\n",
      "Move disk from B to A.\n",
      "Move disk from C to A.\n",
      "Move disk from B to C.\n",
      "Move disk from A to B.\n",
      "Move disk from A to C.\n",
      "Move disk from B to C.\n",
      "Move disk from A to B.\n",
      "Move disk from C to A.\n",
      "Move disk from C to B.\n",
      "Move disk from A to B.\n",
      "Move disk from C to A.\n",
      "Move disk from B to C.\n",
      "Move disk from B to A.\n",
      "Move disk from C to A.\n",
      "Move disk from C to B.\n",
      "Move disk from A to B.\n",
      "Move disk from A to C.\n",
      "Move disk from B to C.\n",
      "Move disk from A to B.\n",
      "Move disk from C to A.\n",
      "Move disk from C to B.\n",
      "Move disk from A to B.\n",
      "Move disk from C to A.\n",
      "Move disk from B to C.\n",
      "Move disk from B to A.\n",
      "Move disk from C to A.\n",
      "Move disk from B to C.\n",
      "Move disk from A to B.\n",
      "Move disk from A to C.\n",
      "Move disk from B to C.\n",
      "Move disk from B to A.\n",
      "Move disk from C to A.\n",
      "Move disk from C to B.\n",
      "Move disk from A to B.\n",
      "Move disk from C to A.\n",
      "Move disk from B to C.\n",
      "Move disk from B to A.\n",
      "Move disk from C to A.\n",
      "Move disk from B to C.\n",
      "Move disk from A to B.\n",
      "Move disk from A to C.\n",
      "Move disk from B to C.\n",
      "Move disk from A to B.\n",
      "Move disk from C to A.\n",
      "Move disk from C to B.\n",
      "Move disk from A to B.\n",
      "Move disk from A to C.\n",
      "Move disk from B to C.\n",
      "Move disk from B to A.\n",
      "Move disk from C to A.\n",
      "Move disk from B to C.\n",
      "Move disk from A to B.\n",
      "Move disk from A to C.\n",
      "Move disk from B to C.\n",
      "Move disk from B to A.\n",
      "Move disk from C to A.\n",
      "Move disk from C to B.\n",
      "Move disk from A to B.\n",
      "Move disk from C to A.\n",
      "Move disk from B to C.\n",
      "Move disk from B to A.\n",
      "Move disk from C to A.\n",
      "Move disk from C to B.\n",
      "Move disk from A to B.\n",
      "Move disk from A to C.\n",
      "Move disk from B to C.\n",
      "Move disk from A to B.\n",
      "Move disk from C to A.\n",
      "Move disk from C to B.\n",
      "Move disk from A to B.\n",
      "Move disk from C to A.\n",
      "Move disk from B to C.\n",
      "Move disk from B to A.\n",
      "Move disk from C to A.\n",
      "Move disk from B to C.\n",
      "Move disk from A to B.\n",
      "Move disk from A to C.\n",
      "Move disk from B to C.\n",
      "Move disk from B to A.\n",
      "Move disk from C to A.\n",
      "Move disk from C to B.\n",
      "Move disk from A to B.\n",
      "Move disk from C to A.\n",
      "Move disk from B to C.\n",
      "Move disk from B to A.\n",
      "Move disk from C to A.\n",
      "Move disk from B to C.\n",
      "Move disk from A to B.\n",
      "Move disk from A to C.\n",
      "Move disk from B to C.\n",
      "Move disk from A to B.\n",
      "Move disk from C to A.\n",
      "Move disk from C to B.\n",
      "Move disk from A to B.\n",
      "Move disk from A to C.\n",
      "Move disk from B to C.\n",
      "Move disk from B to A.\n",
      "Move disk from C to A.\n",
      "Move disk from B to C.\n",
      "Move disk from A to B.\n",
      "Move disk from A to C.\n",
      "Move disk from B to C.\n",
      "Move disk from A to B.\n",
      "Move disk from C to A.\n",
      "Move disk from C to B.\n",
      "Move disk from A to B.\n"
     ]
    },
    {
     "name": "stdout",
     "output_type": "stream",
     "text": [
      "Move disk from C to A.\n",
      "Move disk from B to C.\n",
      "Move disk from B to A.\n",
      "Move disk from C to A.\n",
      "Move disk from C to B.\n",
      "Move disk from A to B.\n",
      "Move disk from A to C.\n",
      "Move disk from B to C.\n",
      "Move disk from A to B.\n",
      "Move disk from C to A.\n",
      "Move disk from C to B.\n",
      "Move disk from A to B.\n",
      "Move disk from A to C.\n",
      "Move disk from B to C.\n",
      "Move disk from B to A.\n",
      "Move disk from C to A.\n",
      "Move disk from B to C.\n",
      "Move disk from A to B.\n",
      "Move disk from A to C.\n",
      "Move disk from B to C.\n",
      "Move disk from B to A.\n",
      "Move disk from C to A.\n",
      "Move disk from C to B.\n",
      "Move disk from A to B.\n",
      "Move disk from C to A.\n",
      "Move disk from B to C.\n",
      "Move disk from B to A.\n",
      "Move disk from C to A.\n",
      "Move disk from B to C.\n",
      "Move disk from A to B.\n",
      "Move disk from A to C.\n",
      "Move disk from B to C.\n",
      "Move disk from A to B.\n",
      "Move disk from C to A.\n",
      "Move disk from C to B.\n",
      "Move disk from A to B.\n",
      "Move disk from A to C.\n",
      "Move disk from B to C.\n",
      "Move disk from B to A.\n",
      "Move disk from C to A.\n",
      "Move disk from B to C.\n",
      "Move disk from A to B.\n",
      "Move disk from A to C.\n",
      "Move disk from B to C.\n",
      "Move disk from A to B.\n",
      "Move disk from C to A.\n",
      "Move disk from C to B.\n",
      "Move disk from A to B.\n",
      "Move disk from C to A.\n",
      "Move disk from B to C.\n",
      "Move disk from B to A.\n",
      "Move disk from C to A.\n",
      "Move disk from C to B.\n",
      "Move disk from A to B.\n",
      "Move disk from A to C.\n",
      "Move disk from B to C.\n",
      "Move disk from A to B.\n",
      "Move disk from C to A.\n",
      "Move disk from C to B.\n",
      "Move disk from A to B.\n",
      "Move disk from C to A.\n",
      "Move disk from B to C.\n",
      "Move disk from B to A.\n",
      "Move disk from C to A.\n",
      "Move disk from B to C.\n",
      "Move disk from A to B.\n",
      "Move disk from A to C.\n",
      "Move disk from B to C.\n",
      "Move disk from B to A.\n",
      "Move disk from C to A.\n",
      "Move disk from C to B.\n",
      "Move disk from A to B.\n",
      "Move disk from C to A.\n",
      "Move disk from B to C.\n",
      "Move disk from B to A.\n",
      "Move disk from C to A.\n",
      "Move disk from C to B.\n",
      "Move disk from A to B.\n",
      "Move disk from A to C.\n",
      "Move disk from B to C.\n",
      "Move disk from A to B.\n",
      "Move disk from C to A.\n",
      "Move disk from C to B.\n",
      "Move disk from A to B.\n",
      "Move disk from A to C.\n",
      "Move disk from B to C.\n",
      "Move disk from B to A.\n",
      "Move disk from C to A.\n",
      "Move disk from B to C.\n",
      "Move disk from A to B.\n",
      "Move disk from A to C.\n",
      "Move disk from B to C.\n",
      "Move disk from A to B.\n",
      "Move disk from C to A.\n",
      "Move disk from C to B.\n",
      "Move disk from A to B.\n",
      "Move disk from C to A.\n",
      "Move disk from B to C.\n",
      "Move disk from B to A.\n",
      "Move disk from C to A.\n",
      "Move disk from C to B.\n",
      "Move disk from A to B.\n",
      "Move disk from A to C.\n",
      "Move disk from B to C.\n",
      "Move disk from A to B.\n",
      "Move disk from C to A.\n",
      "Move disk from C to B.\n",
      "Move disk from A to B.\n",
      "Move disk from A to C.\n",
      "Move disk from B to C.\n",
      "Move disk from B to A.\n",
      "Move disk from C to A.\n",
      "Move disk from B to C.\n",
      "Move disk from A to B.\n",
      "Move disk from A to C.\n",
      "Move disk from B to C.\n",
      "Move disk from B to A.\n",
      "Move disk from C to A.\n",
      "Move disk from C to B.\n",
      "Move disk from A to B.\n",
      "Move disk from C to A.\n",
      "Move disk from B to C.\n",
      "Move disk from B to A.\n",
      "Move disk from C to A.\n",
      "Move disk from B to C.\n",
      "Move disk from A to B.\n",
      "Move disk from A to C.\n",
      "Move disk from B to C.\n",
      "Move disk from A to B.\n",
      "Move disk from C to A.\n",
      "Move disk from C to B.\n",
      "Move disk from A to B.\n",
      "Move disk from A to C.\n",
      "Move disk from B to C.\n",
      "Move disk from B to A.\n",
      "Move disk from C to A.\n",
      "Move disk from B to C.\n",
      "Move disk from A to B.\n",
      "Move disk from A to C.\n",
      "Move disk from B to C.\n",
      "Move disk from B to A.\n",
      "Move disk from C to A.\n",
      "Move disk from C to B.\n",
      "Move disk from A to B.\n",
      "Move disk from C to A.\n",
      "Move disk from B to C.\n",
      "Move disk from B to A.\n",
      "Move disk from C to A.\n",
      "Move disk from C to B.\n",
      "Move disk from A to B.\n",
      "Move disk from A to C.\n",
      "Move disk from B to C.\n",
      "Move disk from A to B.\n",
      "Move disk from C to A.\n",
      "Move disk from C to B.\n",
      "Move disk from A to B.\n",
      "Move disk from C to A.\n",
      "Move disk from B to C.\n",
      "Move disk from B to A.\n",
      "Move disk from C to A.\n",
      "Move disk from B to C.\n",
      "Move disk from A to B.\n",
      "Move disk from A to C.\n",
      "Move disk from B to C.\n",
      "Move disk from B to A.\n",
      "Move disk from C to A.\n",
      "Move disk from C to B.\n",
      "Move disk from A to B.\n",
      "Move disk from C to A.\n",
      "Move disk from B to C.\n",
      "Move disk from B to A.\n",
      "Move disk from C to A.\n",
      "Move disk from B to C.\n",
      "Move disk from A to B.\n",
      "Move disk from A to C.\n",
      "Move disk from B to C.\n",
      "Move disk from A to B.\n",
      "Move disk from C to A.\n",
      "Move disk from C to B.\n",
      "Move disk from A to B.\n",
      "Move disk from A to C.\n",
      "Move disk from B to C.\n",
      "Move disk from B to A.\n",
      "Move disk from C to A.\n",
      "Move disk from B to C.\n",
      "Move disk from A to B.\n",
      "Move disk from A to C.\n",
      "Move disk from B to C.\n",
      "Move disk from A to B.\n",
      "Move disk from C to A.\n",
      "Move disk from C to B.\n",
      "Move disk from A to B.\n",
      "Move disk from C to A.\n",
      "Move disk from B to C.\n",
      "Move disk from B to A.\n",
      "Move disk from C to A.\n",
      "Move disk from C to B.\n",
      "Move disk from A to B.\n",
      "Move disk from A to C.\n",
      "Move disk from B to C.\n",
      "Move disk from A to B.\n",
      "Move disk from C to A.\n",
      "Move disk from C to B.\n",
      "Move disk from A to B.\n",
      "Move disk from A to C.\n",
      "Move disk from B to C.\n",
      "Move disk from B to A.\n",
      "Move disk from C to A.\n",
      "Move disk from B to C.\n",
      "Move disk from A to B.\n",
      "Move disk from A to C.\n",
      "Move disk from B to C.\n",
      "Move disk from B to A.\n",
      "Move disk from C to A.\n",
      "Move disk from C to B.\n",
      "Move disk from A to B.\n",
      "Move disk from C to A.\n",
      "Move disk from B to C.\n",
      "Move disk from B to A.\n",
      "Move disk from C to A.\n",
      "Move disk from B to C.\n",
      "Move disk from A to B.\n",
      "Move disk from A to C.\n",
      "Move disk from B to C.\n",
      "Move disk from A to B.\n",
      "Move disk from C to A.\n",
      "Move disk from C to B.\n",
      "Move disk from A to B.\n",
      "Move disk from A to C.\n",
      "Move disk from B to C.\n",
      "Move disk from B to A.\n",
      "Move disk from C to A.\n",
      "Move disk from B to C.\n",
      "Move disk from A to B.\n",
      "Move disk from A to C.\n",
      "Move disk from B to C.\n",
      "Move disk from A to B.\n",
      "Move disk from C to A.\n",
      "Move disk from C to B.\n",
      "Move disk from A to B.\n",
      "Move disk from C to A.\n",
      "Move disk from B to C.\n",
      "Move disk from B to A.\n",
      "Move disk from C to A.\n",
      "Move disk from C to B.\n",
      "Move disk from A to B.\n",
      "Move disk from A to C.\n",
      "Move disk from B to C.\n",
      "Move disk from A to B.\n",
      "Move disk from C to A.\n",
      "Move disk from C to B.\n",
      "Move disk from A to B.\n",
      "Move disk from C to A.\n",
      "Move disk from B to C.\n",
      "Move disk from B to A.\n",
      "Move disk from C to A.\n",
      "Move disk from B to C.\n",
      "Move disk from A to B.\n",
      "Move disk from A to C.\n",
      "Move disk from B to C.\n",
      "Move disk from B to A.\n",
      "Move disk from C to A.\n",
      "Move disk from C to B.\n",
      "Move disk from A to B.\n",
      "Move disk from C to A.\n",
      "Move disk from B to C.\n",
      "Move disk from B to A.\n",
      "Move disk from C to A.\n",
      "Move disk from C to B.\n",
      "Move disk from A to B.\n",
      "Move disk from A to C.\n",
      "Move disk from B to C.\n",
      "Move disk from A to B.\n",
      "Move disk from C to A.\n",
      "Move disk from C to B.\n",
      "Move disk from A to B.\n",
      "Move disk from A to C.\n",
      "Move disk from B to C.\n",
      "Move disk from B to A.\n",
      "Move disk from C to A.\n",
      "Move disk from B to C.\n",
      "Move disk from A to B.\n",
      "Move disk from A to C.\n",
      "Move disk from B to C.\n",
      "Move disk from A to B.\n",
      "Move disk from C to A.\n",
      "Move disk from C to B.\n",
      "Move disk from A to B.\n",
      "Move disk from C to A.\n",
      "Move disk from B to C.\n",
      "Move disk from B to A.\n",
      "Move disk from C to A.\n",
      "Move disk from C to B.\n",
      "Move disk from A to B.\n",
      "Move disk from A to C.\n",
      "Move disk from B to C.\n",
      "Move disk from A to B.\n",
      "Move disk from C to A.\n",
      "Move disk from C to B.\n",
      "Move disk from A to B.\n",
      "Move disk from C to A.\n",
      "Move disk from B to C.\n",
      "Move disk from B to A.\n",
      "Move disk from C to A.\n",
      "Move disk from B to C.\n",
      "Move disk from A to B.\n",
      "Move disk from A to C.\n",
      "Move disk from B to C.\n",
      "Move disk from B to A.\n",
      "Move disk from C to A.\n",
      "Move disk from C to B.\n",
      "Move disk from A to B.\n",
      "Move disk from C to A.\n",
      "Move disk from B to C.\n",
      "Move disk from B to A.\n",
      "Move disk from C to A.\n",
      "Move disk from B to C.\n",
      "Move disk from A to B.\n",
      "Move disk from A to C.\n",
      "Move disk from B to C.\n",
      "Move disk from A to B.\n",
      "Move disk from C to A.\n",
      "Move disk from C to B.\n",
      "Move disk from A to B.\n",
      "Move disk from A to C.\n",
      "Move disk from B to C.\n",
      "Move disk from B to A.\n",
      "Move disk from C to A.\n",
      "Move disk from B to C.\n",
      "Move disk from A to B.\n",
      "Move disk from A to C.\n",
      "Move disk from B to C.\n",
      "Move disk from B to A.\n",
      "Move disk from C to A.\n",
      "Move disk from C to B.\n",
      "Move disk from A to B.\n",
      "Move disk from C to A.\n",
      "Move disk from B to C.\n",
      "Move disk from B to A.\n",
      "Move disk from C to A.\n",
      "Move disk from C to B.\n",
      "Move disk from A to B.\n",
      "Move disk from A to C.\n",
      "Move disk from B to C.\n",
      "Move disk from A to B.\n",
      "Move disk from C to A.\n",
      "Move disk from C to B.\n",
      "Move disk from A to B.\n",
      "Move disk from C to A.\n",
      "Move disk from B to C.\n",
      "Move disk from B to A.\n",
      "Move disk from C to A.\n",
      "Move disk from B to C.\n",
      "Move disk from A to B.\n",
      "Move disk from A to C.\n",
      "Move disk from B to C.\n",
      "Move disk from B to A.\n",
      "Move disk from C to A.\n",
      "Move disk from C to B.\n",
      "Move disk from A to B.\n",
      "Move disk from C to A.\n",
      "Move disk from B to C.\n",
      "Move disk from B to A.\n",
      "Move disk from C to A.\n",
      "Move disk from C to B.\n",
      "Move disk from A to B.\n",
      "Move disk from A to C.\n",
      "Move disk from B to C.\n",
      "Move disk from A to B.\n",
      "Move disk from C to A.\n",
      "Move disk from C to B.\n",
      "Move disk from A to B.\n",
      "Move disk from A to C.\n",
      "Move disk from B to C.\n",
      "Move disk from B to A.\n"
     ]
    },
    {
     "name": "stdout",
     "output_type": "stream",
     "text": [
      "Move disk from C to A.\n",
      "Move disk from B to C.\n",
      "Move disk from A to B.\n",
      "Move disk from A to C.\n",
      "Move disk from B to C.\n",
      "Move disk from A to B.\n",
      "Move disk from C to A.\n",
      "Move disk from C to B.\n",
      "Move disk from A to B.\n",
      "Move disk from C to A.\n",
      "Move disk from B to C.\n",
      "Move disk from B to A.\n",
      "Move disk from C to A.\n",
      "Move disk from C to B.\n",
      "Move disk from A to B.\n",
      "Move disk from A to C.\n",
      "Move disk from B to C.\n",
      "Move disk from A to B.\n",
      "Move disk from C to A.\n",
      "Move disk from C to B.\n",
      "Move disk from A to B.\n",
      "Move disk from A to C.\n",
      "Move disk from B to C.\n",
      "Move disk from B to A.\n",
      "Move disk from C to A.\n",
      "Move disk from B to C.\n",
      "Move disk from A to B.\n",
      "Move disk from A to C.\n",
      "Move disk from B to C.\n",
      "Move disk from B to A.\n",
      "Move disk from C to A.\n",
      "Move disk from C to B.\n",
      "Move disk from A to B.\n",
      "Move disk from C to A.\n",
      "Move disk from B to C.\n",
      "Move disk from B to A.\n",
      "Move disk from C to A.\n",
      "Move disk from B to C.\n",
      "Move disk from A to B.\n",
      "Move disk from A to C.\n",
      "Move disk from B to C.\n",
      "Move disk from A to B.\n",
      "Move disk from C to A.\n",
      "Move disk from C to B.\n",
      "Move disk from A to B.\n",
      "Move disk from A to C.\n",
      "Move disk from B to C.\n",
      "Move disk from B to A.\n",
      "Move disk from C to A.\n",
      "Move disk from B to C.\n",
      "Move disk from A to B.\n",
      "Move disk from A to C.\n",
      "Move disk from B to C.\n",
      "Move disk from A to B.\n",
      "Move disk from C to A.\n",
      "Move disk from C to B.\n",
      "Move disk from A to B.\n",
      "Move disk from C to A.\n",
      "Move disk from B to C.\n",
      "Move disk from B to A.\n",
      "Move disk from C to A.\n",
      "Move disk from C to B.\n",
      "Move disk from A to B.\n",
      "Move disk from A to C.\n",
      "Move disk from B to C.\n",
      "Move disk from A to B.\n",
      "Move disk from C to A.\n",
      "Move disk from C to B.\n",
      "Move disk from A to B.\n",
      "Move disk from C to A.\n",
      "Move disk from B to C.\n",
      "Move disk from B to A.\n",
      "Move disk from C to A.\n",
      "Move disk from B to C.\n",
      "Move disk from A to B.\n",
      "Move disk from A to C.\n",
      "Move disk from B to C.\n",
      "Move disk from B to A.\n",
      "Move disk from C to A.\n",
      "Move disk from C to B.\n",
      "Move disk from A to B.\n",
      "Move disk from C to A.\n",
      "Move disk from B to C.\n",
      "Move disk from B to A.\n",
      "Move disk from C to A.\n",
      "Move disk from C to B.\n",
      "Move disk from A to B.\n",
      "Move disk from A to C.\n",
      "Move disk from B to C.\n",
      "Move disk from A to B.\n",
      "Move disk from C to A.\n",
      "Move disk from C to B.\n",
      "Move disk from A to B.\n",
      "Move disk from A to C.\n",
      "Move disk from B to C.\n",
      "Move disk from B to A.\n",
      "Move disk from C to A.\n",
      "Move disk from B to C.\n",
      "Move disk from A to B.\n",
      "Move disk from A to C.\n",
      "Move disk from B to C.\n",
      "Move disk from A to B.\n",
      "Move disk from C to A.\n",
      "Move disk from C to B.\n",
      "Move disk from A to B.\n",
      "Move disk from C to A.\n",
      "Move disk from B to C.\n",
      "Move disk from B to A.\n",
      "Move disk from C to A.\n",
      "Move disk from C to B.\n",
      "Move disk from A to B.\n",
      "Move disk from A to C.\n",
      "Move disk from B to C.\n",
      "Move disk from A to B.\n",
      "Move disk from C to A.\n",
      "Move disk from C to B.\n",
      "Move disk from A to B.\n",
      "Move disk from A to C.\n",
      "Move disk from B to C.\n",
      "Move disk from B to A.\n",
      "Move disk from C to A.\n",
      "Move disk from B to C.\n",
      "Move disk from A to B.\n",
      "Move disk from A to C.\n",
      "Move disk from B to C.\n",
      "Move disk from B to A.\n",
      "Move disk from C to A.\n",
      "Move disk from C to B.\n",
      "Move disk from A to B.\n",
      "Move disk from C to A.\n",
      "Move disk from B to C.\n",
      "Move disk from B to A.\n",
      "Move disk from C to A.\n",
      "Move disk from B to C.\n",
      "Move disk from A to B.\n",
      "Move disk from A to C.\n",
      "Move disk from B to C.\n",
      "Move disk from A to B.\n",
      "Move disk from C to A.\n",
      "Move disk from C to B.\n",
      "Move disk from A to B.\n",
      "Move disk from A to C.\n",
      "Move disk from B to C.\n",
      "Move disk from B to A.\n",
      "Move disk from C to A.\n",
      "Move disk from B to C.\n",
      "Move disk from A to B.\n",
      "Move disk from A to C.\n",
      "Move disk from B to C.\n",
      "Move disk from B to A.\n",
      "Move disk from C to A.\n",
      "Move disk from C to B.\n",
      "Move disk from A to B.\n",
      "Move disk from C to A.\n",
      "Move disk from B to C.\n",
      "Move disk from B to A.\n",
      "Move disk from C to A.\n",
      "Move disk from C to B.\n",
      "Move disk from A to B.\n",
      "Move disk from A to C.\n",
      "Move disk from B to C.\n",
      "Move disk from A to B.\n",
      "Move disk from C to A.\n",
      "Move disk from C to B.\n",
      "Move disk from A to B.\n",
      "Move disk from C to A.\n",
      "Move disk from B to C.\n",
      "Move disk from B to A.\n",
      "Move disk from C to A.\n",
      "Move disk from B to C.\n",
      "Move disk from A to B.\n",
      "Move disk from A to C.\n",
      "Move disk from B to C.\n",
      "Move disk from B to A.\n",
      "Move disk from C to A.\n",
      "Move disk from C to B.\n",
      "Move disk from A to B.\n",
      "Move disk from C to A.\n",
      "Move disk from B to C.\n",
      "Move disk from B to A.\n",
      "Move disk from C to A.\n",
      "Move disk from B to C.\n",
      "Move disk from A to B.\n",
      "Move disk from A to C.\n",
      "Move disk from B to C.\n",
      "Move disk from A to B.\n",
      "Move disk from C to A.\n",
      "Move disk from C to B.\n",
      "Move disk from A to B.\n",
      "Move disk from A to C.\n",
      "Move disk from B to C.\n",
      "Move disk from B to A.\n",
      "Move disk from C to A.\n",
      "Move disk from B to C.\n",
      "Move disk from A to B.\n",
      "Move disk from A to C.\n",
      "Move disk from B to C.\n",
      "Move disk from A to B.\n",
      "Move disk from C to A.\n",
      "Move disk from C to B.\n",
      "Move disk from A to B.\n",
      "Move disk from C to A.\n",
      "Move disk from B to C.\n",
      "Move disk from B to A.\n",
      "Move disk from C to A.\n",
      "Move disk from C to B.\n",
      "Move disk from A to B.\n",
      "Move disk from A to C.\n",
      "Move disk from B to C.\n",
      "Move disk from A to B.\n",
      "Move disk from C to A.\n",
      "Move disk from C to B.\n",
      "Move disk from A to B.\n",
      "Move disk from A to C.\n",
      "Move disk from B to C.\n",
      "Move disk from B to A.\n",
      "Move disk from C to A.\n",
      "Move disk from B to C.\n",
      "Move disk from A to B.\n",
      "Move disk from A to C.\n",
      "Move disk from B to C.\n",
      "Move disk from B to A.\n",
      "Move disk from C to A.\n",
      "Move disk from C to B.\n",
      "Move disk from A to B.\n",
      "Move disk from C to A.\n",
      "Move disk from B to C.\n",
      "Move disk from B to A.\n",
      "Move disk from C to A.\n",
      "Move disk from B to C.\n",
      "Move disk from A to B.\n",
      "Move disk from A to C.\n",
      "Move disk from B to C.\n",
      "Move disk from A to B.\n",
      "Move disk from C to A.\n",
      "Move disk from C to B.\n",
      "Move disk from A to B.\n",
      "Move disk from A to C.\n",
      "Move disk from B to C.\n",
      "Move disk from B to A.\n",
      "Move disk from C to A.\n",
      "Move disk from B to C.\n",
      "Move disk from A to B.\n",
      "Move disk from A to C.\n",
      "Move disk from B to C.\n",
      "Move disk from B to A.\n",
      "Move disk from C to A.\n",
      "Move disk from C to B.\n",
      "Move disk from A to B.\n",
      "Move disk from C to A.\n",
      "Move disk from B to C.\n",
      "Move disk from B to A.\n",
      "Move disk from C to A.\n",
      "Move disk from C to B.\n",
      "Move disk from A to B.\n",
      "Move disk from A to C.\n",
      "Move disk from B to C.\n",
      "Move disk from A to B.\n",
      "Move disk from C to A.\n",
      "Move disk from C to B.\n",
      "Move disk from A to B.\n",
      "Move disk from C to A.\n",
      "Move disk from B to C.\n",
      "Move disk from B to A.\n",
      "Move disk from C to A.\n",
      "Move disk from B to C.\n",
      "Move disk from A to B.\n",
      "Move disk from A to C.\n",
      "Move disk from B to C.\n",
      "Move disk from B to A.\n",
      "Move disk from C to A.\n",
      "Move disk from C to B.\n",
      "Move disk from A to B.\n",
      "Move disk from C to A.\n",
      "Move disk from B to C.\n",
      "Move disk from B to A.\n",
      "Move disk from C to A.\n",
      "Move disk from C to B.\n",
      "Move disk from A to B.\n",
      "Move disk from A to C.\n",
      "Move disk from B to C.\n",
      "Move disk from A to B.\n",
      "Move disk from C to A.\n",
      "Move disk from C to B.\n",
      "Move disk from A to B.\n",
      "Move disk from A to C.\n",
      "Move disk from B to C.\n",
      "Move disk from B to A.\n",
      "Move disk from C to A.\n",
      "Move disk from B to C.\n",
      "Move disk from A to B.\n",
      "Move disk from A to C.\n",
      "Move disk from B to C.\n",
      "Move disk from A to B.\n",
      "Move disk from C to A.\n",
      "Move disk from C to B.\n",
      "Move disk from A to B.\n",
      "Move disk from C to A.\n",
      "Move disk from B to C.\n",
      "Move disk from B to A.\n",
      "Move disk from C to A.\n",
      "Move disk from C to B.\n",
      "Move disk from A to B.\n",
      "Move disk from A to C.\n",
      "Move disk from B to C.\n",
      "Move disk from A to B.\n",
      "Move disk from C to A.\n",
      "Move disk from C to B.\n",
      "Move disk from A to B.\n",
      "Move disk from C to A.\n",
      "Move disk from B to C.\n",
      "Move disk from B to A.\n",
      "Move disk from C to A.\n",
      "Move disk from B to C.\n",
      "Move disk from A to B.\n",
      "Move disk from A to C.\n",
      "Move disk from B to C.\n",
      "Move disk from B to A.\n",
      "Move disk from C to A.\n",
      "Move disk from C to B.\n",
      "Move disk from A to B.\n",
      "Move disk from C to A.\n",
      "Move disk from B to C.\n",
      "Move disk from B to A.\n",
      "Move disk from C to A.\n",
      "Move disk from B to C.\n",
      "Move disk from A to B.\n",
      "Move disk from A to C.\n",
      "Move disk from B to C.\n",
      "Move disk from A to B.\n",
      "Move disk from C to A.\n",
      "Move disk from C to B.\n",
      "Move disk from A to B.\n",
      "Move disk from A to C.\n",
      "Move disk from B to C.\n",
      "Move disk from B to A.\n",
      "Move disk from C to A.\n",
      "Move disk from B to C.\n",
      "Move disk from A to B.\n",
      "Move disk from A to C.\n",
      "Move disk from B to C.\n",
      "Move disk from B to A.\n",
      "Move disk from C to A.\n",
      "Move disk from C to B.\n",
      "Move disk from A to B.\n",
      "Move disk from C to A.\n",
      "Move disk from B to C.\n",
      "Move disk from B to A.\n",
      "Move disk from C to A.\n",
      "Move disk from C to B.\n",
      "Move disk from A to B.\n",
      "Move disk from A to C.\n",
      "Move disk from B to C.\n",
      "Move disk from A to B.\n",
      "Move disk from C to A.\n",
      "Move disk from C to B.\n",
      "Move disk from A to B.\n",
      "Move disk from C to A.\n",
      "Move disk from B to C.\n",
      "Move disk from B to A.\n",
      "Move disk from C to A.\n",
      "Move disk from B to C.\n",
      "Move disk from A to B.\n",
      "Move disk from A to C.\n",
      "Move disk from B to C.\n",
      "Move disk from B to A.\n",
      "Move disk from C to A.\n",
      "Move disk from C to B.\n",
      "Move disk from A to B.\n",
      "Move disk from C to A.\n",
      "Move disk from B to C.\n",
      "Move disk from B to A.\n",
      "Move disk from C to A.\n",
      "Move disk from B to C.\n",
      "Move disk from A to B.\n"
     ]
    },
    {
     "name": "stdout",
     "output_type": "stream",
     "text": [
      "Move disk from A to C.\n",
      "Move disk from B to C.\n",
      "Move disk from A to B.\n",
      "Move disk from C to A.\n",
      "Move disk from C to B.\n",
      "Move disk from A to B.\n",
      "Move disk from A to C.\n",
      "Move disk from B to C.\n",
      "Move disk from B to A.\n",
      "Move disk from C to A.\n",
      "Move disk from B to C.\n",
      "Move disk from A to B.\n",
      "Move disk from A to C.\n",
      "Move disk from B to C.\n",
      "Move disk from A to B.\n",
      "Move disk from C to A.\n",
      "Move disk from C to B.\n",
      "Move disk from A to B.\n",
      "Move disk from C to A.\n",
      "Move disk from B to C.\n",
      "Move disk from B to A.\n",
      "Move disk from C to A.\n",
      "Move disk from C to B.\n",
      "Move disk from A to B.\n",
      "Move disk from A to C.\n",
      "Move disk from B to C.\n",
      "Move disk from A to B.\n",
      "Move disk from C to A.\n",
      "Move disk from C to B.\n",
      "Move disk from A to B.\n",
      "Move disk from A to C.\n",
      "Move disk from B to C.\n",
      "Move disk from B to A.\n",
      "Move disk from C to A.\n",
      "Move disk from B to C.\n",
      "Move disk from A to B.\n",
      "Move disk from A to C.\n",
      "Move disk from B to C.\n",
      "Move disk from B to A.\n",
      "Move disk from C to A.\n",
      "Move disk from C to B.\n",
      "Move disk from A to B.\n",
      "Move disk from C to A.\n",
      "Move disk from B to C.\n",
      "Move disk from B to A.\n",
      "Move disk from C to A.\n",
      "Move disk from B to C.\n",
      "Move disk from A to B.\n",
      "Move disk from A to C.\n",
      "Move disk from B to C.\n",
      "Move disk from A to B.\n",
      "Move disk from C to A.\n",
      "Move disk from C to B.\n",
      "Move disk from A to B.\n",
      "Move disk from A to C.\n",
      "Move disk from B to C.\n",
      "Move disk from B to A.\n",
      "Move disk from C to A.\n",
      "Move disk from B to C.\n",
      "Move disk from A to B.\n",
      "Move disk from A to C.\n",
      "Move disk from B to C.\n",
      "Move disk from A to B.\n",
      "Move disk from C to A.\n",
      "Move disk from C to B.\n",
      "Move disk from A to B.\n",
      "Move disk from C to A.\n",
      "Move disk from B to C.\n",
      "Move disk from B to A.\n",
      "Move disk from C to A.\n",
      "Move disk from C to B.\n",
      "Move disk from A to B.\n",
      "Move disk from A to C.\n",
      "Move disk from B to C.\n",
      "Move disk from A to B.\n",
      "Move disk from C to A.\n",
      "Move disk from C to B.\n",
      "Move disk from A to B.\n",
      "Move disk from C to A.\n",
      "Move disk from B to C.\n",
      "Move disk from B to A.\n",
      "Move disk from C to A.\n",
      "Move disk from B to C.\n",
      "Move disk from A to B.\n",
      "Move disk from A to C.\n",
      "Move disk from B to C.\n",
      "Move disk from B to A.\n",
      "Move disk from C to A.\n",
      "Move disk from C to B.\n",
      "Move disk from A to B.\n",
      "Move disk from C to A.\n",
      "Move disk from B to C.\n",
      "Move disk from B to A.\n",
      "Move disk from C to A.\n",
      "Move disk from C to B.\n",
      "Move disk from A to B.\n",
      "Move disk from A to C.\n",
      "Move disk from B to C.\n",
      "Move disk from A to B.\n",
      "Move disk from C to A.\n",
      "Move disk from C to B.\n",
      "Move disk from A to B.\n",
      "Move disk from A to C.\n",
      "Move disk from B to C.\n",
      "Move disk from B to A.\n",
      "Move disk from C to A.\n",
      "Move disk from B to C.\n",
      "Move disk from A to B.\n",
      "Move disk from A to C.\n",
      "Move disk from B to C.\n",
      "Move disk from A to B.\n",
      "Move disk from C to A.\n",
      "Move disk from C to B.\n",
      "Move disk from A to B.\n",
      "Move disk from C to A.\n",
      "Move disk from B to C.\n",
      "Move disk from B to A.\n",
      "Move disk from C to A.\n",
      "Move disk from C to B.\n",
      "Move disk from A to B.\n",
      "Move disk from A to C.\n",
      "Move disk from B to C.\n",
      "Move disk from A to B.\n",
      "Move disk from C to A.\n",
      "Move disk from C to B.\n",
      "Move disk from A to B.\n",
      "Move disk from A to C.\n",
      "Move disk from B to C.\n",
      "Move disk from B to A.\n",
      "Move disk from C to A.\n",
      "Move disk from B to C.\n",
      "Move disk from A to B.\n",
      "Move disk from A to C.\n",
      "Move disk from B to C.\n",
      "Move disk from B to A.\n",
      "Move disk from C to A.\n",
      "Move disk from C to B.\n",
      "Move disk from A to B.\n",
      "Move disk from C to A.\n",
      "Move disk from B to C.\n",
      "Move disk from B to A.\n",
      "Move disk from C to A.\n",
      "Move disk from B to C.\n",
      "Move disk from A to B.\n",
      "Move disk from A to C.\n",
      "Move disk from B to C.\n",
      "Move disk from A to B.\n",
      "Move disk from C to A.\n",
      "Move disk from C to B.\n",
      "Move disk from A to B.\n",
      "Move disk from A to C.\n",
      "Move disk from B to C.\n",
      "Move disk from B to A.\n",
      "Move disk from C to A.\n",
      "Move disk from B to C.\n",
      "Move disk from A to B.\n",
      "Move disk from A to C.\n",
      "Move disk from B to C.\n",
      "Move disk from B to A.\n",
      "Move disk from C to A.\n",
      "Move disk from C to B.\n",
      "Move disk from A to B.\n",
      "Move disk from C to A.\n",
      "Move disk from B to C.\n",
      "Move disk from B to A.\n",
      "Move disk from C to A.\n",
      "Move disk from C to B.\n",
      "Move disk from A to B.\n",
      "Move disk from A to C.\n",
      "Move disk from B to C.\n",
      "Move disk from A to B.\n",
      "Move disk from C to A.\n",
      "Move disk from C to B.\n",
      "Move disk from A to B.\n",
      "Move disk from C to A.\n",
      "Move disk from B to C.\n",
      "Move disk from B to A.\n",
      "Move disk from C to A.\n",
      "Move disk from B to C.\n",
      "Move disk from A to B.\n",
      "Move disk from A to C.\n",
      "Move disk from B to C.\n",
      "Move disk from B to A.\n",
      "Move disk from C to A.\n",
      "Move disk from C to B.\n",
      "Move disk from A to B.\n",
      "Move disk from C to A.\n",
      "Move disk from B to C.\n",
      "Move disk from B to A.\n",
      "Move disk from C to A.\n",
      "Move disk from B to C.\n",
      "Move disk from A to B.\n",
      "Move disk from A to C.\n",
      "Move disk from B to C.\n",
      "Move disk from A to B.\n",
      "Move disk from C to A.\n",
      "Move disk from C to B.\n",
      "Move disk from A to B.\n",
      "Move disk from A to C.\n",
      "Move disk from B to C.\n",
      "Move disk from B to A.\n",
      "Move disk from C to A.\n",
      "Move disk from B to C.\n",
      "Move disk from A to B.\n",
      "Move disk from A to C.\n",
      "Move disk from B to C.\n",
      "Move disk from A to B.\n",
      "Move disk from C to A.\n",
      "Move disk from C to B.\n",
      "Move disk from A to B.\n",
      "Move disk from C to A.\n",
      "Move disk from B to C.\n",
      "Move disk from B to A.\n",
      "Move disk from C to A.\n",
      "Move disk from C to B.\n",
      "Move disk from A to B.\n",
      "Move disk from A to C.\n",
      "Move disk from B to C.\n",
      "Move disk from A to B.\n",
      "Move disk from C to A.\n",
      "Move disk from C to B.\n",
      "Move disk from A to B.\n",
      "Move disk from A to C.\n",
      "Move disk from B to C.\n",
      "Move disk from B to A.\n",
      "Move disk from C to A.\n",
      "Move disk from B to C.\n",
      "Move disk from A to B.\n",
      "Move disk from A to C.\n",
      "Move disk from B to C.\n",
      "Move disk from B to A.\n",
      "Move disk from C to A.\n",
      "Move disk from C to B.\n",
      "Move disk from A to B.\n",
      "Move disk from C to A.\n",
      "Move disk from B to C.\n",
      "Move disk from B to A.\n",
      "Move disk from C to A.\n",
      "Move disk from B to C.\n",
      "Move disk from A to B.\n",
      "Move disk from A to C.\n",
      "Move disk from B to C.\n",
      "Move disk from A to B.\n",
      "Move disk from C to A.\n",
      "Move disk from C to B.\n",
      "Move disk from A to B.\n",
      "Move disk from A to C.\n",
      "Move disk from B to C.\n",
      "Move disk from B to A.\n",
      "Move disk from C to A.\n",
      "Move disk from B to C.\n",
      "Move disk from A to B.\n",
      "Move disk from A to C.\n",
      "Move disk from B to C.\n"
     ]
    }
   ],
   "source": [
    "# hanoi.py\n",
    "#    Recursive solution to Towers of Hanoi problem.\n",
    "\n",
    "def moveTower(n, source, dest, temp):\n",
    "    if n == 1:\n",
    "        print(\"Move disk from\", source, \"to\", dest+\".\")\n",
    "    else:\n",
    "        moveTower(n-1, source, temp, dest)\n",
    "        moveTower(1, source, dest, temp)\n",
    "        moveTower(n-1, temp, dest, source)\n",
    "\n",
    "def hanoi(n):\n",
    "    moveTower(n, \"A\", \"C\", \"B\")\n",
    "\n",
    "def main():\n",
    "    print(\"Towers of Hanoi\")\n",
    "    n = eval(input(\"How many disks? \"))\n",
    "    moveTower(n, \"A\", \"C\", \"B\")\n",
    "\n",
    "if __name__ == '__main__': main()"
   ]
  },
  {
   "cell_type": "code",
   "execution_count": null,
   "metadata": {},
   "outputs": [],
   "source": []
  },
  {
   "cell_type": "code",
   "execution_count": null,
   "metadata": {},
   "outputs": [],
   "source": []
  },
  {
   "cell_type": "code",
   "execution_count": null,
   "metadata": {},
   "outputs": [],
   "source": []
  },
  {
   "cell_type": "code",
   "execution_count": null,
   "metadata": {},
   "outputs": [],
   "source": []
  },
  {
   "cell_type": "code",
   "execution_count": null,
   "metadata": {},
   "outputs": [],
   "source": []
  }
 ],
 "metadata": {
  "kernelspec": {
   "display_name": "Python 3",
   "language": "python",
   "name": "python3"
  },
  "language_info": {
   "codemirror_mode": {
    "name": "ipython",
    "version": 3
   },
   "file_extension": ".py",
   "mimetype": "text/x-python",
   "name": "python",
   "nbconvert_exporter": "python",
   "pygments_lexer": "ipython3",
   "version": "3.7.1"
  }
 },
 "nbformat": 4,
 "nbformat_minor": 2
}
